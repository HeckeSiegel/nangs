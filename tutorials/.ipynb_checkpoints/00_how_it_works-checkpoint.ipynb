{
 "cells": [
  {
   "cell_type": "code",
   "execution_count": 1,
   "metadata": {
    "ExecuteTime": {
     "end_time": "2020-06-20T16:23:54.796585Z",
     "start_time": "2020-06-20T16:23:54.483537Z"
    },
    "code_folding": []
   },
   "outputs": [
    {
     "name": "stderr",
     "output_type": "stream",
     "text": [
      "\n",
      "Bad key \"text.kerning_factor\" on line 4 in\n",
      "C:\\Users\\sensio\\miniconda3\\lib\\site-packages\\matplotlib\\mpl-data\\stylelib\\_classic_test_patch.mplstyle.\n",
      "You probably need to get an updated matplotlibrc file from\n",
      "https://github.com/matplotlib/matplotlib/blob/v3.1.3/matplotlibrc.template\n",
      "or from the matplotlib source distribution\n"
     ]
    }
   ],
   "source": [
    "%matplotlib inline"
   ]
  },
  {
   "cell_type": "markdown",
   "metadata": {},
   "source": [
    "# How nangs works"
   ]
  },
  {
   "cell_type": "markdown",
   "metadata": {},
   "source": [
    "In this notebook we show how nangs works. We will solve the following PDE:\n",
    "\n",
    "\\begin{equation}\n",
    "    \\frac{\\partial \\phi}{\\partial t} + u \\frac{\\partial \\phi}{\\partial x} = 0\n",
    "\\end{equation}\n",
    "\n",
    "The independent variables (i.e, $x$ and $t$) are used as input values for the NN, and the solution (i.e. $\\phi$) is the output. In order to find the solution, at each step the NN outputs are derived w.r.t the inputs. Then, a loss function that matches the PDE is built and the weights are updated accordingly. If the loss function goes to zero, we can assume that our NN is indeed the solution to our PDE. "
   ]
  },
  {
   "cell_type": "code",
   "execution_count": 2,
   "metadata": {
    "ExecuteTime": {
     "end_time": "2020-06-20T16:23:55.236542Z",
     "start_time": "2020-06-20T16:23:54.797534Z"
    }
   },
   "outputs": [
    {
     "ename": "NameError",
     "evalue": "name 'cuda' is not defined",
     "output_type": "error",
     "traceback": [
      "\u001b[1;31m---------------------------------------------------------------------------\u001b[0m",
      "\u001b[1;31mNameError\u001b[0m                                 Traceback (most recent call last)",
      "\u001b[1;32m<ipython-input-2-270c7837f208>\u001b[0m in \u001b[0;36m<module>\u001b[1;34m\u001b[0m\n\u001b[0;32m      5\u001b[0m \u001b[1;32mimport\u001b[0m \u001b[0mtorch\u001b[0m\u001b[1;33m\u001b[0m\u001b[1;33m\u001b[0m\u001b[0m\n\u001b[0;32m      6\u001b[0m \u001b[1;33m\u001b[0m\u001b[0m\n\u001b[1;32m----> 7\u001b[1;33m \u001b[0mdevice\u001b[0m \u001b[1;33m=\u001b[0m \u001b[1;34m\"cuda\"\u001b[0m \u001b[1;32mif\u001b[0m \u001b[0mtorch\u001b[0m\u001b[1;33m.\u001b[0m\u001b[0mcuda\u001b[0m\u001b[1;33m.\u001b[0m\u001b[0mis_available\u001b[0m\u001b[1;33m(\u001b[0m\u001b[1;33m)\u001b[0m \u001b[1;32mand\u001b[0m \u001b[0mcuda\u001b[0m \u001b[1;32melse\u001b[0m \u001b[1;34m\"cpu\"\u001b[0m\u001b[1;33m\u001b[0m\u001b[1;33m\u001b[0m\u001b[0m\n\u001b[0m\u001b[0;32m      8\u001b[0m \u001b[1;33m\u001b[0m\u001b[0m\n\u001b[0;32m      9\u001b[0m \u001b[0mtorch\u001b[0m\u001b[1;33m.\u001b[0m\u001b[0m__version__\u001b[0m\u001b[1;33m\u001b[0m\u001b[1;33m\u001b[0m\u001b[0m\n",
      "\u001b[1;31mNameError\u001b[0m: name 'cuda' is not defined"
     ]
    }
   ],
   "source": [
    "# imports\n",
    "\n",
    "import numpy as np \n",
    "import matplotlib.pyplot as plt \n",
    "import torch\n",
    "\n",
    "device = \"cuda\" if torch.cuda.is_available() else \"cpu\"\n",
    "\n",
    "torch.__version__"
   ]
  },
  {
   "cell_type": "markdown",
   "metadata": {},
   "source": [
    "## Define your data"
   ]
  },
  {
   "cell_type": "markdown",
   "metadata": {},
   "source": [
    "To solve the PDE we first need a set of points to evaluate it, we will use this points as the dataset for training de NN."
   ]
  },
  {
   "cell_type": "code",
   "execution_count": null,
   "metadata": {
    "ExecuteTime": {
     "end_time": "2020-06-20T16:23:55.238547Z",
     "start_time": "2020-06-20T16:23:54.637Z"
    }
   },
   "outputs": [],
   "source": [
    "# define the mesh\n",
    "x = np.linspace(0,1,20)\n",
    "t = np.linspace(0,1,30)\n",
    "\n",
    "# combine all points\n",
    "m = np.meshgrid(x, t)\n",
    "m = np.stack(m, -1).reshape(-1, 2)\n",
    "m.shape"
   ]
  },
  {
   "cell_type": "code",
   "execution_count": null,
   "metadata": {
    "ExecuteTime": {
     "end_time": "2020-06-20T16:23:55.238547Z",
     "start_time": "2020-06-20T16:23:54.638Z"
    }
   },
   "outputs": [],
   "source": [
    "class Dataset(torch.utils.data.Dataset):\n",
    "    def __init__(self, X):\n",
    "        self.X = torch.from_numpy(X).to(device).float()\n",
    "    def __len__(self):\n",
    "        return len(self.X)\n",
    "    def __getitem__(self, ix):\n",
    "        return self.X[ix]\n",
    "    \n",
    "dataset = Dataset(m)\n",
    "\n",
    "len(dataset)"
   ]
  },
  {
   "cell_type": "markdown",
   "metadata": {},
   "source": [
    "## Define your solution topology"
   ]
  },
  {
   "cell_type": "markdown",
   "metadata": {},
   "source": [
    "We use a Multilayer Perceptron to approximate the solution to the PDE"
   ]
  },
  {
   "cell_type": "code",
   "execution_count": null,
   "metadata": {
    "ExecuteTime": {
     "end_time": "2020-06-20T16:23:55.239545Z",
     "start_time": "2020-06-20T16:23:54.716Z"
    },
    "code_folding": [
     2
    ]
   },
   "outputs": [],
   "source": [
    "# solution topology\n",
    "\n",
    "class Sine(torch.nn.Module):  \n",
    "    def __init__(self):\n",
    "        super().__init__()\n",
    "    def forward(self, x):\n",
    "        return torch.sin(x)\n",
    "    \n",
    "def block(i, o):\n",
    "    fc = torch.nn.Linear(i, o)\n",
    "    return torch.nn.Sequential(\n",
    "        Sine(),\n",
    "        torch.nn.Linear(i, o) \n",
    "    )\n",
    "\n",
    "class MLP(torch.nn.Module):\n",
    "    def __init__(self, inputs, outputs, layers, neurons):\n",
    "        super().__init__()\n",
    "        fc_in = torch.nn.Linear(inputs, neurons)\n",
    "        fc_hidden = [\n",
    "            block(neurons, neurons)\n",
    "            for layer in range(layers-1)\n",
    "        ]\n",
    "        fc_out = block(neurons, outputs)\n",
    "        \n",
    "        self.mlp = torch.nn.Sequential(\n",
    "            fc_in,\n",
    "            *fc_hidden,\n",
    "            fc_out\n",
    "        )\n",
    "\n",
    "    def forward(self, x):\n",
    "        return self.mlp(x)\n",
    "    \n",
    "mlp = MLP(2, 1, 3, 100)\n",
    "mlp"
   ]
  },
  {
   "cell_type": "code",
   "execution_count": null,
   "metadata": {
    "ExecuteTime": {
     "end_time": "2020-06-20T16:23:55.240547Z",
     "start_time": "2020-06-20T16:23:54.718Z"
    }
   },
   "outputs": [],
   "source": [
    "# check output shape\n",
    "\n",
    "mlp(torch.randn(100,2)).shape"
   ]
  },
  {
   "cell_type": "markdown",
   "metadata": {},
   "source": [
    "## Boundary conditions"
   ]
  },
  {
   "cell_type": "markdown",
   "metadata": {},
   "source": [
    "We can attempt to solve our PDE at this points, but we would obtain a trivial solution. Instead, we need to specify a set of boundary conditions."
   ]
  },
  {
   "cell_type": "code",
   "execution_count": null,
   "metadata": {
    "ExecuteTime": {
     "end_time": "2020-06-20T16:23:55.240547Z",
     "start_time": "2020-06-20T16:23:54.794Z"
    }
   },
   "outputs": [],
   "source": [
    "# initial condition (t = 0)\n",
    "\n",
    "t0 = np.array([0.])\n",
    "m0 = np.meshgrid(x, t0)\n",
    "m0 = np.stack(m0, -1).reshape(-1, 2)\n",
    "\n",
    "p0 = np.sin(2*np.pi*x)\n",
    "\n",
    "plt.plot(x, p0)\n",
    "plt.grid(True)\n",
    "plt.xlabel('x')\n",
    "plt.ylabel('$p_0$')\n",
    "plt.show()"
   ]
  },
  {
   "cell_type": "code",
   "execution_count": null,
   "metadata": {
    "ExecuteTime": {
     "end_time": "2020-06-20T16:23:55.241546Z",
     "start_time": "2020-06-20T16:23:54.796Z"
    }
   },
   "outputs": [],
   "source": [
    "class DirichletDataset(torch.utils.data.Dataset):\n",
    "    def __init__(self, X, Y):\n",
    "        assert len(X) == len(Y)\n",
    "        self.X = torch.from_numpy(X).to(device).float()\n",
    "        self.Y = torch.from_numpy(Y).to(device).float()\n",
    "    def __len__(self):\n",
    "        return len(self.X)\n",
    "    def __getitem__(self, ix):\n",
    "        return self.X[ix], self.Y[ix]\n",
    "    \n",
    "# we use the names to indicate the order of the variables in the data\n",
    "initial_condition_dataset = DirichletDataset(m0, p0.reshape(-1, 1))\n",
    "\n",
    "len(initial_condition_dataset)"
   ]
  },
  {
   "cell_type": "code",
   "execution_count": null,
   "metadata": {
    "ExecuteTime": {
     "end_time": "2020-06-20T16:23:55.241546Z",
     "start_time": "2020-06-20T16:23:54.799Z"
    }
   },
   "outputs": [],
   "source": [
    "# boundary conditions (peridic conditions at x = 0 and x = 1)\n",
    "\n",
    "xb0 = np.array([0])\n",
    "mb0 = np.meshgrid(xb0, t)\n",
    "mb0 = np.stack(mb0, -1).reshape(-1, 2)\n",
    "mb0.shape"
   ]
  },
  {
   "cell_type": "code",
   "execution_count": null,
   "metadata": {
    "ExecuteTime": {
     "end_time": "2020-06-20T16:23:55.242553Z",
     "start_time": "2020-06-20T16:23:54.800Z"
    }
   },
   "outputs": [],
   "source": [
    "xb1 = np.array([1])\n",
    "mb1 = np.meshgrid(xb1, t)\n",
    "mb1 = np.stack(mb1, -1).reshape(-1, 2)\n",
    "mb1.shape"
   ]
  },
  {
   "cell_type": "code",
   "execution_count": null,
   "metadata": {
    "ExecuteTime": {
     "end_time": "2020-06-20T16:23:55.243546Z",
     "start_time": "2020-06-20T16:23:54.802Z"
    }
   },
   "outputs": [],
   "source": [
    "boco_dataset = DirichletDataset(mb0, mb1)\n",
    "\n",
    "len(boco_dataset)"
   ]
  },
  {
   "cell_type": "markdown",
   "metadata": {},
   "source": [
    "## Solve the PDE"
   ]
  },
  {
   "cell_type": "markdown",
   "metadata": {},
   "source": [
    "We can now proceed with solving the PDE"
   ]
  },
  {
   "cell_type": "code",
   "execution_count": null,
   "metadata": {
    "ExecuteTime": {
     "end_time": "2020-06-20T16:23:55.243546Z",
     "start_time": "2020-06-20T16:23:54.878Z"
    },
    "code_folding": []
   },
   "outputs": [],
   "source": [
    "BATCH_SIZE = 32\n",
    "EPOCHS = 50\n",
    "U = 1\n",
    "\n",
    "dataloaders = {\n",
    "    'inner': torch.utils.data.DataLoader(dataset, batch_size=BATCH_SIZE, shuffle=True),\n",
    "    'initial': torch.utils.data.DataLoader(initial_condition_dataset, batch_size=BATCH_SIZE, shuffle=True),\n",
    "    'periodic': torch.utils.data.DataLoader(boco_dataset, batch_size=BATCH_SIZE, shuffle=True)\n",
    "}\n",
    "\n",
    "mlp = MLP(2, 1, 3, 128)\n",
    "mlp.to(device)\n",
    "optimizer = torch.optim.Adam(mlp.parameters())\n",
    "criterion = torch.nn.MSELoss()\n",
    "\n",
    "hist = []\n",
    "for epoch in range(1, EPOCHS+1):\n",
    "    # iterate over the internal points in batches\n",
    "    for batch in dataloaders['inner']:\n",
    "        X = batch\n",
    "        optimizer.zero_grad()\n",
    "        # optimize for boundary points\n",
    "        losses = 0\n",
    "        for batch in dataloaders['initial']:\n",
    "            x, y = batch\n",
    "            p = mlp(x)\n",
    "            loss = criterion(p, y)\n",
    "            loss.backward()\n",
    "            losses += loss.item()\n",
    "        for batch in dataloaders['periodic']:\n",
    "            x1, x2 = batch\n",
    "            p1 = mlp(x1)\n",
    "            p2 = mlp(x2)\n",
    "            loss = criterion(p1, p2)\n",
    "            loss.backward()\n",
    "            losses += loss.item()\n",
    "        # optimize for internal points\n",
    "        X.requires_grad = True\n",
    "        p = mlp(X)\n",
    "        grads, = torch.autograd.grad(p, X, \n",
    "                    grad_outputs=p.data.new(p.shape).fill_(1),\n",
    "                    create_graph=True, only_inputs=True)\n",
    "        dpdx, dpdt = grads[:,0], grads[:,1]\n",
    "        pde = dpdt + U*dpdx\n",
    "        loss = pde.pow(2).mean()\n",
    "        loss.backward()\n",
    "        optimizer.step()\n",
    "        losses += loss.item()\n",
    "        hist.append(losses)\n",
    "    print(f\"Epoch {epoch}/{EPOCHS} loss {losses:.5f}\")"
   ]
  },
  {
   "cell_type": "code",
   "execution_count": null,
   "metadata": {
    "ExecuteTime": {
     "end_time": "2020-06-20T16:23:55.244542Z",
     "start_time": "2020-06-20T16:23:54.879Z"
    }
   },
   "outputs": [],
   "source": [
    "plt.plot(hist)\n",
    "plt.xlabel(\"update step\")\n",
    "plt.ylabel(\"loss\")\n",
    "plt.yscale(\"log\")\n",
    "plt.grid(True)\n",
    "plt.show()"
   ]
  },
  {
   "cell_type": "markdown",
   "metadata": {},
   "source": [
    "## Evaluate your solution\n",
    "\n"
   ]
  },
  {
   "cell_type": "code",
   "execution_count": null,
   "metadata": {
    "ExecuteTime": {
     "end_time": "2020-06-20T16:23:55.244542Z",
     "start_time": "2020-06-20T16:23:54.921Z"
    },
    "code_folding": [
     0
    ]
   },
   "outputs": [],
   "source": [
    "def build_mesh(N, t):\n",
    "    x = np.linspace(0,1,N)\n",
    "    _t = np.array([t])\n",
    "    m = np.meshgrid(x, _t)\n",
    "    m = np.stack(m, -1).reshape(-1, 2)\n",
    "    return x, t, m\n",
    "\n",
    "x, t, m = build_mesh(20, 0)"
   ]
  },
  {
   "cell_type": "code",
   "execution_count": null,
   "metadata": {
    "ExecuteTime": {
     "end_time": "2020-06-20T16:23:55.245541Z",
     "start_time": "2020-06-20T16:23:54.924Z"
    },
    "code_folding": [
     0
    ]
   },
   "outputs": [],
   "source": [
    "def eval_model(m):\n",
    "    mlp.eval()\n",
    "    with torch.no_grad():\n",
    "        p = mlp(torch.tensor(m).float().to(device)).cpu().numpy()\n",
    "    return p\n",
    "\n",
    "p = eval_model(m)"
   ]
  },
  {
   "cell_type": "code",
   "execution_count": null,
   "metadata": {
    "ExecuteTime": {
     "end_time": "2020-06-20T16:23:55.246544Z",
     "start_time": "2020-06-20T16:23:54.925Z"
    },
    "code_folding": [
     0
    ]
   },
   "outputs": [],
   "source": [
    "def plot_model(x, p, t):\n",
    "    pe = np.sin(2.*np.pi*(x-U*t)).reshape(-1,1)\n",
    "    plt.plot(x, pe, label=\"exact\")\n",
    "    plt.plot(x, p, '.k', label=\"solution\")\n",
    "    plt.legend()\n",
    "    plt.grid(True)\n",
    "    l2 = np.sqrt(np.sum((p-pe)**2))\n",
    "    plt.title(f\"t = {t:.3f} (L2 = {l2:.5f})\")\n",
    "    plt.show()\n",
    "    \n",
    "plot_model(x, p, 0)"
   ]
  },
  {
   "cell_type": "code",
   "execution_count": null,
   "metadata": {
    "ExecuteTime": {
     "end_time": "2020-06-20T16:23:55.246544Z",
     "start_time": "2020-06-20T16:23:54.927Z"
    },
    "code_folding": [
     0
    ]
   },
   "outputs": [],
   "source": [
    "def eval_solution(N, t):\n",
    "    x, t, m = build_mesh(N, t)\n",
    "    p = eval_model(m)\n",
    "    plot_model(x, p, t)"
   ]
  },
  {
   "cell_type": "code",
   "execution_count": null,
   "metadata": {
    "ExecuteTime": {
     "end_time": "2020-06-20T16:23:55.247542Z",
     "start_time": "2020-06-20T16:23:54.928Z"
    },
    "code_folding": [
     9
    ]
   },
   "outputs": [],
   "source": [
    "from matplotlib import animation, rc\n",
    "rc('animation', html='html5')\n",
    "\n",
    "t = np.linspace(0,1,10)\n",
    "x, t, m = build_mesh(30, t)\n",
    "p = eval_model(m).reshape(len(t), -1)\n",
    "\n",
    "fig = plt.figure()\n",
    "ax = plt.subplot(111)\n",
    "def update_plot(i):\n",
    "    ax.clear()\n",
    "    pe = np.sin(2.*np.pi*(x-U*t[i]))\n",
    "    ax.plot(x, pe, label=f\"exact (u = {U})\")\n",
    "    ax.plot(x, p[i], '.k', label=\"solution\")\n",
    "    ax.set_xlabel(\"x\", fontsize=14)\n",
    "    ax.set_ylabel(\"p\", fontsize=14, rotation=np.pi/2)\n",
    "    ax.legend(loc=\"upper right\")\n",
    "    ax.grid(True)\n",
    "    ax.set_xlim([0, 1])\n",
    "    ax.set_ylim([-1.2, 1.2])\n",
    "    l2 = np.sqrt(np.sum((p[i]-pe)**2))\n",
    "    ax.set_title(f\"t = {t[i]:.3f} (L2 = {l2:.5f})\")\n",
    "    return ax\n",
    "\n",
    "anim = animation.FuncAnimation(fig, update_plot, frames=len(t), interval=300)\n",
    "plt.close()\n"
   ]
  },
  {
   "cell_type": "code",
   "execution_count": null,
   "metadata": {
    "ExecuteTime": {
     "end_time": "2020-06-20T16:23:55.247542Z",
     "start_time": "2020-06-20T16:23:54.930Z"
    }
   },
   "outputs": [],
   "source": [
    "anim"
   ]
  },
  {
   "cell_type": "markdown",
   "metadata": {},
   "source": [
    "## What nangs provides you"
   ]
  },
  {
   "cell_type": "markdown",
   "metadata": {},
   "source": [
    "Nangs will provideo you with classes and functions to asbtract some of the concepts explained here in order to enable fast experimentation while allowing you to customize it to your needs."
   ]
  }
 ],
 "metadata": {
  "kernelspec": {
   "display_name": "Python 3",
   "language": "python",
   "name": "python3"
  },
  "language_info": {
   "codemirror_mode": {
    "name": "ipython",
    "version": 3
   },
   "file_extension": ".py",
   "mimetype": "text/x-python",
   "name": "python",
   "nbconvert_exporter": "python",
   "pygments_lexer": "ipython3",
   "version": "3.7.6"
  },
  "toc": {
   "base_numbering": 1,
   "nav_menu": {},
   "number_sections": true,
   "sideBar": true,
   "skip_h1_title": false,
   "title_cell": "Table of Contents",
   "title_sidebar": "Contents",
   "toc_cell": false,
   "toc_position": {},
   "toc_section_display": true,
   "toc_window_display": false
  }
 },
 "nbformat": 4,
 "nbformat_minor": 4
}
