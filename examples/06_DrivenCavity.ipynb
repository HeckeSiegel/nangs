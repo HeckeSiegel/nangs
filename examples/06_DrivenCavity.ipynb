{
 "cells": [
  {
   "cell_type": "code",
   "execution_count": 1,
   "metadata": {
    "ExecuteTime": {
     "end_time": "2020-06-21T16:12:31.415226Z",
     "start_time": "2020-06-21T16:12:31.084177Z"
    }
   },
   "outputs": [
    {
     "name": "stderr",
     "output_type": "stream",
     "text": [
      "\n",
      "Bad key \"text.kerning_factor\" on line 4 in\n",
      "C:\\Users\\sensio\\miniconda3\\lib\\site-packages\\matplotlib\\mpl-data\\stylelib\\_classic_test_patch.mplstyle.\n",
      "You probably need to get an updated matplotlibrc file from\n",
      "https://github.com/matplotlib/matplotlib/blob/v3.1.3/matplotlibrc.template\n",
      "or from the matplotlib source distribution\n"
     ]
    }
   ],
   "source": [
    "# autoreload nangs\n",
    "%reload_ext autoreload\n",
    "%autoreload 2\n",
    "%matplotlib inline"
   ]
  },
  {
   "cell_type": "markdown",
   "metadata": {},
   "source": [
    "# Driven Cavity"
   ]
  },
  {
   "cell_type": "markdown",
   "metadata": {},
   "source": [
    "In this example we solve the two-dimensional incompressible Navier Stokes equations in the Driven Cavity problem\n",
    "\n",
    "\\begin{equation}\n",
    "    \\begin{array}{c}\n",
    "        \\nabla \\cdot \\mathbf{u} = 0 \\\\\n",
    "        \\mathbf{u}_t + \\mathbf{u} \\cdot \\nabla \\mathbf{u} = \\frac{1}{Re} \\nabla^2 \\mathbf{u} - \\nabla p\n",
    "    \\end{array}\n",
    "\\end{equation}\n",
    "\n",
    "where $\\mathbf{u} = (u, v)$ is the velocity of the fluid and $Re$ is the Reynolds number. The geometry of the problem is described as follows\n",
    "\n",
    "![](https://www.cfd-online.com/W/images/a/a3/Ldc_geom.png)"
   ]
  },
  {
   "cell_type": "code",
   "execution_count": 2,
   "metadata": {
    "ExecuteTime": {
     "end_time": "2020-06-21T16:12:31.843203Z",
     "start_time": "2020-06-21T16:12:31.416226Z"
    }
   },
   "outputs": [
    {
     "data": {
      "text/plain": [
       "('0.1.2', '1.5.0')"
      ]
     },
     "execution_count": 2,
     "metadata": {},
     "output_type": "execute_result"
    }
   ],
   "source": [
    "#imports\n",
    "\n",
    "import numpy as np \n",
    "import matplotlib.pyplot as plt \n",
    "import torch\n",
    "import nangs\n",
    "from nangs import *\n",
    "\n",
    "device = \"cuda\" if torch.cuda.is_available() else \"cpu\"\n",
    "\n",
    "nangs.__version__, torch.__version__"
   ]
  },
  {
   "cell_type": "code",
   "execution_count": 3,
   "metadata": {
    "ExecuteTime": {
     "end_time": "2020-06-21T16:12:31.891202Z",
     "start_time": "2020-06-21T16:12:31.844205Z"
    },
    "code_folding": []
   },
   "outputs": [],
   "source": [
    "U = 1.\n",
    "Re = 100\n",
    "\n",
    "class NavierStokes2d(PDE):\n",
    "    def computePDELoss(self, inputs, outputs):\n",
    "        \n",
    "        u, v, p = outputs[:, 0], outputs[:, 1], outputs[:, 2]\n",
    "        \n",
    "        # first order derivatives        \n",
    "        grads = self.computeGrads(u, inputs)       \n",
    "        dudx, dudy, dudt = grads[:, 0], grads[:, 1], grads[:, 2]\n",
    "        \n",
    "        grads = self.computeGrads(v, inputs)       \n",
    "        dvdx, dvdy, dvdt = grads[:, 0], grads[:, 1], grads[:, 2]\n",
    "        \n",
    "        grads = self.computeGrads(p, inputs)       \n",
    "        dpdx, dpdy = grads[:, 0], grads[:, 1]\n",
    "            \n",
    "        # second order derivatives        \n",
    "        du2dx2 = self.computeGrads(dudx, inputs)[:, 0]       \n",
    "        dv2dy2 = self.computeGrads(dvdy, inputs)[:, 1]       \n",
    "        \n",
    "        # compute losses\n",
    "        return {\n",
    "            'mass': dudx + dvdy,\n",
    "            'mom_x': dudt + u*dudx + v*dudy + dpdx - (1./Re)*(du2dx2 + dv2dy2),\n",
    "            'mom_y': dvdt + u*dvdx + v*dvdy + dpdy - (1./Re)*(du2dx2 + dv2dy2)\n",
    "        }\n",
    "\n",
    "# instanciate pde\n",
    "pde = NavierStokes2d(inputs=('x', 'y', 't'), outputs=('u', 'v', 'p'))"
   ]
  },
  {
   "cell_type": "code",
   "execution_count": 4,
   "metadata": {
    "ExecuteTime": {
     "end_time": "2020-06-21T16:12:32.917203Z",
     "start_time": "2020-06-21T16:12:31.892201Z"
    }
   },
   "outputs": [],
   "source": [
    "# mesh \n",
    "\n",
    "x = np.linspace(0,1,20)\n",
    "y = np.linspace(0,1,20)\n",
    "t = np.linspace(0,10,50)\n",
    "\n",
    "mesh = Mesh({'x': x, 'y': y, 't': t}, device=device)\n",
    "pde.set_mesh(mesh)"
   ]
  },
  {
   "cell_type": "code",
   "execution_count": 5,
   "metadata": {
    "ExecuteTime": {
     "end_time": "2020-06-21T16:12:32.965202Z",
     "start_time": "2020-06-21T16:12:32.918203Z"
    }
   },
   "outputs": [],
   "source": [
    "# initial condition\n",
    "\n",
    "u0 = np.zeros(len(x)*len(y))\n",
    "v0 = np.zeros(len(x)*len(y))\n",
    "p0 = np.zeros(len(x)*len(y))\n",
    "boco = Dirichlet({'x': x, 'y': y, 't': np.array([0])}, {'u': u0, 'v': v0, 'p': p0}, name='initial', device=device)\n",
    "pde.add_boco(boco)"
   ]
  },
  {
   "cell_type": "code",
   "execution_count": 6,
   "metadata": {
    "ExecuteTime": {
     "end_time": "2020-06-21T16:12:33.013202Z",
     "start_time": "2020-06-21T16:12:32.967204Z"
    }
   },
   "outputs": [
    {
     "name": "stdout",
     "output_type": "stream",
     "text": [
      "Boco x_w_d with different outputs ! ('u', 'v', 'p') vs ('u', 'v')\n"
     ]
    }
   ],
   "source": [
    "# left-right walls\n",
    "\n",
    "class NeumannX(Neumann):\n",
    "    def computeBocoLoss(self, inputs, outputs):\n",
    "        dpdx = self.computeGrads(outputs[:, 2], inputs)[:, 0]\n",
    "        return {'gradX': dpdx}\n",
    "\n",
    "u0 = np.zeros(2*len(y)*len(t))\n",
    "v0 = np.zeros(2*len(y)*len(t))\n",
    "boco = Dirichlet({'x': np.array([0, 1]), 'y': y, 't': t}, {'u': u0, 'v': v0}, name='x_w_d', device=device)\n",
    "pde.add_boco(boco)\n",
    "\n",
    "boco = NeumannX({'x': np.array([0, 1]), 'y': y, 't': t}, name='x_w_n', device=device)\n",
    "pde.add_boco(boco)"
   ]
  },
  {
   "cell_type": "code",
   "execution_count": 7,
   "metadata": {
    "ExecuteTime": {
     "end_time": "2020-06-21T16:12:33.061202Z",
     "start_time": "2020-06-21T16:12:33.014202Z"
    }
   },
   "outputs": [
    {
     "name": "stdout",
     "output_type": "stream",
     "text": [
      "Boco b_w_d with different outputs ! ('u', 'v', 'p') vs ('u', 'v')\n"
     ]
    }
   ],
   "source": [
    "# bootom wall\n",
    "\n",
    "class NeumannY(Neumann):\n",
    "    def computeBocoLoss(self, inputs, outputs):\n",
    "        dpdy = self.computeGrads(outputs[:, 2], inputs)[:, 1]\n",
    "        return {'gradY': dpdy}\n",
    "\n",
    "u0 = np.zeros(len(x)*len(t))\n",
    "v0 = np.zeros(len(x)*len(t))\n",
    "boco = Dirichlet({'x': x, 'y': np.array([0]), 't': t}, {'u': u0, 'v': v0}, name='b_w_d', device=device)\n",
    "pde.add_boco(boco)\n",
    "\n",
    "   \n",
    "boco = NeumannY({'x': x, 'y': np.array([0]), 't': t}, name='b_w_n', device=device)\n",
    "pde.add_boco(boco)"
   ]
  },
  {
   "cell_type": "code",
   "execution_count": 8,
   "metadata": {
    "ExecuteTime": {
     "end_time": "2020-06-21T16:12:33.107201Z",
     "start_time": "2020-06-21T16:12:33.062201Z"
    }
   },
   "outputs": [
    {
     "name": "stdout",
     "output_type": "stream",
     "text": [
      "Boco t_w_d with different outputs ! ('u', 'v', 'p') vs ('u', 'v')\n"
     ]
    }
   ],
   "source": [
    "# top wall\n",
    "\n",
    "u0 = np.full(len(x)*len(t), U)\n",
    "v0 = np.zeros(len(x)*len(t))\n",
    "boco = Dirichlet({'x': x, 'y': np.array([1]), 't': t}, {'u': u0, 'v': v0}, name='t_w_d', device=device)\n",
    "pde.add_boco(boco)\n",
    "\n",
    "boco = NeumannY({'x': x, 'y': np.array([1]), 't': t}, name='t_w_n', device=device)\n",
    "pde.add_boco(boco)"
   ]
  },
  {
   "cell_type": "code",
   "execution_count": 9,
   "metadata": {
    "ExecuteTime": {
     "end_time": "2020-06-21T16:13:45.601338Z",
     "start_time": "2020-06-21T16:12:33.108201Z"
    }
   },
   "outputs": [
    {
     "data": {
      "text/html": [
       "\n",
       "    <div>\n",
       "        <style>\n",
       "            /* Turns off some styling */\n",
       "            progress {\n",
       "                /* gets rid of default border in Firefox and Opera. */\n",
       "                border: none;\n",
       "                /* Needs to be in here for Safari polyfill so background images work as expected. */\n",
       "                background-size: auto;\n",
       "            }\n",
       "            .progress-bar-interrupted, .progress-bar-interrupted::-webkit-progress-bar {\n",
       "                background: #F44336;\n",
       "            }\n",
       "        </style>\n",
       "      <progress value='35' class='' max='50' style='width:300px; height:20px; vertical-align: middle;'></progress>\n",
       "      70.00% [35/50 01:12<00:30]\n",
       "    </div>\n",
       "    \n",
       "Epoch 1/50  | lr 0.0002 | initial 0.00758 | x_w_d 0.06978 | x_w_n_gradX 0.00187 | b_w_d 0.05637 | b_w_n_gradY 0.001 | t_w_d 0.22328 | t_w_n_gradY 0.00087 | mass 0.00223 | mom_x 0.00337 | mom_y 0.00237<p>Epoch 2/50  | lr 0.0009 | initial 0.01518 | x_w_d 0.06748 | x_w_n_gradX 0.00138 | b_w_d 0.01301 | b_w_n_gradY 0.00049 | t_w_d 0.11815 | t_w_n_gradY 0.00053 | mass 0.00274 | mom_x 0.0048 | mom_y 0.00185<p>Epoch 3/50  | lr 0.0026 | initial 0.01768 | x_w_d 0.09039 | x_w_n_gradX 0.00149 | b_w_d 0.02034 | b_w_n_gradY 0.00038 | t_w_d 0.06415 | t_w_n_gradY 0.00045 | mass 0.00185 | mom_x 0.01132 | mom_y 0.00101<p>Epoch 4/50  | lr 0.0043 | initial 0.01299 | x_w_d 0.08245 | x_w_n_gradX 0.00079 | b_w_d 0.01328 | b_w_n_gradY 0.0011 | t_w_d 0.0735 | t_w_n_gradY 0.00115 | mass 0.00119 | mom_x 0.00521 | mom_y 0.00134<p>Epoch 5/50  | lr 0.005 | initial 0.01131 | x_w_d 0.07716 | x_w_n_gradX 0.00051 | b_w_d 0.0037 | b_w_n_gradY 0.00766 | t_w_d 0.0564 | t_w_n_gradY 0.00799 | mass 0.0024 | mom_x 0.0029 | mom_y 0.00866<p>Epoch 6/50  | lr 0.00499 | initial 0.01125 | x_w_d 0.07696 | x_w_n_gradX 0.00048 | b_w_d 0.00425 | b_w_n_gradY 0.00072 | t_w_d 0.04805 | t_w_n_gradY 0.00082 | mass 0.00111 | mom_x 0.00271 | mom_y 0.00089<p>Epoch 7/50  | lr 0.00498 | initial 0.00797 | x_w_d 0.08698 | x_w_n_gradX 0.00048 | b_w_d 0.0253 | b_w_n_gradY 0.00014 | t_w_d 0.1078 | t_w_n_gradY 0.00019 | mass 0.00066 | mom_x 0.00543 | mom_y 0.00025<p>Epoch 8/50  | lr 0.00495 | initial 0.01289 | x_w_d 0.07871 | x_w_n_gradX 0.0004 | b_w_d 0.00881 | b_w_n_gradY 0.0001 | t_w_d 0.0593 | t_w_n_gradY 0.00011 | mass 0.00071 | mom_x 0.00276 | mom_y 0.00017<p>Epoch 9/50  | lr 0.0049 | initial 0.01032 | x_w_d 0.07971 | x_w_n_gradX 0.00056 | b_w_d 0.00473 | b_w_n_gradY 7e-05 | t_w_d 0.04649 | t_w_n_gradY 7e-05 | mass 0.00051 | mom_x 0.00274 | mom_y 0.00013<p>Epoch 10/50  | lr 0.00485 | initial 0.00983 | x_w_d 0.07633 | x_w_n_gradX 0.00055 | b_w_d 0.00378 | b_w_n_gradY 2e-05 | t_w_d 0.046 | t_w_n_gradY 3e-05 | mass 0.00045 | mom_x 0.00231 | mom_y 5e-05<p>Epoch 11/50  | lr 0.00478 | initial 0.00912 | x_w_d 0.07418 | x_w_n_gradX 0.00053 | b_w_d 0.00354 | b_w_n_gradY 2e-05 | t_w_d 0.04437 | t_w_n_gradY 2e-05 | mass 0.00057 | mom_x 0.00216 | mom_y 5e-05<p>Epoch 12/50  | lr 0.00471 | initial 0.0084 | x_w_d 0.07088 | x_w_n_gradX 0.00052 | b_w_d 0.00326 | b_w_n_gradY 2e-05 | t_w_d 0.04232 | t_w_n_gradY 4e-05 | mass 0.00081 | mom_x 0.00219 | mom_y 7e-05<p>Epoch 13/50  | lr 0.00462 | initial 0.00818 | x_w_d 0.1049 | x_w_n_gradX 0.00049 | b_w_d 0.05543 | b_w_n_gradY 0.00043 | t_w_d 0.15623 | t_w_n_gradY 0.00068 | mass 0.00181 | mom_x 0.0186 | mom_y 0.00126<p>Epoch 14/50  | lr 0.00452 | initial 0.01146 | x_w_d 0.08337 | x_w_n_gradX 0.00047 | b_w_d 0.01812 | b_w_n_gradY 0.02526 | t_w_d 0.09735 | t_w_n_gradY 0.02807 | mass 0.00544 | mom_x 0.00996 | mom_y 0.03586<p>Epoch 15/50  | lr 0.00442 | initial 0.01126 | x_w_d 0.07772 | x_w_n_gradX 0.0004 | b_w_d 0.00664 | b_w_n_gradY 0.0039 | t_w_d 0.05461 | t_w_n_gradY 0.00622 | mass 0.00237 | mom_x 0.0042 | mom_y 0.00562<p>Epoch 16/50  | lr 0.0043 | initial 0.0085 | x_w_d 0.06886 | x_w_n_gradX 0.0003 | b_w_d 0.0034 | b_w_n_gradY 0.00042 | t_w_d 0.04608 | t_w_n_gradY 0.00119 | mass 0.00124 | mom_x 0.00281 | mom_y 0.0009<p>Epoch 17/50  | lr 0.00417 | initial 0.00694 | x_w_d 0.06427 | x_w_n_gradX 0.00032 | b_w_d 0.0028 | b_w_n_gradY 5e-05 | t_w_d 0.03699 | t_w_n_gradY 0.00032 | mass 0.00134 | mom_x 0.00293 | mom_y 0.00022<p>Epoch 18/50  | lr 0.00404 | initial 0.00629 | x_w_d 0.05779 | x_w_n_gradX 0.00031 | b_w_d 0.00142 | b_w_n_gradY 2e-05 | t_w_d 0.0298 | t_w_n_gradY 0.0001 | mass 0.00148 | mom_x 0.00303 | mom_y 0.0001<p>Epoch 19/50  | lr 0.0039 | initial 0.00782 | x_w_d 0.06381 | x_w_n_gradX 0.00027 | b_w_d 0.01128 | b_w_n_gradY 1e-05 | t_w_d 0.04322 | t_w_n_gradY 5e-05 | mass 0.00138 | mom_x 0.00574 | mom_y 0.00014<p>Epoch 20/50  | lr 0.00375 | initial 0.00673 | x_w_d 0.05004 | x_w_n_gradX 0.00026 | b_w_d 0.00187 | b_w_n_gradY 1e-05 | t_w_d 0.02853 | t_w_n_gradY 5e-05 | mass 0.00057 | mom_x 0.00353 | mom_y 0.00015<p>Epoch 21/50  | lr 0.0036 | initial 0.00724 | x_w_d 0.04693 | x_w_n_gradX 0.00022 | b_w_d 0.00072 | b_w_n_gradY 2e-05 | t_w_d 0.02154 | t_w_n_gradY 3e-05 | mass 0.00062 | mom_x 0.00238 | mom_y 0.00012<p>Epoch 22/50  | lr 0.00344 | initial 0.00737 | x_w_d 0.04429 | x_w_n_gradX 0.00014 | b_w_d 0.00075 | b_w_n_gradY 2e-05 | t_w_d 0.01802 | t_w_n_gradY 2e-05 | mass 0.00068 | mom_x 0.00188 | mom_y 9e-05<p>Epoch 23/50  | lr 0.00327 | initial 0.00721 | x_w_d 0.04225 | x_w_n_gradX 9e-05 | b_w_d 0.00054 | b_w_n_gradY 4e-05 | t_w_d 0.01582 | t_w_n_gradY 2e-05 | mass 0.00068 | mom_x 0.00172 | mom_y 0.00012<p>Epoch 24/50  | lr 0.0031 | initial 0.00677 | x_w_d 0.04038 | x_w_n_gradX 6e-05 | b_w_d 0.00039 | b_w_n_gradY 4e-05 | t_w_d 0.01456 | t_w_n_gradY 2e-05 | mass 0.00068 | mom_x 0.00164 | mom_y 0.00011<p>Epoch 25/50  | lr 0.00293 | initial 0.00645 | x_w_d 0.03853 | x_w_n_gradX 5e-05 | b_w_d 0.00037 | b_w_n_gradY 4e-05 | t_w_d 0.01334 | t_w_n_gradY 2e-05 | mass 0.00067 | mom_x 0.00168 | mom_y 0.0001<p>Epoch 26/50  | lr 0.00276 | initial 0.00618 | x_w_d 0.03667 | x_w_n_gradX 5e-05 | b_w_d 0.00034 | b_w_n_gradY 3e-05 | t_w_d 0.01233 | t_w_n_gradY 2e-05 | mass 0.00064 | mom_x 0.0017 | mom_y 0.0001<p>Epoch 27/50  | lr 0.00259 | initial 0.00601 | x_w_d 0.03494 | x_w_n_gradX 4e-05 | b_w_d 0.0003 | b_w_n_gradY 2e-05 | t_w_d 0.01135 | t_w_n_gradY 2e-05 | mass 0.00062 | mom_x 0.00169 | mom_y 9e-05<p>Epoch 28/50  | lr 0.00241 | initial 0.00605 | x_w_d 0.03329 | x_w_n_gradX 4e-05 | b_w_d 0.00024 | b_w_n_gradY 1e-05 | t_w_d 0.01054 | t_w_n_gradY 2e-05 | mass 0.00062 | mom_x 0.00153 | mom_y 0.0001<p>Epoch 29/50  | lr 0.00224 | initial 0.00614 | x_w_d 0.03186 | x_w_n_gradX 4e-05 | b_w_d 0.00019 | b_w_n_gradY 1e-05 | t_w_d 0.00988 | t_w_n_gradY 2e-05 | mass 0.00065 | mom_x 0.00138 | mom_y 0.0001<p>Epoch 30/50  | lr 0.00207 | initial 0.0061 | x_w_d 0.03069 | x_w_n_gradX 4e-05 | b_w_d 0.00015 | b_w_n_gradY 1e-05 | t_w_d 0.00937 | t_w_n_gradY 2e-05 | mass 0.00069 | mom_x 0.00127 | mom_y 9e-05<p>Epoch 31/50  | lr 0.0019 | initial 0.00597 | x_w_d 0.02972 | x_w_n_gradX 4e-05 | b_w_d 0.00014 | b_w_n_gradY 1e-05 | t_w_d 0.00896 | t_w_n_gradY 2e-05 | mass 0.00072 | mom_x 0.00123 | mom_y 9e-05<p>Epoch 32/50  | lr 0.00173 | initial 0.00589 | x_w_d 0.02894 | x_w_n_gradX 3e-05 | b_w_d 0.00012 | b_w_n_gradY 1e-05 | t_w_d 0.00862 | t_w_n_gradY 2e-05 | mass 0.00075 | mom_x 0.00116 | mom_y 9e-05<p>Epoch 33/50  | lr 0.00156 | initial 0.00575 | x_w_d 0.02833 | x_w_n_gradX 3e-05 | b_w_d 0.00012 | b_w_n_gradY 1e-05 | t_w_d 0.00834 | t_w_n_gradY 2e-05 | mass 0.00076 | mom_x 0.00116 | mom_y 9e-05<p>Epoch 34/50  | lr 0.0014 | initial 0.00558 | x_w_d 0.02774 | x_w_n_gradX 3e-05 | b_w_d 0.00012 | b_w_n_gradY 1e-05 | t_w_d 0.00825 | t_w_n_gradY 2e-05 | mass 0.00077 | mom_x 0.00113 | mom_y 9e-05<p>Epoch 35/50  | lr 0.00125 | initial 0.0055 | x_w_d 0.02737 | x_w_n_gradX 3e-05 | b_w_d 0.00011 | b_w_n_gradY 1e-05 | t_w_d 0.00797 | t_w_n_gradY 2e-05 | mass 0.00076 | mom_x 0.00114 | mom_y 0.0001<p>\n",
       "\n",
       "    <div>\n",
       "        <style>\n",
       "            /* Turns off some styling */\n",
       "            progress {\n",
       "                /* gets rid of default border in Firefox and Opera. */\n",
       "                border: none;\n",
       "                /* Needs to be in here for Safari polyfill so background images work as expected. */\n",
       "                background-size: auto;\n",
       "            }\n",
       "            .progress-bar-interrupted, .progress-bar-interrupted::-webkit-progress-bar {\n",
       "                background: #F44336;\n",
       "            }\n",
       "        </style>\n",
       "      <progress value='0' class='' max='10' style='width:300px; height:20px; vertical-align: middle;'></progress>\n",
       "      0.00% [0/10 00:00<00:00]\n",
       "    </div>\n",
       "    "
      ],
      "text/plain": [
       "<IPython.core.display.HTML object>"
      ]
     },
     "metadata": {},
     "output_type": "display_data"
    },
    {
     "ename": "KeyboardInterrupt",
     "evalue": "",
     "output_type": "error",
     "traceback": [
      "\u001b[1;31m---------------------------------------------------------------------------\u001b[0m",
      "\u001b[1;31mKeyboardInterrupt\u001b[0m                         Traceback (most recent call last)",
      "\u001b[1;32m<ipython-input-9-9566224c2fc9>\u001b[0m in \u001b[0;36m<module>\u001b[1;34m\u001b[0m\n\u001b[0;32m     12\u001b[0m \u001b[1;33m\u001b[0m\u001b[0m\n\u001b[0;32m     13\u001b[0m \u001b[0mpde\u001b[0m\u001b[1;33m.\u001b[0m\u001b[0mcompile\u001b[0m\u001b[1;33m(\u001b[0m\u001b[0mmlp\u001b[0m\u001b[1;33m,\u001b[0m \u001b[0moptimizer\u001b[0m\u001b[1;33m,\u001b[0m \u001b[0mscheduler\u001b[0m\u001b[1;33m)\u001b[0m\u001b[1;33m\u001b[0m\u001b[1;33m\u001b[0m\u001b[0m\n\u001b[1;32m---> 14\u001b[1;33m \u001b[0mhist\u001b[0m \u001b[1;33m=\u001b[0m \u001b[0mpde\u001b[0m\u001b[1;33m.\u001b[0m\u001b[0msolve\u001b[0m\u001b[1;33m(\u001b[0m\u001b[0mEPOCHS\u001b[0m\u001b[1;33m,\u001b[0m \u001b[0mBATCH_SIZE\u001b[0m\u001b[1;33m)\u001b[0m\u001b[1;33m\u001b[0m\u001b[1;33m\u001b[0m\u001b[0m\n\u001b[0m",
      "\u001b[1;32m~\\Desktop\\nangs\\examples\\nangs\\pde.py\u001b[0m in \u001b[0;36msolve\u001b[1;34m(self, epochs, batch_size, shuffle)\u001b[0m\n\u001b[0;32m     78\u001b[0m                     l = self.criterion(l, torch.zeros(\n\u001b[0;32m     79\u001b[0m                         l.shape).to(self.mesh.device))\n\u001b[1;32m---> 80\u001b[1;33m                     \u001b[0ml\u001b[0m\u001b[1;33m.\u001b[0m\u001b[0mbackward\u001b[0m\u001b[1;33m(\u001b[0m\u001b[0mretain_graph\u001b[0m\u001b[1;33m=\u001b[0m\u001b[1;32mTrue\u001b[0m\u001b[1;33m)\u001b[0m\u001b[1;33m\u001b[0m\u001b[1;33m\u001b[0m\u001b[0m\n\u001b[0m\u001b[0;32m     81\u001b[0m                     \u001b[0mhistory\u001b[0m\u001b[1;33m.\u001b[0m\u001b[0madd_step\u001b[0m\u001b[1;33m(\u001b[0m\u001b[1;33m{\u001b[0m\u001b[0mname\u001b[0m\u001b[1;33m:\u001b[0m \u001b[0ml\u001b[0m\u001b[1;33m.\u001b[0m\u001b[0mitem\u001b[0m\u001b[1;33m(\u001b[0m\u001b[1;33m)\u001b[0m\u001b[1;33m}\u001b[0m\u001b[1;33m)\u001b[0m\u001b[1;33m\u001b[0m\u001b[1;33m\u001b[0m\u001b[0m\n\u001b[0;32m     82\u001b[0m                 \u001b[0mself\u001b[0m\u001b[1;33m.\u001b[0m\u001b[0moptimizer\u001b[0m\u001b[1;33m.\u001b[0m\u001b[0mstep\u001b[0m\u001b[1;33m(\u001b[0m\u001b[1;33m)\u001b[0m\u001b[1;33m\u001b[0m\u001b[1;33m\u001b[0m\u001b[0m\n",
      "\u001b[1;32m~\\miniconda3\\lib\\site-packages\\torch\\tensor.py\u001b[0m in \u001b[0;36mbackward\u001b[1;34m(self, gradient, retain_graph, create_graph)\u001b[0m\n\u001b[0;32m    196\u001b[0m                 \u001b[0mproducts\u001b[0m\u001b[1;33m.\u001b[0m \u001b[0mDefaults\u001b[0m \u001b[0mto\u001b[0m\u001b[0;31m \u001b[0m\u001b[0;31m`\u001b[0m\u001b[0;31m`\u001b[0m\u001b[1;32mFalse\u001b[0m\u001b[0;31m`\u001b[0m\u001b[0;31m`\u001b[0m\u001b[1;33m.\u001b[0m\u001b[1;33m\u001b[0m\u001b[1;33m\u001b[0m\u001b[0m\n\u001b[0;32m    197\u001b[0m         \"\"\"\n\u001b[1;32m--> 198\u001b[1;33m         \u001b[0mtorch\u001b[0m\u001b[1;33m.\u001b[0m\u001b[0mautograd\u001b[0m\u001b[1;33m.\u001b[0m\u001b[0mbackward\u001b[0m\u001b[1;33m(\u001b[0m\u001b[0mself\u001b[0m\u001b[1;33m,\u001b[0m \u001b[0mgradient\u001b[0m\u001b[1;33m,\u001b[0m \u001b[0mretain_graph\u001b[0m\u001b[1;33m,\u001b[0m \u001b[0mcreate_graph\u001b[0m\u001b[1;33m)\u001b[0m\u001b[1;33m\u001b[0m\u001b[1;33m\u001b[0m\u001b[0m\n\u001b[0m\u001b[0;32m    199\u001b[0m \u001b[1;33m\u001b[0m\u001b[0m\n\u001b[0;32m    200\u001b[0m     \u001b[1;32mdef\u001b[0m \u001b[0mregister_hook\u001b[0m\u001b[1;33m(\u001b[0m\u001b[0mself\u001b[0m\u001b[1;33m,\u001b[0m \u001b[0mhook\u001b[0m\u001b[1;33m)\u001b[0m\u001b[1;33m:\u001b[0m\u001b[1;33m\u001b[0m\u001b[1;33m\u001b[0m\u001b[0m\n",
      "\u001b[1;32m~\\miniconda3\\lib\\site-packages\\torch\\autograd\\__init__.py\u001b[0m in \u001b[0;36mbackward\u001b[1;34m(tensors, grad_tensors, retain_graph, create_graph, grad_variables)\u001b[0m\n\u001b[0;32m     98\u001b[0m     Variable._execution_engine.run_backward(\n\u001b[0;32m     99\u001b[0m         \u001b[0mtensors\u001b[0m\u001b[1;33m,\u001b[0m \u001b[0mgrad_tensors\u001b[0m\u001b[1;33m,\u001b[0m \u001b[0mretain_graph\u001b[0m\u001b[1;33m,\u001b[0m \u001b[0mcreate_graph\u001b[0m\u001b[1;33m,\u001b[0m\u001b[1;33m\u001b[0m\u001b[1;33m\u001b[0m\u001b[0m\n\u001b[1;32m--> 100\u001b[1;33m         allow_unreachable=True)  # allow_unreachable flag\n\u001b[0m\u001b[0;32m    101\u001b[0m \u001b[1;33m\u001b[0m\u001b[0m\n\u001b[0;32m    102\u001b[0m \u001b[1;33m\u001b[0m\u001b[0m\n",
      "\u001b[1;31mKeyboardInterrupt\u001b[0m: "
     ]
    }
   ],
   "source": [
    "from nangs import MLP\n",
    "\n",
    "BATCH_SIZE = 2048\n",
    "LR = 5e-3\n",
    "EPOCHS = 50\n",
    "NUM_LAYERS = 3\n",
    "NUM_HIDDEN = 256\n",
    "\n",
    "mlp = MLP(len(pde.inputs), len(pde.outputs), NUM_LAYERS, NUM_HIDDEN).to(device)\n",
    "optimizer = torch.optim.Adam(mlp.parameters())\n",
    "scheduler = torch.optim.lr_scheduler.OneCycleLR(optimizer, max_lr=LR, pct_start=0.1, total_steps=EPOCHS)\n",
    "\n",
    "pde.compile(mlp, optimizer, scheduler)\n",
    "hist = pde.solve(EPOCHS, BATCH_SIZE)"
   ]
  },
  {
   "cell_type": "code",
   "execution_count": null,
   "metadata": {
    "ExecuteTime": {
     "end_time": "2020-06-21T16:13:45.602339Z",
     "start_time": "2020-06-21T16:12:31.139Z"
    }
   },
   "outputs": [],
   "source": [
    "fig, (ax1, ax2) = plt.subplots(1, 2, figsize=(15,5))\n",
    "for name, vale in hist.items():\n",
    "    if name is not 'lr':\n",
    "        ax1.plot(hist[name], label=name)\n",
    "ax1.grid(True)\n",
    "ax1.legend()\n",
    "ax1.set_yscale(\"log\")\n",
    "ax2.plot(hist['lr'], label='lr')\n",
    "ax2.grid(True)\n",
    "ax2.legend()\n",
    "plt.show()"
   ]
  },
  {
   "cell_type": "code",
   "execution_count": null,
   "metadata": {
    "ExecuteTime": {
     "end_time": "2020-06-21T16:13:45.603339Z",
     "start_time": "2020-06-21T16:12:31.140Z"
    }
   },
   "outputs": [],
   "source": [
    "# evaluate the solution\n",
    "\n",
    "x = np.linspace(0,1,50)\n",
    "y = np.linspace(0,1,50)\n",
    "t = np.linspace(0,10,50)\n",
    "\n",
    "eval_mesh = Mesh({'x': x, 'y': y, 't': t}, device=device)\n",
    "outputs = pde.eval(eval_mesh).cpu()\n",
    "\n",
    "u = outputs[:, 0].view(len(x),len(y),len(t)).numpy()\n",
    "v = outputs[:, 1].view(len(x),len(y),len(t)).numpy()\n",
    "p = outputs[:, 2].view(len(x),len(y),len(t)).numpy()"
   ]
  },
  {
   "cell_type": "code",
   "execution_count": null,
   "metadata": {
    "ExecuteTime": {
     "end_time": "2020-06-21T16:13:45.604338Z",
     "start_time": "2020-06-21T16:12:31.141Z"
    },
    "code_folding": [
     3
    ]
   },
   "outputs": [],
   "source": [
    "from matplotlib import animation, rc\n",
    "rc('animation', html='html5')\n",
    "\n",
    "def update_plot(i, t, u, v, p):\n",
    "    _u = u[..., i].reshape(len(y), len(x))\n",
    "    _v = v[..., i].reshape(len(y), len(x))\n",
    "    _p = p[..., i].reshape(len(y), len(x))\n",
    "    vel = np.sqrt(_u**2 + _v**2)\n",
    "    ax1.clear()\n",
    "    ax2.clear()\n",
    "    ax3.clear()\n",
    "    ax1.imshow(vel, vmin=0, vmax=1, origin='lower', extent=[x.min(), x.max(), y.min(), y.max()])\n",
    "    ax1.set_xlabel(\"x\", fontsize=14)\n",
    "    ax1.set_ylabel(\"y\", fontsize=14, rotation=np.pi/2)\n",
    "    ax1.set_title(f\"t = {t[i]:.2f}\", fontsize=14)\n",
    "    ax1.axis(False)\n",
    "    ax2.imshow(u, vmin=0, vmax=1, origin='lower', extent=[x.min(), x.max(), y.min(), y.max()])\n",
    "    ax3.imshow(v, vmin=0, vmax=1, origin='lower', extent=[x.min(), x.max(), y.min(), y.max()])\n",
    "    ax2.axis(False)\n",
    "    ax3.axis(False)\n",
    "    ax4.imshow(p, vmin=p.min(), vmax=p.max(), origin='lower', extent=[x.min(), x.max(), y.min(), y.max()])\n",
    "    ax4.axis(False)\n",
    "    return ax1, ax2, ax3, ax4\n",
    "\n",
    "fig, (ax1, ax2, ax3, ax4) = plt.subplots(1, 4, figsize=(10,5))\n",
    "anim = animation.FuncAnimation(fig, update_plot, frames=len(t), fargs=(t, u, v, p), interval=100)\n",
    "plt.close()"
   ]
  },
  {
   "cell_type": "code",
   "execution_count": null,
   "metadata": {
    "ExecuteTime": {
     "end_time": "2020-06-21T16:13:45.605339Z",
     "start_time": "2020-06-21T16:12:31.143Z"
    }
   },
   "outputs": [],
   "source": [
    "anim"
   ]
  },
  {
   "cell_type": "code",
   "execution_count": null,
   "metadata": {},
   "outputs": [],
   "source": []
  },
  {
   "cell_type": "code",
   "execution_count": null,
   "metadata": {},
   "outputs": [],
   "source": []
  }
 ],
 "metadata": {
  "kernelspec": {
   "display_name": "Python 3",
   "language": "python",
   "name": "python3"
  },
  "language_info": {
   "codemirror_mode": {
    "name": "ipython",
    "version": 3
   },
   "file_extension": ".py",
   "mimetype": "text/x-python",
   "name": "python",
   "nbconvert_exporter": "python",
   "pygments_lexer": "ipython3",
   "version": "3.7.6"
  },
  "toc": {
   "base_numbering": 1,
   "nav_menu": {},
   "number_sections": true,
   "sideBar": true,
   "skip_h1_title": false,
   "title_cell": "Table of Contents",
   "title_sidebar": "Contents",
   "toc_cell": false,
   "toc_position": {},
   "toc_section_display": true,
   "toc_window_display": false
  }
 },
 "nbformat": 4,
 "nbformat_minor": 4
}
