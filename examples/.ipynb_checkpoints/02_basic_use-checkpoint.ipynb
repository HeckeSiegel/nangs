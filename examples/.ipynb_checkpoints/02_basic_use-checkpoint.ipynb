{
 "cells": [
  {
   "cell_type": "code",
   "execution_count": 1,
   "metadata": {
    "ExecuteTime": {
     "end_time": "2020-06-20T19:36:46.786977Z",
     "start_time": "2020-06-20T19:36:46.439892Z"
    }
   },
   "outputs": [
    {
     "name": "stderr",
     "output_type": "stream",
     "text": [
      "\n",
      "Bad key \"text.kerning_factor\" on line 4 in\n",
      "C:\\Users\\sensio\\miniconda3\\lib\\site-packages\\matplotlib\\mpl-data\\stylelib\\_classic_test_patch.mplstyle.\n",
      "You probably need to get an updated matplotlibrc file from\n",
      "https://github.com/matplotlib/matplotlib/blob/v3.1.3/matplotlibrc.template\n",
      "or from the matplotlib source distribution\n"
     ]
    }
   ],
   "source": [
    "# autoreload nangs\n",
    "%reload_ext autoreload\n",
    "%autoreload 2\n",
    "%matplotlib inline"
   ]
  },
  {
   "cell_type": "markdown",
   "metadata": {},
   "source": [
    "# Basic use"
   ]
  },
  {
   "cell_type": "markdown",
   "metadata": {},
   "source": [
    "We want to solve the following PDE:\n",
    "\n",
    "\\begin{equation}\n",
    "    \\frac{\\partial \\phi}{\\partial t} + u \\frac{\\partial \\phi}{\\partial x} = 0\n",
    "\\end{equation}\n",
    "\n",
    "The independent variables (i.e, $x$ and $t$) are used as input values for the NN, and the solution (i.e. $\\phi$) is the output. In order to find the solution, at each step the NN outputs are derived w.r.t the inputs. Then, a loss function that matches the PDE is built and the weights are updated accordingly. If the loss function goes to zero, we can assume that our NN is indeed the solution to our PDE. We will try to find a general solution for different values of $u$, so it will be set also as an input."
   ]
  },
  {
   "cell_type": "code",
   "execution_count": 2,
   "metadata": {
    "ExecuteTime": {
     "end_time": "2020-06-20T19:36:47.213069Z",
     "start_time": "2020-06-20T19:36:46.787978Z"
    }
   },
   "outputs": [
    {
     "data": {
      "text/plain": [
       "('0.1.0', '1.5.0')"
      ]
     },
     "execution_count": 2,
     "metadata": {},
     "output_type": "execute_result"
    }
   ],
   "source": [
    "# imports\n",
    "import numpy as np \n",
    "import matplotlib.pyplot as plt \n",
    "import nangs\n",
    "import torch\n",
    "\n",
    "device = \"cuda\" if torch.cuda.is_available() else \"cpu\"\n",
    "\n",
    "nangs.__version__, torch.__version__"
   ]
  },
  {
   "cell_type": "markdown",
   "metadata": {},
   "source": [
    "## Define your data"
   ]
  },
  {
   "cell_type": "markdown",
   "metadata": {},
   "source": [
    "To solve the PDE we first need a set of points to evaluate it, we will use this points as the dataset for training de NN."
   ]
  },
  {
   "cell_type": "code",
   "execution_count": 3,
   "metadata": {
    "ExecuteTime": {
     "end_time": "2020-06-20T19:36:47.260226Z",
     "start_time": "2020-06-20T19:36:47.214069Z"
    }
   },
   "outputs": [],
   "source": [
    "# define the mesh\n",
    "x = np.linspace(0,1,20)\n",
    "t = np.linspace(0,1,30)\n",
    "u = np.linspace(-1,1,10)"
   ]
  },
  {
   "cell_type": "markdown",
   "metadata": {},
   "source": [
    "The class `Mesh` will combine all the posible values on the previous arrays to build a mesh. You must pass the data as a dict, providing one (unique) name for each variable."
   ]
  },
  {
   "cell_type": "code",
   "execution_count": 4,
   "metadata": {
    "ExecuteTime": {
     "end_time": "2020-06-20T19:36:47.307273Z",
     "start_time": "2020-06-20T19:36:47.261223Z"
    }
   },
   "outputs": [
    {
     "data": {
      "text/plain": [
       "['x', 't', 'u']"
      ]
     },
     "execution_count": 4,
     "metadata": {},
     "output_type": "execute_result"
    }
   ],
   "source": [
    "from nangs import Mesh\n",
    "\n",
    "mesh = Mesh({'x': x, 't': t, 'u': u})\n",
    "mesh.vars"
   ]
  },
  {
   "cell_type": "markdown",
   "metadata": {},
   "source": [
    "In order to train a NN we need a `Dataset`. A `Mesh` has in fact a `Dataset` that you can iterate over."
   ]
  },
  {
   "cell_type": "code",
   "execution_count": 5,
   "metadata": {
    "ExecuteTime": {
     "end_time": "2020-06-20T19:36:47.353280Z",
     "start_time": "2020-06-20T19:36:47.308255Z"
    }
   },
   "outputs": [
    {
     "data": {
      "text/plain": [
       "6000"
      ]
     },
     "execution_count": 5,
     "metadata": {},
     "output_type": "execute_result"
    }
   ],
   "source": [
    "len(mesh.dataset)"
   ]
  },
  {
   "cell_type": "code",
   "execution_count": 6,
   "metadata": {
    "ExecuteTime": {
     "end_time": "2020-06-20T19:36:47.398799Z",
     "start_time": "2020-06-20T19:36:47.355283Z"
    }
   },
   "outputs": [
    {
     "data": {
      "text/plain": [
       "tensor([[ 0.0000,  0.0000, -1.0000],\n",
       "        [ 0.0000,  0.0000, -0.7778],\n",
       "        [ 0.0000,  0.0000, -0.5556]])"
      ]
     },
     "execution_count": 6,
     "metadata": {},
     "output_type": "execute_result"
    }
   ],
   "source": [
    "mesh.dataset[:3]"
   ]
  },
  {
   "cell_type": "markdown",
   "metadata": {},
   "source": [
    "You can also specify the device to cache the data"
   ]
  },
  {
   "cell_type": "code",
   "execution_count": 7,
   "metadata": {
    "ExecuteTime": {
     "end_time": "2020-06-20T19:36:48.438804Z",
     "start_time": "2020-06-20T19:36:47.399800Z"
    }
   },
   "outputs": [
    {
     "data": {
      "text/plain": [
       "tensor([[ 0.0000,  0.0000, -1.0000],\n",
       "        [ 0.0000,  0.0000, -0.7778],\n",
       "        [ 0.0000,  0.0000, -0.5556]], device='cuda:0')"
      ]
     },
     "execution_count": 7,
     "metadata": {},
     "output_type": "execute_result"
    }
   ],
   "source": [
    "mesh = Mesh({'x': x, 't': t, 'u': u}, device=device)\n",
    "mesh.dataset[:3]"
   ]
  },
  {
   "cell_type": "markdown",
   "metadata": {},
   "source": [
    "## Define your solution topology"
   ]
  },
  {
   "cell_type": "markdown",
   "metadata": {},
   "source": [
    "To facilitate the definition of a NN to approximate the PDE solution, we provide the class `MLP`, that will build a Multilayer Perceptron."
   ]
  },
  {
   "cell_type": "code",
   "execution_count": 8,
   "metadata": {
    "ExecuteTime": {
     "end_time": "2020-06-20T19:36:48.485827Z",
     "start_time": "2020-06-20T19:36:48.439805Z"
    }
   },
   "outputs": [
    {
     "data": {
      "text/plain": [
       "MLP(\n",
       "  (mlp): Sequential(\n",
       "    (0): Linear(in_features=3, out_features=100, bias=True)\n",
       "    (1): Sequential(\n",
       "      (0): Sine()\n",
       "      (1): Linear(in_features=100, out_features=100, bias=True)\n",
       "    )\n",
       "    (2): Sequential(\n",
       "      (0): Sine()\n",
       "      (1): Linear(in_features=100, out_features=100, bias=True)\n",
       "    )\n",
       "    (3): Sequential(\n",
       "      (0): Sine()\n",
       "      (1): Linear(in_features=100, out_features=1, bias=True)\n",
       "    )\n",
       "  )\n",
       ")"
      ]
     },
     "execution_count": 8,
     "metadata": {},
     "output_type": "execute_result"
    }
   ],
   "source": [
    "from nangs import MLP\n",
    "\n",
    "n_inputs = len(mesh.vars)\n",
    "n_outputs = 1\n",
    "n_layers = 3\n",
    "h_dim = 100\n",
    "\n",
    "mlp = MLP(n_inputs, n_outputs, n_layers, h_dim)\n",
    "mlp"
   ]
  },
  {
   "cell_type": "markdown",
   "metadata": {},
   "source": [
    "This class will build an MLP with the specified number of inputs, outputs, layers and neurons in the hidden layers and the same activiation function. You can always build your own custom NN."
   ]
  },
  {
   "cell_type": "markdown",
   "metadata": {},
   "source": [
    "## Boundary Conditions"
   ]
  },
  {
   "cell_type": "markdown",
   "metadata": {},
   "source": [
    "We can attempt to solve our PDE at this points, but we would obtain a trivial solution. Instead, we need to specify a set of boundary conditions. Nangs provide different classes for common boundary conditions."
   ]
  },
  {
   "cell_type": "code",
   "execution_count": 9,
   "metadata": {
    "ExecuteTime": {
     "end_time": "2020-06-20T19:36:48.532834Z",
     "start_time": "2020-06-20T19:36:48.486828Z"
    }
   },
   "outputs": [
    {
     "data": {
      "text/plain": [
       "(1, 20, 10)"
      ]
     },
     "execution_count": 9,
     "metadata": {},
     "output_type": "execute_result"
    }
   ],
   "source": [
    "# initial condition (t = 0)\n",
    "\n",
    "t0 = np.array([0])\n",
    "_x, _t, _u = np.meshgrid(x, t0, u)\n",
    "p0 = np.sin(2*np.pi*(_x- _u*_t))\n",
    "p0.shape"
   ]
  },
  {
   "cell_type": "code",
   "execution_count": 10,
   "metadata": {
    "ExecuteTime": {
     "end_time": "2020-06-20T19:36:48.814808Z",
     "start_time": "2020-06-20T19:36:48.533835Z"
    }
   },
   "outputs": [
    {
     "data": {
      "image/png": "[encoded data removed]",
      "text/plain": [
       "<Figure size 432x288 with 1 Axes>"
      ]
     },
     "metadata": {
      "needs_background": "light"
     },
     "output_type": "display_data"
    }
   ],
   "source": [
    "plt.plot(x, p0[0,:,0])\n",
    "plt.grid(True)\n",
    "plt.xlabel('x')\n",
    "plt.ylabel('$p_0$')\n",
    "plt.show()"
   ]
  },
  {
   "cell_type": "markdown",
   "metadata": {},
   "source": [
    "A boundary condition has its own `Mesh` and logic to compute values and gradients. In a `Dirichlet` boundary conditions we are fixing some values, so we need the inputs and also the target outputs (in this case, our initial condition). If you are including some free-parameters as NN inputs, make sure you specify an initial condition for each one of them (here we use the same for every value of $u$)."
   ]
  },
  {
   "cell_type": "code",
   "execution_count": 11,
   "metadata": {
    "ExecuteTime": {
     "end_time": "2020-06-20T19:36:48.861798Z",
     "start_time": "2020-06-20T19:36:48.815810Z"
    }
   },
   "outputs": [
    {
     "data": {
      "text/plain": [
       "[['x', 't', 'u'], ['p']]"
      ]
     },
     "execution_count": 11,
     "metadata": {},
     "output_type": "execute_result"
    }
   ],
   "source": [
    "from nangs import Dirichlet\n",
    "\n",
    "initial_condition = Dirichlet({'x': x, 't': t0, 'u': u}, {'p': p0.reshape(-1)}, device=device)\n",
    "initial_condition.vars"
   ]
  },
  {
   "cell_type": "code",
   "execution_count": 12,
   "metadata": {
    "ExecuteTime": {
     "end_time": "2020-06-20T19:36:48.906796Z",
     "start_time": "2020-06-20T19:36:48.862799Z"
    }
   },
   "outputs": [
    {
     "data": {
      "text/plain": [
       "(tensor([[ 0.0000,  0.0000, -1.0000],\n",
       "         [ 0.0000,  0.0000, -0.7778],\n",
       "         [ 0.0000,  0.0000, -0.5556],\n",
       "         [ 0.0000,  0.0000, -0.3333],\n",
       "         [ 0.0000,  0.0000, -0.1111]], device='cuda:0'),\n",
       " tensor([[0.],\n",
       "         [0.],\n",
       "         [0.],\n",
       "         [0.],\n",
       "         [0.]], device='cuda:0'))"
      ]
     },
     "execution_count": 12,
     "metadata": {},
     "output_type": "execute_result"
    }
   ],
   "source": [
    "initial_condition.dataset[:5]"
   ]
  },
  {
   "cell_type": "markdown",
   "metadata": {},
   "source": [
    "We use a periodic boundary condition at $x=0$ and $x=1$. During training we will enforce this values to match."
   ]
  },
  {
   "cell_type": "code",
   "execution_count": 13,
   "metadata": {
    "ExecuteTime": {
     "end_time": "2020-06-20T19:36:48.954801Z",
     "start_time": "2020-06-20T19:36:48.907796Z"
    }
   },
   "outputs": [
    {
     "data": {
      "text/plain": [
       "(30, 2)"
      ]
     },
     "execution_count": 13,
     "metadata": {},
     "output_type": "execute_result"
    }
   ],
   "source": [
    "# boundary conditions (peridic conditions at x = 0 and x = 1)\n",
    "\n",
    "xb0 = np.array([0])\n",
    "mb0 = np.meshgrid(xb0, t)\n",
    "mb0 = np.stack(mb0, -1).reshape(-1, 2)\n",
    "mb0.shape"
   ]
  },
  {
   "cell_type": "code",
   "execution_count": 14,
   "metadata": {
    "ExecuteTime": {
     "end_time": "2020-06-20T19:36:49.000446Z",
     "start_time": "2020-06-20T19:36:48.955798Z"
    }
   },
   "outputs": [
    {
     "data": {
      "text/plain": [
       "[['x', 't', 'u'], ['x', 't', 'u']]"
      ]
     },
     "execution_count": 14,
     "metadata": {},
     "output_type": "execute_result"
    }
   ],
   "source": [
    "from nangs import Periodic\n",
    "\n",
    "x1 = np.array([0.])\n",
    "x2 = np.array([1.])\n",
    "periodic = Periodic({'x': x1, 't': t, 'u': u}, {'x': x2, 't': t, 'u': u}, device=device)\n",
    "periodic.vars"
   ]
  },
  {
   "cell_type": "code",
   "execution_count": 15,
   "metadata": {
    "ExecuteTime": {
     "end_time": "2020-06-20T19:36:49.046797Z",
     "start_time": "2020-06-20T19:36:49.002443Z"
    }
   },
   "outputs": [
    {
     "data": {
      "text/plain": [
       "(tensor([[ 0.0000,  0.0000, -1.0000],\n",
       "         [ 0.0000,  0.0000, -0.7778],\n",
       "         [ 0.0000,  0.0000, -0.5556],\n",
       "         [ 0.0000,  0.0000, -0.3333],\n",
       "         [ 0.0000,  0.0000, -0.1111]], device='cuda:0'),\n",
       " tensor([[ 1.0000,  0.0000, -1.0000],\n",
       "         [ 1.0000,  0.0000, -0.7778],\n",
       "         [ 1.0000,  0.0000, -0.5556],\n",
       "         [ 1.0000,  0.0000, -0.3333],\n",
       "         [ 1.0000,  0.0000, -0.1111]], device='cuda:0'))"
      ]
     },
     "execution_count": 15,
     "metadata": {},
     "output_type": "execute_result"
    }
   ],
   "source": [
    "periodic.dataset[:5]"
   ]
  },
  {
   "cell_type": "markdown",
   "metadata": {},
   "source": [
    "## Solve the PDE"
   ]
  },
  {
   "cell_type": "markdown",
   "metadata": {},
   "source": [
    "We provide the class `Solver` with the default functionality to solve the PDE. You must initialize this class with your NN, an optimizer and a criterion to compute the loss function (you can also pass a scheduler as an optional argument). Then, you can solve your PDE by calling the `solve` method on the `Solver`. You must pass the `dataloaders` as a `dict` with a `mesh` key with your mesh and a `bocos` key containing another `dict` with all your bocos. You can also set the number of epochs as an additional (optional) parameter."
   ]
  },
  {
   "cell_type": "code",
   "execution_count": 16,
   "metadata": {
    "ExecuteTime": {
     "end_time": "2020-06-20T19:36:49.093841Z",
     "start_time": "2020-06-20T19:36:49.047799Z"
    }
   },
   "outputs": [],
   "source": [
    "from nangs import Solver\n",
    "\n",
    "class MySolver(Solver):\n",
    "    def computePDELoss(self, inputs, outputs):\n",
    "        # compute gradients\n",
    "        grads, = torch.autograd.grad(outputs, inputs,\n",
    "                        grad_outputs=outputs.data.new(outputs.shape).fill_(1),\n",
    "                        create_graph=True, only_inputs=True)\n",
    "        # compute loss\n",
    "        dpdx, dpdt = grads[:, 0], grads[:, 1]\n",
    "        u = inputs[:, 2]\n",
    "        pde = dpdt + u*dpdx\n",
    "        return pde.pow(2).mean()"
   ]
  },
  {
   "cell_type": "code",
   "execution_count": 17,
   "metadata": {
    "ExecuteTime": {
     "end_time": "2020-06-20T19:37:15.552348Z",
     "start_time": "2020-06-20T19:36:49.094845Z"
    }
   },
   "outputs": [
    {
     "data": {
      "text/html": [
       "Epoch 1/40  | lr 0.0004 | dirichlet 0.45567 | periodic 0.00531 | loss 0.00229<p>Epoch 2/40  | lr 0.0028 | dirichlet 0.43688 | periodic 0.00686 | loss 0.00533<p>Epoch 3/40  | lr 0.0076 | dirichlet 0.46236 | periodic 0.01275 | loss 0.00636<p>Epoch 4/40  | lr 0.01 | dirichlet 0.40946 | periodic 0.01005 | loss 0.0107<p>Epoch 5/40  | lr 0.00998 | dirichlet 0.3539 | periodic 0.01129 | loss 0.03407<p>Epoch 6/40  | lr 0.00992 | dirichlet 0.26466 | periodic 0.00789 | loss 0.07369<p>Epoch 7/40  | lr 0.00983 | dirichlet 0.19218 | periodic 0.00781 | loss 0.08597<p>Epoch 8/40  | lr 0.0097 | dirichlet 0.06757 | periodic 0.0139 | loss 0.05518<p>Epoch 9/40  | lr 0.00953 | dirichlet 0.00914 | periodic 0.00615 | loss 0.01578<p>Epoch 10/40  | lr 0.00933 | dirichlet 0.0037 | periodic 0.00321 | loss 0.00946<p>Epoch 11/40  | lr 0.0091 | dirichlet 0.00171 | periodic 0.00138 | loss 0.00655<p>Epoch 12/40  | lr 0.00883 | dirichlet 0.00135 | periodic 0.00107 | loss 0.00486<p>Epoch 13/40  | lr 0.00854 | dirichlet 0.00095 | periodic 0.00055 | loss 0.00375<p>Epoch 14/40  | lr 0.00821 | dirichlet 0.00098 | periodic 0.00056 | loss 0.003<p>Epoch 15/40  | lr 0.00787 | dirichlet 0.00068 | periodic 0.00038 | loss 0.00234<p>Epoch 16/40  | lr 0.0075 | dirichlet 0.00048 | periodic 0.00025 | loss 0.00194<p>Epoch 17/40  | lr 0.00711 | dirichlet 0.00045 | periodic 0.00026 | loss 0.00182<p>Epoch 18/40  | lr 0.00671 | dirichlet 0.0004 | periodic 0.00021 | loss 0.00172<p>Epoch 19/40  | lr 0.00629 | dirichlet 0.0004 | periodic 0.0002 | loss 0.00152<p>Epoch 20/40  | lr 0.00587 | dirichlet 0.0003 | periodic 0.00017 | loss 0.00128<p>Epoch 21/40  | lr 0.00544 | dirichlet 0.00024 | periodic 0.00013 | loss 0.00118<p>Epoch 22/40  | lr 0.005 | dirichlet 0.00025 | periodic 0.00013 | loss 0.00113<p>Epoch 23/40  | lr 0.00456 | dirichlet 0.00023 | periodic 0.00011 | loss 0.00099<p>Epoch 24/40  | lr 0.00413 | dirichlet 0.00017 | periodic 9e-05 | loss 0.00087<p>Epoch 25/40  | lr 0.00371 | dirichlet 0.00017 | periodic 9e-05 | loss 0.00083<p>Epoch 26/40  | lr 0.00329 | dirichlet 0.00016 | periodic 8e-05 | loss 0.00076<p>Epoch 27/40  | lr 0.00289 | dirichlet 0.00015 | periodic 7e-05 | loss 0.00075<p>Epoch 28/40  | lr 0.0025 | dirichlet 0.00015 | periodic 8e-05 | loss 0.00071<p>Epoch 29/40  | lr 0.00213 | dirichlet 0.00013 | periodic 7e-05 | loss 0.00068<p>Epoch 30/40  | lr 0.00179 | dirichlet 0.00012 | periodic 6e-05 | loss 0.00067<p>Epoch 31/40  | lr 0.00146 | dirichlet 0.00012 | periodic 6e-05 | loss 0.00063<p>Epoch 32/40  | lr 0.00117 | dirichlet 0.00012 | periodic 6e-05 | loss 0.00062<p>Epoch 33/40  | lr 0.0009 | dirichlet 0.00011 | periodic 5e-05 | loss 0.00059<p>Epoch 34/40  | lr 0.00067 | dirichlet 0.00011 | periodic 5e-05 | loss 0.00058<p>Epoch 35/40  | lr 0.00047 | dirichlet 0.00011 | periodic 5e-05 | loss 0.00057<p>Epoch 36/40  | lr 0.0003 | dirichlet 0.0001 | periodic 5e-05 | loss 0.00056<p>Epoch 37/40  | lr 0.00017 | dirichlet 0.0001 | periodic 5e-05 | loss 0.00056<p>Epoch 38/40  | lr 8e-05 | dirichlet 0.0001 | periodic 5e-05 | loss 0.00055<p>Epoch 39/40  | lr 2e-05 | dirichlet 0.0001 | periodic 5e-05 | loss 0.00055<p>Epoch 40/40  | lr 0.0 | dirichlet 0.0001 | periodic 5e-05 | loss 0.00055"
      ],
      "text/plain": [
       "<IPython.core.display.HTML object>"
      ]
     },
     "metadata": {},
     "output_type": "display_data"
    }
   ],
   "source": [
    "BATCH_SIZE = 256\n",
    "LR = 1e-2\n",
    "EPOCHS = 40\n",
    "NUM_LAYERS = 3\n",
    "NUM_HIDDEN = 128\n",
    "\n",
    "mlp = MLP(len(mesh.vars), 1, NUM_LAYERS, NUM_HIDDEN).to(device)\n",
    "optimizer = torch.optim.Adam(mlp.parameters())\n",
    "criterion = torch.nn.MSELoss()\n",
    "scheduler = torch.optim.lr_scheduler.OneCycleLR(optimizer, max_lr=LR, pct_start=0.1, total_steps=EPOCHS)\n",
    "\n",
    "solver = MySolver()\n",
    "solver.compile(mlp, optimizer, criterion, scheduler)\n",
    "hist = solver.solve(mesh, bocos=[initial_condition, periodic], epochs=EPOCHS, batch_size=BATCH_SIZE)"
   ]
  },
  {
   "cell_type": "code",
   "execution_count": 18,
   "metadata": {
    "ExecuteTime": {
     "end_time": "2020-06-20T19:37:15.995704Z",
     "start_time": "2020-06-20T19:37:15.554349Z"
    }
   },
   "outputs": [
    {
     "data": {
      "image/png": "[encoded data removed]",
      "text/plain": [
       "<Figure size 1080x360 with 2 Axes>"
      ]
     },
     "metadata": {
      "needs_background": "light"
     },
     "output_type": "display_data"
    }
   ],
   "source": [
    "fig, (ax1, ax2) = plt.subplots(1, 2, figsize=(15,5))\n",
    "for name, vale in hist.items():\n",
    "    if name is not 'lr':\n",
    "        ax1.plot(hist[name], label=name)\n",
    "ax1.grid(True)\n",
    "ax1.legend()\n",
    "ax1.set_yscale(\"log\")\n",
    "ax2.plot(hist['lr'], label='lr')\n",
    "ax2.grid(True)\n",
    "ax2.legend()\n",
    "plt.show()"
   ]
  },
  {
   "cell_type": "markdown",
   "metadata": {},
   "source": [
    "## Evaluate your solution"
   ]
  },
  {
   "cell_type": "code",
   "execution_count": 19,
   "metadata": {
    "ExecuteTime": {
     "end_time": "2020-06-20T19:37:16.182710Z",
     "start_time": "2020-06-20T19:37:15.996704Z"
    },
    "code_folding": []
   },
   "outputs": [],
   "source": [
    "from matplotlib import animation, rc\n",
    "rc('animation', html='html5')\n",
    "\n",
    "def update_plot(i, x, u, t, p):\n",
    "    ax.clear()\n",
    "    pe = np.sin(2.*np.pi*(x-u*t[i]))\n",
    "    ax.plot(x, pe, label=f\"exact (u = {U})\")\n",
    "    ax.plot(x, p[i], '.k', label=\"solution\")\n",
    "    ax.set_xlabel(\"x\", fontsize=14)\n",
    "    ax.set_ylabel(\"p\", fontsize=14, rotation=np.pi/2)\n",
    "    ax.legend(loc=\"upper right\")\n",
    "    ax.grid(True)\n",
    "    ax.set_xlim([0, 1])\n",
    "    ax.set_ylim([-1.2, 1.2])\n",
    "    l2 = np.sqrt(np.sum((p[i]-pe)**2))\n",
    "    ax.set_title(f\"t = {t[i]:.3f} (L2 = {l2:.5f})\")\n",
    "    return ax"
   ]
  },
  {
   "cell_type": "code",
   "execution_count": 20,
   "metadata": {
    "ExecuteTime": {
     "end_time": "2020-06-20T19:37:16.245495Z",
     "start_time": "2020-06-20T19:37:16.183711Z"
    }
   },
   "outputs": [],
   "source": [
    "#t = np.linspace(0,1,10)\n",
    "U = -0.5\n",
    "\n",
    "x = np.linspace(0,1,30)\n",
    "t = np.linspace(0,1,20)\n",
    "u = np.array([U])\n",
    "eval_mesh = Mesh({'x': x, 't': t, 'u': u}, device=device)\n",
    "\n",
    "p = solver.eval(eval_mesh)\n",
    "p = p.cpu().numpy().reshape(len(t), -1)\n",
    "\n",
    "fig = plt.figure()\n",
    "ax = plt.subplot(111)\n",
    "anim = animation.FuncAnimation(fig, update_plot, frames=len(t), fargs=(x, U, t, p), interval=300)\n",
    "plt.close()"
   ]
  },
  {
   "cell_type": "code",
   "execution_count": 21,
   "metadata": {
    "ExecuteTime": {
     "end_time": "2020-06-20T19:37:17.485599Z",
     "start_time": "2020-06-20T19:37:16.247054Z"
    }
   },
   "outputs": [
    {
     "data": {
      "text/html": [
       "<video width=\"432\" height=\"288\" controls autoplay loop>\n",
       "  <source type=\"video/mp4\" src=\"data:video/mp4;base64,AAAAIGZ0eXBNNFYgAAACAE00ViBpc29taXNvMmF2YzEAAAAIZnJlZQAAphxtZGF0AAACnwYF//+b\n",
       "3EXpvebZSLeWLNgg2SPu73gyNjQgLSBjb3JlIDE1OSAtIEguMjY0L01QRUctNCBBVkMgY29kZWMg\n",
       "LSBDb3B5bGVmdCAyMDAzLTIwMTkgLSBodHRwOi8vd3d3LnZpZGVvbGFuLm9yZy94MjY0Lmh0bWwg\n",
       "LSBvcHRpb25zOiBjYWJhYz0xIHJlZj0zIGRlYmxvY2s9MTowOjAgYW5hbHlzZT0weDM6MHgxMTMg\n",
       "bWU9aGV4IHN1Ym1lPTcgcHN5PTEgcHN5X3JkPTEuMDA6MC4wMCBtaXhlZF9yZWY9MSBtZV9yYW5n\n",
       "ZT0xNiBjaHJvbWFfbWU9MSB0cmVsbGlzPTEgOHg4ZGN0PTEgY3FtPTAgZGVhZHpvbmU9MjEsMTEg\n",
       "ZmFzdF9wc2tpcD0xIGNocm9tYV9xcF9vZmZzZXQ9LTIgdGhyZWFkcz05IGxvb2thaGVhZF90aHJl\n",
       "YWRzPTEgc2xpY2VkX3RocmVhZHM9MCBucj0wIGRlY2ltYXRlPTEgaW50ZXJsYWNlZD0wIGJsdXJh\n",
       "eV9jb21wYXQ9MCBjb25zdHJhaW5lZF9pbnRyYT0wIGJmcmFtZXM9MyBiX3B5cmFtaWQ9MiBiX2Fk\n",
       "YXB0PTEgYl9iaWFzPTAgZGlyZWN0PTEgd2VpZ2h0Yj0xIG9wZW5fZ29wPTAgd2VpZ2h0cD0yIGtl\n",
       "eWludD0yNTAga2V5aW50X21pbj0zIHNjZW5lY3V0PTQwIGludHJhX3JlZnJlc2g9MCByY19sb29r\n",
       "YWhlYWQ9NDAgcmM9Y3JmIG1idHJlZT0xIGNyZj0yMy4wIHFjb21wPTAuNjAgcXBtaW49MCBxcG1h\n",
       "eD02OSBxcHN0ZXA9NCBpcF9yYXRpbz0xLjQwIGFxPTE6MS4wMACAAAAdtGWIhAAT//73sY+BTcgA\n",
       "DZc6inof4RWx9JBRerHZoGTqAAADAACJgY4WQLW8MCCWJvQinEAl+8mFUYFKew8FIYMX96zNbIBA\n",
       "cq17CG/kxtJ0GHqpLXBYLTMV/jHoID+bkUJEm74eAqWBV/BvtQMK/PlscajOM1GijCO3I70NHh/N\n",
       "0Of++OE/SsLQr0GE+N2/0loi6ciwGUw8EwPuf+eYtG3fapzzUUUQ/Vp/2e4KxLMmo2GhWyLHy9tp\n",
       "aU+VWOtD+b+SnCZ7yjGUcCeZ2SkwcxKiTB2DxXHZq7bm5jJjiXGtO5PtpkYCxpzGYkh5vOSr4oDI\n",
       "k0ko3GwFQ72oYtLEGGvvdTQo7Hb+4VPf8VwelDgxVLgWrZnHS50tlUydD2wzhQdiGOR0KlfLyO2V\n",
       "3n2ykRArUYTVJQRFlkFLXU1jurkJidPJKB20HipiDwba+EpilXODoJ13xDSoyZOJmWNhI+qjMLdM\n",
       "s5iSTP1kYCoJ9V7aTpKLG9SUWmNDknXmtIgIUAhITsjC+sZhsZ3tPj4R9xe0oxu2tTeyrMPlQE4q\n",
       "t9+/7usgemKc1ui6xCgArym5z4Pozr7bGTY2PD6cAijFubxNdU9/Grp7WumXg3FlsMIuzLAQknqX\n",
       "7Fgd3kkIs5A75a450dHKE9xPEFmgzihJ1OKG4QHnLpQ4SAUA/6id2UgxG1Y/+KTSdC9yqm3I9iFy\n",
       "cfHB5t5PlNMMxWnFU0L2kUDU1AIdBecV3aAClZt0Hhtpvv5VuwviSVKzKxNJgHqLPWTUINA5kcQr\n",
       "Gb9SSZNyF7ThR/yBdBPczfxnKblEehNwq1qJ0cQ64otHQz3cLTYHtJMQDxjdwWA7wobDFGColMja\n",
       "QWAeX5TOEb4DXomWhueYPw4PEivo5oySA1tO6eDDK7B85HnQp/eh4arWn10lijyOCo3QqYhHb4ka\n",
       "DfdoaH50stnlW/IckAhrhux5mrb0h2JDBUuL+KXJ62vik9nM6F0bPdPRhaA7ilEUlOYXkWIuqyCI\n",
       "VImNHtbmVxBQuETdr7+618yeuOvAdQzlI+34Zrvq2gyzIrp+3D7W7pAAnGI8BetFv8CKnXamP0rh\n",
       "/E1CUlDGMYe7qf8GwPI9lF8Fg+YO9zu9qHRbcPKd5BnOvCI440iWiVmaOhihmwJCO5wVFjqPlxHH\n",
       "tw3EA5ds10Qyg4Bk7u3yP9dsrJPfbK1TuSLlW9ok7oT/VJ8mVWVMZgsGM1bs3l/CkMNi4REf7CS6\n",
       "5GDMm2KfvbHeYKBsd0L5o/4Q/EwM3uoCnvrKH8/LbpGmQxTtMbmTU9j8JAX8dHNP1BYERz9NWUcS\n",
       "LBUbVOsq4YS3EPImKB/G4abpp3oQRoFufGgDFHaaMoo4n484bloefYmyeapbLgPSL4Xg4dbutSID\n",
       "Y6UWztKCLL5PVuxDH7TlE2GRpdGcslidMsIyIg6P1PPVcYOQ74bderhqBhNo0sLK5cdbsx3GqEbk\n",
       "X7Q9wJotUMc2tjEQCztsPtngmazZs4fKOMD9GKfZLssrORVRQwbEjY0FGmOPyqN83smIEbnDa4uk\n",
       "Z7oeQoEX2ToKNg0ed3DL+Qv4cBDK158e9fZuxrhK/6rr2+fEAzNmfVBveEgcdNh00wbBO8DqLxqS\n",
       "mtDYZCo6KNsjP59+A1FLrpY16q1WCpMMLgGBqbTW0z++My1S8cQk4VjahpDpfJAZd0beFXqKsypD\n",
       "OcK0+b33d5VpvZmQDeenEFO27YR94Fe1hfvz5II0UvlwGSivetmXb2ReWeebQ56BMuQ5Nt2Qx9h9\n",
       "il/VtIRm9NAl08VSDVg59++TuCEB6q1+knSf/yj0XqCaYDeK0b5757CSH/KD8+lgsSkTha98UK8m\n",
       "d6cfqV+v/cn6cWSW66PsO5CCKvy8Wki4kpXP9AahR1rEzSBzllFX8xirdvjntZkFQDNEp0FO3R6r\n",
       "Uxg6dcGtU5PREOv2ff/JZcBbi6BOpYkQQxMJPTuOPmdbq5Bqj3NGdgN14eP+ZZ+gQAqwdlfwg3/9\n",
       "9y5TFX5E/5+TVDuArpPnaf8viwDNWiJwHNvmG8r31l0vR3P+7qav6rducKuPgRbLqxnY8YULkzjh\n",
       "HkqUPkln3hjS5S0FodUKOdv/N8Ujn6J/9SIo25z41ZyUo1uyyvcP5E8GWlWafnlUNvpX5p4Tw+m6\n",
       "PEGQiSB5H2hBirZPgPA/EJQq+u4VpVBAamKCRzA9PVkO+2Ge2V180K1OA9kTmP2wMrJPpa+kDC9x\n",
       "Ht27iiXBkg915ySFgl2cyl62F9JBiC/iXeVTzSC2RTeRMjDLhByfbnSu+Ze91TlAQpk+aTEuS+SP\n",
       "Ril5FGTRNE8ZYeD0qrglq9LSSkKbsOje9kujOpwbYCNxbkyqkegiYBiEQ+L9YVQReiweZxezSipY\n",
       "/s+Yrd5y6qH9Yh2QZl1B5aKMUdlSfLDtAUmQq1AA0rIg/TwdGtNsvcCZUd+9wwabbVXRmIDWKBSA\n",
       "TQRkHvZdnv00St+fSLFWxjjVDQS/Hzcz55uKVYLSbw8WHQv9V7iO5zjLYShLS/GGVh0RNwwnujdB\n",
       "npG/nBnR6P83oYW+BgQ9hdnRHkS0D5nwbDSYZJMlKIjvbSdkxD+xupcHCXLRW10o+0WQjMEh9LkF\n",
       "I5huSWsnHt20C/8g8Tss2lvGQatPaCuDwQMj9M2sFsFGAfvh3XUNEQoz5K/Ar+ByTZ/7bvs69mw4\n",
       "dDG8dy7xSShZmGj0rtg9l13LLY6L/CzlStvOCiJo+3bL2Q1K6oNeEaVqVdtHNdnRvfHhTjf53sQ2\n",
       "inBFCtmKEtNACqer10zZWRo2NRrI1emmEiStLGcyplyUsOKn0CMVGFGkS9G4EdE+uObSbS7+veeu\n",
       "AkcRH05MQWFO57avTaybcH4W29Z/2aUqwh3lqV93BRvibwROFUmTrAuwRo57pSoqGdCoVLRdKpic\n",
       "ioe3f0bJXmp+R2jup9EGjA13jt6eYcW+D2p7y9zNtFPUiCDxjysKzOXWiNbg4wXXopvJBqN42Hnu\n",
       "+eP45P0OD0yKcoguPSDoAYfI2zRSoOYoQfsUKuAv6vjRRfhskCp+a0cs+OMPtUcXyogPclsmYV6/\n",
       "5VL3yzbVu1iTPPA2aNcPNShjX1T2OiYS3JcfuMlogpVUcgjAjDTedeI39UPa2kbVv/rFPQ9WKrYW\n",
       "xP3/EZLYb27IOC5Yet2MLv5YTfZACmpYmTCEtLRoRKENxR6lwQc3mY6GC6ZZ83VoX7JtSTL5ADtQ\n",
       "HuozNDRBXmkPlV+XEwdSKTbUo1sgMDNkcb/jjmGInm0L4X8Fh37UvZCZsrksiMez9BaziOseBQBA\n",
       "fDN8sxk05uziI3YTDm16Q4LBDgUDjGt8KVP69t5aC7Nhj4fkHUq7zm1xIpsyhqFtWMm63LOfFPF9\n",
       "3CoNEQKO3vxza/3K32oUBahAXsBO7iAVHCPYbjxx1Qt4P7bvHtZ6nUfreaFZEC6eY3x0mNbobG5Q\n",
       "l62xhF0SgT7SH12QTf8F7f3kj2gmIAiUofwVwdqEL6iq2p7Cy3xuxw737bhVoBVTmwFSUI8qc9Bu\n",
       "mr1et3LPRz2e9UNbK1TQ6z+n4x4TolGHfAR6Cc2JIM1caI/0fTnpYVCjWxIHxcV3r0IdhzF+i958\n",
       "nSbAuzaUfBJ6CLxB3BYB3IsUnEC8N4tn2mgS0cJSf0pz+Wm43LFl8xROwKuh6KTjfQASh5LugGbc\n",
       "CBnkYBm7cjykrs/yRAq9OqevE/Bks06n+h2DZ6XsUB798yQQ/fh8XXc9jYMmJH8D/CTxOZATcL+T\n",
       "VQoatKI+TSu01sUXADHaOy2GofPCYOerqzwZOT0mL4n++nnyNrDNlvXLuGrjoqnI7ie32Ga+AFxC\n",
       "0zEjOUP965VmujpJFad7aKXR1whyhy4ol2i199hRXNM3W00nltXr8PuP7gUVuYn1272tJo4BygTC\n",
       "BiUGmtrL4rn3Yg0HQN7k/LyxXqmRVL/RrSBMq6HGirKr7IoAfZfT9kqTxn/CyeLnOdG/xv0gE4x9\n",
       "qopn/RfAETkbf5eHJexI/UOYKtyMvkS1a8KtUE7eWHf+nHeBWozdypbK0gc1FIWTiUTJaIv/4cv7\n",
       "5lsgYlc0xXE5L2/UkoGD99RTU37qBZV+4rOlk9tGSVZaQUls+uKgrbPOoIYHC4oX3c0Ip52LBwIf\n",
       "bpqxmKFAmYw2TAHxnrBcR+V7OB///5fcnsuFdWJyAQjHlg68FeDWtM+KrWaX2CQxbfdZ4aB70r/e\n",
       "xf4KyPz82Sgw8PS3WcyCd4LV3Gve+h7c5wLOwwUvrypMbI3rthHoda4xdMpRst8ulpLkOVJJPoRn\n",
       "4nOqllR1ec6ZzLSOfMkVq+8C3k3ajLI/jUA7AO9JMFE1Wgfh6fOvO6hwZiLvHF590z9c6izIdYrg\n",
       "ZrB6W5ICa9xKHpBwg6VlsmsvtjqQebuqb3Qqf4Dewc4vbTFhFXCkxspEOiei4XGDCWg80Cl/37Bc\n",
       "5OAsWJEpuINBAWBW8gYENi5npDBqghpe4m41zn1stCGWkxqqklJqg5TvzC4BIHP9Bnfkwytl8G4E\n",
       "GM4a86I1NIqQX+6Z5Cl8TQZOnyg9nBtbGbkjDoO+iQNAc5kHIKXhyH3vZjaTv4J7HuEvH+OjT2bv\n",
       "Onqa886npAmFvXDs84vi3yAsKqf3FLHZNC7dgggA3sXBNBu0f/3/G6Ucd/u0tJ0h3Xoa+UPVlkUS\n",
       "ZzrKWYIquDYwPC+PHCkwdZPvtVNM77f2kGX/H0jrI6dG+/Brf0dnpvBXRsKZf480ZvLt8FX2/xI8\n",
       "BvB7mlQ2YZIEHkqtWnkT7YSFgrkIrYBzulZrm+zRVGlMtdkr+LOnpaFDzozykXrE/gfQkQsG9Bn3\n",
       "tT+w6rTtOVcoQh7vnmNrT9Wjj/VhdB70ihMBwG+WIeeHp4MKJOLY1rwRYxqidhWItcPaIUJ3tFwF\n",
       "8Gh5YFNEN0BuXWKjknffzYJIbweJuWhCbU1xOq9I/0fsmyZoK8IWIJSH0lSkPL+isr4N7jaoht6O\n",
       "l/d84TX+003MiTQxBkCnQA6TGER/vqahEDRgRLoVAC81UOpwstQH+G1fdjDLIUEFkbSzBp/EvHZF\n",
       "e8sk3f2dCOQDTdNURf96Tm2fT6laPF6taz/sTegJQGsHYqrdZNkkY7bVP71ev82L/KmGffb1W8Mh\n",
       "SuwARvEb6xsKp9MiveBAjZUJvTqXpvCx+ohOviw7d3NMDQOgyAeHPegAMKMIi82SB0qR3+l90Lgj\n",
       "9biTrko0+QqRDHiVHPHAEcaujwHxy5NJ88RUHdmGwlozx3ITDz8wkXFX4GLOX6gtif79Fct96w6i\n",
       "63ERrJ13EXEZkN6Kk03jQ7KvSaAEC9/cJ/yfrHg5oay3qdKr88uYxci/53Z+9lUVEx6Wkx2I10je\n",
       "zLJYA9J0YS9tClMN6woSp4ewuyWtANJ5QWMptqqBarEnEeNiwBQ8/81GMeMOjO1uoInqNrEm3NxB\n",
       "b2s2ulXRQPxBILwYhlZfmXHeuNHYGX0fmckbZ7vfoeff6p7apSUqOQpkIWbFDPUjJe/zUt95nMcb\n",
       "dhYdiInkrI/wa2cXuueNY3mA6AErA0wyX4OqMEvQelj5z+v//JIktM03ZJMp/ZEJbEuxgEXJfYlk\n",
       "XYuLsACwi+Tjw00p+gKfC41F2L4G+cnshBYYUGuoLK10cQlQNWPjyn3X4+0CWClefg7S7W7y5cNg\n",
       "OsJnBNB0/HjS2tbifqU7hYZM22d7TgHpl6SSs5BbLt3Y2RY0h0SuSZTf9f0t1ObgreRTecEvLMyb\n",
       "KXOS58Xi3oftCuYARMjsP/cJAYHP7wKak4nLje/SGTv/BN+28GKwimm0arypSAQI/TjgBKcNjgBM\n",
       "GjvOhLVAspinF6fFieVjCGZDAKFt3AHekPkdnBsoq1DRhA4Lk8JPGgWijFfNblnsB2L5lhVWV973\n",
       "yB6YOJuV/cZXAGKiz0zbdIFSQuM/ZHuReycGlH5bR2siZf/PaxPCg79P72iTFT0VcKs4zZPLHfgr\n",
       "TETcvxkqNfHTKKQZqPQ6FunvQTRAqRufy+JcPS3Fhfqg5BrQjClh5lOKnOff7qyw1VcoYH2qBbHp\n",
       "O0yKH45jZMGMU2RyeKSz3ftJWInVbWZkHguYdnUc8Bjh9SN89QtXXvLCo5VxxOAKax3EwiM10vIp\n",
       "b8HfpwHX0JXYvvZ3f5flUhCD3n6ewu/ZUseisj+Uh70TW2p/T3HpDTEyII5CIbEDC+0qQyemlOps\n",
       "00JQ+I5+LsNmAJ9voUEx70lswcS4bq9IqwMzXLLIAUsgdCZCMscp87/o01iCdApnTV8qfuqeBfPA\n",
       "iqwSXsIXTkqb2A98f0lzm0yoiEmJH/8ruDJ+bYSQAIJ/IkgclKLqHP4hN0N3M4wcPn12/9Wx/+uF\n",
       "TkueuEDpYGG7+GmvJxq5I7Tt6WPeulA01LAreLPF9HqkE+VMyKOmP/fbMBvPMe/Mg9WZuzkqD3bM\n",
       "F+WLtfl1zYBA0bDHheDNDHuU/HdwsjIhMEBZ4N8mWQtgAqYSUkOerITSklHeHddXH4+evhyq0oov\n",
       "L2rK4ZS9l+fCK94pZecrTuOYeGIBlmhmnv9keBQsIFq3jx/ELgkpJpnC3CcdV+XEBZti/NrJalAF\n",
       "luRcEeGy+nxEF7gxtcUYl8F4TTjNxsYWHDn4Z2FMvHMn9aqIrEXf5Y8HvPd+q7vSV79AxjkbBXcf\n",
       "vx5bD3W9bUSmerb+VKohv/OJJ9P09tKU0ssm+/e/XdTud1Npic4WRKV40KsFSDmx2rs4pqcBUuC3\n",
       "18Ylb2lqCp9DcZrhKDB9n9Xglev4CKwCBge3t2mh64Zlf1PLC64tay8Jy+JQkfZHw/+qX94r2Uoa\n",
       "psEz9gzVEBBTK2GMMnm1ktcn6Zxl/3FStwnou6+TTCVGVAfBXSy76fMQUTvn5Pvl7EcTKD/9CAyp\n",
       "kDimcBL1h0DEvssu9rvMdlhc+4EK+QMUEq9Dlhnx8YvzxE3b20S+n4wVQaZSDNYK/5Jd52HpC9TI\n",
       "EFf5/zHNkppZVxLe1YuFCg7/+gxJV3szMX0cop4f+BBE3efaXrSDwv29jcliV+i7p5HY1z/Gmrpn\n",
       "so9FWL/mFgC9gRH01nkMPHKOZRdDQxUlxPDL9E4R8wVt6vXFPdCko6wI7VCmscCwHOYmYQqugVGJ\n",
       "FG7yVyDSzdajjcgD4hD3NuqUFMBoggoIpWT2TUWiK3PKIUol+w0PnrX7Awfaf33MoJeFQBcth4Yj\n",
       "to9yYNGZqbWp55p5Iz9wmW4Cx74NBb8BuRNHzZjWT47+Ja03Q+zOOwA4Taen/n/+6/8rpKWHyH7j\n",
       "K9wFR4q3E9iPJuP6gEZ2L9vtJV+BCvcAxF7QIwBaJyKUiOZw440luFgWfqQhQx667GZIoyYDH30c\n",
       "gtYzsSHfFWazDIE5d3wOZZZ4Fv/oABmwi1iBJgK5dGotZk2h1il+WrHu7P1sdruYQdlwEemHI9Eg\n",
       "O5tx71gxxWl1yCg/P7hBXIc/exRtCCwCTC7+Nr8qFuLoYiY0K9oFe4UINJxX2ydp+KwYtaGu0YOc\n",
       "i+Y6G2T0wxfq5VdzKdrXfPdNODERy0PftKsZPXKVv7Jg7SSoNc9oTAeslqqD5pNq2EQzwj43ImlN\n",
       "qLwA5M2VMykr/r7mXuAAAxAmoX+c/myVhYh77lpmBhMpMO+lYkqjDgbl3NPmOa8MrQSy8BVur/wH\n",
       "9c0POHk/xUrd+P/LM5qpWC7awVpcDTKXD8ETtjO7hZGANHJYHKKeIs4peB53ZJptLDOtHbTok8Fm\n",
       "V0MGFBnfx0REslLpH8w4Kli2YNdi2EVuZnXQH/k97Su3gBGhtkxNlIwUjoGhbk7GARWG3bivm65r\n",
       "2dwnMZt/faIrlNS5jn6nmapPgrHDthxSdqmENKSs3PxQdiAjvIfRWEC3RPYFuQDVdY23pob8vdp5\n",
       "W50cXv0/V/GvMDXnZEDL742qw3ag50R6xkkgPxP//+Z6NRmSJxOpso8CCfQBbRTrGE/KFeE5xo0B\n",
       "0490sV+D9MVjAcbK9ApvIIrLXwey2/Va8eKex1GqQtQj6+FpuWMimVvT66dEL8GGxdMOMen6cItk\n",
       "EX6qPDjF9s/Of/eu/po90ub9H1+vpGWLOvdniYQ9jXDnUQOlF250i9zja7pTrd4cWLJeWFlvfuz5\n",
       "b6YF4fj19yr6tLCuYxeGIQ1DtzJgoa1mZxZKCgZN7S0fwG7cnQXzMIEtoz6V1v7o/a5M9ZN0SEu0\n",
       "XqZCfYNqxIGKo1XEi9/qTIPt81cjpMdZxuWOc8DgMNrnk72wg2gBjpy9i58WURlZ7r8F3CjPlX/t\n",
       "5p5o54s+b9b3DRtFd5lCuep35D9FCWaiyHjDChIEziaR/DwaOjSfsSyJH9pB/WYVSrwjpEtvJHLe\n",
       "Nf42yg6Kw86LgBNI6DG9WGgCidxm5RO/5UPqiWuqufjYBm3uep+exP+k2CzFUXdvzMXAhjC+IPJb\n",
       "xLe4uSPBfY+OgDOm2hXZC5E0+3+/LJSYcKMlZJnmGIQJF1QOqRtc+HYOhzKVFY5J6hvpMD7XAhDT\n",
       "iWXD3zl7b3fFczDvP/07kT2KrhHARjmcX8F2xzxMtuUFOoG3uMWJZHn+DmHlRf+APZIuYoOudhFL\n",
       "n+mts/4iCxjtVSRYeOmMXTpHsLJ+0zcF1E+JBf//+F08tG2btz6duDYd+rLlDwYYAAzQXxmAKYOs\n",
       "vvYeV7HPf8FKFRG6+AXgVPF+gkFCHajRcS0uep8WW8RUdRA0nPEx63SgVhBQmQL+fNDuG3GG/ICq\n",
       "rhO6X8oSFaZnU6oCAl1Stg52o8fZOorg0ulBxpVZf8UGEd450VQZYYAgU0RQ4FjeZGiEZXDbTu5i\n",
       "BmrF1uAfU/TElsJsPqBw+dPnX5jrlXw7BmyGk6r/1pV7rYgRPGzdEF7Anj2c/rgmphSMp6GYq7r7\n",
       "QWKk0Xx4MCbWAhi7Qisn8ENRZkvzLUWmylL8kst9hLB3eygbKVUH6bwZq/nXLbrG9MktwvluBxTO\n",
       "AnHHF1pJ0gLudQeVPGyBlihGtcwlOldVegrPr60YK8rm12Kl0nyU7vTwz1cSOfJYlICvkJsRCVnX\n",
       "HGtSwOvjEVtax6eXynf0L0LzJaRbn5h5is/8FKMIKYATlvkEY53haKa+ves360u94EL3TahFFUpg\n",
       "JjjLcU8+KvnrfM+RELxzHxBhhEIu7X2xwUCRPBXpvb5gLDcvuVtn+IxUxuDDWZWySv6dXa2Fgffh\n",
       "5Z5yjvC7FcAm1GO0GArDzfhqm/iGHs/HaILNpcNeCfu5IZN8wQoQRTiwO4bVZtFCIIRt0jm/vwMB\n",
       "2ECMdI0J0ro+f2GY8XtIBxKWLojep/kSG6NKXpvQbbJcSap6Dl+zN8JJMapKnVsFxJJtPZWaviQZ\n",
       "FXl+YUsWYHCSPhrDq57NV/T8kZfeTvpqaz7MRPNoriiKQK7e0y8/b7VYd0G1BTN+KDDWVBZBi7U0\n",
       "wUr+12Y2OG8MJnDkF/DR/gaMM/w67a+6M2721BQloj8ZFoFdqOnZ1LwL3j6j7HDF++RKOKx1/us1\n",
       "/xYoD3TwGnAut2IhwYONcW6DQ1cr76CGDwNPQmdlt2La27kQHLlgPZ/JIsDijzWUZAEAvhe38gut\n",
       "DIJB3sElh4/FFY4pS2hdCD6bOQ8ryW8Z2dkVOfRcm9zm4VD31m2q/vS45XZ8mRZ6mLkDYZZ5/h1L\n",
       "BpQe00+SAKqpBac/Xo3KgatrPgyecOjRCsT70rlZGmhaOcyV3nTnSLrEOL/3pKt1e3ddmysw0Rag\n",
       "T+eznHmmseyCEArOMFtaJggtmhawQrZB9/U16/0CzSWBXOMJPh7gUV77cf+gD1iSEzI426kUGBb7\n",
       "aqLI38ygEPLHeS248uibiMSR1Gu15wucyxx9BSzPle8gmH+vBRsX8aAzQikVEb4MKqv4UaI9z9Rh\n",
       "FuzhVXk4ieIpSYd+qtKSIHv7krhWW4stq/QDrobzjndipb+Hm4haa/nK8B0XUFivxN9mxg4jkJYC\n",
       "XKXAW02nzlszx4zrLpqwpJj9VJEgogSJupkh5n0Tyj9JwzhyPDZbGPY56mGvC1waKrNmyLOLrUyV\n",
       "+39sSm7MOsRx51+jJJe4sGM7q3OUxENqLCGwXDyCyzh+ywI6oBs3hALR/YFf2jYM3xMVtmTyWZrs\n",
       "o2Xg/JSfc+l9BV2Q4R8SyNVSv82vGabrLrSxy2svsvTb8y/AuMmjhlll0i5tbXPUFC5OdDyPA48h\n",
       "Z7KTEPlEAA6JAAAKL0GaIWxBP/61KoC8vIAAHObzsTlYTRZ2z5gRBFia2fDacvv1S/IkC1kj06ZD\n",
       "CN02+ypTQZN1auEer85GFtv2UHI1Vj6etrb1cm2x3d0M0jCCQ+4skOQxgIZTrhKuVB6FMIflwPYB\n",
       "qm5bC/tzUHx4fM+cdfz/qDkgNtk8+JkGIwUctXcoWcoeyaWyjgNhbqdzFHDmus33YNAHV2X2AcQr\n",
       "1pDdk8DzK2PER3VM0kMP+7pCT/4J73Rqc5WESRt5KwzC9SwmKIZHCVao/14/V/LswwxqBMHoQLcc\n",
       "dR64feF0GwQVTTaVMWKxHQRDc1WNlp0Cv9VqRjdjB4g/ysSLpIJaSZfJWxAmvfxevU88K13d1WCu\n",
       "UETVf1ziBjG111R+wUahJdSKY1Q/vOJXqtrxieVw2hJwBRJaJLYzeCrrWe/QAXbZObVOAI9uZsc+\n",
       "SiPHNUVRSD9Lq43TZgSm0Fy9P8y29K2XnYnwU9SSPKXVGSuHVwu76zJabNB9WBeB42R/ICPY+Gku\n",
       "EbNM6baoE02tMknyS9+voGIZ1AC7ShS2hTVNPeInPG88cgrmOkdGV9rrH9YFsGacH1/1i3dC8UJa\n",
       "7uflV16LQKiiTea4t1bx2gYwtb/9ruK2cY4OXDob0v0bDjfxTZ7zqSJBHTNSQ7ScFWhfBvvy/kXW\n",
       "6sWkNPlugpR9xfckDcCBZn9rWBzc4owW7+MUY0OlmgC4LLJQt10GfoLrKRx2MCv/b6a+QHwP+SrQ\n",
       "cJ+FJq81NAbeMfbY9IV4f5lHCgRp3gRtJxe4vKJQzO9ZrIIfvJOFSle9Rfg+6ODFVegLoiS7iw+W\n",
       "Z5JX7LCug2EZm03UleuwabH9wYlpv43ANl3w2bjTmYYuILu35MNZkwPqWW27co9H5N+437FOXkFV\n",
       "LbbbsOR1k+HV6qvYgn/RjIMQz+mThEX6NT2mQFhr5Y+TvWlqFeaVa3B9BJa2933wsaqTqMyan4oj\n",
       "YVQ4EErtuCu0PF+ju9+7DNH7lkeE4zzGY3dVHLQlg1+hbsDkqSM8fpD0wF5cDUiLSehmLFG9jOIy\n",
       "j2To6IGoGyn2NBIlkZF0MMHue+PJf/SwRQpNBgRMMs6UGf2EbhsjDKoQP4DCdHWxcIjLdNkkkdf3\n",
       "L34XqHZhHpsWXAV3mAKk+j0B7hJ8SEVNaMoC7/7Tf7/D7W/9PW9flDGXKSAxueciqx/DaPix5cLZ\n",
       "D6myUMBCXlyGjdrxK25xrT1ED1CBy4IoqMnczzn2E79fDizh/TxzDIZsSUscnm7CZOpNfI2qdVn8\n",
       "rIWjok5v++yH2lZzJyFru9v8/yS0JGJnF3UjMCVY6zOrjlCB7k84PkDNq3YWDI0PT+7Dhxtz9YsA\n",
       "aYY9lKjY9h0liwgrSfKAsLb8aIIFDwbItyzqIxKDdBRlLHDmq3AlbnQ17AfSqOUm711gZ/L4JCuq\n",
       "GVWp3JDMG0FpFTneYUhAC/JyXcB++YyTXqPEyZgG6sU9H/DLxDs5AFqQo5Qg1wgJolt3r5j+XLvn\n",
       "TJoQrbXHPvobGnCEu7DKJpmsg0IpdRtqLn8oan7K85lWXvz1XPoPkXRHotcWs2lj2uOihENKX9yN\n",
       "VCMpWpIxeTLmKmRFzm8bTs5d3GGqJhSutSw6M+Vip/hmpAnzRu7mw9rDkbIbdY88f/p9H1Pb/6h1\n",
       "YUNB185fuy8ssqFDopdwZB6aZrhotuCR8CgCnqh8fvUmmNzh9iIz3eNrjY+EJEo6WcfgrJG/dUNM\n",
       "+RrrOwSTwa/Qqr/Xu6SSZbuVRICisxAZMMptsvZHbYm2CPT/PoQJGX5woJGa/mQVEJ6BjBSfs9NA\n",
       "0H+L8MX73Q9e0Y9w4FKL0KrPKR8pC/IbUvN0B55zBqYDSJ/bsys1NCUqZnEMM6xjiV5ASdeVAc7R\n",
       "BFNJDKPfc8WLyB+Iwt1abPS1bKI6A93YMcMA3DCExb0leRbdGNN+W5JkE3RxzUzxUtovYbLDjQ6N\n",
       "bqjcqb0uiiC96QGQBzUN4EDYBVMikswXUdHfrN5btWZ9OBNB7mXGx4PcaSPdATEk1EFLf0QquE1D\n",
       "8vtXF9se+XYkK3Jna/ULiA8LSIhb42M/UdqWP08URDtUvfUMV+tEs3vC22RraT8PMtD09M7AWeod\n",
       "JKJt2I2s3hsBwJJNY1UTV6UF7REPAa0vHtCLaQbR3RmmHRtICLTMSHcrcJBDazNEkDnarCYPaco1\n",
       "rKGnhSVg50TmofrxcoP54CS+M38owTDqLqW0XHZ3rJO4IV4dggoWsps+VYNlnym74VkujN7LYysG\n",
       "n0SKy8ufWNxxnB17LrUBT5xAa8EuPBSwFK9mu9bhbvivA1fhDB0f+6lKyDb8ZjGPxFc8EHqrdfF/\n",
       "JUIFdc/+oW0FXYF2at9/0QYa45L+TTtjUl3uyNQkKynRKMicRfOn//r64SJgVq6Eu2/B/+WQjiMx\n",
       "W9Uu6JVJ9NaSUzw8vTca7YNKhtLfxXoL1PB0XStewWxe1/uudPGWqtkxwiYtDaV2s7NWeftyhUNA\n",
       "/39CwksDPCR2a3GzcmqkQGbOT5uZIsdIt16Zl1fKytEVOYuS+NYyoHk9smIONe/6JQZxmUy/0la5\n",
       "HhkCGK04+nDc1HoL013igw4WzXPL7FFbq3CcczsxaWZmCkzFk1kmrrpaQlQnsHH8xUl1QzyPwToP\n",
       "gBrrL1auyxGpAjWpneMS214dVp8wP5gUdyw7bMeHvUUHwj8T/JXYlhOMCa2OvKxDDz253yiQKnDE\n",
       "FGI9wp8GPqUn09K/cjII56JbD4rwECklbR4hrqHVz3+w/z1OSN5FxYFyTDRG+nX6i9Ja3Vu9tAfi\n",
       "thtNmiosuiMvMmKzWbMVCNgrRf94WKkKDhQb4hftxmZORQt3LJxdaNHmr99I0QBAlZCQzhJIV/EE\n",
       "v+PNuQci2LmN7Ad95Ps19J1v267ijwtduBy9/M+/vQiwX9WqQbZyoc47gqVICAlsXuS5sH6dlQ9D\n",
       "TkRQ4V/7q0f/th3lC86OcSa/Nkwh4BF2HYAx7blJSAXTEdksFFnGpXJAARuDJGxo4T9RnW+c8cYU\n",
       "NfRSABTeVLypKwBQ5q8+4XG1RkOZjxVC+GaIBaxkIUlipqPmULIRUsHcehXPxiwoy0gPTgn9KTUk\n",
       "OSNsjfXPs/XkAiND4G/05EK2iq/cbHR3rvVhN7bntiyru0AZzdLd28dFZKU4pyOtZUd7ZJaNLtyq\n",
       "Pd76qz4Lzn9qsqeq79+gZhvPB+FOqqRzfjmAo2aqWj9foVom3DYlPTrLeYHFgC+pVTpa1eKQvrJU\n",
       "aN8AuGWqzgO1t8EoZwkh9+iY6r7mA/5+CKCMlszVUThqlPR1zc3JMpa7Y7ENa7Ioq6MlKxjW96eS\n",
       "LjlXnsFc/B26IOv/Bfe3sSiTtE/SD9MhoUe1dzpb/Ju+MINIDTFML12CXAwu88/YTzLC2V/i6y+N\n",
       "b8xgnSONfZjfu7Ypl5yCOeT++yJ2cGMuvEOs4IVyvHhsIUuXPxfvR7UofAiTSU3tpiYW0OuZgAAA\n",
       "BxVBmkI8IZMphBP//rUqgMOXHHBjSsVQAbVvOwk/0SEomAdd7q5MCGr80AM43YhXGUgtu2noI+4E\n",
       "mXrnW04zGT8/ukMBLtYoK7fotprBwq7gaaU9G9xoKWhMca+dJ/JXY7tCZlcY3yv+R5VpLJPnhvd3\n",
       "eZ8/uTCmRUxiyYjd7LGIkk3DDiRj6HkqOMVwoTTc5DmFlOgaltC+SVmiA+ELcRrvRqqsocUSOUEv\n",
       "HPAXJUxpraJhH9dfyQlJDOP/OsirhAg3IMOuSlTa53dFteQumlpn68Xkg+OJoOBaPsWwv8J9k0xr\n",
       "JlI6Co1RYolG9eJ8QDwzDmD5CLSsciZqE7YRfOu1WsLqSJDknC7cFm9rgzorVsf8dWJbNBYWZ6Zh\n",
       "9g7vz+QL9mZX69PC52UcD4unpH3ujhIkvi7tGBp1xyqkK2SPOR2ZHYTR+IR+DenyR4XCLo+bJjtM\n",
       "Z9yDOVyN77+llXVUGR/ktVMqx8hgI5FV39frY/wDSd8g3LSNsI+9r+ynDCYn+tgnQWOHhF5fodxZ\n",
       "BwKHvKdXyx1rQHel1m1dqar7Q4D7QDJsHbYy5VCzLsNVt22rW5kMWEhsUc69pvvB4gQaQcLrSLG6\n",
       "KpjWS+77Z2OuHhg06Iehp1+qdIUko+ns5R5VF4+5YNFbUqUHXdkrz3wGcborQ1izGmudmrYdf6JJ\n",
       "zg09HzUrZs8wN4Fbngnfpq/8lT4MOK7eHE6NfnxmOEdmupZ6xX/ofwkzNy3pVXOQNsX8n/XIj+km\n",
       "xYx+OevFAe9RL1+uuV5CaMcWoTnQhcoQrfScXwnGffgjf2ARgJ4hLNxyGAMoeEgQqgAfX77YZxnU\n",
       "fW6Qh1GMx2MowxjSr+OEBzXBzaLa6faNoIQgW9SHzQtRx4jwKIsXaGsKGBF1FFrmbCxshCkkHKB8\n",
       "jTd5c5Kx2YEBYTTEbf8nYgWHO5TkIf/ptIwjad14bWmkoRSmseIDzKO/BzMqMBzkmYQym0WzdaSx\n",
       "muM03qbdvbLNPXcZkzerBtXWY/VkNifPiSc6IZka4SvjOQNimA5+DQD/ZR4X1zaDDX4nP7+9Rjnm\n",
       "+0cvUBu0+HIlyyfAUj/b9Aiu3XAE4sSe0fG4zXNzkFscaKQzsoquEibjvihx2992G9prEEKHyupk\n",
       "0qu4ZEMiUj4N6KR+VWyxsO9au5fFlc/iZAjhM2AsDE59HZZiUQJb/cvXvgi9Ye75FsM+YjoQ0Jlf\n",
       "QKPdlmDuQF3jtec3VejKkCO13LsnGO8la4tjq6igWzOMohlD5a8NNJWuguJYtGALIQTEsfps8aWO\n",
       "G9SsROi5P85LMPGo14jZjD3SMCq9Nuqv4WnJE2V+54MtsNa6T1sZnZWoPnKdh4r7ljVuhEPPwtzD\n",
       "krxoaScfjIrgecvg+l+Cy/DAjhfzjtf1yLUPML0rGnIMs2zSBAY64D4fWVo5IptNjhskbPuo9sDb\n",
       "Sl3CdEuFVlGX8lwyQBVz//fFvUP6XE2+AaBP7FcJfFvcsOa2oOpvlFbOAEfe3ORIjUX0h4dRcAHR\n",
       "cJDi2x0EDSQltqE5aWLel0OpOxmAag0Xtc8pI/rXsgVEssNRdw8UE1c2pTPm0y9I1M25WbtWC7k6\n",
       "LeC2XA6z057yW18hHgA8PTRtCbt+kX73Sk9AwWsdX3J6iF9Jg/UeMnvs/JvBm1V5iIpOPejRaSgf\n",
       "ADdDuFLua7ZOppTeVjMyxFErnWpDIiaD1Fwy0aNEpMzbiWmxbciU+qN+ydqkdsUKMezXVsPF9kYS\n",
       "lS3hPSeC9D7xudjqdnFsNMw7aMaI7V2L7rLwaHHHPFwMp8aju+4fhgGkb7vKvDuADNFtPrLRf+lc\n",
       "i43ox/SP8WkzGX9NjVBEgnxuyH3Ans6oaRVCEILzDQReUdAx6YOfUBChKJBbs4VRa+zyKbnzxr7b\n",
       "jSnqVpa8TkH4LJSmj6RBn/xM59H/4bmlVGV5p1j1xva/8Zsq5T7sVzPmjnDxQuTMo4Gmikd4oaGk\n",
       "+6af5frJ4Efixfmfl+TPyWI2RZJ3VEVyP5M/fXcOY8KLIA3RJkDHC61prXDexud62+c3A1q4YEGt\n",
       "QSvuQvy/hBcsSyycmAicoXAXS9jjmINISYeoN25Ge6t1T1dCsh/PTaClZAD/WeBZrgm0EM3brRCq\n",
       "kRi2JondW4zNpjviFVVhH43RmIAPrMIuyEUYzlLmgj2Obp3yvTjcMUMIh9+xa4Okd/+Za+QceUQy\n",
       "qsOb8YzAxA0fc6xQNraNfYREjpgqFTGQFTTbztwg71NAlZp090GK9pMiybkJK5EZUPzGtlG8ESTp\n",
       "lLwpw/ybjnHIfyXGUA2ypKJIMq4B9HkcSNJcwcIG7Ah+A0Y0b6WYo+Sj1QnfP4tKrcRbyUyp6FxP\n",
       "QSxgi53GYNC8SxnTKLmITBeaXkOIwzakNlr8UwxBqhROQjytOuMLPaovO08kLKeBAAAIXEGaY0nh\n",
       "DyZTAgn//rUqgLzeQAAOc3nYnK+fAAbcW7M3AztufDacvvmP+YdlhwmPhXPriwJX++3nj2tbMwVM\n",
       "awETfmmsL9J5DRBYbQKlZOnL41s8MA5ELvQN5eosipq9Ri6z1m8OBMLXDde0iBdBjp+oX5/gesIU\n",
       "KgUIkZO2ACv/krl8l0d+1AfEzG0yEkpH1Bfu6P6jdp+A4bD6NE0R6Tvyscdge6pb+WyD6Hj3dEOy\n",
       "g7o7H5g+CThPrhh3l80iC94m6ejAe7F5EBmJPk6ZIZkxFMf8v3lPeuIdPh/x6OrD+CUVR93yKido\n",
       "aN2mH3gFgqes15sS8BpqHM/dDCnq1pNHGI5GuJ55HSvz0/Edo/hr8nL3bSW9c4d9it4/IWItWapH\n",
       "+kfTXObOTgfEuGE+Y4BpEaQdgLfUQ0gryDTcJt4V0IrHOj2Pmy7o7FJNe7n7NQU70XHR5QHoKgS7\n",
       "x5S9IPqExhKJFdqYw7nS7DMFS3kFzEmRNgWeIjydDSqk9p8faVrj1thwGnldkPE28Hd1Yj3Kf4fx\n",
       "14sYJVLrAgaUhLlNvhp4Y0h0qQ+bjgAdNBJ2Zf82azpgqmDHGzAt4Ew79iab1gJnm2fNf2Jnw/8W\n",
       "FN+8nW6yepSCOcBsqx8Occ+6psh22Ior+ZDlBHFnL+tc1LtuSeqcL//7GafZ8WEnJmKBuMF/eA6C\n",
       "Wq30spfRkaQymkgoqKnerWxULpw6lZf5tzGSp8/bNkLetj+1kptaMdg3U/9CumFUIUe1GYFCLvxw\n",
       "Vd+/Z+kEYsgGlaiQcMqtoA/z1UsERnOuFqtTWZ8b2eRUXC2dF0ZpizpQ3VX6thsOc24qO01b+rXJ\n",
       "j6vA/ykAPLQi4Dyh5KyI7qNEzZcPnyaHlVjKq2cunrqbxR2LcZ4rc3qadWrKzLoPWmksATlsKUHj\n",
       "DBQiiVcBFlCH73VLEh38NTPDQYqTi2jGzfhuwy/PS5kDOVNxpwaZmsF/mfmDWKu25XGw8ZjWKPSA\n",
       "PXzuJxBw0F9YzgAzgJ3+PFFZ2OYqdUqjjj2LCTTOATN7cPm89nplXaRDHcrU7UKrWmFUnwapDlyK\n",
       "MHS690a39CGFL8jaPB+BtRw4JK4x3rvb2PCmz/L1xhlAq3lw8zQW275woh7IjCk21D/0QwVF05g6\n",
       "abyHM6lROJ+B20rKX6ZyaZX5JkSn6RTEz4xNK0LR8DfoEyx2d/OGE42DGblqCHSPEwnRaENUnpWz\n",
       "DjMhyFoWuXxICLMsvuDQ/11kA9WGuU5I5ImtBVyGFxB63puJuA8lP3KDE7vcKjjVEFb17/Hgj5Jy\n",
       "Z9vYJZNfqGFDZk8agGIFfTOOAlZ5gn/FoyO49xHQQ8fA48LAx/9EeTB6Q0/2IXzBVwSMRLVlDYbr\n",
       "e4Q2a95QxJCov8+c+yL8eEz+vde/+9Rq0XEOSROLXrZITlSY9fVnrRinODQR1hvMaFOtUtOffqL8\n",
       "BCwFtOfl98vTQjkCT/ktOhFcGnUvB+6E4KoYSENjhehEZU+J9XmiTbmQPCej98uHRKxHbaBAlZxf\n",
       "/nOHJf9///ovfbhs8pMdw1aUAYJ2uAkf2fqNZL38CD8W7GgIhxDHTwjax3FXnatjrANd6eanQQHV\n",
       "3SrFPuzzjk7WkDEyEO6II0iBUw5qw/TCRH1heY1Sq7/h2xqHqbQ45GzX2zBJ3/qPs2f2WL/bTEit\n",
       "Lioh4Ucevi2SDggWy0qo6z6RP1f7vpRk3ivCefBzEf+wY0DgNQEme+dXebqmNEDzfFu9HVAKSHtA\n",
       "KJesPkcEm69puBh7t/SZT8GBcIxzVU77tJ3V8XtMiUG6V2jOA0zmat9ARv2nC7bqjgZtn7PhaHSe\n",
       "DQzqaI7V6LOOdsMFvau/ypWZvMv/3fGMX/wkTW2yooV427uvjMGSc72FrrXCxjzMIvpdo5cNHicF\n",
       "k9Uqnw85XLxa4iTA+VOt2yGcQOoo/bOYARGIqnHCswEHyyWMsNq7V7LM5pHIUmeqY91Y2wcaHo1E\n",
       "Fclj9fZHhNTMHBc12W2FLSIRwonEILyG63sncBvS9okt6XEIvNpjSFfflRh9kyupNlFjDqC0BwEX\n",
       "3O8ByOxTcl2sdLBJ7Sq0sCHlc4KBuDAWC+sjfgYuqOe74O77+ZehflsVkfvfMnTzoBoSW1JeswvU\n",
       "3ARcA4Wtvgdm9LQ/++s9luCqM366oKirzfMXA+1sR+YUOF59aRe6Wk32O9TPns3KZa0KJtpPIyG2\n",
       "lQKAM0Mf6b350J97bTqaEVzG9keUkcAuYrHDSq7sYS0Fi9eosdGA7d8535FzBLs/0QHmTdW6dqY7\n",
       "MTzRgJkB4vvtQFjhUTIY9QUJ97bYyjkAxDCGlfuJAcReooYzuETI64eRd/XONvONhLIdAxZwelz7\n",
       "sOsLfqCBSYYmArkYqCc/D2QMO3rroOfjMmTnujd+oLJ/FlG7a8Qr4B/2irrPdfnlMAjC/gZqhCeS\n",
       "iwZl+Lgu4CIn4iy6m/N09LR3uVpmjSFN/GYKXRzDZe5u23OeDcFT1NjNCoS+fZfxAW08ll/y0XLP\n",
       "6Ftyz2nIMVirurVgoDj4MBCTrGUUqfKV1rG1O9K8p/URWUlZlfdKrQCdTmSan7xEt2I93IptGZvH\n",
       "qFF0FMsNFx+s41PAfMbuSqKi0p0ZcYOkqkiQw6awvLWRDD+8f2Ql8+7Y37orMRPktLAl630MsZ/Q\n",
       "nEHvKs+wgYorxE9xf/BjUQdgJbZhYFqcrFy2rRQk2cJ5l5kg36uP55KQhaKmPYDhydBWyHSd5G0a\n",
       "plKqPvq5HP/1oOA+0bY8LKHBmOTTNd/dRwJsI2m+OiXMWiUGW4hfi58zRwqVQjW34k2TEcjNd2FB\n",
       "j6zyF1v7FTGkTzp24REANfb1BTKn8Vj4jYwAAAddQZqESeEPJlMCCf/+tSqAvJnHABfalmbbLUBO\n",
       "Ga2kdadeExq8tfDDR07CeevfO5oyfME7AgHVpJ0mP8XrxwpqOLePUb/hqlXRWmYSlovif9EhfyCN\n",
       "mPCd3n8gJqXXZjfP9qbTC8CvEfiIcX6oMIXHeGGlAA0ot+eClHqPfCZZhr4V5X+56AtjzYHN3pHJ\n",
       "+W2xKUhy6DbD8dDiZ3cDvXCzddzWvWVHGRh8fa3stCUNLPh+CwiHVHQDMRl1wZPUGPagV3e1GttY\n",
       "xtDBbYFqPtdQCbZcdKdg8KBx1yJAkeWmmMvsRZwiu27ylRV9oohNooiVxRLM2nfRnnHq6NoS07C/\n",
       "tCAgI1qZruG5JpkrKgz9r+ifV7YkFZt9OSJbhVJleBThoYMfGPQ5eKLSSbMUHH+/U+AbWDPUFVgq\n",
       "Xo4mkV4Z5O/AGyRkgXpL+e9ynSS4u7hQEzVmaEwWjXBXw/pjyAA+q5hUIDOlh/lI01YQfJtFIrd6\n",
       "YCsDjW35fu1VsxNCo31m6QmtNzdqSbINN5+I080Xs4f1xhJSuJVreunkU7MoMgnsdO6wZRGzy2rG\n",
       "1O+zDk5lxt14CnPc45M8Tv+qtVE5Yb680WNeYI6PLtSAp57quf6AJ1AHC1V83qcyYltHJJ/6i3ij\n",
       "f3eIXFDls6XmtQaubb2EcTD4PU/OkvhuW240AesWn5jCmomUMl1OcNG/E+wuP+PAJahbWw9ASj72\n",
       "B/yaR3Dfwy1MNYno+G//bMK2C93DxW89u3XvzbdgxNORPb6TZuJQc9X134L/CZjv1vNMQ6+cG3hw\n",
       "dMw80IuzjuLe9OBrziOLW0O4kDD85FQ0WJDBLcURgWKOJTPHERGAhxnoM7SmSmm5AgLRedWilhqQ\n",
       "f5eDJvdnjS+WVkNpxtbjBT7leazlYvQhIiniMqiR+usIBeXJRrLue55rNEVY1tA7aLE7JXRF1t0z\n",
       "tTOy6y4vWxFCTSOHXREkhkqRR4wW0mEprrFcJJFOoDtJE9QCxbza55JjlutINK3iC547fpf7+WeP\n",
       "NyZQhBe1KANtMjCFm3hxGPtZzcLxEmJ7HbXvcGVmaur81jcvHMr9+a5mZ06Fm0u6xXmlWIDB8f6o\n",
       "szE5fhRf/3gDMLMdlHlYAF5vzRBFF6NBJ9l/UDo1y/vagwKB6gJ7fWOhssAvWJ4jQKktK9O6BehZ\n",
       "oGyZ23U+7UyCYvuZHeECjiJHVgDsjYy+ZzaY+EazgUJW4ktOfCM0Ar2JYQETctf2+T9hsr5SYBDS\n",
       "l9EGdtVK32Av72LvVwDMOhkVboLUv/cyexqUaCGwRr4L/Z1xQkWIqW6/HaEAmJQLzaTLwU3r8ha7\n",
       "pEAWMnDXBNEi2FeEQzL9pCaPV3NvW1xg4Hz/jpoyOXLCog7M9Q7x5XcIfdHmJB31KKJmrbvg1l76\n",
       "06aXUYoR4tyj2F//cJxT5x7Lv03tGxOpik3StaqiRPokHX1Q74cgdfqsuutteokDERGxCgtJOvXW\n",
       "Th1oDskzGuI4psNtIkRoVL8fQOVXfQtOiNFE/68bJ98jkiNL1SnhzLVGOuDj8BsGmCGBx5mrwSpx\n",
       "yEPheNDsjZtGSbvx2i3YA1KWHLvPAwxSQiY0vGG/JzdosWZ39K3Fx7xuMVj9LYi3IXQg/QDq/ryB\n",
       "FCmeiXW7wBv/LbvbDp/6hZ8rAc37WE8unf3nG8zRy9EQKcY7P4esEj6sUUU3Sc54FV+XKUgFQWK7\n",
       "aW/G/k08mLyJoxG1Nfc7D6EzNoTWossMoHmn9Zv0llYlWaKa225UrhcBOIhYYCrDlcnBBBMD1Sec\n",
       "Q5UAd8/WAy5laOao9FUUo0yaQDT2uaq4+BQ6jQ1iPnloIwMdi89BZVANxp98jQ8PqN7Tp9ocwl2H\n",
       "JXwdFCwLCjbltv4xhcdkMihs1zxE9U/V/8SrDIyPeqpUB3EjeZxCZElMImOffQSPsQlRT+dz9kVt\n",
       "tT58ie2mKAnY5oXroZGv1nJ3XYuUlKuGxJCt7bv6qgQlPxQdCcfkLdLYI13MHPGZTyg3muNpxwla\n",
       "HubsqYx9Z9D9EZFXjq7ugHMqKI4FYO+49Y6r4YsoB3wlYbovJw6Nqd2pakGqhtYk61oC+SEeUXWJ\n",
       "JTRDtnQp+HyfjXTFmN6myDZYAh7z4xoIKI+cjuU1bwuBAvdTD3gzdjqtlh2nROFV9o/AZrw0YQsH\n",
       "AX9xOsBf3NJ+ucftyXuwRz3UBjnZL/Cxj9hIdHeOZLiBewZHnLgZjbCqnxiSBbZFy/Yv/4TSFBKo\n",
       "gmfQ5j7ZFudhyywFCfnJr+znx0PAf7oBWkS3J9j8wZ5qpYzMjkZOm+JtWpZrer3sq4NmHOehdIM/\n",
       "uZK1E+Oof2jPlYMcM7Rp3EnX6iMXT+6QsK8xy8dovnmcgKqByIA6Zzk4pxoX1I+W5eGU8IkDHw44\n",
       "FTSonxxhMSKjloyPy2TPAM3gLSS5iQmL3OYsc9vUBeof8XWaVDG5LmolAsEGyu2tLAPXTi49dBdy\n",
       "DXmaFkvVxWLpDJyoEp6XQ7MbXkS2tefQVFXsv20Axh3SfwAAButBmqVJ4Q8mUwIKf/7WjLA272XA\n",
       "AqVTIlaktKkpP1aqutOuIUZQP90F/VXrTtj9kgFrB0TmvDa3D3oEBFT7VGd5WIGKr9TWiE6bYe1i\n",
       "zcOHms6vP0g9ArXcRqgrfaQRh34vblNGQLTS9EEDACs2zI/cLWF0BFnmfKoFkw5UFAc0EZfS5Aji\n",
       "/LZLUeKL/hVPWfonnFJdDXtF1yHOUCdApX4EpAG0WD+gBhdgsZhOEEF6aQ5v7cIaVWhewEzn94Fk\n",
       "ijBLxst5GJiQeaelfC+ifgOC/agVXkHXfuGLWLNEG93EPH1/49agI1flMN25SKqOFyJnZEaI7v1T\n",
       "U0XMQeAfpp7XFJACdQ3FOuH8zznjHiriWuhrcFbHIL+iiyDiN3GXY3mLrAk+HO9meUqKumHVUvpf\n",
       "FsJLOxBN6regCq9wNzTKoyy7jjPzYsx6Jje5p1gY4l3l3HPk4AtR2JG/wLAilMr/K8QqSHoXM5xj\n",
       "HCky0eT/0K63xnsWMD17CPFMZjgxOkCe8qgRjJH9b+4FkZZTDtjun7x1VbPaqclEcOAZhhiuMuYk\n",
       "Ga/unrmkm4hM3gTyTczhV9JdVSePk6x5U9GXDwLOT0iA5HRzZQ4IASwjKwfAIdjGkxlqTY85jExP\n",
       "AAUKH3a/s5fLj6ypMkwhYbLO5b+IhVODdcDfgNItWt7iok/sMgFkud6KNJbHpPSJ9lSihVXIO8uI\n",
       "dyG5lQ7E8RCjlYtz+Ft7xURR00aKrOfUYbDHajaHVVZtsIC5rCTGnPBwVJpqHEM4bzAgiWUXOWUy\n",
       "+bLt37u67iimS8fFqPLCi6b/xqB6uk7YQNnwq7qOIWMv1Jjd1Aznelcw1qKQqYR3b4g9o9zu3V2i\n",
       "THHlvcyfb7SYy414mrUv4muACizibgHdH5Qqioi4S2zeCmYy/p9crePpIUUZvFiMcVL8VXwMpzOo\n",
       "kYKd2ZSToxHKjXp8N7Jay0S1rprPPDeYxfj4gnrYU2ZY0fPdaMjRTE4s4zznMzbEHYG2iPJfXnzO\n",
       "mq98uVI9U74m1vNjad3d6KtFswlZg/kM2hyhMB5Usv/Bpd/+jrBrzN28HNOOkWno5t45E9/7K4n7\n",
       "vQLhmEkDJk4Nyw9ChjApKcipx24rUgSIvG3YXhYuyfzeplJ8zV01jb+LyRfrLcUU5XCQbdJXMNSu\n",
       "TMOcP42TlPBJfU1ncWfMKJw2JR41yT/UxSN7zX2NurNJ1KQ/A5LbmIEt11Zr8OCnPkeaj9EDtwwl\n",
       "XzlWBJflp5R7H2F9cPRMFqTU+Fd4smVBg8DEYUhL4C/vaS5M4np5O7JyRS96Dz3xrm3M3UvzHNpX\n",
       "Q7rwrV2Csf2kqJgrAYSYIRrbgmIWmgYkoSYazxmcBjRyW9gqr6iofPTBZg0XFMvgwYpjxYF3Tz8m\n",
       "MQgTzD8S1Feu52j4g5jU5jHlMV1XuIygurktPxersrQJV2mppK5Ok8vWsrgC2ev8SUTyVYx2VIdt\n",
       "vS8L9P8KWkjjITPXX8Dz/BfNBctAxn41S+mf5KoZtW+TyNxzF2LloXBtXIWSSxu1NNtz/FEWT6/0\n",
       "RvI2nvXwRasAVpH/eR3xT5e/RyD7LAVivBWGEAzfH3eI42q9luikA/EwdPTeDlJIiCe1sLnaZyXy\n",
       "oRfo2HcZAD3FkAWzJIw1nyPEXbIH6avoXfwpkcP6gp6iUUC/BKJIGeV4/skUt9hnNnR5EUKma+y3\n",
       "b0CZzIFg+sNWGrWfNdQwg26neqgGtw8NwDlBYSNHnQqwdp0CxMS2TCLUp3/yZngELceEV/g2fVD3\n",
       "PR/r9KATrcwyErJfFH4SinviNg6XFFotgFki0GIfgxmmLnv14FAWjWy7JeiibZiXDU0H4v6zegIl\n",
       "8R6/jTTfhBBDn+9iy20kkgQktY2Mp+rIVPFyWQEZMzRbhaeABpR+Us+vN8yxfdTYcKVoIE1V0Xfm\n",
       "rb53TmgcgqPndjxFDKt9jAKCQwkIATiexlOrryTIWh7ZgLAX0WWhiamYaurNAPXa9dQyiAAZZ7Rr\n",
       "SqaZVPR1S6J4nRi2c18r+2xiqCOpseMwVpzhFpccERE7RrFIak/1ZRZ/E2HmxDnO6Iuds+AGM0LD\n",
       "TwZMXil8hz/owSq4/bm5u2oEqe0F7Lhg/xtqkBFIGHtpvyHR2116XrAl9W5HPB5w5GK7wPg18I/p\n",
       "CmTfLjrvrpEUBk2AYV+WValetLdoaqlZWQlbKb/fgSJl92H5Qwsf8BvPgiE8ZNDLyTfRT5Nm1jbw\n",
       "cmvDAdijF4dT/twHuAsdF6Rcv3/ulDGAVeFHg8mnpgV/9WNyj6/y4S68No9oAwQwWmXytYjNQK3T\n",
       "uBZvBmYRQ5yS3VYWfupg6lBZGchOQqt0iPpFzuUMJBRhOG5q0Nevru2JAAAKIkGayEnhDyZTAgn/\n",
       "/rUqgLwMKf1BaXa24iAAhVKvFFo/nw3Mi7xPK9b02kfIaK3V6810zgjCAujVPZX+1H4/09xhDrMg\n",
       "YA41vGbNsaCNzlE/2OCrbrWivqwVknhQ0g5PDPXC6eVZtBaGqZXWXDKidc1c+uILyynDwdh2wKUA\n",
       "bATDOPSu912tpKpJ+pi3eRV1cEZFwv8qwi6AmZqdcvV5BwJR3ZvaEgdlo717fEUqurEvsn0lm9xJ\n",
       "TKYYc0+8ACQp+Fw9KCH1JSzVgGCIhNobAASYaqxqTJxIFkGYM+Tk2Ewcs7rYdFr0s2MKB7BH09fL\n",
       "4+BBgwJkosXiO9yYSq3e2Ck4grleSXcCWWNY1IEudxJFFbMNCH5jlz+gBgUFY39iFLogLW3Q/tmP\n",
       "l9SCErxHT+5JlOpUbvyKQQ09PnM+sSIvDfnIQEC6pJpidgB4iXLZMkTEaxuuX1wKU+Z7B86Q81w+\n",
       "jB+j0pOzBBQRnwMvlNsU96WmwQLuBC/GlCfkgVv078KnZHP8IOuD3XgT3rVP/+7/GSbNk7rRccP+\n",
       "TXc0z/s0zav1yPm0lBXnqyTr48WeiY0xCXplbW+QEqVBloH6g+0xlOJ4cgpPlg+QbDgLm3BvJJDy\n",
       "bEbWdUvvF99uAcjFfz+7VYxK7X/6FdKgFcrvQ5yFcHXZK1fcg7MXUkxf3/EGEERLvOdtLW9kv/xC\n",
       "Tdm91qh3DJ//q5iWdN55E1GoBYYZPXaQTiDp2wjHe/moTJZOrQng4rFjADWtbdrc9NOqF7cLpTpK\n",
       "IFySmNvkhUhCO/xfOcA9Le0g0y9/C0WV2GwGhwOzwBVcHMyHHamzmx+MAiD4Go5sepYyt4KA12i9\n",
       "nFCEjFySXKd1YEwkNAzPFSGgIafWVwu8omVUfXDnMxO8olvJQvEkCyEzrCYiEzny9qU9SXxE3tYV\n",
       "4kalaEfy2oyfPrpsXltB4M0hjZ+xtna/3XWMfWq4amsrRclTqSe7ccNPZhQwJtiDanNrdepG6Pft\n",
       "kDWdYiiEy1VHZqUeb83NqYl6s6BJOHEqLAxwGi0VanJtdzH/YxJ5XcyClBzAv2vc8rQXpkDK1B2V\n",
       "VlD1SqmvPJ6v1oRxbWf/Zu04EUPz22YyYN2zVLD6105ng6zv5gKobvT7el1sh3PWgw1mWKdy66BY\n",
       "j4HSsFuFjt3S5QRjl/yTcfEziRmEGXyZ9m79+0tCqg6jbD4BBa/fD/DcYPaxIM1MPWpbhprbXMyY\n",
       "bAvbqoB7F4nLCcDrsXrd3GvP3OJOpELX3szrhU5vGx21n5dWiq4VBisfqkf/0ZW/be7MM9OoadSg\n",
       "Llw9lFjZ/+88eQvmMgwQq4bzHplxmgDF/K7UH+pV8dNOtWTtO8olECxP59S3R/6Mc4bFt354CkqB\n",
       "StHffy5+/a9kZEyjCntJ1bnIRb2MRefl/uzu1G+4MaoF+GmyeEkpXodQ19YGLGS1C0ABQTX29htu\n",
       "l52VN1RpXbbBS2Qeeg3WNfGVm2HBfM3UTkHNopQwrH+NhohmtrrkxMRWbbqAM3KzwhkusHuQHRML\n",
       "4HDZWUnpwyd4Cx1S7eWn3XB93b7JRdA6Redo6qkRl6/dKe0qEMFYSarlRqR+xvhVnJZlpuY5Xoz2\n",
       "urqqRVhp4eeb32DIFAGNeowb4p4FIrOItxN3iaEkKgFsIyFYkj/rf05fFH200ZH3mCs7mfB3rymz\n",
       "hmKqQYJWvD2jH7QzEriH4AhjxAFKymP7k5j22Vytxxy69Tq0euYrfLUDx3gtnGX4TrehwBqbTh2/\n",
       "GBT3YBSxalieICWTDmuGcI2nY+eAHNTr8lcBH35Z+COMLxhkV7TjJ78enQ762q4QzcznDwDSHG0Q\n",
       "VGLEfoXGD7CfVetuPqlR/wrNy+0fohLcf6T2R+iZybaxnZtGoyIB38HALE9MahcL3HJj/elFnePw\n",
       "JPhU0EFzEO8PqtejGUAkJ6ujR7sI3YTPaSZ3cncoN//zZNYJ+shSpcLL6ipFJuZB9/lGlVWn1L6l\n",
       "xLjxV9TCR8frUHw8RvUJTz1hlN/AB4Kd4S363rNaWCDPhbEqfuYOzGhLG6D2pS32WRcYsmXe2ocm\n",
       "9wOYmr0O02ifpqVpid3y3Sf/wMZi82uoBcllj6ExoOLgwLtACwGWPRTOjRu//+93Ld+xbAo3uFa2\n",
       "1ARVXpdfAeumg+23lOU2Exh31ggmiGPSqoCNbHsuJjeTruijkOy/TaMw20ATVnkqVYkiLwXuPmcW\n",
       "FcKop2izKX8fZ6gtQNp7xjEzh0R4tBgQ9R8/sw0MWt3Kl1Rc6fLVn3ND577WjxgG6GTvaR6bzWz9\n",
       "UUbpvBHv0tsqyGb4za+X8hBFZGn+Eh+XlZ4mKH1puo1nTpSCIdtnUpjBCsmWKyEA/6IQVjROFgtR\n",
       "gfAgW00CZ9AZ8hrioXOChs2er8N+EVtNY8GamYMJvAu0nl/PwEqn0PM+UU9UOor6Au75MdfEJW4D\n",
       "3lB38zJBRYTzQXWEaRl/5MNqUDkLcoWPOzTWw1fTktNbzq3Zbm2m/6h6sGXM7uT0O6LGz3JkvXxA\n",
       "a+lYCwBollYJYknehhG6jyRQlo8YIaZ+JzBFUMxVNKwnwVLe1klvBnACf/9MS0Rh/8hLQyD9DY4N\n",
       "MEHFNP+yau1xEc1iIRLTldlwZm0Tlm0zo7tfNi0Ym6Sp1mB6WPWGjUYIXtwS46V8iG/5ZbNMbYdg\n",
       "QxilCpjcEZBpyARakyCS2gbiCC0VtV2KHPR0OUayArpsw01PyGHejK2kF8AJyVShYqCbsgPYefpy\n",
       "ZcP+6M1+JcSq2oTtzW/vMjIz4RU+P4t1ntk7SK8PkpPaNzXlQhXLkV9KxSDXV/rnlXCMmJWKMU28\n",
       "eGTa1YvvF1QcPSeq8vV9/JAk4twwYbk2M7JkYl+1oD9uptTg3qVjZeivvlV6gx2ALmyBMGwDbC1H\n",
       "imzcd4JyWxTAQw/1BoAhAHLLE6SMSXNPecH4oGMxLhl7YWYsAGIjsFdkNT0BjvwZzvHDJek8g9JM\n",
       "E6W2hkEjIdY5m1F77f6xGHuBTQd7NtSCgjcZFQ47exqJg5zwO902V/uKGrqdUKMb56AXuhPWKuS2\n",
       "MmCkaJihyUuFvuflRiSLokBY2hb5KuIHFIpk5F54X+QIPi0+uZNbCO3zkiZtafUCN59sCwAQfvs/\n",
       "amj4Oejf6Ee6pVoT/KTJEPfR4E0ghMlGNuBe2Wb4XLZYIdveW2wqQ+hB9KrfkezsS9OlMva3bfyI\n",
       "SyBBqhwLF/BrzX/LNMXzs41ajyro2Vet7ZfU8ZDElXgACutoI2YVX6H4KLAXsUnUB6WfYEEp6syX\n",
       "f+cdmf9D73HDGE2eNFIVnL27CDKKIZ+bUZSZ52qpWe/EeZtOe+Qx2Y+OQwk9AOUD5VOyaER8PBlL\n",
       "jFoDyjb4cEzkf8c5UK4Re1s21Y+d8ygFG5ehXHLidQF+th1SZ6SMJtjDIvzeiqYKMq08fj1ZECfI\n",
       "GVdCY9uq/NQvhBbTBSo1a9nBAAAFgkGe5kURPBH/ACehkOABNXz43YhZUoNb7LR8kHosqrvGNY22\n",
       "A47yaK4Ppz2zwonEClnnPa3h/aoqsFuYAG/xKVhNQv8137xqWAMNULIPqFmMmMOkakEa7l+irh8c\n",
       "QdWYMR/6wmmipe+RQQdVV5pRSqRFunDXgbVcUnh6Xu256U4wLpE0VlwSCh7uqevIjGSrBMJHb2wL\n",
       "mS96aIG/sCbcwbF/eFlPyxcoNQID8dOt1eyRqOi/Ljn0eXXATW8SVcBA4T3a1tLX07wm/OjvB9xT\n",
       "oZPCUcH6gVEz3CxKHyWVykzbTt859+ZwLAC0Z3GPJBuwObjkBF3Zec7Ew0aT/5CSgppoMVXuVFXF\n",
       "FwqpR5Osv1Y6V5DAa6f60GsV5VTVjpgKrlPojdR5lqN2kxa02YMqaC7yVbWHrxgBt4kRMNClJpDW\n",
       "VYBaHzrrodYpQpctm1TFk8ghuIfYK2KixJBecmTO9dB97X2GjZzCLPvXcRV1g38Av/9TAl6riL3R\n",
       "d5O4OV1WEIqF86z57bnD36WFA+a+H/HdglHN5NBNWclHa9I/JAsYzAFnMm1X+DA9ohmMZlFBDdtu\n",
       "nqkUUHT7o24HrE30jMijCSqhjSi/L/VAVmWc6NTfzEilaRyPD7vaRQZYPRS7HMR9uaapBvkQUYcj\n",
       "JUsbEDEnEswfVZ5hGk22+oiTZ1AEgHV0fXyzs8/5N92p/K8yhMn6eH7x6rEbMnNnN47idIMNho57\n",
       "QAqVcIVEAb39Z2zhZYwmzaNpZR+nr8YFpQg2RraqfEimcb0aQKH5g4ci7Sv49xpVU6d9pQ1qi6/B\n",
       "CCns8s5iUHpcwvLqd4fyKy6c6tsxBotb00N148L/05Qhxkys4jT329M0jXX0xziRI1cY+zkQ4qoJ\n",
       "grABvavS6wIHo/E7K3/Ea8H6jFV+u4TDg+t93z9KtHFZclCsNDHvLC9PtZsWMdMPcbCLBwoDo7OS\n",
       "tDDEXkcrQgiLxf9rCYdRJ6gexXsfCNYflz3iMaZKqhKJbjzFMOWk0RApuB/lx7irxq1pGes6Cf7a\n",
       "WUizHnE/szSIkoiq/K6lDrVythBs6yE5cY+ew1i1ZCsMBrejf6YDLEYNUkxifFlNVdHuaLwl8Rq9\n",
       "3uT/4y+BKlJU73sXKU4iWF45+XNEc6fBYA8KORg30B5jN9SXn9LHDs8G+tkDMBhODUD+w7p3tEow\n",
       "NOsB3xb1j5tzz4xb5En8usaPuUJ5pV4LqjzvCdk+afjz32pLK/MRW0JRkFGkOhj713owP3jG6nj5\n",
       "8/pFnrXg/Fp78GIX9iVn+w810bqJQ8NsBRulrp2B0KBDDLdAePJpdyNM8LxZduECKt7lYOiBk088\n",
       "6TVPTif3c8GcutRO5tnm7IMtiSG/zfhuYFVbP96yByj+a1AmuWGKwDfb2b6PWzEIly72KA+2iioT\n",
       "q5KJzM/wVN7qIFYvl5jD5OUTCj4c5ix8BgX8PUI3UIJbNEhn69ntH9QKf6veSesfVqzjkYj3aTma\n",
       "xhrVaQPCzNhnefUZlnDP7DLRQlT1mqt0gAjXSw7fWvlGeRh7QIkxjkkcJcBD+E3ir36gjZHBRbVT\n",
       "zhPuUoy8Zjc+xt1kgUTeNz9/2nKtJum/6pNMhO51tROVzp1M5Y+idMnPHnge+6KnchZnwIQM708B\n",
       "e8qBL962L2g80hLwjrsyijP5kIOJJkf/3aTPWSWeoWPVj968sgoTZJM1giwAGedUk3AeE0v5AVL6\n",
       "THbFrBOIBgvNFUku//qCIUXezGuAFBXe4hyFmWlr1vEZcisUrU0V8DV/BrNMQoxPQFIwMjw3qXXE\n",
       "cwL/qEgudQFqgCaTAXDh9JQc7PeAzhE9PP354551BGpdUqsafTMqRg7Ti8SEtwkPrIHK/BngLq+9\n",
       "QMggAX69gQAABUIBnwdqQR8D82lMeFa7ABEH0rIkXKrPOF8UFMOEHHgqR8d1LXLBxf/Ty9mOkBkd\n",
       "3M/L8kszRmP6VwiTMItO7t95E6h4VVfrwz5nS/MJgD3YF9AinehbeulPMyUkqwNT5XI7hAlof2+q\n",
       "JeU55CqSvojmECviXeFen694mgpPGrlX8eW/NO3KY/7vvajnXSpvEQ41veKbOF18qJo3fs9TNZc4\n",
       "DdJ/6PnUAHuUsfocHy9fRyctNkQeVgB0susEsKcFquYHWDBXi0D0g5DyGyNd3cqYVfo88AqBh6CO\n",
       "Z2UA/hFRRJj1z6Gl0Og1vA6yIznrm4hyp2lUHM738YgThnn/zSDS1aAP5J8+gyZtIQwU/DYmlhMZ\n",
       "58CSq4U0oBjlGNrFeI+MVtdLljbawJD9FrfgnwYdOSuekbFPMfxawzBxqL9CFSUfJB2CFGa9cTtP\n",
       "y4vHsUcBs5VZZ5vToBqu1IH251evlIDt5O3phWLsE8TzUf/V9ve/+QjVIJSQ8dcCpisjp3o36D9S\n",
       "Udfh64sCO69fOkXnkT5mbagO1i/STOIFkPeBWOOf/SqKIUjEREKxkFCDomsontrCs4i6N3bzP3Cp\n",
       "d52c6TPTFtauv886vV9nVWDJ3XU/yxrsxoN9XHRYcji0VsN4aRRDit4xKSl33CO3PE13zOLFnjoo\n",
       "RdcMQ8CBiwqWuQ6L7D1JpAUlKCc12FfvfUI2n6rs7Z1YssOc11QC2NsGLjZP3zaL9Wnxgg8rje+p\n",
       "zEpx0y2+jEtry9g3pS/2YI+IgM/WlJt5X6Mc2P1dbYUsDOeQusOYEEAslfDa4juDVCyk0R9wfHzs\n",
       "3ovweEkd2t9AGIzqNR6IppVmrVdIAvM+dQlGbvkckxN5SBs2waeZvMreCl4Ou3sga6V7Sdl076DO\n",
       "GOgUPf/e+usTkKQouW0vhBQDNBoLMHoMe1oHltoGQEusQi6pu0QSSABg55+OxYSjpLo4RI5h/UZI\n",
       "ZcrAaapOjWQGRHKwONm0jrtq5qzfjQ17/5REc41zhkDV1GQaCHTk+PIHugVpQXgk9EDADmjWsOdx\n",
       "zngjhKxjOdzB1/ydBgZ1JRHrM4T3uuKY+c8vtTRx/O538mYUkM7k/Yi1pt+6ylZoCOjtRGI3yEf2\n",
       "jc8rTZl/+PwmhojZD7G6V9V+hu2OesuhLPF40VTNjaSpaWTqZEN3FXHkvFNGvD/PUYHiZDhdQdbA\n",
       "/4MqEJd/LQ5EWYP9ru8Mi1N+LMzURUnCgxjXlXAmodCqtAHDnxL96dslncfftcLQJpmU8BbnWfWq\n",
       "N8YsjEIo59ay+QGN56r62mfFrCjyx617VinGBf9tpaLoG7A207y48aUU65l6npcpLdWMgyKodISB\n",
       "FmsvepSd8asLtc3qrF4SUdCfBH2K68Z3UCQMo5CekEOHrHhuDIrkkNVigDz+/mNxJshyEjVgwljV\n",
       "Q+ovHaw8tGL6M4fE9iYZv4A6VlWsRuNJmOQmBWnbJsVA8VO6kzTikOHfi7ewB2jK9R1VAqqUcdkU\n",
       "Z7EdzvgkrfxCcg7aHx58l0wLTtoSmHbUXwZhxF2GLZqKsvctLFo+FhQjfSKkQr2Lvy32Wcngh52/\n",
       "e/1n5bEjuq4dsYpNWU3eGG7B7ZJfk8zoN+C1bRnUiP+YSUGQRpBz1SydtJvwB9Z7PgI4f8BDXc3H\n",
       "Yj+ZHLQJ0cPsVfOMo9s5ZPGPHxsJRpxEwjuNo/QecmlNVnvzrQ+cGFWNKuBUCIcQ8onayuWNThl2\n",
       "F/S9CsWlgf05aYuClCt6J6pwrga88CZvYPEVT7mBz/Kpf8wKrt7/QOxDWU37zgAABnxBmwlJqEFo\n",
       "mUwIJ//+tSqAvNr8AA5zediZJtrdQJ4JdqUR4Ae0lLmw129UYCVlzzGPzG2PFcGsA0Pbo+u74/sA\n",
       "swc2tkeqAEA1+64AYSMJBzGMC+nWJWoQh9qAxFZ43nNpJ8zbWy+dIJBcjLhcoUqIJxDA5L12n8Iz\n",
       "djljGMYW4MSPvjExYdARU+PnZGG87S5+xtrLmXKCNzeMleilBvbixczcEayj81buBHMkbkj/Yk+q\n",
       "I1BsY15TusG9FISshcbnaD8hkeH8c69o2qrDBcofpY0cIeAFGjI428wXdA9INmWlJevrMo91ksFv\n",
       "A5x3DXtRDE0tAW06Pi4UimF9Tuezp+pmzPm1vZtPRiZvvdYMIxWAAJCqZnLXhSHX2hgDCMZAmq+/\n",
       "krM2eprhF+H+vFI+Hu7tJ4ZD3lN90nUttT7oJQNdiYY3DRzikqJD7/vp+S6vuLAvrfgmPZwuWHNr\n",
       "0wVfpk+B/RgWnnhSAZXXZdRdbnuDCds/tSuYy5AwNvsZ61m8euFKvjQInm53Yz9f5m7/wP8ceJHp\n",
       "p9Rf3TDVGTljFEdm3slNDJaXaDjn9Wy7562qzY/FUJ4dEArG59TSuX8pfle6hsCjxBnsdkU94OPC\n",
       "sHff1TlbHQFjvJUYdtDUNKhKoZabhfkze5idW5q+Uai1Kk7j3yF3fLj3FDISR5GgWGWd6RrmOPTA\n",
       "NKCLpSKfIOu5QEVplUqx+R24z707x+alQ3kKxDERM0pH740fW4qOWUrcn+pXgGdiWE3pJpjn2AOI\n",
       "lrtVjwTJjGMrarx/7gWv90NSPKoXHzhCjxxU+dPqFFGCsQdtdp4Wikb3uk1aiD7aNx1/BwHbSDKD\n",
       "hAu0Z3poNdjOSZYaeCNok0EnpEG1XUr6xr15utME+T5zTQDdsbzgfRXTI4qsdw5jfKSEeeedwB5A\n",
       "dZz12GNQtRgoG+++2KoArSW+rI4MaIu/vAA+uHMgJz9QQpztLzwWVbgCxFzNxU7c7cx6NUm166pr\n",
       "bUeOaQm8oylaAx1rZYBt5t516eDnR2jyu1hkJJxFm/hFEJsU/956X1kbfz1IfM5mCdtG+s2+2rGC\n",
       "yaG0kkEJUNb+b+nrqE9HFnzBZv0OCHZMZ2l8VDQIl+ZPtLgTIWFCyUvD63tjkdRoTDEVVQPqva/Q\n",
       "kNxAuD+FqrZnccBYpfvBGEedxiODS7XEASw6477j755xB0EveyW4IPq0j1bb50IwLz7+mLVN7shS\n",
       "5VggoqxOyanXjtLcnuBrLvW/1dalNh3w9ISabQMpkGC3BJjax1Z+oph4Pi/vxjbLAoEYhP5Kcw6A\n",
       "5/CiXOmApjFZTnddItutr+NdytVAxEpaO4c38mPqlCBHtAH6o9MJpvMHWfpx9sy1R/Ey+9CFDtuK\n",
       "jPoShsZ8APvQ9gFxEKBXcATlHiMqDjcf8t8Rxm5lxUlnSm4qJFcagG6DxIYNM8LqNPnA7yXELXuJ\n",
       "l/Pq5RhE37fZ9cCYt9H1NsI+sZjmbmXKwQlb32U2knDc9VsdXM8Y0y6EUVvwXwdaUyRXZMQsRIvM\n",
       "XmWLvsWIObXfFAovMhDqty4OHFXk8jWi+1hWigpWkdFqpfy1dWLb+U0lLqV4drYTHL+D61qaOKYS\n",
       "IOn8QpgrytkI01SdDWv7mxJQsIUs1dv4UXVbNV7w1J0/lDbDclWVC6aTIFKKxWFkvUHOh74yCSB/\n",
       "DNeWji1eujX0kPf5faDuGmhB+SI4gyCaflvdh1FgapcR1ni9ueeOt0hihf3JCSSS6dGyINZsSomr\n",
       "jXv7N3z6wuW/E6LG+KkhW4egvEQiCqDpDpqDr89QjPMWl0b0GnygBKUL4uOjqiKzig0PS2+Z6iU1\n",
       "pbuC38hIhuHOiRsb5AdC5MjMahTT+94MMRR3g/56KvDwnCOGrJ1eZLFYWECfi/JJQffZWMkYO94V\n",
       "p9SUe1tffXMW6qnFAOKobuOVaTRIYtWTTNzx8yHHFHERbKLj7UBQbEeRIOqBJGP51OkcHlPTYvIz\n",
       "MwBwfUeBN02lPvOrL20pDsjTFrvoUPXluPRe0G5fvrMwZnmvRKcUlD4UzFYMe8DIrFIgiJCzqUCd\n",
       "xurDjV58tymrp4Q1m2hBGC4v7tbmEyITRO7Z1OEbIYqvieeoDN+gjGqZIkkozvA8Y1G9hUgWyO5b\n",
       "vn9bSF9AibcgXL6VFCqA3YnTRS9wLDqfQvQa19OpflZ7uV2seQfliqGGFoBIa+VEMmu4rZqgx/2A\n",
       "AAAG20GbKknhClJlMCCf//61KoC91ODgA2redicb+Ww2kDn0pjR7ALgAOKJWHVL/JoeTmH9zusrp\n",
       "5E/BfPrHfalxQ6SkA73LBMozXgmYHS78rDXlsmboflFQpjwVDPpkj38+nsNfcVBPtetKtQkUKhZ1\n",
       "ZVO3NpEiSBX71EMavF6TlLcm1/uYp3ZDVlFYvvoRli15g39I3x3dXlt1AohVAYs2Fw7MZkKcJJg1\n",
       "H29bBekoE8LW23joZPewXJRr/hAcOVZD3/M4RdDwc5/qarWGbmTzdJcTKQHJEYtM1mc1NR9iDE8D\n",
       "zjK8KOkGJH9+rKtVhafulb+j6cAx9sJxAm9Z5cbFVfJXplJq0itiTuwBujCzc61rtk8b9A0MTZrQ\n",
       "/Q5yCA3nBTxWXrKb0ASGlMJVEUxvlC8b3HS3QIX388fDK6jrszr8O2X0NgJKYLMehWzjPPbIXnEl\n",
       "uRejAROGKYkvN+U+MDE0T/2Bj3J7TPBQC+SBtOtn0ABuFpeq83YzzNN424IB6TO5cKg8y950jZ02\n",
       "8mye85PIC26g3QTcYwtGNcAQBe2yyBLBC39DytJvyDZqBRHHUvLwBejcp42x8immJj5KwLgC8+Gx\n",
       "b4lXqyNu/zHpIMh/ksayrIZKWz3g3ZNlZjpW2lW7u9baB0lTQ8aPiW3DTuDTr5sVPu/vwQRgfGgP\n",
       "RopDQ1KL4/gw/mrxXmQYfP8Nb/B3hTL1044H1Zeaky+l8twnjcsS5891aXPSWKi4gl9dCEgcquQV\n",
       "CbYo3ozK8jZnA/KZrcsH42sKI6sYXGzlKpQCu1Z0AeNCxOuCwgLoRZM8ZlszPDmbh8L7rPsFQ7XH\n",
       "1YwiCx4/k5lWn7tL3cmIv4ZLgeElTp1RQtKdcDm/3Ht1Motjv+sVKffQyFO6xIkYsdIgxcJWWo8+\n",
       "T3NhZHBvKFirbqwJ0aRttoOmKrA4Pi7MBjO4eAZEYTfUCyKDOqr/nJiKUdQHO7G80giWm1NWJIlr\n",
       "8DCq3aWYrZ+KXx0LClcyv2RgPRZ77Mf7/CY5sQCUbKh4odgadF0W4VHQxRG5dX9LaWMKlOj8e2hn\n",
       "cWy6Dqe1Xt8IAPyJxTynvC5AyXSHFL2Gx70bMpjAJbMCyQj19AmZYrqmoSYMPv3SrDgbOuuYJdxV\n",
       "NtPrWczkU4ECcxpccdUbwQGVox8IIi7t55pwRX448z9IDXNLmD1lkGUHkOruKKs41iX1CpZmLgTt\n",
       "3hsK63ZCLH3ySUy2T6Ly2lYGzSkqspiCKzk3ehwYuHAUrn9EyuSpTUjR4PquyaBP111/nxKxBznI\n",
       "EZqPUyK9mP93/pqW8ZOzlRCgo5JW7frOtYO2v4+HQdL2TbXED6PICMLx++HabcjovqVmDlfkYEq0\n",
       "d28s+USiLc7ZWRKeg4ifddY8Pwyqm6Uo9/zZvyI8q9WzmQW+44eD+o7MbhLS5kimGxYPs1oYcewY\n",
       "LWOc92mZ9puleYgAjbdZouPsy7disSZ2guieOYXvb4bZlbjdsjBavEc6ITFGR6Arn+c2AMi0EPi5\n",
       "oqwPxw1ggK09cJZ6J9u4ar1uqtJMOdoh7xFbe1vTIR3M4o0WTidRjdzLEegwt9ShFABP3hGmooUt\n",
       "UKAcfTaMWAle+B/x7F1rL0m1jDueOA+txSTQIFj4y+EaXTvNPeAA5Lacxuuz/eQt/CXhednzkoUc\n",
       "v6c+wDFe9pLC5qorcnU3amMexYZWzv5HbvMfV6oMuuqTSTD98lA5dnwx53R6MFEEafWLB1+y5Kk0\n",
       "wyhPPxZW8SQZJ11qUJ5MVP6DA6N+syfQxCRGsAfK76Ok3DqISu2L7Gt2Bl8JyXNLO687y6LSxjbd\n",
       "4guziYxfaDMG+lLsZOCdNvligwXdk3DuHg/tzaI7npkLKWfn9cvylOFVDbYzJkjT1ONxDH4yH3Jn\n",
       "ITj1dIEGp+1m+ER4UizjwajWal2K55NoMyhFrbc1lyobsEW26150vwFqyBTM1T8pnDrtGn3VBR23\n",
       "1BkEtXsGyccAe+wisCxpknrB0txIy4sOY3W3JNFR9C7YWMjY9GlAdwIebhIdeBVDu4kHj/46Nd8/\n",
       "KAYg6AjDYDNvZaEdLqd3FJauQ8r/K42eQoZg2MsWl265gY68GB5KeAo1ncuFBSC2cVSwKLMUULJx\n",
       "R7nTm4tvXwcG/Jtw8hfWqAyaPG5X574tcA/c5ZyRPrfObnMLgUFuCAbPdjTWiAC83bo26XgzdXlh\n",
       "T/o80G4EwjxKxYJ7T17FJPnlaGrAGvNXXp2MnyhVe31faLM1nh5FKiBOlP6XbBLX3YUEg2UuZ8aY\n",
       "wK2iGQMRekfoMkHjri9B/taA064TNIXjCcy5BYVzvDz0Emzm5giU3/fQWy8W7/3bXwAABglBm0tJ\n",
       "4Q6JlMCCf/61KoC82vwADnN52Jkm2t1Angl2pRHgB7SUubDXb1RgJWXOoA/McVLGjbd/YNdc8rwt\n",
       "OA+4FCDQv9e73aKjnxynJenAR2PemU8OtV/97cTw661lqF3MaxpJC4spj0mdvPR/EGBaHBB25VfD\n",
       "GJAx38Iu7F9LJcNdouU+AcKb3mPH8tFZJx6qlkR8fNNFrXBwpbJ7aHkt5ro/nTDHyX9Q+40/kXzc\n",
       "45iB/HW6mE8KDWc3TDQJ51R61Ih9Bd2Q9fWKYWXYiUUX0omy+sIVzVahEIQqnzgYXn8/9neBMxOA\n",
       "KY17g7P/Qp+FWu+17tKxnhB+NckGOghGmqhZUjtRLJ4mOEHbafWfyG4iKcolZ4Lqw28/+upm2kVI\n",
       "b+1gy6AFLZ4KjX+bnb7VeqjnwwxlbkN728lIWNfaAaHJXYAsgZBn1uVDVFY2p/dTsW6dY5Xpho3/\n",
       "fxs5Ewg12f4cv6OmmZ8ntudrHzP9nfd7aQ5pum5Sa9xaPO8P9FCR3e4kdgVr5nyIYnMToIgiHhLP\n",
       "+HEMnMUVEbKO3exNz+Z1QKMz9D9u09wHMmtK3w0Pk+JE6cHOp3ndiRY5BRdGuRJGEPaS+3/+tK9e\n",
       "SBu7KINVWWKMrzGhuYN91F8SwrALeKMKE/pgIIHnJ+smblwfyLhmTVR+zrXQ7YF9zyG6beXNMXN8\n",
       "ZsccDYZLPdK4lEwS3DOkm4ZSCbvQ6zayCsQ99HXtdlf83NJc7IbUT7ystXT3lkdO4PHDbJ6UNjxj\n",
       "rN/zY3VyqTkuiKhRhOezaslqlLi3t7hOJwp1DfDNXT7Q4gIXQfzoWwT9VYu4Dq9zY4BaXHn82qso\n",
       "ZdlAbKNHrbAtA8GXqsp/K/0FksboJ9oCl1X//D0B0055O3JDLrdd5kevAp08FopJRdcQ38AQgWVJ\n",
       "kXR9J/Og/xN+TXH1wlLz85YFyjhg2wRBQugpylDWnI3mmHROwcf4WYOa9D5MAYREAKcYipI5rJ02\n",
       "abe0oV0A7zn/0KEgovmIRQczRJd64+eqkCz0F1SsuFLSIRjFWxJ8laGQ26vWvH/4tKuta93QgF1F\n",
       "UfS0BiEBZThEjGKR00Ut0VFumbyMfiTGA5KGiioUhRBAU+0bxEmKfEsjVnrOt9DkEQDGg9zColgY\n",
       "MnW/Jh17X6zas4mxYBxlx1WxbQeBAmuaM5rGd2yaebcQ0YfZN8jNnQ8wAP8MEh4VKK8hFPASO2X/\n",
       "rZCgKU+RPIXpJcZUyj/AOkY5OQrzVR1QqG47HNp73Etazo1OhAhnposumygFbpmQtJPNU2D/TGhA\n",
       "2yA0LkMg6htLSIfqMHO6xx+OiW0o2bs7x/Q3WwnIsRGXwzta63m/TpBDgEn+U4NwAQ+GOKjhdFOP\n",
       "L4jsHXO91HDLfYFJZjNKtvCOUAli8Biq1IcmUkIhkMlHazevbQ237TwzvWkeTGqWLeQG9cXzEOUF\n",
       "GjhBzN3qqrWSOXF5ZgsJgci8y2DaHJxk/JRlvZc4spP71XXYetJFAbwVJrw3Gdayf2hNEZW/dNc5\n",
       "99nxmZFbFOeH2pvhOW/6JuWZJVcYHkaGbdEvXeFJhyO4YKdNEoLMGZj87n3dEMqt/usdBZDoP258\n",
       "qJ4sC9aX8PverN6fncfe7vno/CyI8GMDwyOJs0rnHGNci0OM+/8x5ZhkmvgztxLHtRtMl9efZWW+\n",
       "wUmjEpdjnvBp5B7mWqpWtCGxMYmEVt1IIbED9S5DduIsZQJkMWnTi/QGTukEBOJS5CcdWB0aDC8G\n",
       "noxUY7JHehYgm5ZEPDOUu1b09R1xZipaVJnDkeklS1HKRJC02/YvqK6t4Eqfxp1D7KSZ+Jlygm8a\n",
       "jZSH4sqqdQnRWZRaonpApjWM9tFbhJTgWCsFD5QCZZA06hgexXMr4PvO94tjDIPnjYJ0FLpYe5Xn\n",
       "OFOMEtu6ZROmznBsU/TmUFYmHRlseipdnb8/a8evXHQKKM8NWzpPE3JNt+WM2krrZ7/l8eOVnR/I\n",
       "a6b7yqW8kwvZgZCMB1jTZ3es047IPhhQ9lLYbsmCrXrV3xGbUbc3rnyMBO4JaMsu7OW8fKwIGcMa\n",
       "ajAAAAeSQZtsSeEPJlMCCf/+tSqAvC3agAiFSzOcup3i0Be/sh+oTmjO6Hp3waBa/h+SwdaO3Z9U\n",
       "j1UMmV00vzxqzFl4LeoDiKWZCcjhLk1U6daNql1xxPzJZ/QWh/LPvfzFL2lWJ6t49NJjdIvfK8Bg\n",
       "c38dSuqOYSTArWFxYUcXO6/N6o/QsVhLkdMHs5cNqL6jf7138TchWjvWxXHhC6iVHtK6jlbBp9pV\n",
       "kJHSEJod/+epaYivUbbmh2XmtPIaPzHq1O92Amm5AE8pHPt0jISU24xCY68Dop6le35SuuQI11D5\n",
       "FBZzzbROQgeUqZI23cRIqNeOT4G7gsaUU2cdLvKZ6ILwMPR1bCku0o3fvPmInYcmwOJDjLAsuS1I\n",
       "F7yAXKT6F/yvNbZpZANChF+3xqBEXaHHvEbG7UsqpP+e3RIv+ZIX86Y5fcpH9WuRlxfrRt3LNmqV\n",
       "mDK96sE3QpU2JWYiOJfg+CocWJegQY47lynuTiavvNJJDJPkYv4dZ5xora0GON9BkToNQkd3sLuo\n",
       "WOpWrtSErnjlq+lEuxIxEU4r53oQsgTZ6MlY0bGPWtwFEnw+sgbkD7YViLxvyZrx05GJ+JjIEi8k\n",
       "mTEnHnzZcPw+XJe1FlNFmPKMMj6zKtO0MkCwz53jC4FDqYeVuN5LIkpSvhG9/V/07FtCbCvu+S/U\n",
       "X6dLyHg9NqVU+osnAj92QRcosQqlczEVIdGWeP0aQY/dsf8ZIewr+x0VwN8rh1/29Y9tzMHQoZYD\n",
       "J1ud4wlCF/7f8HpgsO39ilrE35wUulPthy4zXBW/+qi9xdvSWjcNLHNlRgVpy9Oic6dyMngK+0zP\n",
       "pGFntp4uccuX94Q596o6mDoaBIdqeOkWqZTrZNl5TXsZ87RG41LDhIsuX95CDEAdHSq/zfxRX+3c\n",
       "3uNukZVtohII7PUisCMw/SvHoe4P9ddhAH5xPAu2ImcWd8+6akdwZlWT4VrEwfrC8aVDEV4cM6Dv\n",
       "W7gGNGn9xyBmciBaeNhvTiDmp75AqsmYkqm0oaF6imE6b4LxOdVH1GuUOEQ5g+m82/ZBBtLD47er\n",
       "sTQIyXKebhaI70N/LaVPFAcZt6Yw6pDtF9YM5EXO69bbm/7/HJxIJtU89xptInyAATrf0ipraxfs\n",
       "3rVUVpP+bK+vyHbz9Tcwb6l7nk8OkGiRWxoFKgaYjyBJulu3GA61hTwjD64ARJCTWOyjTE6+MmjX\n",
       "xZC95FJro1DSuxSgQ0X4iRO3sbrIXU754NYiXjjrNR1btIiH226gG5vI45NTbR3b/aDu7t7NucIZ\n",
       "/325BwSX2Vgzi9Qnakec8Py0e3Ihvhap38rLBzP/qYViQkIyq4zKOWm99acOxjzpfmVZXv//xuWx\n",
       "3jZmPv8npP+3oVXBkoOl1H7nrPox7Viap5CVCnfbd4tfRrDKSJwNiD7K/TWpR//5XmSvQ1bxQnmr\n",
       "1/rX5YmT6NoY5CclzeOALJSejU09/mfq3s4sNWK0wAsQYP4Y2y4JSygvcQiYmAn7Y5FzLrNNU0a0\n",
       "wQ8NHZ7ChWCzSt/f7LkZ7c83xAQKNg0KGZOn7sdCQi2bxT0vmV4hoesnHkUBgDlndr9/8RUxeRyQ\n",
       "C4aNWJzBnp51C9gnkB1OReUCbsA0M8hIh1hWhrOYXtLWm6idyW0vB0ZdHDz8jrfzN8E5RWMx0WDF\n",
       "eZK1M9YcLMN8py0++8E1DwrYJDfHdMvLQTqvtfKzYQfqoo9BmdYGO7IoXrS/StbxAjjuE2cOJ8HX\n",
       "l6aeZlWOb1eX70LVigBu1Y7GCSP288VdcaeeSVHM76EMoUl62i5BzxWdV8b0rfTTMt1iWa80w7WP\n",
       "Je/KyI1srtZf/dpm33OufCvJzRH4WA+L9AqWGAN+jEw6t2Z/0UR0MJJlq7IFhVSywx+ecZT8KfaD\n",
       "EZLlq+HU0pTWPo9TSk2Be3Ux0Wo7Y8j8ZqC+dK3ATfNZS3rn4xqT0Shi77Hh1eiszdMAjMO/lr47\n",
       "VFuefqIfz+S9oa2eray0/6wCG10oX5iYoIevA+g4wvPD8Xqx5eUDJSoaI2mXvMDfJBGZJwmUgBI1\n",
       "Hs7XJIMMsocsaxNuTxjIUQZFQ4Mme/8UHXjKy6qblKBhBRM2yNng1zSaYsalUi1QXUwkYQa1n94E\n",
       "35a7rqedJA/Pc0ntg9jyRHCWEUPBBqHuI1qRAyI1wH939VNUKVXEXPubZBhBBOu8A8nnKl+iPEfR\n",
       "ncXeeZ5d3izlN5IPb1z/7m/e66bvtPsHeR4UuRVpGFEDO2twMeUAPsbOhfSbPRHrnkWvbCHbM/eN\n",
       "zEpCLMkaMamMFEQ+sy5jiNXlnmFwhdlBYa6SMmjJg0Y3HnUavEzoYVrFrtAqzSiCDsnYBh5jt1U6\n",
       "ZI9P0mBYUTsGWPGIQ2StAVVso4sSFeB1KkDTM3NC6Z8mk5gK6ZwZ2xpT8jqKKLZXZ4d4zonlf90x\n",
       "3MfDjL3nOSFw9zDC1mmy/b4t+AgZSKT5OJzBjCu0H1QSVgu/0UIiFQkho0g1ijOl2xIF1hn5h/cT\n",
       "on+PeHFjx7WwJ42DfSoABOsZofYMHF7IqefjI4SfJX93+4LrvfV07yai9bn+WwI9NKxWCC5kUCop\n",
       "HUwH5UyAAAAGykGbjUnhDyZTAgp//taMsDbuiIADL1MicWdO9j6uVsQfEdnNECD85oMu5BKuMssK\n",
       "2eAp571coaZVsw3Q/m4nryJPu48Hp68ktj/dkGy8jqkb8/3SCHSuz1FFXpLc/Fo4zRbh3cm3GSf0\n",
       "Lx7YThKnd6CKDLo7Bwkvh+lA9R78nnWHI5nraOCE44xeULT+NT+frgkKcGDRjQYkQ6X0O4QKdk2R\n",
       "UCOszsx7TyrCR4K/nXSMjW29YFTpbnED1fY7J8H1jTwAQVjEzBLLm7Hhykxe3Vohn+ZLfiux2cpL\n",
       "sjjZdckx5R+sToi++vhN20w/NoYjCPzLTB1xyaJSqPVXCycsZf+K4Y+ERX9uXH1TWLKl2gRF6liH\n",
       "VEK6M8q6D0nA29BAKghGZXqCDUJ+kw5WS4hoE6OODh3xHva//oWBGzkUWts0+M7FMOApY56zVc8R\n",
       "0Y8XDecWagWm4Q0gY7yaPybpz7JpJA/GS5rlNRMmBvzo3VPHskgUTwpuj1j0oKF/ceWoayhCkJCP\n",
       "ovECiHUaXaDrpICcZtn4mbW3STSqQpz37U4v8NRzhFLXbxfl3PO0+1M4nAU27K1gQj4ISvm5+8QL\n",
       "tf05pwAV9Bvs7V9i36Pnvw0vmytyZo/GLQCo6zPqJ7J+5IoOtZQWeb0OPJLDRLMzq76CM56entZk\n",
       "qk9fJQBkBinAj0cWZq3FZUoRKH/0CtdA/95G+bHFyzv6vXhQBdZBukWLGhsbhgcj1ydu3ExLeRgl\n",
       "xgZDEeHupEJFzDbvqJLPPao+CNVuQCyz34pCnh5kNpNZXnLP1aBgoq+rKm3II/zD/AKtMT0u3c77\n",
       "8kZBdu5nKWdDpzad8L3sJmiZdQCokxVdYqOauHcn/jjY856/4kumlS/l7tW48OyErKcWx6lGYjWU\n",
       "LwTmCOwFWNqKlws3t5O2JhF8+Si/O8bG9NtB6AhxwfO4YG0XdXsHA0nhBgNKXcAWPBEuNRZpnk8P\n",
       "w/kYze8neU6nIj5quc7KV2OWAVKTxzCy86OSWAFiXHL/89Mf5MWTOc8Z9D9EYQLIz9WYityvw0zk\n",
       "3EJsQoqFXQn/L0HQYy3o7gRbYlm/kgUd0AFZiMzaxBrnK+msVVhS1eShSmCmXjBlV8vIFHJA/g+G\n",
       "iX6T0Ys37h/ynmlaFiFGRusZXe/J1iMp4kJ0MgcvaRE2hD1fT+y6B4tAMosqWGE72jrThDirJWEG\n",
       "hlbk7hViKfKtlogyiNevJQsMEymROYvfj1x14y+NgvXAnqgc1flG3Z0CO1faSod7Hr+bBnNibwPp\n",
       "3X5WaCpd4s1ZacnvjlAKu3cS40mRgjneCTcsNUsKlkcfO2BGVzo9cUpdIV7qPsnL0u/COPXkc2CD\n",
       "DyBplcNLs6myEslx1Dk3gd8wz2rhTuOKWBGUE+bnxalrbRAl5h7YC3C4eNDQSUcxpKzSy7oFBnX8\n",
       "bYPHZNZDFdkHKEIGIRS/jXJ9aBN/L1LCkhdD56NYvTEf6ak0eNmVXPy/9jXBRrGcM0RfA8zonEZF\n",
       "acEcJ9siBhCRvzD34D6uA6ar0EeJxsXFxacSeu8REz1ircaTvDqinuwmWH3mtB+g6d72QuHuiEF/\n",
       "dfumPQCMpymz/ELfZxWfMtj28tNA5C+vlzhPep5Nln8n3iYwb8HxgGcVuyBA/644tf8JYu1/T/b7\n",
       "JzAWt5vt2OH+uTDNSo1k1lpAITJ53Eilky7XRkgCAtaIVOplDmHMxZ/aCYf8JAzmAlhQ3qIzfWSG\n",
       "vt9iTF0PjpTSMIFxaJbNEnSKdEwqIY1VsU4ozuXUBb5MFtpRFLjAG2rOG5j+n7ACtK/x/eX3ITYf\n",
       "p3L5s8ik4TmfCusbt6GWP8mBPtD1HzAtcuMvXCgP/GgJ0icCNU06qWSJHbuKZ9oc8of0ugZInqeI\n",
       "dyYYwvRhJWpxxIAVv+OcPWYBqsX1hS4z+a107yzbj6I78+YBgg8SJTYZN021yXl6h7v+kIiFMuSH\n",
       "Hbork1u95f0HSJuN39pajMTLHJWpgfGUrangjur0s1dqSS3sWJssZODDYs/g9WOIZHVqOL3rTWNa\n",
       "ItshcYKgwsaldxrLTfM+h/hpiyiPFW/NofhqM2lGxvQ49PEnPGLmNX4zgLPhIRSocNPpHcMuMjAk\n",
       "vsqbr13FmqFiQE9Vpgz+Bt419+36g2ByIYXN9iL/9d+ZQYMdHVpaTeJgVu19HbBECkPvL/m1lQCE\n",
       "4N+AiB7fnRUEk4sSHIn509JyZ3MhFa4+R3RYchENiEElutoyGEunxgK8QJ7h0g60U/eXE2Aqicn/\n",
       "+29Zj14MIAu2fzeTyeRh9RZoZYLCojbS0fZizV8VH2o6Ly8esyEAAAfQQZuvSeEPJlMFETwT//61\n",
       "KoC86BAAQqpZnOVL+jT2uj8jRquI9CQtmb1U1AX3jZZUhso0vn35glrG8/vcNMNgdXSCy5ER4VUl\n",
       "JP4FxJdP+8GN344I5nVLL2GtLWNYshsCDWISmufTjJU+GAi60bNlxKs+w+PH1vcXfoIyHy8aNBpY\n",
       "M+cokhhXNSEUoDmVYPlfKGiMd3dKPYh6PNeGzdDcVBymHXlayxDQ/SnSx7YPl33wBlB6pViFTw3j\n",
       "mXo5vOpFX9W8IRb95RpEdLuH5HABVmwQkm6bpNI593LTF1xxr7JQCuL63d1f3V1EhUkhZptbwvqI\n",
       "i7MkX7v/0RMSzJmmhpFvqCJOSfJQ/34/LO9gJFwPtaZpNFc4jEQUm6vBKtduTWqEl2jChBz608Kg\n",
       "mcRmqayoGSyGp/eE8QVZPqwLvmC/hFmzxqAkUObSlLEYF10SBXoA/hUNE/xFyEIqqiFaFGYaH8mp\n",
       "QbvTXqKRKVorKV2F51XWXlLSARrXUSllD1F0fuoK8ume7asVNtUMu37wLVEyAMyM6sEP6XgR1Q8B\n",
       "SywU9kMs+d6okIeFgOJpA4Y3WuRrZ6ZhqKOVtS51yJkXclHSAOnPv92JAbvEhC+R8n4DgJWlYlFJ\n",
       "51jJXjA+PRvnZd5XEgGx9L2jEvXyuMK/qAq9LtooZE4gnS860YB37j7RDVCrTGCsb2jgsp7Fl5FS\n",
       "r/xH/+hWXA5ABb/5Nvg5BlrIWEVtxQwUBx4sHAld/OXzlLCvPvxUsGKKMUDI9P0izJ4e7ZvrsVsF\n",
       "U+Ls9peV6GQoOJ6CaL8L2K6oura7zx9UCbvPHB54DrF965C8Ij3LMQorXib+3HqioqvaPZF1TjOI\n",
       "HJv8oZkQkIzF2NJ+8KXGtoAVm9CI0yKEyeCoBehnptDWvA05kpm5BE6s55flGoeIjIUbTwXlNs5M\n",
       "WgKqvX9U/IRpK73uG9eCWDZoDrOOV2V4CH3z6udDR4kuTk4NTzBI8xxd6qUq+svxrm4xoBlgDNXj\n",
       "elz4BEAJ367CHqoOHYJeTGL07SHEC8Z6KvQjkdjQ0apXmZP1lXPIauOaos7ZOUJAul6XLi8wDM9D\n",
       "vbLD3vgh4E5ShYtWxe5YWRtS+SXiFQ9sBcLi79BUOMgp6SVdXq0zNht4O3Z37lkmF+QwEwF4GWOF\n",
       "cIxavdTxN1wB7YDI4BpppedsFH85WxcsGyrsZAT+FGwAga7OG/Yea+hOpX+vtOOy51KOJQEEJVp0\n",
       "j9/jbzHYITr1sQ1aLDAXAKmU9gwYoy5sR5FqQMlgdb5/cvy/itWemmK0p8SbC9OXXq2/nJqEtfIv\n",
       "a4Xzy+k4aRQL23HpEToW9YPaFwNGr/beQ7JjXsDUgtId38Cn9Cxu+8Q7mOF/ybsNshJi1u0LIzQz\n",
       "QPo0sWe4hOrCr+g4/tbrHuXEU2GRtHMq8Jk6h7p9+YZBU0rWm2SH6WV3bMzfGlGn3X+/OQPkThgR\n",
       "I40ME7ZgkTcUnZKFppBzaEW5EFo25ziIYYnNwnlfFe7E3aV6D3O7j8L58BJ6vhr7dLcGgiMG1BjW\n",
       "Marmwhi7gPe+e8IXybvxd88AfI/sMAFIseUxjSEUFvPUiZ0QEcnHnUazv4574v9C0piY7X4sUdHB\n",
       "GmV06ZI5j2SOS1MzoSPC5++r7dKW5jP5tjIQPZn6jPDRKNea42WD53WdFujyjHc+p4hqzaVMToL1\n",
       "3+YZpDnjXzEv4LJZHOJDktrl7xUgKoBAP0lWoo0/yKobZRSWoy1sZUPt1Z0nKvbLRB1n2IiwTOCb\n",
       "9eMgdQBLcPDSLprD39kTQkqykTzEtEenfGKRD0f5Z9MWFwyUdO2sq3BIl2TMme5BIy5qUEVycoDK\n",
       "29P8/OcV6iDxaEyQ0yg0akj2p6JD0X0p18xNi0+KtiLfT1L9dO8TY/tlGBT+5oK8IEr74ZOf1CYo\n",
       "mPiITrtAD8rKEMNTcDuMrEa3pK2FSY+ud3CZNuFREDc8+/t+tWJRJYIIbGI7UYr8Oviv8n2wk1f/\n",
       "B+eEF/tS5VdpmW/UdyTGq3qX2dJKUtXmQZZEiL8o2QdqGBzDNg4oErAebs5SGo259Wg1nMJ0Zq4t\n",
       "KgwR1xwXCRq7dxaQ7aT9heGTO4jirPgZhyRefsFNAH0BpM48DDeqq2it9tpjwLMEJgC1x7Uopt32\n",
       "uqblfhNxjF4gfAZg+6HqddKCvVF15encTXsJbdj48QsdOUH3UnNrziH/pXQk0WRL8n5Cd/wPPse5\n",
       "Q2APuQBEer2o0R2gvSkyMdGFfNUTmKIJ0m7ozJbE9WJ/WoUAYiqYCWkdKHl03RowRMWKEQ+1Mq09\n",
       "WEgsFiaOQKqX126Mh7TQhPFGSMR+z5GyHAnc7VFannjzXcz3qh8MGkGZs2eprRUI2BFC0eFdCcuj\n",
       "uQLtLW8XvlXs2ZOuxuunin7xwwU0W75vLihlXAouFirzwQqAIj6Ot8Jo+/2Fr9Mg17wWqE/9Z22B\n",
       "iRsQitpZiaDZ1yn7Xm5R/KJWZ/8KNBSWmOxEKdQRNpVSYJuw4nIyYZr4YpJdPneMFUcYLDGYSaU3\n",
       "jQSv90hqtJE7boChgDdd7/U1EMTaeiPk8gDrNiNdpEQNuSldRkimbSrJ4r+Dc82imxAvfztIYGGe\n",
       "UZjLeaidrFLZDiXW1+D0j2YXDZRafJHKleAXfr/hDAS7ncoJYmujzWvOzHpFbNUAAARVAZ/OakEf\n",
       "ACY7PDiaWvABD9wxcU1yn9dWlPOk90jKTOnRp4a+AUXFbzjSBRfgv81KaC86sHMauuVkszT4MT7c\n",
       "fkaDfunuJ9MmKhoaguTmbA7RapU8wJyYnohJbkQAigqKG0Y7JQ6Ct4+U65tuQwnyZ96MVsSrvpkw\n",
       "7vHOehM21bIVeSU0LEo9kgYEh3fVDjWnodlZ2XHXERDC8Uw4VhgEtTucun6gaFgQtWXjRTeI8F1m\n",
       "RPJfqcIiCK/Rbh4N74/ZziTtA3+mzphD8Ad1UhpdM6cnvEtNkNXdy24zPlI42KkRWuXYVm8jBQ0w\n",
       "jcndVGIFtKxR/dvO3/pTN/BCdbGrqW2SWrYlR4bn6tBexjryK/+QkwZMq//+3yDKBHXah8DO0J6v\n",
       "PuCqJtHjgE/8KU6leH3vHjjoeHcaOo40xTlmG1cQake0GG4KFg479cdS0rkz08eYx7UxXxdLwqwj\n",
       "vs71wz93CtCQUdueQEO5wGvGn6KYToAR8l09sxu/lJCmOs7oFuP/i4J83t6F+xCGb4pL7eZupQU0\n",
       "U5VcQBhYZ5G0+iKMgjw4SRiJ15fsJtZ8mF/DKjQ8GxLbmBPCw2sK5vAZh8rcq0U5ivFErlhQLsOY\n",
       "Dy0LglWvuu/o3klTy7FllhYWrXfZikXoh7jqwQtARGqobfri+IIuhCQ7vTf9dc0Ts/tqujI/jJTF\n",
       "gSD0M4NBLkDFvmpQbwsTIL9170Duvdvr8SFzM+IfxnWpyK9C7gDAJKGH+vMBdoV+5Jx8up67PKr0\n",
       "p+e84q1IAqqFLPep5MoTqyR9xh6ArBEX0BhA5yjncGdiP3mGJBq0OBPHvWlAdsXdsSnUssxKfS5i\n",
       "0e6tpU8lu+nSwjvckqGLmSeq0sPfu3DEriwcOAg7VFVkG+jO8KdO/IoCigyhSojD+IPn3uVRk0Dh\n",
       "idF6UUAyRbsfxF74mCebJTfMXS8nYuPZueGr1+yZ/770LowV92vpMtvXdd+IO5j7AL90fp5+nG4A\n",
       "42Pgmp/qvR/wxlYmqdTkWo5AtK9ykjJndmjrV0JFz6F77TQ4VQ0p/FgTW31Vlbg9lQqQC9cKVJN3\n",
       "Ph/n/keKvr+UbGAs0kNy7hWi80cVWGug2Bt/gCTcdGGZgf+8GTXZtVoq4uNejxvttVnFLPSyPoo3\n",
       "VHO0ca9XfPFGWQks/RDmU5xGADiNC3b/vZE7VETr9zffhuRJclM43Pi/BSlYfeCd4LR5gnSh+VvP\n",
       "nH5kI10rpLHXSbJVQOHYrV8jPqmJnA3VBlB+icp876yO7GadOUGuj2IHTtmWR+Kq/+ZeI3Q6OKG5\n",
       "LmF9oPu52b8Tg8DVNigHCYutP2uiMEmCi1f4GYLbsuE/vGWhsy0pxKWUmk1DdlTu1GLKvkWZ3bqv\n",
       "07Lr3kUZQkrllu2yM3rwYkbPt1smovxlFcO1ALt6LeIrHeVGh+RHfPIa0cHnM8AbkMK0H5oKUfbd\n",
       "IrtfGH1R4tTzpjN+hyeUvSKr30UAAAiaQZvTSeEPJlMCCP/+tSqA44anABkY3wAIfuGLhZfwu6lK\n",
       "qolddleodLP4Z797C1f+SQToSAcwa1qVMakOrL4ZXvNE19cZtKwAdxn5E37fZQdGm0lczIbH0Ctt\n",
       "qVE//DPkffihkcIfZDvXzTrbD/+LXHRF6lddSQ11FJVO1jHwEwUjK2btakJP6aFsf3gzBmvGsROV\n",
       "P4O1wqvAXAt+UFD/f0PWICh6J1jkJtnL+YyoyWV9MLTWoKvwZ7+f2Y9yY6Ua9R3yaXkKaI0RgDj7\n",
       "QNEBVEf0x0eRSR0GfDrR8UfxtDjl+poxZufRu3BP3aZnvotHDfz8a/at/rhIGwflx+HM06rvIy2o\n",
       "X0It/kAz8axjxt2M7ICLdVThb/9wqHU5nVkpFm+vPnpaYSChpMEGWwFEkAZuWF/CjfxySXs+kH3s\n",
       "LXMrbS16n0Yh+NHNW07x1pzTiKq3EsFsTi9k0Sn4teFAlFT0S8JC0W0tUonI0d/Wm30C9VyKkNgJ\n",
       "CL5Lgy3nGJ4cI4xB90To42u6BiKiobriHWB5J5ss6wru8bXPjK5I6PQ7bpdrTEpwNV42QIY3O1Ec\n",
       "HfV8vLvWJdiDQFv3Z/7ofTsEsfULmD6T3qfS4xCnc8/uagK/hcNRuiu1ev25j0ks5yeGZWAuLVQ6\n",
       "B/KHjK+v+bmwW+5TtFfzj5V47aWLV8ntEwCfPY//IXY86GcKAsxxg1QxO1bNg8mfARzx/+Y1beVf\n",
       "xXv09yjzzWPdU7jxAHO+VFAYgn1/O1DWBOe0v7uIZ3fgzPkArVLNGTxgP3ezZmUGEpLoR8CmAI1p\n",
       "umrho3SaW3VJnyEp6tyZVj0jlye3UvSwCRdQScGvdBx/GLM9TmgavDW7fO3yAuaS00qHJG5Cqqo9\n",
       "p7polZXr3tEL7roM4t/nrh+h/KzutN156uJLx6oI886KOhM3WyM0Z6LhmjFdoaWLCFMAHEFnl++B\n",
       "jH58lY1pdN5oIoeDyWpGL9q1N/7chIGO/zsHzT0V5IQ7ZR2ThDGBlpVkoO1r5oqT75eUlg3h/nPh\n",
       "vZL5fx5nbgMxAVcxiS9ChNxKQgzrQeGIEdr8dRt4qcGVHQ/LU1GR6En3R9nxe01NZ6F7PRlsJGPV\n",
       "5TWns7i4MOlb8bSwc9j3srnwP9e/cQJIw3gVDfcD6Rumq7ulgizTSZB8cduhIWgdeYDt9vERaPqi\n",
       "ABap6IuPBVl5c5ULWArfdg487+Ve1kMwNl2g3RYPv/3xGaoI/PgSatz0SnN6hvBI/9VkXCwHmy7K\n",
       "6KNrRG5+ybXS4CSzEr49bqt/4Ox0V8B/LyvYVvv3gYW3DLb+DXHaEPkw5ZjfUYHw7HRod4b5NlYk\n",
       "Gz/qJSI4NPG4AZ6nM3hyBjx38axxmUOv4l2ObooGWp1YgViqUAEU5nk00imqpHGC9ZbVXZO5gHKg\n",
       "sGK5PFnGQx4j9cGK0Vzub+PmJ4Ndhbqj/JPrFYThDg3Wbz4l6o3dk+vpZhhK8pZYIAvRfsDdzswb\n",
       "NAc5ONKug7O40qbobrSvhIaXyeBwNIgK/uc6ZKLOXBi98/XOYdHCeGhjhnKErMK/0MdeWpckNRUi\n",
       "k7DNVlS8HQy/6Umi3OEkXFUxaIzCluf+nVeteRPp5TnXHB7CeS/DaD2pA8jKkVB6z4C7wW90Z2GC\n",
       "WxugT0nwV8EknDdW0WB5f+re5pAV9GaQYpBtz6mSbQG57qlCFKGJwV+4S1AfOltZrynQLK61MpV6\n",
       "AGu1BLXpdU41C2IxK8oQE/zUM/JP0BR6DT2wOOcX5+dEvoIKXvFaKV+JG4xmPHiZTQrOvOKv9IL0\n",
       "dZg84oCjmaTmhI028WxVYuwtO2rHVol3kQVMxWLrNzrbAPbk2yzjmnE3WeLFyH+Gp1JKIJTEG6gz\n",
       "mWkmRTdHya8SUWAg7/e4/x4CswUp85lx0Iszdj3PihH4bDo4AT2Gw5LH96iTr5zGP7nPQDx/d6xc\n",
       "Nhx0TmxyX55Ib6Ld6c2GQIDVfOIf6IaYqAwsK50CRU94FgvFtynWA70Pt5AtOwHMWWRIrN59IcIs\n",
       "ZmdE5SWfJqilFZFVytRYBUjKiGbWdWdhxHQYj9o+O40eznTUmjZbIrrLeIcf8uqNdGhN0jaZ1SgR\n",
       "GQ+6oJ2EclKBO0Utgm8/8g2xdKsAASQUbAEV5VxCg4qr+OnP38VnQrpcPOVXJX2bJ+NqcupAO+kD\n",
       "dw0eBdF0vYKHGNdnIbdpykFO/gkqS3DDmdPfmHidk72wL5fvinGJjf3184BeDeWnidtZvJTfapDw\n",
       "IyFS9jQFwcIaRMMD3swSDOVeoeE4l73ho/amhFNu9nyuTih3mA8VijtHnQ8xQw4W6fEbZpoT/X/X\n",
       "bZpg/u2beFW7Wr4RudOvj2jl5tcTBo5YiXkmlaSEadpZtu9yyWgbEoECaseiYuQUCmXtbyZ3egId\n",
       "uTKxc03ef0fno2SBCt/zdh8y+jq48PiI9yS8a2CQJ66rPICnx5oh4POC0heY+Q39rBk1o3bM1x/D\n",
       "yrSiFrj55epKYpHTwzqx9IjryPC4JixDpUfVW3R//iG28DToFDobvb00/0FYkp+rcrCbIHw422JW\n",
       "14RQY3Tbg2uxdnrt/8FJuJthVNuSIbkTQJqv3OTrRsmfTgb/FKvwAprHpwpKP2ATd+QJ+baTGPsF\n",
       "3OiWjCo9+JP9IIOb9Hlqfh+y+vDxp5/78ZDw7KdvMGriovFMrQprH8gQC9aniQzA+WbXltlR/Ef3\n",
       "z43ouHzEF8YisMAtoAiMC+RoDahnB4KZIUrToNRLjECdu5WA/JGiOBv0TRiYU+6kLUfwscuDmBKf\n",
       "YhPeRvO2Qi6J4vrOIbMPrvung/ReXbL2k/YK+CnErG7SOCKv8CZ1sVuX8tkwDsBGn3AAqJpjAbBH\n",
       "WnBUQ5ve+88iZ7nJVSD4r+T4hEZCTHlnfcDD+eqcBPTVNrZcBxVkUft0F4qMS1/RjAHXyHShVgB/\n",
       "Eh0wAAAG/0Gf8UURPBL/AqNW8Gzu7TVyQnNgAQp3nUY0URj8F3eoveUXerhouUU80xx6AuWRwEdj\n",
       "AglpiT4cGu/TB7hptEiz6dsxEZDyQ7yA5AwD02UGNG1bIoorrgAvspl6DAvDaM/xUMYXTzL/SoHr\n",
       "WeuzklkHxTWW7DZ0O58JGJRIbMzgKnnN+xdeWlgE4e1vbWWd4EakwxIQamLym6ocdUpWbNEL3N+G\n",
       "ju5RTblXtoEEZBDRANXcKvrF+HzsJLOqBU5yQ5yNefxN0cnzNpQ9vxnLms+T86HCAcN+F+e9Gfcy\n",
       "xOtsG/H2bNtsJHWzk9OJ4Vclh0b70LNl5ECHJQZ05Bkze7R0tJESMmMUzvlpDR/oUoBlLjdCnksr\n",
       "et2MZmIMbdqj/30g5pwojQfOanWqosjo46E9zPr6M9H4fh3gmEG/lnA/kTPZ/7iAwR/vltdr/9Aj\n",
       "RRC/Jc+A0mDmI0nTMw1N4Hpa0d/8hcPeSSFmNtz/2grNUV/6sZYq+dfmjHJ7CDaOoqzxc2v0TMAF\n",
       "BimB5BO+beyiFH8u253EcoD6ge2r3dBI7LLDrl7Mq0yMUtwiVcDp0xMpS2s4k01EA7RM+kW0tjdf\n",
       "JC7Wef34GW2tjxjq4xH3ckZu4LG9Queo7sInYLSZLlihpZBnpYnuSpxpGHWLgRZ0J6tnyWfGf7/v\n",
       "olmfpd0Lj5ZZEu/wVVysniVlOT9K5+vIIhg4J0gIz/sYveKSu07CoH/YsU663q6uJXx0f/rhTcen\n",
       "FMeFTpXrG5cm/N7BUl0yhzm/FJIL87zQ7N3Eo4SXtxu+uCHD4mS6P8i2mZ8Lqo2AOZA7fV7Lis99\n",
       "fDbWfmLvAUp0inEtuVrA+j9uFCp+jR8JZBrFI1PM0ErE6a8hcvZR1wOF7aC5aSrB/6gUrihTM0Ds\n",
       "FdAIxHtW/i5p4Qb6m541zoSPvwU8boL0/6nvdrPgVfUgGK9dVClH0mc5XyvQPCTbcp8/GpRDczEN\n",
       "sapEjWc+drDja/grXbWnVUIQSHr4DMH7URdWeTSvbjK4ae7NX962hFp4F+0X2K0B9aZynCFMuJ3y\n",
       "HmpQc+1pQFzRZPgStnnG6xwUdieLny9lJkJP56//xgc3/wUJqSE8ax76tDExkIS0TKwyr/DSIJH2\n",
       "DNerbQWTaWU7j7qrBEeZA/CtNIeTuMh+XiYxruE7skfTUTDwn7wB/1ub8jkEf5g0XDQfEMBUhSNA\n",
       "pKEQnr1LWcZGug7qso9U4rk8jrD1BVr0TtuOei3FZ8bXeL2i9UKOdhmWtPaFaFRPSfkAWj4QmQ/x\n",
       "wbeVC0WF2gLsHFzOSX5aY5HI0o+kKJGRyKZj045Bg3AL5hwgX790g5SHXd3xMltflPIp/LmD+DvW\n",
       "YrW5/ZmTRZ7t4xpcI9BFCZDtV/c4vRgc+pAa4LqhAhuqFjKUP8nOqZsnRB1tYfI99+rxqKhevwKf\n",
       "wdmvCriXkFz2oMqV+80ZULzrDBLmMEbDn0BwfsKCE7hfT/PbwLDG//LQeXlmtoyRRQLROhIsAHYA\n",
       "uZRMfh3ildvG9OgZb5yIlVJYYX8TEURRFb+vuNsLomfQGj9Asb9zp7uN7Xy0mKJodTxXsdMv1XG+\n",
       "bvA0tA1qpwbOcyYDtcsideA2BlAYYvC1ktQQ8ICr4ilNYZQfgxGA5Wl1FyZZrgBHFjycYsM1cZo1\n",
       "zPJcCXU2L3CxvccrqLEe05HQ0ZvoiZwktKdEAGFfqwdMUcBeS7q9QPUKs9CStOt+Q7ExSyZ/d5dI\n",
       "xO08HvTFsLFbb4aLMOqRlmg9ytCIN8ECXr78HrqiYpY9tlR4s3nPT5H9sQz3m2L6QkOWik86kqK3\n",
       "lyn9vp7wW5s8cEInDKUkWBt7Ym0njze9xjMP6QZte7P66r4RflpcVJ8UviUsXyG5CYtM6aNECFt6\n",
       "gGCscUDYDKd1O7y9S8kNKb3ez7PoXWcrlMOYe5CeF9Dr8VEYUtChYzaWh23x47xfb6UggnCXbCMN\n",
       "8C9O0BlfsP3sFNgHI2ep92Nx304/RFhGjulpYEnYwz/2ebdEsg0uJZdoMC/bk6bsGhtiiLDqDWs0\n",
       "aIVgpPdsw1x8DGL9Gypjw7NO39hKBmYYpKgchRAdYL5DIQ6193GMuEfhqy479nmjxDUCs1AAZte3\n",
       "1vd3VZKHyeKVUNw8ZuQ9Od/jsAwghK52/Hmt2ZNfFMUvJfGpq0ojnWLUjGIA70V1kekIdbwlppJe\n",
       "LsINUKJAEE2UYVIqL9HrXTFSnDdPpskBKD9IYLIGNlqeysxr0d9/aO2vvhOjJMvmsOpTiuY9l4NA\n",
       "eo2+PQo+z/Xal5FerGQbMpS47/OtRPS1uv4yyGNREoSLbf7CXIn7tXR/GXlCIErJgboHqE3Oxcml\n",
       "6LKLHU6gkuvT0FUxYeYIq0JW+5SEiw6MudYwnTqCTgAABPIBnhB0QR8DLSCmShouABCnz5OK5t1C\n",
       "sAC7ZzH468kIZ1H8Xm17hU5A1Ua9NldIh43SrP137DyTIaw7IRLELrZU/yP5XtAiA8DuIuv7Jsh9\n",
       "7BplZtvpTc8UgtBdqm1fKKHdZ2N+dn4JWen2pnpO6eL0MHKkWHKpyKeC/HXwQK+x4r2j40R/hjR0\n",
       "+9zzveq1ZmPS0QTNL4qa0DIZpP0VF7kRvaBd0pQyWV+Gj2Se4ARClTWUbkobx9V08mtqzJBFmB0h\n",
       "nJIgtFz9c64jFrW0uxd1UeR9Ye1K/bKgdziVEpENnoAaBDqrFrerUQI9bSkGobI5jrgDeZv1u7ao\n",
       "JTvQUguoL2e/3GSr3idvxa9t3mB9xd4Np/8hJfBAscKa01R4aIsbOibl8I/LKfdF2tEYW9r7ZQ4i\n",
       "AhO6LzG8ZLm0Rgpv/8ATO4jbZoUjwDYYoPczDrczF4MUH7mZiHLwgz+Wz+ShldFd0GsQbhsR+Iuh\n",
       "YR8F8erSwAcWa+pFkf5BChU4+m1535iSP6NO9ZMYxo6xHFdviAuPkn0q8LtnHXjg+H2nPemdXfgO\n",
       "3e9zkULvbVa9q5lR1aJZxr2Rf0Y/0I4Liyf2GeWlhTurCvVGkeqJ9TzQ595RFF5XC9hdRxkzz2WH\n",
       "FYl5lKVyHxutoJy8dd3JLWR/wonYCD2r6SKPrgjNW9sK/wtioFfQYipMs1mBC1DYojXYkiS90qOR\n",
       "y/dE/fQtXk2CtgOKmE/Q8hjV+Tq0RdQVORGPT+B7j9wxbYt0GfuuIrS5Fi363qtzZ6EcROJhKh6n\n",
       "omPKKsGUK/rLOR2U93UXHmBme0uJQUQBKbNgpIErHdtGEDmkdNm9QIVzGHr7zD+b/CdrjbiEmG37\n",
       "wNGgoqAA1lJr7tlJubnS4hvZU5eZ4Luww4Gikw73PhPfGcVdoPBCfMLMiMuYQp6VK3iNiuCPbaAo\n",
       "/GZ6GtJzfcSUDtjDdoLbDcxbwsTcWrP3dE3BpekxnFsIC2i36xPs7COX0FNxcExiG+c0fXsRfm3D\n",
       "6QkxW/cB7mzoUo+ERiRobEzKowFddHqGovXw77JjajxjL2C314++H8RBetyv+3PbW8l3YdDqD4Fc\n",
       "2ElyuO0//P3LfotxjBhut/0FOgaoT9rBAn3f2lWDmpig8GaVHlWOVWYqcWhApmQ5x+lz/t/oQrG2\n",
       "GKNySGMe5VwK2m/m+xAWv3X4PXnJXE+yTLcWrv15o0m7Tj7RY9gufL8qbdY0X7dOk5ysVjW1P592\n",
       "AgwKWqvazyCzsLZzn/95M8CTp91jGivAW7RZD4P2UM/sySO2i55ah/GcBlAUVOIu83tUafn2RatQ\n",
       "2jLGOyJIb4Ym8Xwy0wqtNCo6s0I62bgikJFBGcLSCViKPjgbzIu3fM04Ww5HiyyoudVfyisbDJNZ\n",
       "3QFMuIVKk00pWDiDoxTwHXLnZcXPFllJEVv4PAekdU1Tt67UvYfnN/3uJApkfQtY7Yi/094LhyHu\n",
       "dEVZo7kSC2LGtm+6mwN2VYmwSRCnmzdGuSl0fgrW6tDUw7dcdBYNdvclzLdUFDZfRNlnM6Hj09l+\n",
       "bg1j1Td+5RFDwr3JaYe7CWZ0bmES6m7ApDlWC5B4c/eK7wUsPpbxsoCakjF+Zl0KFWkQnYbvCPgo\n",
       "L5bm3ud+LyMi3l0YJtY3MrUr///zqp7NQxui0Gkb9YyXObe4ohn4ZLOJKma0noEAAAYzAZ4SakEf\n",
       "AyxoKZaknxkBnRuoi6eHwwAQ/3QCrX10wdBohu0C4Y/PEUd6fy+VFheJynX5Y4Lc32ezLhOVOf0J\n",
       "z01AFRq6c9BoSVJ+vu1/gw7SnQTX+6zGZshkEi2M5pzk4b1UW2FuYS8CWi3k8BaAxDXX/r0O6RJW\n",
       "kWS7KXhziDoXO2/F64+6tjw8u99Vmaq2GMlKyR0B6GFtB4HdleQ7s2t58ObxBV+HAaplXxZaO0/3\n",
       "aPh5M3YoAMZUvnWiSTstzfeuEOz5cdIe0MoWDG8L3nB9XAYze3U/6Rk6yysbVwr1P3a+CO0jxSUx\n",
       "VQ7+ZUpCdRI0G0QKE9x+A+4IHVfSK5s2xnHMyPhCmnV+VafIwRarsxv77fElU3wTE9jQwVBY2z1d\n",
       "X8HWEyC4Is0BHrSrmRwMIZvcoAPnNachg5/w2AIyWiNHL9R8eh00W+JNi0Ge1hWo8FvPsX/UAVw2\n",
       "XuBPAtg2KSH6CyT1GFIaFhO3E2VYzY/VzQf2MATLUs/2eTtRmFq5OJ53o7U6vS1GLhOwcQm682rj\n",
       "2bP0/WZAje7dRgwm80lLjk4TgI+LA/QiYDt5TiJDH10zQWLeUtPgI5WptpB7mA9dH2m1qzp2w/Vn\n",
       "ilFfzOMZb+xLOriDNH6UyaMKl9wUJKjefBkxukSrReCJ+lmuWX1QI1p+3QT11T8F/o1uwUT6lcpk\n",
       "zzj89IUaPVB7x7NxPA6UyhNkPkUBspgPYihdKQBigw1J6MHVTzeBTaiw3G4xE3YYIT33sapuCGkI\n",
       "1scCoIc1drsM5jQy7LYGQ9DiGYc8Y+C+lDAK53GtuKdruMXONyce7CY1MQ3XoZXmXvwLJSeN6nPl\n",
       "YPY5Zn51ndCA7PhQx0vfDVTz40O7HnVW2drgr8m5ZSNuA+hJ4ZMfMNCx1uvKZMfORuEPA8sdNzGm\n",
       "LuZrxW4a234eRkfZkJQntoP90jgVR4JgYlHVQKwhoAG/HzMc8nbGT8IIrP5k8bcFcZ0TrIsM6la+\n",
       "nw1Z9iW9MKvdu9+a8J9rj2vJRn82WJZuuATdj5WMSt8NEr05827kw6fZnWdP6b5ycQJC0/NPBORM\n",
       "uY3wp9r0+q5+5grQLeoVOt0YnPLKkumjVD0yJ5GO5tXFXHrLRIjBztSV/H4GhS3CpQXlYLmv3vmx\n",
       "KIfQ7JEMFuY2mpnUQpRhto4LDfcW8Q92VmYqvM74OlnbEl/bPKsLByUQyIMzBPTzqpJMGiso6MdI\n",
       "CZfqW3cQrL22BzEyj94W5jIc+VU+owe6XVYXstYc2/FTa5FQlLEiQ8+nkMpwuhrgaj7yGAzel+b8\n",
       "pYfno4Js0g9NBf3YfNpc8KE8c0HYLX5SZYKgHd7SaDFCQb47rDV9JLtJ7/JNfUhn50xgAUSyiu8E\n",
       "auw0zSYOb9f4xjp5br1cdT+4URxUbWpWqBfDcku8yN934LtEJfsSzF99kUgZopaXUW1CigxMUHU4\n",
       "rjaxkbNvcO9KVuIOlCKzhKCfSyhrPzC218/Q5Pv3PPELcYNcQ/em9VMmUFM27S6G6m4aSrdBnHuM\n",
       "DQasvZiSIbMbDmo8QvMdBe5SwZSFu1LpDYp5lBWWEtcfeRaHwTJMl6EleLnzaUDrOEvpQObv0FwI\n",
       "Ln5+QK/jJQ2nGBc0TN2PK8iBqsg1eXeW/+C5tnkogBYtcgVo97qeXvaybp9h9Fo8BgqPB+Zhlm61\n",
       "l1Q4u/F8GDLuv0B46HG0jzNUJptQxbaOvt4V0TDL8dSrLZZGJyIIqLpHzN9sE+isNbGMIw3l/eGD\n",
       "sQphGKlg0RoMzp5d+ZzPxnjUzuMbnZIHGEuZ/l2XThqlwXU5QzHgkPsICjWOxjzapQqYAnCleu99\n",
       "FNpq7XuwTy5Z0oKwSvcXPxoIrLuyfjAP70RYRZtL+c1hSda799tLcBhNbfOXnYCjL5eViAc4PukF\n",
       "IsRuQnUyiRok+8RsfEYRXl341dpXOTvl9wvXq46UF6lVH+Jp0xNr5OGPM1hzyu+KoFWPkPU7DmG9\n",
       "wADb3hyLZ/YSKlarYsKMtubfAWFo6WH2J6xocQPG731etBLMrcrhN1O9XXv+Vdr8NT6JqhzhV/8T\n",
       "DwMr8UVhxl04T3ND8I9rytljl9CpRn68dCYimGDXubsEkabsLjGHDmngAAAD0m1vb3YAAABsbXZo\n",
       "ZAAAAAAAAAAAAAAAAAAAA+gAABdwAAEAAAEAAAAAAAAAAAAAAAABAAAAAAAAAAAAAAAAAAAAAQAA\n",
       "AAAAAAAAAAAAAAAAQAAAAAAAAAAAAAAAAAAAAAAAAAAAAAAAAAAAAAAAAAIAAAL8dHJhawAAAFx0\n",
       "a2hkAAAAAwAAAAAAAAAAAAAAAQAAAAAAABdwAAAAAAAAAAAAAAAAAAAAAAABAAAAAAAAAAAAAAAA\n",
       "AAAAAQAAAAAAAAAAAAAAAAAAQAAAAAGwAAABIAAAAAAAJGVkdHMAAAAcZWxzdAAAAAAAAAABAAAX\n",
       "cAAAGAAAAQAAAAACdG1kaWEAAAAgbWRoZAAAAAAAAAAAAAAAAAAAKAAAAPAAVcQAAAAAAC1oZGxy\n",
       "AAAAAAAAAAB2aWRlAAAAAAAAAAAAAAAAVmlkZW9IYW5kbGVyAAAAAh9taW5mAAAAFHZtaGQAAAAB\n",
       "AAAAAAAAAAAAAAAkZGluZgAAABxkcmVmAAAAAAAAAAEAAAAMdXJsIAAAAAEAAAHfc3RibAAAALdz\n",
       "dHNkAAAAAAAAAAEAAACnYXZjMQAAAAAAAAABAAAAAAAAAAAAAAAAAAAAAAGwASAASAAAAEgAAAAA\n",
       "AAAAAQAAAAAAAAAAAAAAAAAAAAAAAAAAAAAAAAAAAAAAAAAAABj//wAAADVhdmNDAWQAFf/hABhn\n",
       "ZAAVrNlBsJaEAAADAAwAAAMAUDxYtlgBAAZo6+PLIsD9+PgAAAAAHHV1aWRraEDyXyRPxbo5pRvP\n",
       "AyPzAAAAAAAAABhzdHRzAAAAAAAAAAEAAAAUAAAMAAAAABRzdHNzAAAAAAAAAAEAAAABAAAAYGN0\n",
       "dHMAAAAAAAAACgAAAAYAABgAAAAAAQAAMAAAAAACAAAMAAAAAAUAABgAAAAAAQAAJAAAAAABAAAM\n",
       "AAAAAAEAADwAAAAAAQAAGAAAAAABAAAAAAAAAAEAAAwAAAAAHHN0c2MAAAAAAAAAAQAAAAEAAAAU\n",
       "AAAAAQAAAGRzdHN6AAAAAAAAAAAAAAAUAAAgWwAACjMAAAcZAAAIYAAAB2EAAAbvAAAKJgAABYYA\n",
       "AAVGAAAGgAAABt8AAAYNAAAHlgAABs4AAAfUAAAEWQAACJ4AAAcDAAAE9gAABjcAAAAUc3RjbwAA\n",
       "AAAAAAABAAAAMAAAAGJ1ZHRhAAAAWm1ldGEAAAAAAAAAIWhkbHIAAAAAAAAAAG1kaXJhcHBsAAAA\n",
       "AAAAAAAAAAAALWlsc3QAAAAlqXRvbwAAAB1kYXRhAAAAAQAAAABMYXZmNTguMzkuMTAx\n",
       "\">\n",
       "  Your browser does not support the video tag.\n",
       "</video>"
      ],
      "text/plain": [
       "<matplotlib.animation.FuncAnimation at 0x21c0e746b88>"
      ]
     },
     "execution_count": 21,
     "metadata": {},
     "output_type": "execute_result"
    }
   ],
   "source": [
    "anim"
   ]
  }
 ],
 "metadata": {
  "kernelspec": {
   "display_name": "Python 3",
   "language": "python",
   "name": "python3"
  },
  "language_info": {
   "codemirror_mode": {
    "name": "ipython",
    "version": 3
   },
   "file_extension": ".py",
   "mimetype": "text/x-python",
   "name": "python",
   "nbconvert_exporter": "python",
   "pygments_lexer": "ipython3",
   "version": "3.7.6"
  },
  "toc": {
   "base_numbering": 1,
   "nav_menu": {},
   "number_sections": true,
   "sideBar": true,
   "skip_h1_title": false,
   "title_cell": "Table of Contents",
   "title_sidebar": "Contents",
   "toc_cell": false,
   "toc_position": {},
   "toc_section_display": true,
   "toc_window_display": false
  }
 },
 "nbformat": 4,
 "nbformat_minor": 4
}
