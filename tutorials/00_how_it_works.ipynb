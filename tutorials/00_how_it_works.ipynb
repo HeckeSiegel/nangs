{
 "cells": [
  {
   "cell_type": "code",
   "execution_count": 1,
   "metadata": {
    "ExecuteTime": {
     "end_time": "2020-06-20T16:24:07.815237Z",
     "start_time": "2020-06-20T16:24:07.499238Z"
    },
    "code_folding": []
   },
   "outputs": [
    {
     "name": "stderr",
     "output_type": "stream",
     "text": [
      "\n",
      "Bad key \"text.kerning_factor\" on line 4 in\n",
      "C:\\Users\\sensio\\miniconda3\\lib\\site-packages\\matplotlib\\mpl-data\\stylelib\\_classic_test_patch.mplstyle.\n",
      "You probably need to get an updated matplotlibrc file from\n",
      "https://github.com/matplotlib/matplotlib/blob/v3.1.3/matplotlibrc.template\n",
      "or from the matplotlib source distribution\n"
     ]
    }
   ],
   "source": [
    "%matplotlib inline"
   ]
  },
  {
   "cell_type": "markdown",
   "metadata": {},
   "source": [
    "# How nangs works"
   ]
  },
  {
   "cell_type": "markdown",
   "metadata": {},
   "source": [
    "In this notebook we show how nangs works. We will solve the following PDE:\n",
    "\n",
    "\\begin{equation}\n",
    "    \\frac{\\partial \\phi}{\\partial t} + u \\frac{\\partial \\phi}{\\partial x} = 0\n",
    "\\end{equation}\n",
    "\n",
    "The independent variables (i.e, $x$ and $t$) are used as input values for the NN, and the solution (i.e. $\\phi$) is the output. In order to find the solution, at each step the NN outputs are derived w.r.t the inputs. Then, a loss function that matches the PDE is built and the weights are updated accordingly. If the loss function goes to zero, we can assume that our NN is indeed the solution to our PDE. "
   ]
  },
  {
   "cell_type": "code",
   "execution_count": 2,
   "metadata": {
    "ExecuteTime": {
     "end_time": "2020-06-20T16:24:08.204237Z",
     "start_time": "2020-06-20T16:24:07.816236Z"
    }
   },
   "outputs": [
    {
     "data": {
      "text/plain": [
       "'1.5.0'"
      ]
     },
     "execution_count": 2,
     "metadata": {},
     "output_type": "execute_result"
    }
   ],
   "source": [
    "# imports\n",
    "\n",
    "import numpy as np \n",
    "import matplotlib.pyplot as plt \n",
    "import torch\n",
    "\n",
    "device = \"cuda\" if torch.cuda.is_available() else \"cpu\"\n",
    "\n",
    "torch.__version__"
   ]
  },
  {
   "cell_type": "markdown",
   "metadata": {},
   "source": [
    "## Define your data"
   ]
  },
  {
   "cell_type": "markdown",
   "metadata": {},
   "source": [
    "To solve the PDE we first need a set of points to evaluate it, we will use this points as the dataset for training de NN."
   ]
  },
  {
   "cell_type": "code",
   "execution_count": 3,
   "metadata": {
    "ExecuteTime": {
     "end_time": "2020-06-20T16:24:08.220237Z",
     "start_time": "2020-06-20T16:24:08.205236Z"
    }
   },
   "outputs": [
    {
     "data": {
      "text/plain": [
       "(600, 2)"
      ]
     },
     "execution_count": 3,
     "metadata": {},
     "output_type": "execute_result"
    }
   ],
   "source": [
    "# define the mesh\n",
    "x = np.linspace(0,1,20)\n",
    "t = np.linspace(0,1,30)\n",
    "\n",
    "# combine all points\n",
    "m = np.meshgrid(x, t)\n",
    "m = np.stack(m, -1).reshape(-1, 2)\n",
    "m.shape"
   ]
  },
  {
   "cell_type": "code",
   "execution_count": 4,
   "metadata": {
    "ExecuteTime": {
     "end_time": "2020-06-20T16:24:09.232236Z",
     "start_time": "2020-06-20T16:24:08.221236Z"
    }
   },
   "outputs": [
    {
     "data": {
      "text/plain": [
       "600"
      ]
     },
     "execution_count": 4,
     "metadata": {},
     "output_type": "execute_result"
    }
   ],
   "source": [
    "class Dataset(torch.utils.data.Dataset):\n",
    "    def __init__(self, X):\n",
    "        self.X = torch.from_numpy(X).to(device).float()\n",
    "    def __len__(self):\n",
    "        return len(self.X)\n",
    "    def __getitem__(self, ix):\n",
    "        return self.X[ix]\n",
    "    \n",
    "dataset = Dataset(m)\n",
    "\n",
    "len(dataset)"
   ]
  },
  {
   "cell_type": "markdown",
   "metadata": {},
   "source": [
    "## Define your solution topology"
   ]
  },
  {
   "cell_type": "markdown",
   "metadata": {},
   "source": [
    "We use a Multilayer Perceptron to approximate the solution to the PDE"
   ]
  },
  {
   "cell_type": "code",
   "execution_count": 5,
   "metadata": {
    "ExecuteTime": {
     "end_time": "2020-06-20T16:24:09.248234Z",
     "start_time": "2020-06-20T16:24:09.233236Z"
    },
    "code_folding": [
     2
    ]
   },
   "outputs": [
    {
     "data": {
      "text/plain": [
       "MLP(\n",
       "  (mlp): Sequential(\n",
       "    (0): Linear(in_features=2, out_features=100, bias=True)\n",
       "    (1): Sequential(\n",
       "      (0): Sine()\n",
       "      (1): Linear(in_features=100, out_features=100, bias=True)\n",
       "    )\n",
       "    (2): Sequential(\n",
       "      (0): Sine()\n",
       "      (1): Linear(in_features=100, out_features=100, bias=True)\n",
       "    )\n",
       "    (3): Sequential(\n",
       "      (0): Sine()\n",
       "      (1): Linear(in_features=100, out_features=1, bias=True)\n",
       "    )\n",
       "  )\n",
       ")"
      ]
     },
     "execution_count": 5,
     "metadata": {},
     "output_type": "execute_result"
    }
   ],
   "source": [
    "# solution topology\n",
    "\n",
    "class Sine(torch.nn.Module):  \n",
    "    def __init__(self):\n",
    "        super().__init__()\n",
    "    def forward(self, x):\n",
    "        return torch.sin(x)\n",
    "    \n",
    "def block(i, o):\n",
    "    fc = torch.nn.Linear(i, o)\n",
    "    return torch.nn.Sequential(\n",
    "        Sine(),\n",
    "        torch.nn.Linear(i, o) \n",
    "    )\n",
    "\n",
    "class MLP(torch.nn.Module):\n",
    "    def __init__(self, inputs, outputs, layers, neurons):\n",
    "        super().__init__()\n",
    "        fc_in = torch.nn.Linear(inputs, neurons)\n",
    "        fc_hidden = [\n",
    "            block(neurons, neurons)\n",
    "            for layer in range(layers-1)\n",
    "        ]\n",
    "        fc_out = block(neurons, outputs)\n",
    "        \n",
    "        self.mlp = torch.nn.Sequential(\n",
    "            fc_in,\n",
    "            *fc_hidden,\n",
    "            fc_out\n",
    "        )\n",
    "\n",
    "    def forward(self, x):\n",
    "        return self.mlp(x)\n",
    "    \n",
    "mlp = MLP(2, 1, 3, 100)\n",
    "mlp"
   ]
  },
  {
   "cell_type": "code",
   "execution_count": 6,
   "metadata": {
    "ExecuteTime": {
     "end_time": "2020-06-20T16:24:09.264236Z",
     "start_time": "2020-06-20T16:24:09.250234Z"
    }
   },
   "outputs": [
    {
     "data": {
      "text/plain": [
       "torch.Size([100, 1])"
      ]
     },
     "execution_count": 6,
     "metadata": {},
     "output_type": "execute_result"
    }
   ],
   "source": [
    "# check output shape\n",
    "\n",
    "mlp(torch.randn(100,2)).shape"
   ]
  },
  {
   "cell_type": "markdown",
   "metadata": {},
   "source": [
    "## Boundary conditions"
   ]
  },
  {
   "cell_type": "markdown",
   "metadata": {},
   "source": [
    "We can attempt to solve our PDE at this points, but we would obtain a trivial solution. Instead, we need to specify a set of boundary conditions."
   ]
  },
  {
   "cell_type": "code",
   "execution_count": 7,
   "metadata": {
    "ExecuteTime": {
     "end_time": "2020-06-20T16:24:09.548264Z",
     "start_time": "2020-06-20T16:24:09.266235Z"
    }
   },
   "outputs": [
    {
     "data": {
      "image/png": "[encoded data removed]",
      "text/plain": [
       "<Figure size 432x288 with 1 Axes>"
      ]
     },
     "metadata": {
      "needs_background": "light"
     },
     "output_type": "display_data"
    }
   ],
   "source": [
    "# initial condition (t = 0)\n",
    "\n",
    "t0 = np.array([0.])\n",
    "m0 = np.meshgrid(x, t0)\n",
    "m0 = np.stack(m0, -1).reshape(-1, 2)\n",
    "\n",
    "p0 = np.sin(2*np.pi*x)\n",
    "\n",
    "plt.plot(x, p0)\n",
    "plt.grid(True)\n",
    "plt.xlabel('x')\n",
    "plt.ylabel('$p_0$')\n",
    "plt.show()"
   ]
  },
  {
   "cell_type": "code",
   "execution_count": 8,
   "metadata": {
    "ExecuteTime": {
     "end_time": "2020-06-20T16:24:09.563266Z",
     "start_time": "2020-06-20T16:24:09.549264Z"
    }
   },
   "outputs": [
    {
     "data": {
      "text/plain": [
       "20"
      ]
     },
     "execution_count": 8,
     "metadata": {},
     "output_type": "execute_result"
    }
   ],
   "source": [
    "class DirichletDataset(torch.utils.data.Dataset):\n",
    "    def __init__(self, X, Y):\n",
    "        assert len(X) == len(Y)\n",
    "        self.X = torch.from_numpy(X).to(device).float()\n",
    "        self.Y = torch.from_numpy(Y).to(device).float()\n",
    "    def __len__(self):\n",
    "        return len(self.X)\n",
    "    def __getitem__(self, ix):\n",
    "        return self.X[ix], self.Y[ix]\n",
    "    \n",
    "# we use the names to indicate the order of the variables in the data\n",
    "initial_condition_dataset = DirichletDataset(m0, p0.reshape(-1, 1))\n",
    "\n",
    "len(initial_condition_dataset)"
   ]
  },
  {
   "cell_type": "code",
   "execution_count": 9,
   "metadata": {
    "ExecuteTime": {
     "end_time": "2020-06-20T16:24:09.578267Z",
     "start_time": "2020-06-20T16:24:09.564266Z"
    }
   },
   "outputs": [
    {
     "data": {
      "text/plain": [
       "(30, 2)"
      ]
     },
     "execution_count": 9,
     "metadata": {},
     "output_type": "execute_result"
    }
   ],
   "source": [
    "# boundary conditions (peridic conditions at x = 0 and x = 1)\n",
    "\n",
    "xb0 = np.array([0])\n",
    "mb0 = np.meshgrid(xb0, t)\n",
    "mb0 = np.stack(mb0, -1).reshape(-1, 2)\n",
    "mb0.shape"
   ]
  },
  {
   "cell_type": "code",
   "execution_count": 10,
   "metadata": {
    "ExecuteTime": {
     "end_time": "2020-06-20T16:24:09.594267Z",
     "start_time": "2020-06-20T16:24:09.579267Z"
    }
   },
   "outputs": [
    {
     "data": {
      "text/plain": [
       "(30, 2)"
      ]
     },
     "execution_count": 10,
     "metadata": {},
     "output_type": "execute_result"
    }
   ],
   "source": [
    "xb1 = np.array([1])\n",
    "mb1 = np.meshgrid(xb1, t)\n",
    "mb1 = np.stack(mb1, -1).reshape(-1, 2)\n",
    "mb1.shape"
   ]
  },
  {
   "cell_type": "code",
   "execution_count": 11,
   "metadata": {
    "ExecuteTime": {
     "end_time": "2020-06-20T16:24:09.610266Z",
     "start_time": "2020-06-20T16:24:09.595266Z"
    }
   },
   "outputs": [
    {
     "data": {
      "text/plain": [
       "30"
      ]
     },
     "execution_count": 11,
     "metadata": {},
     "output_type": "execute_result"
    }
   ],
   "source": [
    "boco_dataset = DirichletDataset(mb0, mb1)\n",
    "\n",
    "len(boco_dataset)"
   ]
  },
  {
   "cell_type": "markdown",
   "metadata": {},
   "source": [
    "## Solve the PDE"
   ]
  },
  {
   "cell_type": "markdown",
   "metadata": {},
   "source": [
    "We can now proceed with solving the PDE"
   ]
  },
  {
   "cell_type": "code",
   "execution_count": 12,
   "metadata": {
    "ExecuteTime": {
     "end_time": "2020-06-20T16:24:22.170546Z",
     "start_time": "2020-06-20T16:24:09.611265Z"
    },
    "code_folding": []
   },
   "outputs": [
    {
     "name": "stdout",
     "output_type": "stream",
     "text": [
      "Epoch 1/50 loss 0.44584\n",
      "Epoch 2/50 loss 0.43346\n",
      "Epoch 3/50 loss 0.42094\n",
      "Epoch 4/50 loss 0.40049\n",
      "Epoch 5/50 loss 0.35735\n",
      "Epoch 6/50 loss 0.17384\n",
      "Epoch 7/50 loss 0.11475\n",
      "Epoch 8/50 loss 0.09106\n",
      "Epoch 9/50 loss 0.07281\n",
      "Epoch 10/50 loss 0.06439\n",
      "Epoch 11/50 loss 0.05049\n",
      "Epoch 12/50 loss 0.02657\n",
      "Epoch 13/50 loss 0.00799\n",
      "Epoch 14/50 loss 0.00553\n",
      "Epoch 15/50 loss 0.00346\n",
      "Epoch 16/50 loss 0.00295\n",
      "Epoch 17/50 loss 0.00208\n",
      "Epoch 18/50 loss 0.00168\n",
      "Epoch 19/50 loss 0.00208\n",
      "Epoch 20/50 loss 0.00168\n",
      "Epoch 21/50 loss 0.00113\n",
      "Epoch 22/50 loss 0.00112\n",
      "Epoch 23/50 loss 0.00136\n",
      "Epoch 24/50 loss 0.00091\n",
      "Epoch 25/50 loss 0.00076\n",
      "Epoch 26/50 loss 0.00076\n",
      "Epoch 27/50 loss 0.00062\n",
      "Epoch 28/50 loss 0.00096\n",
      "Epoch 29/50 loss 0.00104\n",
      "Epoch 30/50 loss 0.00077\n",
      "Epoch 31/50 loss 0.00039\n",
      "Epoch 32/50 loss 0.00048\n",
      "Epoch 33/50 loss 0.00067\n",
      "Epoch 34/50 loss 0.00038\n",
      "Epoch 35/50 loss 0.00036\n",
      "Epoch 36/50 loss 0.00030\n",
      "Epoch 37/50 loss 0.00043\n",
      "Epoch 38/50 loss 0.00046\n",
      "Epoch 39/50 loss 0.00067\n",
      "Epoch 40/50 loss 0.00049\n",
      "Epoch 41/50 loss 0.00140\n",
      "Epoch 42/50 loss 0.00033\n",
      "Epoch 43/50 loss 0.00036\n",
      "Epoch 44/50 loss 0.00031\n",
      "Epoch 45/50 loss 0.00135\n",
      "Epoch 46/50 loss 0.00040\n",
      "Epoch 47/50 loss 0.00054\n",
      "Epoch 48/50 loss 0.00025\n",
      "Epoch 49/50 loss 0.00031\n",
      "Epoch 50/50 loss 0.00045\n"
     ]
    }
   ],
   "source": [
    "BATCH_SIZE = 32\n",
    "EPOCHS = 50\n",
    "U = 1\n",
    "\n",
    "dataloaders = {\n",
    "    'inner': torch.utils.data.DataLoader(dataset, batch_size=BATCH_SIZE, shuffle=True),\n",
    "    'initial': torch.utils.data.DataLoader(initial_condition_dataset, batch_size=BATCH_SIZE, shuffle=True),\n",
    "    'periodic': torch.utils.data.DataLoader(boco_dataset, batch_size=BATCH_SIZE, shuffle=True)\n",
    "}\n",
    "\n",
    "mlp = MLP(2, 1, 3, 128)\n",
    "mlp.to(device)\n",
    "optimizer = torch.optim.Adam(mlp.parameters())\n",
    "criterion = torch.nn.MSELoss()\n",
    "\n",
    "hist = []\n",
    "for epoch in range(1, EPOCHS+1):\n",
    "    # iterate over the internal points in batches\n",
    "    for batch in dataloaders['inner']:\n",
    "        X = batch\n",
    "        optimizer.zero_grad()\n",
    "        # optimize for boundary points\n",
    "        losses = 0\n",
    "        for batch in dataloaders['initial']:\n",
    "            x, y = batch\n",
    "            p = mlp(x)\n",
    "            loss = criterion(p, y)\n",
    "            loss.backward()\n",
    "            losses += loss.item()\n",
    "        for batch in dataloaders['periodic']:\n",
    "            x1, x2 = batch\n",
    "            p1 = mlp(x1)\n",
    "            p2 = mlp(x2)\n",
    "            loss = criterion(p1, p2)\n",
    "            loss.backward()\n",
    "            losses += loss.item()\n",
    "        # optimize for internal points\n",
    "        X.requires_grad = True\n",
    "        p = mlp(X)\n",
    "        grads, = torch.autograd.grad(p, X, \n",
    "                    grad_outputs=p.data.new(p.shape).fill_(1),\n",
    "                    create_graph=True, only_inputs=True)\n",
    "        dpdx, dpdt = grads[:,0], grads[:,1]\n",
    "        pde = dpdt + U*dpdx\n",
    "        loss = pde.pow(2).mean()\n",
    "        loss.backward()\n",
    "        optimizer.step()\n",
    "        losses += loss.item()\n",
    "        hist.append(losses)\n",
    "    print(f\"Epoch {epoch}/{EPOCHS} loss {losses:.5f}\")"
   ]
  },
  {
   "cell_type": "code",
   "execution_count": 13,
   "metadata": {
    "ExecuteTime": {
     "end_time": "2020-06-20T16:24:22.421244Z",
     "start_time": "2020-06-20T16:24:22.171547Z"
    }
   },
   "outputs": [
    {
     "data": {
      "image/png": "[encoded data removed]",
      "text/plain": [
       "<Figure size 432x288 with 1 Axes>"
      ]
     },
     "metadata": {
      "needs_background": "light"
     },
     "output_type": "display_data"
    }
   ],
   "source": [
    "plt.plot(hist)\n",
    "plt.xlabel(\"update step\")\n",
    "plt.ylabel(\"loss\")\n",
    "plt.yscale(\"log\")\n",
    "plt.grid(True)\n",
    "plt.show()"
   ]
  },
  {
   "cell_type": "markdown",
   "metadata": {},
   "source": [
    "## Evaluate your solution\n",
    "\n"
   ]
  },
  {
   "cell_type": "code",
   "execution_count": 14,
   "metadata": {
    "ExecuteTime": {
     "end_time": "2020-06-20T16:24:22.437246Z",
     "start_time": "2020-06-20T16:24:22.422246Z"
    },
    "code_folding": [
     0
    ]
   },
   "outputs": [],
   "source": [
    "def build_mesh(N, t):\n",
    "    x = np.linspace(0,1,N)\n",
    "    _t = np.array([t])\n",
    "    m = np.meshgrid(x, _t)\n",
    "    m = np.stack(m, -1).reshape(-1, 2)\n",
    "    return x, t, m\n",
    "\n",
    "x, t, m = build_mesh(20, 0)"
   ]
  },
  {
   "cell_type": "code",
   "execution_count": 15,
   "metadata": {
    "ExecuteTime": {
     "end_time": "2020-06-20T16:24:22.453244Z",
     "start_time": "2020-06-20T16:24:22.438244Z"
    },
    "code_folding": [
     0
    ]
   },
   "outputs": [],
   "source": [
    "def eval_model(m):\n",
    "    mlp.eval()\n",
    "    with torch.no_grad():\n",
    "        p = mlp(torch.tensor(m).float().to(device)).cpu().numpy()\n",
    "    return p\n",
    "\n",
    "p = eval_model(m)"
   ]
  },
  {
   "cell_type": "code",
   "execution_count": 16,
   "metadata": {
    "ExecuteTime": {
     "end_time": "2020-06-20T16:24:22.577247Z",
     "start_time": "2020-06-20T16:24:22.454244Z"
    },
    "code_folding": [
     0
    ]
   },
   "outputs": [
    {
     "data": {
      "image/png": "[encoded data removed]",
      "text/plain": [
       "<Figure size 432x288 with 1 Axes>"
      ]
     },
     "metadata": {
      "needs_background": "light"
     },
     "output_type": "display_data"
    }
   ],
   "source": [
    "def plot_model(x, p, t):\n",
    "    pe = np.sin(2.*np.pi*(x-U*t)).reshape(-1,1)\n",
    "    plt.plot(x, pe, label=\"exact\")\n",
    "    plt.plot(x, p, '.k', label=\"solution\")\n",
    "    plt.legend()\n",
    "    plt.grid(True)\n",
    "    l2 = np.sqrt(np.sum((p-pe)**2))\n",
    "    plt.title(f\"t = {t:.3f} (L2 = {l2:.5f})\")\n",
    "    plt.show()\n",
    "    \n",
    "plot_model(x, p, 0)"
   ]
  },
  {
   "cell_type": "code",
   "execution_count": 17,
   "metadata": {
    "ExecuteTime": {
     "end_time": "2020-06-20T16:24:22.593244Z",
     "start_time": "2020-06-20T16:24:22.579246Z"
    },
    "code_folding": [
     0
    ]
   },
   "outputs": [],
   "source": [
    "def eval_solution(N, t):\n",
    "    x, t, m = build_mesh(N, t)\n",
    "    p = eval_model(m)\n",
    "    plot_model(x, p, t)"
   ]
  },
  {
   "cell_type": "code",
   "execution_count": 18,
   "metadata": {
    "ExecuteTime": {
     "end_time": "2020-06-20T16:24:22.767243Z",
     "start_time": "2020-06-20T16:24:22.597244Z"
    },
    "code_folding": [
     9
    ]
   },
   "outputs": [],
   "source": [
    "from matplotlib import animation, rc\n",
    "rc('animation', html='html5')\n",
    "\n",
    "t = np.linspace(0,1,10)\n",
    "x, t, m = build_mesh(30, t)\n",
    "p = eval_model(m).reshape(len(t), -1)\n",
    "\n",
    "fig = plt.figure()\n",
    "ax = plt.subplot(111)\n",
    "def update_plot(i):\n",
    "    ax.clear()\n",
    "    pe = np.sin(2.*np.pi*(x-U*t[i]))\n",
    "    ax.plot(x, pe, label=f\"exact (u = {U})\")\n",
    "    ax.plot(x, p[i], '.k', label=\"solution\")\n",
    "    ax.set_xlabel(\"x\", fontsize=14)\n",
    "    ax.set_ylabel(\"p\", fontsize=14, rotation=np.pi/2)\n",
    "    ax.legend(loc=\"upper right\")\n",
    "    ax.grid(True)\n",
    "    ax.set_xlim([0, 1])\n",
    "    ax.set_ylim([-1.2, 1.2])\n",
    "    l2 = np.sqrt(np.sum((p[i]-pe)**2))\n",
    "    ax.set_title(f\"t = {t[i]:.3f} (L2 = {l2:.5f})\")\n",
    "    return ax\n",
    "\n",
    "anim = animation.FuncAnimation(fig, update_plot, frames=len(t), interval=300)\n",
    "plt.close()\n"
   ]
  },
  {
   "cell_type": "code",
   "execution_count": 19,
   "metadata": {
    "ExecuteTime": {
     "end_time": "2020-06-20T16:24:23.407250Z",
     "start_time": "2020-06-20T16:24:22.768243Z"
    }
   },
   "outputs": [
    {
     "data": {
      "text/html": [
       "<video width=\"432\" height=\"288\" controls autoplay loop>\n",
       "  <source type=\"video/mp4\" src=\"data:video/mp4;base64,AAAAIGZ0eXBNNFYgAAACAE00ViBpc29taXNvMmF2YzEAAAAIZnJlZQAAg1htZGF0AAACnwYF//+b\n",
       "3EXpvebZSLeWLNgg2SPu73gyNjQgLSBjb3JlIDE1OSAtIEguMjY0L01QRUctNCBBVkMgY29kZWMg\n",
       "LSBDb3B5bGVmdCAyMDAzLTIwMTkgLSBodHRwOi8vd3d3LnZpZGVvbGFuLm9yZy94MjY0Lmh0bWwg\n",
       "LSBvcHRpb25zOiBjYWJhYz0xIHJlZj0zIGRlYmxvY2s9MTowOjAgYW5hbHlzZT0weDM6MHgxMTMg\n",
       "bWU9aGV4IHN1Ym1lPTcgcHN5PTEgcHN5X3JkPTEuMDA6MC4wMCBtaXhlZF9yZWY9MSBtZV9yYW5n\n",
       "ZT0xNiBjaHJvbWFfbWU9MSB0cmVsbGlzPTEgOHg4ZGN0PTEgY3FtPTAgZGVhZHpvbmU9MjEsMTEg\n",
       "ZmFzdF9wc2tpcD0xIGNocm9tYV9xcF9vZmZzZXQ9LTIgdGhyZWFkcz05IGxvb2thaGVhZF90aHJl\n",
       "YWRzPTEgc2xpY2VkX3RocmVhZHM9MCBucj0wIGRlY2ltYXRlPTEgaW50ZXJsYWNlZD0wIGJsdXJh\n",
       "eV9jb21wYXQ9MCBjb25zdHJhaW5lZF9pbnRyYT0wIGJmcmFtZXM9MyBiX3B5cmFtaWQ9MiBiX2Fk\n",
       "YXB0PTEgYl9iaWFzPTAgZGlyZWN0PTEgd2VpZ2h0Yj0xIG9wZW5fZ29wPTAgd2VpZ2h0cD0yIGtl\n",
       "eWludD0yNTAga2V5aW50X21pbj0zIHNjZW5lY3V0PTQwIGludHJhX3JlZnJlc2g9MCByY19sb29r\n",
       "YWhlYWQ9NDAgcmM9Y3JmIG1idHJlZT0xIGNyZj0yMy4wIHFjb21wPTAuNjAgcXBtaW49MCBxcG1h\n",
       "eD02OSBxcHN0ZXA9NCBpcF9yYXRpbz0xLjQwIGFxPTE6MS4wMACAAAAcGGWIhAAU//73x0/Apuj5\n",
       "ZsudRT0hMIrY+kgovVjtGjs/DGAAAAMACMAM3SKG0kffhnADt1iADoUnarhC79W64Lv6m1F8PtxM\n",
       "3z243snriKjyo++sER8f/08P2EIhs3VjRazkU2Imtol9AdIwiVPA+8n3fgStyYYGAT1r92L2/jvb\n",
       "H/9GPYhh4hhAA/+RoJ7xMkEevWXKS8KDINS5Qb+CBWR4dSRhwpRmvzDMIByq0f/6cOCrlduuP6Iw\n",
       "O9stDdRpXa0Gat+cao2Y25NPn0TRDRIWuplMnuSG+/IaTBWPYGiGMB03gzsYY6kjrJ9O9YrGglt/\n",
       "w7oNjBxGO3QJyrdxGMPRHi8E8Yzz754WLIwjHhxPv0bz8/NEhIlknl2GbKJO1rJHf13IeYDstkFd\n",
       "sMzkeMKzQF1pWXw9kw7gjkG34fqRM2+NtjiJDSlSauRB7GU5mRnHTQwt/mw+t+jRoPu290ZvLrN3\n",
       "n+ne57sxZ2EohpDSGQA04NZIOXhLjv4zbTLUZD/YqpIEvzLXm17Wei4k0tgOzBVcl4ZNkoZ4bn/F\n",
       "bWSteMqZHd01Q7Etd0blAxzEKMofb8PFlKbAEpmtirv4SsiTBDaCAol03MSlWNi8RMZYeFLnQwjR\n",
       "ICmQN47I0cFHeGb/oJlTYK32v/iaJS/RrURL8kH1slDQcWBCQAmOECrKd4sKLoZI8R1ZOpHFnnKr\n",
       "c59JcSSqHCB/MPStlFj/CTTYDXq8HwM4BxjHm/m7/KUiVdGXrJauYORmFko9ilwbMhxxYRR0M95z\n",
       "gtxbC2kDH1l2L5uYQXYomGdB7pRqFcqFd3rs9uyeNZXbkJOjeOyePDLmZq+Sd1imO0c/dXH9RGg1\n",
       "+8T5/AYC4ix8dUeFRRYrhj7aAoSi3drA1psTtwYtp7rbMNvTZerg4T/yUf65C1bnJeLvavhG6I2p\n",
       "iGsFHdiIteXgccqixKVYyI2X9BbEeKcVSfp03KVx0uHl6tkOI1cZiOSaXB2oT0t2EtF8EgIIU19b\n",
       "/GEoOHW6PFa3A+gXyLYg3GiDe0GvkVaBB7rZRE4+Km7Yfi1n6OQqfTzgdUxUVsFKiHSyho9coRuf\n",
       "cF0+LfYDyU1WAIxceCRMRQBMEUw/D1YSxfD5HaioPdCCtgKp1yNSvJpqU2rECVGDm1yHulVXMU+F\n",
       "jxnUuJ5ufaeqHGQhSCUrmBV1ZN6vWcyxDgqq9ibCnQ/dmUGLpvV+5JNagLNR1QOod4k7FqW3nfC6\n",
       "MhWmRksEEqNa0+dGleIlxh/ndHy9QwspYExBQMmNfsJ82QX9dzNJybS/hMWPydzHt9HdSHYudaQn\n",
       "LKvl92u6vLr4T+CQEkPUuzxYGzKZTcAMVn0NjC1iIpVzE5/7+SwKfQe6vTdN+5QxOWRyy8H3bokx\n",
       "s6zcL7//lswqOZQnBgCHdRDfYufXmwq+hd4C2frXCTk6dVIcRwfQvZpnInh0wOaXnwmer0qAsc8d\n",
       "s4oI36KaOIg6uT/nYPrWwg1jwUnA5EHEyXCtcpn6N/0//dr8afPatPjfrqpYp5/tnp2zekZVrScJ\n",
       "2LvSuBut1VB12hsczMxQP31HVZAttkF/rbsgx2ZvSzRvQsHCFcq3UehE8Hfpm8zQ2q2SLh+T9sUn\n",
       "0uywyef+uW9JL13ZsZ/inN5dp9eD6l8PhcXTC4uY1SQzuLxV/HVG8Y5h4xOw5O6k/945FlaK30DK\n",
       "ZmlSbzcEK9t4YmibAfnGJAnN1s0q5ziFYkf13AOnMDTGKnfJE02+47XsDlY6Cbz89eMVPyUwW4DV\n",
       "JcLsSEOn8vhXzvXDpxzU1vd8fRQIqhRYWEIozbbWtSS5YKzBDtCQc/utJuAVWVgGJkfCLQ9UxMED\n",
       "6TmoNG0pFFK4k8kF9ETghlycIkrSlXb5dtFo6vCpG6Ku6fQEOEINN9MFfrDYWUWjtDrS7JXU21bv\n",
       "MuoN23p6IazsjVlBCsFyIifO4tFeySpxM76mtWeeSt+CcOHq8Yazke7tp7roNysq9Q5YO/KPXt3Q\n",
       "qZnsyBLZ89OQ/+df4iKwwEgCmjsHkKLe+37jPI8Q1WfANR86h0DOX1C0J0LabSm900bfwhoKgK7f\n",
       "v4QZpy7eZGBqRqQNk/AAuvV7twJDm8nJJGyYWIGQjpu26PL50XmeEtitsjIxdYqPIsC+DuQmL3AK\n",
       "rRqr9nmdjXrogOeOKRKQmnErYbjsuw1rKpVD43MX5dsh+Ztl1+AvhPZL3WfzWyJYeIj0k81DjbqA\n",
       "8YzyESolOoj4+/N4iZvt9qU7/BtJMcM0zmUQ0pyLulwouGYy52xIE98lfdzFgauWB7tX6zpSy7Rn\n",
       "uEAkEPQVRaUdMJ0F3PhR67MDfwwyQJ4p7FqFKgKxsNX9KN1OI4z21vJNu0b20CVyHEyZE9/glP0b\n",
       "MmYtXyrqx2i4JNlcuWOKE3NSCB+zAjisORLfN1bByjQJafJ/woc+h5Kt2SaSScUoqNUkyXbLq5Q+\n",
       "2PsOgAhm/u1Xhsd3X7ZlkVe1oWGkTqWW7D8Sd0QAFHnKSVV7XPm4N8DTbrwmWVmt/nSwh8iY/ZyF\n",
       "qUv3/9lGpqgMVimtiIQJG5f/pKOd5MPhbLR77r4C5dFaerL2bxmtCnJDXX5qCMjWydOcuaPBwAyO\n",
       "zEYsUkFFzlZbayKWdiZNyNIn2O7gAugHuvUnguBvN6XQzkatCiYSlnOble1+rTygWUg3VFoHF0xC\n",
       "0rigMmbc1vRCnTe/fhXFfJx2rdk9SCElxkJIx/9F/6i8obVElcK130TlXEqE7jOndasFv5XxmFKu\n",
       "bJMXKypjPyR0ykR5UgKKc4AuI7p3aQYH+sM7bBGsSuw9wAgra+7c46X3YNqHqTLhEl6AF3ZgU5bl\n",
       "S+QHEFrwPERATMZ8bGSjtDvQb/q5WjKKXuQU/r7E02NfPw3kdkDD2fUbjYnRkC9Yr5GJTQNF5xir\n",
       "7l//gg7YRYsINnrDKeOa/p5gWg9jg6krHS7HoT7voKH8znz91JDGWS4TtQlDSNIE6VOlLfY4ADy2\n",
       "OGc4X/xb3CXDdhmt3M2xUwRoq/B6O40NxtVVdfwy5ZH46DA0lAxiDxt6/XzQl7atCejfRxHkTJ1d\n",
       "BCAZzuvap67Yik3RL4U7B9Dko2ptqfi5heDjnK1iLLHaafPMXtuMXC2/fNiMwU0mrUd6U5onSuCw\n",
       "ijSqHPek1ld8rt0XeAxG9LMm6tMI0EwvbBtDq6O+KDYGumoTX8HE6s0SVyR9v88Dg0yiztvzlkO3\n",
       "JJ+JWhO+0C719zBpmE93SNakghouXHwBQHMyy5/cLt5nRVf92FfW3usmm9xEPfagBJQH0g0lCwil\n",
       "hqZcm/MEetME19ygXk3k7XPqSMh9rD1bsoGiIUTxIsXXqpMizxpp/9spgUap6jFJofs8BWDTRbr6\n",
       "UvrZ65kX+R7oT3o15Qp0whom/PV9OkMOojVKaq03qEHTeaHqj7/6Y0U8m7pQwpXpiICuv3iHl0m9\n",
       "8mEf48Qas8V9zgXoA2XvT4i7RbSOmiaxix/P2YqcJWCDO58AhgToqsENt6NIRE2tCfUNbIAPC9Mb\n",
       "3dtgijgKtFESP418MRVXCz9AuOX2u2QyC9bEmi9LdHAo6DVQZ8LzeklIEYmxAol34UaaH2yqV1nn\n",
       "tGVLIO/fjhT1JAgG/08cEZgAkQKvCEtRkCjS7o72pBYFobQXE9hteIXTcMjdhltLfIbyh5/blwp1\n",
       "fGKU2kMp0iJiW8L343lT24Uiaia+DJiaZiXagw8sfGgV/hmrqCrPhausjnG0hsf/AXO+FLy4H1ac\n",
       "dm8lNrQMsSWjtl9csGq3Xd1r/thX78AE5NBm9pS0dz3pgY8oZDnUHnScJqoRuaJB5h/vtLJPRZEc\n",
       "JolwIrJO3pKJp8CIZAgKcxurIHn0Upa+RM++4OhC2U1nfc58AQLb4b7DvEHoJrkpXoiVk2nReFUo\n",
       "lXukPGeaWoj1qhgN2tP8XPwO+6mt3snKg7VMP0rp2qkab/ZtOaG01F6sAbmldIqoBXhDh615b5aQ\n",
       "rkru8pvoWKDRtUJkj12G7n2kV8pI4pEUnTvxeLL0n2YuYvIhLZvzTlrNZwlx6vMkZfo49Bz8b5BV\n",
       "CLGXEfkOxZwhgjQf5WioeYGDK1nVg6wsA69vkEanqMC6rSlIauI6QzQdb0oxNxoviLHMG2gbr6Ja\n",
       "8CLMkpP8MlpJjmBLjLnSSI5HWlHuJs1y/UNfJwSKyxBKR4XoI0wV2uQ6lqGmIaynCOclsTEWZYJa\n",
       "hgsoL4aVnhifIARINEJ4YgCQpeGH5/pMFwe4Z0KPf765EeQ6jIDvx7xVedn7gvTv/LDUuMMmr9cq\n",
       "6hXpmKO6VHV9nqDan99/O1gTMNleKPpWovivvxAxM8xCBrGd+CM//u/vS5Pt025htGaewdyj19oA\n",
       "WQ2uSbPG09ubCUna1QDPscCxq6OyHjQHeaDczdo+RFOQMacsqcwlrgpqyn1HNa3qO+LV0NHU0QVV\n",
       "XTttSaOvoiod5XiPwzL1z7PVynr2GEYEy+q+Q1gUJJwXXOpG2zD9vkfYt6OwheysPDMrck+I9eYG\n",
       "+LtZOPxhGA5ew2s1+wAOZWrVw3sGYqpTdKKelvBH8VmXk/F/OQn4GCdz0XOEWm131j9Y1vMxQVVk\n",
       "0rutvMRRhfn4WEEgNu/zqhUChE3LUR0bUJvtcjPnmeiDBgZnHs3D5eTCPW7KHwmnUgEx55yMj8O6\n",
       "En4PckjT2u2OO+0C1yTIsQTZu+jtMzj5JHuI9RAwjErlIH2tTpbcZbzxOCAPxdNbieNPvOe1VvCP\n",
       "fTNj6zbQFD1BD22uORypOin9LOMEvGE7J15b9OtmLiEP74TwQ3zKY0To+GNB7/MtbgEL1bn57KH8\n",
       "aU5QwhW/a0IUaifISYZsdBSA+zoLceEIE31Z7RmjvlmV1fI1zVThpSKqAkciLr3xbnHxtULPDj9H\n",
       "5kYV/lS0iA6Hmbb3ec2P/gKpYl9wKlLFeLIOdA0HZajvLHeDkL15+Jwem269sK6OUxfodiP1gZH4\n",
       "DntOQpP/HlVM005tEmNHuxvLB60n19ssgvtAIVlvn9ilDTJ+t9dTEbndhbLqr9fXDyXaXiBvXB3u\n",
       "gfwpM1YYOfjsCBaZRHkIYHCIuD728Vwl0iwOd9AO9Et2tj4E95G9XjN6BSI8lUU89RziMX2v9c1o\n",
       "x9dNPVmAiWU3yy+ftAuVXXK5smpImMvy1Jk5QNsT4OkTSvSjTRkfeeplyo6S06tNbSwf0B7Cc8By\n",
       "QF2YkeUXfVjmPD9Ua9vMDn7874Urhr6dleTQjfsODmwADfBhD1bJ4YuAqEUZgvNiTaD/kPp7kImG\n",
       "YALGKn3lS3JLti1lDiFRMe2JDOn2A4eWT1IHdhvZCR2v5TdtRlkmFTX6sq2NuJ+aFBd/R+kwRJBW\n",
       "uM2JDBx7zF0BEKvMWuDyyDfNynrxPMHdQbDFOzf6Ydq95T1b8o3hfTMVnCuj79N6wcIWmfksQWMO\n",
       "cQ/2fGIij9GcPQqeu2t7zm2auk3YRGYZx8Ig5Szf7jFdjRPyp2kQqrgIArVBnpjDHObCGfauigrk\n",
       "Gr/Av3uuCUoYUQt2ruERA2cdxdsTZGWFqitGngg0O6an+WTTs92eypkpOLUMnrOersKZglxsuowQ\n",
       "c7PvJPb0JqXcKTImIqyde88wLmZbOmRTTSbeRYKGe7MbqKz+iBiF/ON840npeltz3/7LAxnDadAA\n",
       "1k8+XL8fzP8J0bxMlZXurD1W9/ievJFIKIed2htsbVEI7K2ah45ZdUaVJd8OoKjgnO4SXM5ux43q\n",
       "zuADU7C79meDmqSkF/VQVeE8fDKgIyb2o/T7VYNgTJxMyNj09P4TrqsHsEohml+V+ecG3ExAro/k\n",
       "v4jGTr9Mt7wC3fffW/7Sq/DoUzHtmUKKuQ3clAqqz4oimCEX6z6MSxyO+sTZ8sP5WU7X1ILY3fO4\n",
       "Tyh2WPfaioBpxpryEbXSqq6ul1ULLFjsBwPUANsrrvKl2DPac5sgG4GLGKcm/cwox5R8XqncN48F\n",
       "oDket7vXfe3ofavzE4ChpuQDtBVHthLW8xp7RdVUlO4Ttyzu+cdx3DvvdLkiGtyAtHHI9j1Cc1pJ\n",
       "PvoB/RdWV2STVMlel+73old+39RkDgp0398ARbNkq6b1uiSpOiCItqPrp4qbN27kVQ2CB26awyBX\n",
       "XMi+i6bx3fsg4lnlCjiwwXexlOqbHhDnftlueFL+rbkeL8gyiFVewVghP9rmFRNspvmgUouWBGp6\n",
       "hKe2C7FYC8woSN7DEu9fl/n2FMYH9sCmfAns1uamWU8JJsVMr4rB8+2f4tSnoFZtRqVgjbgDQqA5\n",
       "G9OwPPeSd50pxkwqDN69GVADTiKjDxSK9rlMI2hL6tjfBWjcxwBnsTjcl5TIx9bI+hIJYY2ix87j\n",
       "WKEPawehgWeYQh3sjdbN69XCoB0EHIJip7uZx0zFVoLRK84SOyUrJRgsfC7o9HCnbZp5w+s3oeN5\n",
       "pm/E2DAl8s1AGP7qabrG2WwCH8hwYq3+1Jw+jOc/taBJWIr6P79Nnh9gmh0Af49+pDOWKuKkGzQj\n",
       "WsOHBAafMhPObX/HCuZG9rUJHPAJh6YVrwRe2OXsP205AFVTFzgq8ahgabjLxGe+DourdXrtx1JI\n",
       "YOJYt0OatbPch+E6vigj6hwxu8DaMcc9rtKZhH95ppCFLKjO1PjiKQ/+N26S7CIqHy1NpmglRW1Y\n",
       "QRyQ1X1crtkG+O0we/gnJHfRzhABh1o3FY9nbPGAMnQfZ5IUSJp0UdOVYp1v+AXKVHJXOsbpIPqI\n",
       "+ZGBCwd9Spzf8MKxQkXb31Ikjk8hyD+vCoEObvx1X/nRzjCuNZNv/9AT9evDVAcPMhNbmON0Twr7\n",
       "o9WslFfDA2Mxdk6Epb2yy3S8g0W4ANuL9ZtxsDExV13iLfoZuBOZLEqQQ5FefGKFJdsinBwAvFfB\n",
       "AU6yJZzGZUcLuATpBpP1B0wyu+06MNPAmaafZXLZjZ39jTgZqjyPnwxMTxZ7N1b0JrjcmXWAgF/D\n",
       "GGsa+apGtx3sxY1JnbLy9eG6G8RJWDgZd0egVh/BBEmrGmni2qwWG/3hu9OfISAK0V2/507P/Lcr\n",
       "vEoDvGlxfulOT4oLo8FZkSrCbePz2jtderXTxbA4NEpO59r+9cspOl+7JSo2LADz43ajCfaDf9cE\n",
       "CZstD7dwgm8RENRaZ8ndAFF5dqqgn8eUaiTaVquJzCYc703fD8MZa19TIPfwjpG+J/MTG+exFH3C\n",
       "aVP5sEGPZCEBy0qsyu+atI5zu+FZdHfDOSB7+HdJBzzixyVDk1Hs3wvZlsZjftYWSHTUAqqLab51\n",
       "bUugPvqJcIbOZZyichq28vf441v2PKQ5FpL1qdJZSFB8eCZFxiztFlUByxqMCCbvZT4dvWC6JQIV\n",
       "/sTW3PqWJwlf9viMQdbkkayxIdMkx1dU308qQMKzVWjJn6nUPE4ljut/3WneoOI8V/h3PiTUrpUJ\n",
       "WLv1RUxV0v0QHVjXRjnFeDxsvKOBorEyPshbx6a8VKOrJJS7M3qd6aafV8sivUr3MhtoGDsM7BHB\n",
       "2ko5pBDv5dGQlfSMxig0a+wDjNWBQ0jTuLkL/XFjvzUv5t6j9NCzdOTqfv1WJCQCA10N6/989RbP\n",
       "010v9JtcJ23gnwN85qfgHR9DdMcRM4aGMh6izlK+e1ufOxbPWSaBnHmzrYmrpcl1ECPCEJHGdtgk\n",
       "XJaZg53Ojofld3pjfnN/UfP2xd3jeTGKV0dvhC1QDCB1htYmjSAQKKfKKoWXdMxnvWkx68O727iM\n",
       "9TrmGuYq8iyzGe9L+oCH/hQMZYBoDPLf2OPUp/7r+vSk/2DHSwGD5rn1JyPF3zPbIM10F7mxeU76\n",
       "If9oWfdCzwauCmL3oY47VdM2+ezqcHLY23GNORM/0ahITJBPhy09Hfk0BzAhtN4BtzxG1LLRTnHy\n",
       "fQttmo3mmKqaWJhzny4sdFuDNQ3H1Pbva7HDivb7T+XJMYakTTcu6ypIxXcmnZNE3Zo0SxWj9b9E\n",
       "lDJ1IApyECywkoeHW503mgSFYxRaDTNr85ug9yzC5WaB0wOS0whq6eeGfV9ZH5NM02aW5kIk5xGW\n",
       "BMv2yT9XRNc9sG8ad+ZUbmvzwtjLtxJi5gH6tsaZwjy7Kljv+4VJwgJYJewqqJTpuGbW1SSzPPD5\n",
       "RSkVmul3NN3gU+6tobzUROYCzRxUP6P/6AE4Bf5B6c0Pq3B8gS9Jjn42cHRVjqU0tJ8HZIRr3B84\n",
       "yBYz2nhG0jF52JJbBgcNhAJa1Ddh1lxNlSq4pcx3Y249l077duhZCJJX8jlj21y18BVOjN7UudPx\n",
       "vUe3njcLX01DC1I43+LMWL2dGYL0iwq5e29rHl4eFY18eyVUiz25RvS4dVCIAABR5GI939et/tAA\n",
       "Opk6tJeL1PchHNMersy9JJjrMc1/BuF7s9uITz4EMSC9Odz5q2pqBisCSwGhJYZJwf2NceHrsOAu\n",
       "wxNboWdlpPWUFzrUC0joFdXFSpYtnFLRAywCZpkmen02+Hthuu8ribhDm9CMYiqwB9z4GrAcSM+J\n",
       "FNyXk4lhU7ABq+oE72zSZ25/A/CkyHQROtmtpUc5Mne7buS7YKTHsFxXENlCUNKrrd4i6S2v0szX\n",
       "kMYE7RxGjyajN4Bk1E+kItnWxXIIrwh6MeNwsMJlJ0j7qUxYz3LOYWtcVdWyVgJWCvs2KXzwCX4q\n",
       "LMUFf7UjVGyp/v7pKe3Sn8aEoXUcE1uu8cx3GWEQyUI0tXat7LmmnI2Sakh4qHH7wjTXH28lCgnM\n",
       "jrZ+cV6lLNPQ6hGH9fE+L5+wyjxW3rkbCzku94uL9uJeMcUNvv4sDuboLahsNiqLgliHlHFlDrbe\n",
       "9lCUr3sd8y7Am5/xOaoC3fMwX1skKa/AIBDzyaYNrgyJboOV9cu24V2r89lRqUXLB4wviVyjK5PD\n",
       "Y/zDJ+6wUcfkvoEE841l37o/5m1HRs4gPDPuhNCEbmv4z25iEW0xrCblpLVdfaGejEjCSOh6nGoJ\n",
       "vrkpOrtknL1uhCwGnc7Lpy6NQAnomVJVQ48rdO+hrAwbhY0tLaRWM+EFKEt63Ij/e1mJPymIUZsB\n",
       "IuOeAaaSmsnm8WV3d9CcD7nJ7nMsBFneUz0WuO/UX3otenZ6VF2FdpW+DglmUxlr/wYKV+FGFen1\n",
       "fU1v33YdUUdRaa5aqjkbFhNncmcv0+/blJqXePY6t6UNQxrS0rT5ZKyLimUoNj6OqTrv/f8SAHyk\n",
       "AT/En9iMxJd/3/jXDxbCp/gGyEMw1nIcb9OKSmBjrZZETz3VnT14YGa/pD0K0qcMJVO/Lw67sMSO\n",
       "7sM84++evSlFNLqwDS8fiT8k1aOqmeMWM1i6cHBdmqIIYbSATLwna3VOLk5qAnO5Y+DfCFtoIsUH\n",
       "WMcQ4qKvgFjiZkDYwKVGsebg2UYePIv+We8WnKPVOVa2EN7mzo/fwQ5fCWnEzRyhFe3BGYINSs3m\n",
       "mYxi0SXnmlBnqlst2DCYF+9WBiXMRd/UVj/XZaa55lvg1pVPSrHWWVCaxoS4/Eid76Vj1IpoFaVy\n",
       "Lgkav6f15iQDV8Fc2VhFefs/vFe/OVguByxcrvbyMFC0/7yLNAYjDr+EO0WZZZc6MfMvib8aqJtV\n",
       "bQrYx6P7aCzIyWzT+pMdcSzjgYJTnQQns7JJKZd8lnfud8W0oVz8cfvp4xZyc+PnRwmDStkAAAzP\n",
       "QZokbEFP/taMsEsivFACWt7jb4plP4iJzbfcxQ16551RgfG4QffvjBEEs5PMaAlY4qyeBnflnsOy\n",
       "KKHa6N63vkEKhpnamkGBihGNkFT8QhuazurQRraIHZtSeKmUtTJe8oDl6jpSPybCeouKnnUts4za\n",
       "IxJIyTgktOqSlDRbb1dvtyRv/ZstQSORbwRm3CRWTeZ3eKePCtwNLE3xdxKsHuqTWRBkZFfnkR8u\n",
       "Fi93MnTASRegyBJsenlgEFD+EVKV5h7gTy0n44+EyLjozBOPCqlfjPJ+SmwClVuxJBiB9SuP8ebk\n",
       "gNNfr9Y3ICmhi08iwLQxxcNYJ4RwpPQcK0Q0RDA7KXCsaDQc1rqZQtCCug9JgE+cPEV2ZFujqgd2\n",
       "xWuxRPkNGmRTyzInN83WwnXT3I1zQ6+kH/q9DkYtJ+vAKiEtm+2ZCKpR9sBIdGDjObehbvEpJ1CB\n",
       "EUdPbDESFCJfjKStEpTB39sqgQ9kTu1JkEItaf9q1PHjEfYkWUC06IDZiIEmEXolIs/Ly2wj9tY0\n",
       "P7ikeAg9uwFV++Fh7ACIVKBEew8PEu9Ngfokj44qPY5QMLdVNl5MkE5Hrah655ZUtJpxqlNAxbIm\n",
       "9vUY0F9DaWnCy2nicaR5HEMLLJeRQll3VvqfZMjuShoZRYeE8HpHMMI6Z+mAlpSMygozi8LPqFCH\n",
       "XxffP/vb9uqleLhoYNPFRPGpwen6oJ1xvmbrKHyctoJYd3zHQutFLJAlAZ/3n5GqM2z+9avNYari\n",
       "FwPDsTN+uA/V/wfHwO/JSeQTjFdC1ZYhSxRb4Qx3jtxgrOZRFAYAv6p0QuB70aOmT/CZNRxnIgNX\n",
       "MXjx6a58TG5IPgufvSe1HlNrhf2T96VxPHL9Op4k31PmLyJoxrjj89bX8nD8UrXmSz1BOLTwU5hQ\n",
       "59p43aWhYiGA5Pn5S3n8tun/fD++d5BoV4Xjs3vUzswUcJwALJhTqQf6roK8YVVONquhOW5kXm2W\n",
       "0PiH2j0LsNW2NRNJ0j4Xa/leB98onHhVVd9UuS/4C33gz4c/886ZP+NpJocZy+Agq3oxIu3swGBq\n",
       "+VoaKS8UFiRbm+WaIVU3LSbuOBwVAyV1uYqjRnh4l6u2FNS8HyHP0FHYbC1SPuFGSfiEcYRDBqpe\n",
       "OvxxARJL61ulHHo7/d08EvZR3uaIuW+tlL1XUe1+UiNw+bNjHXEpC+X1+1tQSrDlGss5P5OFkXSi\n",
       "nzCu8dkW0BmRfttCxpf5QAord8WYRE0iveUOmSxdIwd7Es1/0ppl1y8wjAxbcsWqxb5XB/WiQU+r\n",
       "C2D0/2uv1SDY2bQ/2iWRvnGMKUrJfQ1OOFsc0xGxynGndd3yQYUbq16ofcTktMaAeyXWdEpZshrr\n",
       "vIdcoXQ7xX65B+8je+FurAT4OjD/R5bnhQYS9jg8H/8xdJ/neJNK3oKshfxyxiQcLWcW9vEY6VNG\n",
       "CiF3CLcnE9EKM6wY+WDh859YquCkPUf+OTHtgRwEo6+3jaTA4aNKNyQ6c9K9DZrr/sCydZzBw2wB\n",
       "e/uVWvhrLBp5fnexL37nc6FaMBo9gG5lOnxUeyYnBVDe2upq0mGeVGaWVrxdGBUNQ6WjhxCw2FpR\n",
       "JiSuf8m185MR7k0jKZf0caTQoFjhQkuhmWntyvUF2Oq/JkKCZpnePg5+NVA9D42D3czMfrwVM20v\n",
       "8R7i9EXSLxHFTZABLnrTrJ6vDcx/yokI0+TQw8oTSDpc6KnKbl9ddFV2YOUSlLDcJkEVRzhZtosw\n",
       "jf8PwGehkTSDDzJq/9s/CtNrzY8tEBf2SBSW8fOfFAKlh1b01+rMTk8cy+C1kRHwpiHY2vIwPmPl\n",
       "7j3lNDEDnG3t+1L04A1HOiphcv3SyEuiFaP/MFJIJ9sqCmOvCJePS39OmcZy/1IGxhSfumeUSk1V\n",
       "ffyY+9CECtlHMOXL1Nh/TeEme1SoLzkzYOPob4eF7Wf38zlPIeZ/LNEdp/ELEUxXOt5CZehYfQK+\n",
       "KfppfH8aAPlnwC5P2Kct02QVzEX1iLdhAyBIemOLdHWqsxP+GCoVEATxQxQ2/+1B3A4wrY/yeqEY\n",
       "BGZXjaSfDjEVmgb9RCEFfFEEGmOkIT0sXqII1WVljmEfm33tPA9MJe+yTzjM5RmuW4H/5mijJi2v\n",
       "LWVs9qXnk9GjJbkPWVX0NQez512cszCGh0K5LoyhVwIJr8y3dyireDh9+xf1vh1Cc7yQkjTgIw+t\n",
       "1Wtkbq90BrvqTn5eIW8cPrrYl86IakYHFS6Kw88XZQrTxT8YHhtKueROAamOhD5z1e5FDr0uwHXL\n",
       "aawtg/QOyZaxSwWKKvJ/wCvH41Jiy+8yCmpP/Mc+2gKEVEacrXUguSyJ34+vhPnmLheM7PFW4VT3\n",
       "JddjcAZrbiEyTAMB5tuRCwPjCQTZDbMNFuL86fVA/44Qi3/5MaXHuTdJ6kS+mkFp7DKuZ3omIYKF\n",
       "NhzkAU7EVGY0/V1ba8x5N1ffnju4GZjqFXq9KNzSTykvX03LVtk7qoTxGjg3qa3jVClrQsUjGYtk\n",
       "eQahzhbbvRhHeoNo5UqKc9rmfRZdNlDadApk1tRRBmpCaGnPq3suHO7DzckOwimGsHPIu+KozvmY\n",
       "aglWZM2EptGbXcQUlr7ORVIJ5sGtqT568gplB/QRsiy2Gr4gP5l3y1PwSaVk8PZcwE8tIX+VOGdM\n",
       "ok/xyc0quNUiDAsBQiWASxenshxz/LIxjNEo0R03+h6rMERiLZWvtV4U29qf2aejpMYvI+wTuBFf\n",
       "HOSmOh6fkkR1opcH2wT2a9c6gXkdV2JnD0gjf/qiTIiE4Q/bl4moIXJYb7v4P6X0SmLZALqfClzT\n",
       "76B5rKftPInaZDL6Tc9fHRiEH2u9heai+Xr5XRd+46HqlvrCQb/UqdxOkxHUngZt5TIoh/AM6PUi\n",
       "KvOu0hcTtP+yEm6zzBDojLf94H/AYKG3brpkKWDlh16ffL7og45o6T6Y9fZm1w+o7NzpnHIU1Vzt\n",
       "qzqrJMvbkW2CEiKnd9JMwE7YjjdN2hHr7Ebw1hh+HtJcYVTNbASgwnJLy+Qpn3A/ZR2X605MZPof\n",
       "Ro2EtQYNUQEqAIOjdt4fVqpMvg/Y0Osnyds+dQD9Jks+G5TULw5tna822jkt5DIhWrsRLM/S7O57\n",
       "xWf5bK/REexxnJhbvTelfRYKgvyoj3kLpwKt8t237hdg/B5Ssv6/C8RUxpFf1su5aPAUS/AIALQ2\n",
       "9DNLlRS6Wx0uRioaMT4IwvcLCVyAoWlxYCiYVxsP1o0FPx63k+EXnUKY1mpYJ2ZKKzfs0gFuKWVU\n",
       "HJA09AyGjhxOfDhbX+2Vo7VDHeTn35yw4ch3sTNFaQ4zMsnM5C0nAUX0oNEMZNkfuajGRUeJnFpF\n",
       "FqmTABbWtG0VMfi3OIuf3T6l/5xaYgWp85fcAL3kkTDBrl2w54ZhEOG/rm8Wtto4XxF5NkeR/YrD\n",
       "ilgud6I7g0oT2doY+UkldIIJqY3k409K2RGENZYVv9RfXElHPO1vADMZCKxKPR7JJwCqipMPe/3t\n",
       "pEtVQy50club5Du22QhzQl4h2earbzXL3MfKkL8z3uGJrW6FUnXjKmgwZ90NxR+mz1TDKOf67J/f\n",
       "omx/GWrFbBoNRbjAU4XcVs9PRnqVIIu7ZEo3jcnCN93JDAd+5MQ5P4vBfFB0XqjRbvgbmIy+Vc8R\n",
       "+yFy5uR16452HqEU4PC7eewzy6/qKK6hCRGEbffjeMyPwQKQTi56JCVM47RizqbY6i45xc3zjKrg\n",
       "grvcDavUW9965PmDCqO4aYCUYOjcy1O5QF6n6p4/nPb5K4KfI6TdlF/a7n+YhVDRsoVdVG+tV+vs\n",
       "jwM1QLctoop8XZrFfxaLmcpEEKiyUv/z98abPsLq4UraS6S+jIhpQSbxYPfwT60VwZ8hxzKxq4gF\n",
       "OE5far/cPghtCk0Z1bOnd22Wb9naZUjGgKIRSBbfWO5kF27UtA5LKT7zrvP9UHb8ffOreCRfo+jj\n",
       "jq319Mn/JCethRZUmUsTeAltKHzDJE7h+3kvt151AxyiS9bk2op8ODKIyIgblC02msT7NbQ18dnY\n",
       "r6JAeC9stNDjKwovRg19u8VGuTWIlEWtbMHXhgcZYfL14iRJMttjUSVNYaJPFjc1QBXSwkFBmZyf\n",
       "lUQPxLrF+269OW7DmNXedc4/UsZosr1/DMfBU3nqYrml3NeDHZxe0SZMuMXikWmDWXzGKjVzIOx9\n",
       "4EAJtTTp4v0GUJw7REKuy+5B4fTTy3HMiTrFmZMfv2ygoJu4mh7bIVB0AEEyYaCjRO25qN4Cjk8+\n",
       "gBolM2UpYCxD05Uu9YLbTSzLVyRKP7x7EOo4DHyVaYPe4axT0UQ34VJu4cGGDlm6AnAqGkQEdDL/\n",
       "BOYIWwogde0guC4cNMX5MHUOfsQg5gXuVP8Q3URsAAAMLkGeQniCXwAi9xuAD+tt/5S9GIv9wzTT\n",
       "yMqr9wEQUZjw5OaRkx9zXdH3KmIyFmi0Ae5cj0pJiYJFXq9yapwgpgcmwO3UfiFA5z0pzARRmNqW\n",
       "HPb1jCTOqJELY5w+HwP6fy3cHw3V7RUbge1GXN9sIyTDK1o/lOpR2804IA0+BjsBH+2RqW1/2WvD\n",
       "Jr89dR+1d4648Q9ZO2wlaN19vHck5gaBvdIWgLbKgdfW8cWade1NAFOgKyPuKNQYkG0euyJMzOV6\n",
       "fZgbCOopTDGeP58NafEWA4a/3ztPQwFbQWqUfWWUvVvm9SXTSGZmI/2/DR1Wn5rOzTdkj/9xWOf8\n",
       "cFfwSeKrP1oQ+bP3MnVBkrTs0BMdvZwMAZb009K4YtgCqxiU9d6+Mm7eGnX5sD8KA3VbbireEVMr\n",
       "gYTP/wKuvcyB8nhiY4Vabdc26gIIGDOlozywRbM9hbZHLfXyLhDTM09GytFIuCSap3lKtvcZLBWa\n",
       "veJDDzQiWM154T0Z7kUykt0LaQ+nAYuVBzYkUwyRvU3j04B/Gt9oGX03STYj3X0UtIYoCXijLuH7\n",
       "xApZ/UaneVSM6EshfcVky2pCkbNVyFoqhDA0oDs0GvPbkjJmzAA0jfGqiQHJZKTxQ3PC5cRt2I6H\n",
       "w9rsPV1gWrTFWkOKQwtSZZbshB46/2TdvIsB3p2qLEVovW4h29z4BuQZhrV9B3+rUiOCTknUD9Hh\n",
       "cCRpN8Xb9MReKutehK6Cq8pFE70oOOSvBxoy39MrRR0fNwPafaF4ZGOZ/67n4TXZSIAvwTAGEDDl\n",
       "v2dOwH71xMLhQJLiH+q2MStmvHzrPWENQ6Vz50qNz0TmNJEccD4ISpft2ZSXI1m/81lxjM8BJWTe\n",
       "mSiC3BQZONgIiOYTdjb/fJsIV5H/oS//XGO9ELhbpaTNK7BB61fN71BdoGQGXPXj25nkI7lFXVkU\n",
       "V+39daw99HobX4GYbUwSeQbu6bN//1fzCPsftyBTRZJMGNCezrde31kNU5zOz8bZMyUqOd4AvZUl\n",
       "xiLjlhRtP/CJeD+ShSjiy0wIQ+G9g4HHLRUrjwAycfmkdh08SishotYNyY4qzLUgFOOT1OoMQF82\n",
       "kh2C9FXytkImqFoAEzyzRBt3h2wpzpkyUdT+eRw7TBNcSncXVp6IvW0xq1mdsKpGIojDeUveJpdF\n",
       "EqcWpbFqA042q84jO8rCsleCj/9Ufj3llEGupryJ9fq2UP/UB76vilTjrm626aEl9MsJjhdm5yqH\n",
       "Ql8JPnsEVSB43zYFJYMzb4S6ifxcbzd2howkzv3GF90xRJc7M74s2AI/ydQYTwGFzwPp2lEBahN5\n",
       "3giEB/1+IVZEREgMjxQM7N47XYAy+2QugOhrdKZOQFk7Qg+6snO5oNex9XPgUmlwH4k6OFIc/Am1\n",
       "2OBBGa9VfYElb9tvQXu96AOX9vys73kbMKq/S8d+j4gn++CQ9iMzK7MC6G5ZO1vI/P1JQzK/hMzI\n",
       "zC5TmNvdLAun88QmABBXhlDbCN8fJBrT0kp6mxZ0nV6+u+w1l16KthHIdty2M5SMVMtY+xWWcYi6\n",
       "NVsSCb9RcJFR5bl0WhS4opZwyjihGuLugeJVxFb7sitCuA3m88DrAwbQvmv+2oV4qEso8VLtf8pk\n",
       "AKt2+magmvVCURGi1sXLcNXKDkCGiMjTjuPtqznMEvrWkHPjaX4vs5X5qD/5RwFr63fVjH/sQ5k6\n",
       "ZVcSk3WYodPVF+wr5AWYH850LxsEBSdmsWZesZbZ2/IeU9dCdk2vKvjIgpJbvfCi1hNp1xTZ8wlU\n",
       "jbsB+g1de0XqkV2xjuRWaZD0Ni11NB22mapP4ybD2uVfpXFviGQm7C4Kab+FebzZrhM/iK8rXE6m\n",
       "2aSFeGJkyZaAl6qLHioVQQQKMHKP1aPHQrClc6hjV97WAu9HorqUZ953uu+exzmEtVGQ9DP9mSkh\n",
       "u3AWyrkMNxeTWRHg736HgrUGsJ+/ku8IJVE4AEtzxdjubrnD5TiTVC47+ZgljsM2naYWieLSHN3b\n",
       "dtFadqeMfT+O5BDBiAjZglFv3bbfmaHuGQQVajZmzvUxKAUKYEukOIisFu/1W/Ir2gE/3Z35cbzA\n",
       "VAd0Abv0AkTWZkk8BpoFe6F8f6oA4cWiO+qeYskM3pJaU4XXog/369XVpgSMcAOZ/iDYv34Fphih\n",
       "5LflZ8GwFBvBlK8ytH/WSATCbx0vNpsCvZO391AKVu2mZLVnwoatbNvSooKdpkMgJaFZoDVR0ZGM\n",
       "8cHChAtJSeX8qXSjfHJF0muih/9fdx+Eo58QN6hV78pe2sg8ukTrFEKt/AO18cK0YQ4yVqL73m8u\n",
       "d3g5OIxmv4lnQPhjg/3Xir0OFTIYjwFLgwVFC0vxUFbqLYu8KCBmqvWQXSxwSndJ13FzFD5CrYMU\n",
       "uQ6QTge9BjFStZN6IQTOw8IMfLipGuylD3AmFG+DHNZFdvcWzxj15cCAdgpfjxe67Tk/El4RNFq2\n",
       "hwpA7anIlNIx+vVNx+vy7zS62mjwGpu++FJ51giPYO/RtRksynua8RSbWH+GEHfp0f5mtNI9NggE\n",
       "FqABUQGDPDiL2y9EfzC9EPvDqI2Y6AZ29+L4pnBpmIz9L+31AkPi6rfk1EXPgmkJQJgijzF6sG8f\n",
       "Au8dc9pxC8hV/kj1yzn0dAIqILJalDszyxybrYPN8guBL0yGHTc+QrqqWZ/5CI+xoyYV+WEzyZt+\n",
       "9NnRNxLn0yudr9mgpToDzm/RuiRQqigtb7HEFoETwSYQNdaHwbb9pmgV1gBhK15Q2byfiSbk1mXt\n",
       "J/emEELcjl4x9/XTvF5q2C3XZ2KRitRSEhBLKS3Kex0A3P9z7+gB6zyzGK3341hJUpS1vVDzITCu\n",
       "+rIF03H1zIOnujoVdos9LJjeZc5zXavhKeb6lDVJvs7ShStmI+5BN2SF52yGqyekarFbzHIocDAH\n",
       "DKA4qIYz3Vs8CIAru/uY4E4/yPQOLrD53sp0TT19nLORJPLAuC3hIHY4cJpWN1nQsB0YdG/+Aguj\n",
       "xUAzbNnpbNmfimocd3BSUeJQceW+MgtY8l9VCBtUHx5BOqA1tTjKAnxy32kYqHl3RZdntc7BEpqG\n",
       "LbQNehtU2xUXThi2jyI/D0vHrYksrualc+GfJzyOiYHZ2z+oTeGOGeqDYnblSeZNU2dCxvoVZCXg\n",
       "gEZA/YDNlC1zCjHcCmbQBDemC3KvbI2cJeK5gr3wdt9hHIqkHYW8NKNTJ67IcUDD4uhEr6cvgSv6\n",
       "RjqZ0wqMGNtzAKly+Awui5a5/9GWLJWUEhfEkexF0OyNJRirKcBUeIVRpU6r8D+wyx7IWhFjFvob\n",
       "NeF3CVsepbEv8x/FeCZQgrVRWVpNNY58YiTlkiUcJ7pnQasXqe4UEb97qsiuZgWPg258DfZPb1hK\n",
       "+RJkq/eg8Za+/gpFNvFsxJu2TvIIOB9bBLHRUkxZjSHIDr1tTiHn//2qKE1tNKf1jTBQP73vFfqh\n",
       "F0ZKNC/iqgTC26oWooL1v8GqN8PgvbtpkXmFKt6zNaeJ07ds/tqgQka25sKmRJkiOZQ7fGtg+MwO\n",
       "HgTrqCTbumR/HSukeGpjCD+el3zfuycwb7GUZlGf23/M3BddXqlgdiQQLQkA3lGN267SSQNUTkn8\n",
       "l87ARm9wuzACCMkHWCYOnFa4L5A4rKbN8bB4Dftk9X3Iu2ah7Sv5ka/putpNs/qwI9PVZ/o1DOO7\n",
       "UQXlHD31psZ5nAnquv4mW6/TptPbh0XklBYEa5uBOAju2I3rq+cTxUa6QQg1A60n5wH5un386rtC\n",
       "tby16GwH6fNe2rpYfTtNd6t8OKZZavRb9xOtO9Cdlyi2f2gvZF5Sj1PTM9mCwdAE5br21y4eQu86\n",
       "WVlxbElbn6PWbTxihrPjagSU/MXoJjiz6ukKRAqdwzCBcz77AzZ7HBJHcVHmtvmSnvRxGd19XuhB\n",
       "AgDroeTb0Pfj06i+JH5/VaxuWrHEx6bBPn83VyWNU3flVStPeXCIaLmSSmBnTsV5JVk04cMLhtS8\n",
       "eTY0EjrEHQoHgXlnNQ0758tUjzjQAn/owwjLK2XzAYn69ti1jrFd1m2agzZ6tXmhmOFGoA7esooG\n",
       "ChbCB+5p+ph6lzVkquUEIeSf4ituHELAvFVvvexQKkZ6+8wrJbrcgTo5lteowVXc08y+jEFnCpGE\n",
       "RWNWVAEZJDlQDk0R6qRAMGEAAAtzAZ5hdEEfATb9V4I3zcAEQfME8LN9dvsJRp1xp8nVo0voiO+E\n",
       "TNkWGv82LDLdoBxLtdlTSoqv/ZQVknCehTPD5RK4O+871cDQnWY0pHTmM1CrTLH7iHtDy71MEWbY\n",
       "YANfwV5MDqjCXeGGiP+QG05N2ZmFZ0dan75a4hw2T1pddxmib4EqO+VhIE6LvPmbxia6eiUE4g1o\n",
       "WSls9q6exLN+AJY6pwdTacG4Na3G0ODom4xqcK3I6mS4C/I6dLgmFute9cb+NVTIs36MBLT7brUJ\n",
       "4Gsm0j2VWzaG3voRW5A3NYcytQfkmieE033tgITwIOLBBt+wpBIPuwBTxztSXg56Q9tppVh2pW72\n",
       "SlXEcUVqL3jD5vWpn1EgquuMhYDXwqXGMZuP8qfntoP6szESWKCMK0HfqoxrCxF1/Ur/G6gVx2xp\n",
       "tSsAncN1TRYqKnCyEfbQIDl/sqVFQufSvVSZn/MHwnOOpNCL8EDq32aYyd8tnf5NO7YnnR8hTgrc\n",
       "AMXd9O3T+TBLP52WkP6QGEo/He6lm8+mufRKuMsvnBvNjvNrNqU8Xt2f/pBMt28CUKuceG+AuG9x\n",
       "OXpMlAUKLhf/P6h7NNeRFf84o5yLvKdzSzErKJKEpwU5wNC6AKE7izOKjh7mENoQzwL9CWN1a5b3\n",
       "/VEnbbY8CjjMkk4PkCPYZR8ca0H/eMI+xJgbA/jjFld0P1vowx8KbDf7EzQ2s4wBP7F2RTszUWlX\n",
       "0vUJm2SWP2H2rYsHIpmj/rouiQVo8dbWoDbRamGZ6VIKUhhYH5aypssmRlIBd1vgzrMfjs078FaK\n",
       "dONrQyF2mVhELiOp2WJinFMnl4rvTxHZji2uqpdIZ8V6IQpuRBRtikrEmybHD3jxeNe556vH+w4k\n",
       "O6qkshMQ0bnH/lflwdeXqkj8kXHuD3pGC07dhroc/gUYp+GvXToW9ICCKDs2QcT6di/yYZ4VhCXS\n",
       "/KVzYPT3DR5OAHuevVLF8YzimWKx2P/mVS2qAW/cx3HpCwRleqR0Hi9BMnUsjikTA8EpGALdJSQe\n",
       "5qftngklIxnwT6CRQE/74VPyDQvZC3kKmQUZgedtVl1VO5OEg1edos3SCPU7H16dTCO5AV8URxXX\n",
       "OvayCjlio/daMyRE7YzaKSIJch/K8am7GYRFgn4NUsQ3kqk2aPwP04V5FCvI0M4Vf6Bq2ysOSuC3\n",
       "i8teC435eHnoKhgW4/jP92mvLLPeS+DizCCRKtFixh1Tmbe8xVl23BtIjuUrdOtfvEsaS59R9lcx\n",
       "wt2PQCBxqSyb3Tjs5y2noojCVnoZQHTF8Se31sn8YsfudRP+rn1UAcEoaz34FL0XPqOldnO7zxvl\n",
       "e1da9DWQMP3s1wBZNqteQp9fChgcRgQ+WYEgOlhpKsyqj0V+sWPt7DL4krXsvMxdXLxyD1z2zajW\n",
       "xny8o9h3lh+uWQ3yNX/MrOORZtm6jbGdc/14BWpJonkpHhEb3POrtyHwIyjAMRm3cAq/SAUDsG63\n",
       "O7uv8P42iZgBwuurOHTiDb5koMoD/ORYfaTdV/th30E63OBKmbxj8ZmjHQenGeUY1UYVP5R6vn00\n",
       "c3Pi29uqoxyIRi6NPJLsBodaYPeQNbT53bRL7VmBfk4YJLDpN7QJt3h1BSwiBw9y9tSMNiDDoQ+s\n",
       "T7nL1AnmMpl2/NrfGai0ximEfyctFzUT4bXS4mEib112cANhPDE+vv+Y8zdw+aaSvXUQeT7nnSEW\n",
       "I1Uv9OHXt0P8nxhJmGKH2fJpY77AlpKPDBXd15rbwSuJZgG2qCMUQQZJRdA/kwdO2BlQi0IzDwum\n",
       "/yGU/xbKFLNbDXEhYqeJox9wVK99WIFMgHdB/DZhib5GgJTc/odIMl0A13c5HKvdOoCWkVzZH7dr\n",
       "Z20KhGQCTacl1r2/Igj29RWStBsWcCZ5zByXNU2T5n3Qnuc40q+IKtTqCt3HbHS/S25MsZyt5iXz\n",
       "4kyEM2cBMIqF6HmIk6FXS87bwtuygvxRAtoG4hKXVR0hhcn24iuo8ijPIrsSKN0v2QZrD8fHhwLm\n",
       "ZTWEOUp3cuJbMQtGpRG+HAXuYAmImcY6eV7gTeWFUZyyevsbbArAW/p4YS3cU+XJa88719ZzNzUn\n",
       "qcYPdXwMJaFbgtWohvjldnAAFo272knRVYiZ9AY3TbQHXjGO5xumfwz2fzCiGbMnHRkoFoEsLkv/\n",
       "Kz7Z+NvyGqN2qX4qCNQYKH9whGDvROkKuDY7ANzQhM229AHNoems+R8AsbYBRvm/f/J8AdGgmF1x\n",
       "pp9dAqYN28K2x4Xyh46GVXKTH01hhgHV7mgGtlP4jvKQPmAdvwAwBobIw6+++fNNtoVYxcLu5saC\n",
       "TMjRrjXuzqs9zD6ddXLBg34T3Ap5XyYtZW+QgNHgPTk+s5bxjJ5+Cw0s/IRLInOaam6VKbdSa5+j\n",
       "qKKk6NDJL8JqvGYb5d2hPEq5ujZmCsHYqvX3A00oMCXWX6qpGwT6O1HaYxHTNG5pEH5MdSGLV3qN\n",
       "7XDNTm00BDGsWIY+vCBqm//qqBnslVesWUh1KqNQ0iWjPec8GwqFBssWsMLfb3mDpnMpqxwurHbb\n",
       "Xl5yqEXo1O5gxxozdBOVpNfkRaevO4HZEZEi+dJ9+Vr0d/3i4ts2yX23szw0S8Nq1WyaPzTSk7y8\n",
       "vQG4XwBA3vwBH+uvCtMmZ2WEPb53F4QKllMMp9c+3eIkeqp32HkAB7jyJjAqraSoFD3t/J/Rzpoc\n",
       "REjgDgysQM0FbziYzNC5fDExwRC521hi8CxADrM6oMCdl7jyX/3EnZ/2vaL/eDHenbPj1XKvi/Zm\n",
       "1ZWwBf1qndS4lqvqWPOLTBMLAqhB/QPYhqqNmM/v1Y7Pp9kjWx5m7rKab2yz1MJboi0AFqHS5v3A\n",
       "RBgPfXa5H+z7IHkpMT52fRIBXj+LTLrvPJE4zCUakYsvOHMzI19BCe1TEqDPVVb0bwWyqepPttzW\n",
       "bpYlq69NZxAz2aKaS1MZOerpfWl7ORshj9XlAW3avPR46mr80xjyepoQEG8Lac2+u/R3Qc1AnfSR\n",
       "y/AlHTs61/O3YWHuz5w5/8KJBYisaSMZ/K02NOLlVV9C9hBqfH/EKdudt65PdzMvf97glXnptc2K\n",
       "+LrVvvvgOQkuKans3Cpcz6PFVPbYba9cZROfn3rB/XUc/So0vz1tlqgmJyrhFpAN7qL/DWgLyiD/\n",
       "pm8V1lODj+V0ao92kde2Mysaxqi4nVxX+baGEetSGhRIaJwNLHn7/Otu6LlXgDDzATJPJIGWa1ia\n",
       "XVp0J78sYsdlpuwJOcPwknTr8c0T+1UJMZHqj4o6+m4i++8MG6lK0EpU7ouPayeS8BoXe9Cqmqqe\n",
       "2LV2NhX7YUx0oSfa5ktqJSeynP2uKhLJu2+LgQ2BTZagqnXxebFC+oxSDuWEuSjZkxSVGHAMg8T5\n",
       "6OOgE34RE8TwKkD5qSFJPp1SpjfkLO4BnYatoROv8cqeKNX3aMpzP1Eovvxtc/P/iUuv9nECYng6\n",
       "ONduJQahFmfbZd3fwEoowEFgL/1uR9NTB60O28UX+S0G5O+2Nl2pahDnsjHz3FrZJ6ss3mc7NhHk\n",
       "JPbLO5zzGQxBsxqojggNwHw3C5iFkwSm5G7EWqOiK5furYH/rucKR1m7zNBfUpl7I7iGdF+3Q81J\n",
       "pLoE4PpaQ4b7qxewR+KDhYs4e2c5LEmolmC6DEstMd5WfKoJOL/K0BdoyrZlcG8jWXoCI9bbCv5e\n",
       "stjERzsODxcU6fXXnQTVOTd9KglZbWo64waFVRcDMpuo/iXyceHFwwp5vQVOyL24b96ygKx3nhhg\n",
       "ZavKnbQShv4wodAIRhuKKAxYpXqTloYB0FeqGtlioMzbh38T30IS9HrHxQZvodJCZTvASRQKo3fb\n",
       "Kgfz3RT3LIkYPyX3O/wK/UARdykDFpLmdxyjUVAnIShpr3EPlUXLcZlPgBbQAAALDAGeY2pBHwE2\n",
       "KdQE2hgAiD3vek+YEd/V1JFIIhB5RgdX9U1CpQgGRKtdbQf+Cf3lNMNpDmbNI9z2RmhS0IJcP6e/\n",
       "cb4x/1NxqPzxmwVR/y7Swzgnmwz4PC9Cph1yiqeSrXzNJ2UMd1aQrBTlxF6TcLGCL7Cow/iUj8qI\n",
       "344MCZQ3Pmpgq00TMvMYtrhGMggJ6H4RqJVGuDcXI/VJSz4zJc26mKWY1qyrCo8XNHlPamszDjVy\n",
       "syA/HSHO18ZOymfLxn3t1BaWf+jOjP3xJ/AKDckzfYY7bUEpgA8r7Dj9MExdAEmUTp+KOfFSO3EA\n",
       "bebX/ytAdtj4CPoevoqj8MIMVZppPeZS5bwDEw1Ms+bKqeJwbvP5dk2hxDudoVkTnzfNUOA4IlJK\n",
       "1cLi7GpZ39AfakkwppHdEBt7G/v/pY9+djXUDOPwvIdIgTkj5dO7lV1iiK2l+MEmXg7o16QQ6wI+\n",
       "WAPMOfx//+Qj55xHHhlhMFeb2ngM5VmUtYzpJhIzrAPu2zfF1xBQTGx6ZQg+mitb87uWJp58NNK0\n",
       "AbHquGA/IH4YTR9R7KGgJD+voJ+2QXcxdMzJgMGywth+24PbyVEtcOZs0QpKk2trHSlnubU87KYf\n",
       "9nP/pxD+NvdB/49qn9Ql/ciWGsQGSn4iOyjj6jM3/uAK3U2qirLOFSKRsENNZOMLrs4sLhppNpTG\n",
       "BhlOkOVYtMwvwREofteYJvqtiIyBqxyYRRH5rOxWbaeBLsFhJikJjwpQZ17a0YL6mP1yS72gRuWv\n",
       "ybq1Wjv54jnSZQD29uNXmsXcFej+TCswUfq3TCjBn0ZISovG+RSW9pK6YA7KMbdAeb2YLw0aGi7/\n",
       "97XrxdeS2a9dsirdZOQ9DBJ1bAfmhMq6EhT23A3omXzqnCcxFz8CFMGfrWTx1DUqCElSqkobAff7\n",
       "OTDPsq+8LdXZ1SV2YtIRAaRQFYmyRM79TK+ydyrYICpN4SEakFfs4FWHPvesexpcduawcuTu1Brd\n",
       "0IEdGGpHi0XZcKbj9DkHeNo0MZWMIw03vTqB1+ek6Jqsz5JMx1nH9l1+Mb/2GeAMefrEuzaImeBJ\n",
       "YK5vnhjSEz3upEc+57wtWgXmvRe3ocE/nFkyUH50+WufQIEddma+ZmGQVNxC3prq0lbI8ULXmBH9\n",
       "n5RipLbMQQkXP0Cy+L3CVWgyf/ICARuVIGwv4Lu375Er/kHSkkt3YHjfCL+IflVh6IKTyC4CmzR1\n",
       "OubBuaEMBEx2E33xTecTFQFMQdOXUvFd9G6HcQqLcrJNGiASRxB4FOeE0K6H+h2Lc7rhKtcQcpd5\n",
       "LkF/nxPjSHwjCzn+mWVGbI++uC1f6uYm5qobAndL01l9Y5MD0vx0wmXEo0b2OHo4ib6slk59puun\n",
       "saVm1rOoQWajPHvOxWe1uW3EMt0qmi6U3hwpWen3rTyu9oEIvswDhs3RcIRD3kXS/tu8nf4FZZNW\n",
       "Q14Um/XNPB1EOpS7kn15wn6ZV412yh2OOKQ8ZL2QNN2PQWzTSE5+jhdg1fCXUK/ekIAob8AJ9Fgj\n",
       "/p05vZAYoK2R5vEjBhDslieapR9rmrjGlnqKoWZT1tZiNO+Zrv6Bdmb9UqpY8oJV8p8wUrr0SEXX\n",
       "PiKF1MfXZ2hHB9gd6SoKn0ZcDWOaKGRxy0rwbUmhTrhhnB1CP4jsTWiuaLGkha9aCANad7yWKaXI\n",
       "GJv0nP4UncKUJa5ionU84TiY8UPtavb++2atP7cd77vHcjHBxUZ101utU5v/4R8MkNHVt9DeCfWN\n",
       "rGOYI2Z2XNsS9dJKxxS3YqmLwKZp5lp3hLYvEN1kZmpiYPyaHXx28F4p534A3rejdQBnCjkfmZLP\n",
       "KMkos15LRcIK3ctshrZ8ZfDhNIZsHQIKteDQ+h4c/34mrYZUvtkKsLfmL1CElzVA/GipjHEVQGT0\n",
       "EIE8WgCUfKzqL91vf2iVLFGdGWscGPOkWLmHMoTpFX6f/1XrcozlTq4dUPEl1jbZkVfpwEzaJDsm\n",
       "+EuJf1G1tyPQdTieHTBDUd1RCydAnXVSHxthxMHd3On2yec1XAjVtCgzlGqJlfsA5wDZTyglZE1v\n",
       "Ldn7mXXdGobZIHmSZ7LSFBmb91r8oISwOdlMlGHtw0rigxtjauekFMxGQiZ0k1yNMmpbdIO5rV+Z\n",
       "JubXXTyImfpWHYaASLzD0Ehdd5Cm7jyR7aO4DNxJ3yvNbesVhpymS6xm7PXvjUiaETERyTQvjtZG\n",
       "PhJMfsh2QG1FrJotHGsD/OXafAHXrSjD5UFfTlD+vtX4BVDDFty/oGin4wovr8N7FTRsOJvqqdO1\n",
       "aHA6OrSQcEGZXGL5K6eAqSx4N8+gYHi+F2ybC7EQevtst3dmiMGksg1O4I+K8e4rN+n9k9FjeKCk\n",
       "AXRjr68A8dXGtwAZd4lvC3l7UQL7LAX94arCCCM2Va6wZ37j23i2/AMbzvG7SSDqGu6yNxr6v3XX\n",
       "sJtqP67pELAc8fxAwge6/gR4XV1qvScOyB/zuHSRrYnbQ5sfVq+AmSiGQoF96AGNoneOuQEg1Zzv\n",
       "+BnWa01ZpNDGPKxvF8KZyIZdlA12fSjfAGReSw9N8IXN1WV3WH98tp+3aRVcjZkuRZZzqMpqt4HS\n",
       "igHc36pYlpFK788Hpa9RyWN8fipq3JY1J76RG8cLp8nki39+z2j63PSq9alu6s3tijn7RdKtQkvJ\n",
       "oGXxI4SBlSOLIhFnyP6+dkbvs2fXQ0FPxFfM+suDBZ49E1yqTV8tqpCSfp3UAT51cY90OF166Z9l\n",
       "AJM5mgyCMv/yWSxYtP//9dJqw5S96ich+u3ayM/5nl+kTt7MqEkmOATkyi/w6p5lqfrUN7VPp/8r\n",
       "4Vnz7Sc0gbB7OJs3Nu4cazXr/l2VQL+ZQLIY+mWLuxczPFjvpCaWhpPb7MGJ1/Y4YyUSj2oPRIMJ\n",
       "BgtvpyLxMcIxAPI9ze+7BNP27rQWP/66xujaUp3Nmttj4AScIKfeF6NwW9+wX/boSlnH81rC3io+\n",
       "jOkjbh7LUBL46yuS1NwCvDkswJff0MlekTnI9gDJcH5anJnTE6qbFm7clbExHFEMEVk4TceQWoLi\n",
       "LDBMCW7GPTpB5w7HowcEbPBpEQ9ZfMWnPRP7axYBx5+FM4w6J/9g1XYL1fwEN6IQS7AlfSXeo9ZQ\n",
       "TJKOzzCV6wG8upfmZm1LzZe/cO3FNwEHpDrbtcxKmlX0wR4DEdEGTspb0IhSnxqce2ptWc+rMSN6\n",
       "azNLcHSlQwnpKd0LHwRDzKWtwwvmzqfuPPprLRdBmAGwPG4hlh54wK3foPNWT84jDzyQSE16zWQr\n",
       "qTUdLPW7bjOZWrO7KPe6SMYB2U/zuhmueir5Qly9PHcF7lc+1rFeNZQ7c2WdHWpXH0NAihbw9qzZ\n",
       "Bvaps/YNiiFrfbsEND2ZcBjKixtefpIhnS6PM49dSfd6TIwZKj9IyT3Bwt2dxGyqwbUzZ71oS4qM\n",
       "4VFcMkHl1vrlwQtB8wp6qe/xzFyJ7wvoFhhHJgDdGgF6SIvKr6C9wbfFU+gFFm2I9nR+aZBK09ME\n",
       "pEjI4Se7TDBGsX1uutEq0tkuCuPvUBWVkCoeDVVZ+AVKewtMFLzR+NPzhLx1b5koYCzy3HPsABMH\n",
       "qvzP+do9OSETJGud7mc4jSwdG49ZVC1GUqv+0yQv2g1x45SWDRNjxNedp+lTD26luHmouPi5bjAp\n",
       "p0EjvfH/wIZBp3jZUNUwtxLgy0w0WEFM1AQ4FBq9LHcfgxVG2bb9VX+R5SAJ00MameUjY5eJZ9wH\n",
       "M2ImXEJTcD63degZUBrAg0/zEEJSurzDPcSlAAAMC0GaZ0moQWiZTAgn//61KoEBH0RwAJrUfY8F\n",
       "a2PDx6rOAgFXIaC38zGKpvL4QULWNowl41JuBNYdciCYvKK/RhhOHhklo+/ME5v0nUYloP/7cyUZ\n",
       "YXfuMZpSd1slxEGLBg2MkYcWS543ZHpSHcNpHw3k71hBBzStLwvkfeo+3ZjhFYtopzYJxLCMp/np\n",
       "QS/JXyhGZz+cUWbhkmOv/7lOdnrA9VGPyeLSvP5zhLxtdlzGDF9fBuBTvkDq0BCFZQWJqkF/a8VY\n",
       "3ZB29cCSbdRSrY1NYwRq9Zw/7gx5d5Kaq0MbLWq0sKv9TD/iBFV8IJh5oo47mgpXMhQgBkOSQmK8\n",
       "Q9D64drXl3sXl9eDKFFsmVCwRAIQ1AL9/MlPKj89J1NdFphxP7URIh20UZ8whQLAGLJQYA+9Aybp\n",
       "PlZMQqSrbHY9dBnz4UkLHJlFBLtgwRx+RvUdSh7QOeL9zwyLvXFE0vyEup1eTXKdHcXz5Sgxu/te\n",
       "GTGT82QnednxTyBN7sBCWX+mjkgJvAUWspdxwzPmU6A/cXQnP/nJfs00AMXS0k9jFB77jg8l3EzX\n",
       "BePupI4tU2f4e1CHBqJ/XkAhsNuPgUvpmR+gHsXI3XR7UEl+FR+AuM8umFZGBcMsSDQ7eJEWIjuC\n",
       "kHlcB070gflntBG3p/hNnAhrgYAmkeHPzBxPSFT11T0uIPXeNUyAx+cJcV40JxvGkjtsjOMgjUX+\n",
       "6Q+JGyY13GST557wmgYwjWDZFX0liHhK/FGrdPOlnvphHuSI7m9eSiefkBi4ZV7IkbjBm84L13F0\n",
       "m/QyJkb7kO58dyb0kfgN0cssatmMdnZ2XurqizLtH3JW3cVaMTAssKrWOtOOtwbyd+axdDidar0I\n",
       "oQFPtc2NxonS6iRkCiXsCJ89ENqQImTnlya0o6gPun65qpjBQYwi0i9nZPhdbvIkheMd0xSK4TfL\n",
       "cxfvjwMC7HZiWVlYzKYb/zdV+70aSNeUAwjB9O4N14iBIQPvtf7Pw8EIuZhRz/WAirgYCj8fapXi\n",
       "qAImdZl40ez8991htGvSn7iLj5/m4o/3VaBJsUABEj5M6+9wTH5PMRwyC9fRp/XrkZoXCvj8ILTn\n",
       "89wM70Ji00O6gib6a4PVkS5WGywCks7KgpVxePOG7Zlv75CclHJWNh6+MrwUPDK25wMCjZWBlhUd\n",
       "Nv6QWuADNI18EBPD/CyVy8BXZqHXJOtHKVGowc2vPE+JbTWLFcoQ3eqOHWsHrzfAe+gcE6bNEcRt\n",
       "RywhDdT5/aK0W0PrPLg2zV1RiKj6J2ezWDd73b+VRiRNAhDhqfaQodZn+43ZbdYsw0yOiOiXG+ym\n",
       "jwrqHowJ5x8cDtQEPYr8It5+VOQxjnRTdEJWj2J19e2USaq/gCBDbnllJ8FjHNh1tfeOJB85+Noo\n",
       "khaQIJnurulS9LSeQvKB0GAi9oaDEpImwNcquXBm4UW3QdMSZm9Y33iys5H4Kw7k06CZt7yEvmkh\n",
       "lXzj1Y9Ba4bm+iyL9lolbDaH0EQTCTfmUP7BDkky6XwXjKTS9cvUky3DuZ/Z4s7J6KtJdqvWSFb7\n",
       "GHwkcWC0f2tTtie4B9JVcY4ujzqD7rhg3u/+igISk0zpYnsFS2L6sDQwA8a1gzdU1nPJhxf97t7f\n",
       "bHaBaZwZPXp395xvVN4VUdTHyk2zBiZG9mXSK1VxmQ9z2jiyoICxSSt66TcFraLCTvGD4rsGSvvL\n",
       "3fPVGeCsCKc63DpmR2Bi02S34ZIariEy371wv3mfCS+3LQ/xcrCCFLfZh3eeGX0HP+7kd1SPJYdX\n",
       "jx2NoY1XgR3MBT6odXG2IzB6xCof61N7i/+w6sneoWKysZKNu5kLIQP7GhezoubI/qizKeW6fMg4\n",
       "qCkvmdfAw/VTIEVvEG6jTlFo8Npoic4MiFFwIbigUD/XrhyM/P4zXIbaLkab7xIzmiXOLN+77L3y\n",
       "JN9XadI1ZweRwwpJwVmch6Pob9pQqM3Bmo3NaJNb22BcGEJrEVC5GFRmdiQbMC+XVXvzt6zHgMgA\n",
       "hy9S+q/0yrv4KTsUsUu7EBMWOfnqpJZbMX/8YT/3/NcR87HH1s4dz7re/2S/Fx7FszMiKExUay3O\n",
       "zrmzujorVJllSB2plb86x9LForPBM0z3F03GUWiodwEkcNS73GhwKT2vIrUAJX3fGn74LDJUvLVC\n",
       "rcW4V6dopmaoBIST1y0J5lWOJArzyd7f0N6bV+nQ7MsgXHCKwYgmANPTZXclYA6lMX9r91EGvKoS\n",
       "DzpbfMmcw8WatV9OPSsfuudY2pFfnPUkNiOfysSlUmvCOXA+Xf1p7QNQa8I9hkwFNq0avX93l3xA\n",
       "gUutinS/taVfBfG5iOEeEe5E9XeZ7hgTxB9HsgTxfepvWh5Bu1jB2aPdjHNK75fUXBaCFBm0whmn\n",
       "5WQb9LUaPtkbh0oWkoYLr5/tLXMNM67xyH7JuY6IVh0TGglVdgzRSL7tQvd7wSIOlKwvLW/rMVyw\n",
       "Pps8iE9PcWWZmuScgkASG5xwj9kVQ748R1cxInLZWK6bMlIv0tNoVV+0Vw2AFWfpx0tQieF4f0dA\n",
       "zIvGjQQHLUI/jlQPlNSNNWsiOfD4f1bC15pgJT5bfEjdRCQ4KFKXHLM4+lpUQIYA215qc+tNc5T6\n",
       "v3cSdwYe9L7YQtZ2rTO0jCLYQIW3qZc2LMqnURAcks3QYHxS5iS4vehiorpK9MM3BaF8ds1mH87f\n",
       "8/s+UuyCultlGcAhCuWH6kezBtLiKIkR35zRJp9zLJcrk0pN/WS6Y4dUfLqLuql/VMRDSwwv067L\n",
       "41O9Xrah5HMJSCg/g2xaMIwcvICDlKQ0Z0/4Qp8P8vKfZ768QKWZq9YNrscveNSRPx2v+qZJR75h\n",
       "p0Sik4qua10SBaQ6lCw7aGjdo0+Y+oSsAAFCTYgLXKYsDo2MnKQjG2D/gbZsWAduiceEfes+pkeN\n",
       "sZ9vB67cn8amykBQxlxopHIvDMl/9kSkx/Yx2KJkioCUn8jwQCc1BF17d8VS5A9/v4oxQTogfz+5\n",
       "mKVQWcES6cb47qaYqf5No869uzz/NDkbrTxYtAoNQkmwRPXMN9ZkOgNesuj84EdqtrGOHjR9jI7g\n",
       "PmZcCzZj4yP/iXMit2Dr6vkA+MvbM4PlFLDsKZ7/Oz/RSebXsJeeSnd7k4OyANcGSUJUqXZEllKB\n",
       "8MEec/WIvmn3sOsxi7NdHf///kfAqGzSWu/WTWe6GYN0A7gmS2b6br3PvnTdVCHemPn+azPys5XY\n",
       "jkaP1O1s2P9goDZc2dp2/2ynmxAOyeAmD3oVt/sjrmF2LUGe6B/kOdusWUy7yLQleE8BwItjVIkc\n",
       "ofO2SOWGcmFD/6kgo6P0T4AA2ZCYmUlQ4cM2M2nakDfy0DxK73b+Cf+c+60DXkF9AtJDCb51m+Kj\n",
       "YSdjlS/ZuEFmwi6V4v81sCRbma8MrFUUkze3CaH3vR1cMDW8DESykpOGWNzknMhl0rPBtT8gBgyw\n",
       "WgBx+tuLYcF+e+a2PMzOmrKEMEJ63nVPqaB7AOFR043dXrVrt/c01FrNEcKbHtTCwBFC/1PVGzGM\n",
       "GLq57ehdf4FPn9r8ap4A2e+eBpSL8WbUBxOOhjtoNRs3D5DPNOOj1E60KfePQ8cpIP7FtfwY7TlK\n",
       "ctoapLMIDMJ37xL2e9peoof14Ct9TvCQfcluqIAGKR8haHNuc2LEh/KsHJTke72UNscut4z1JRNO\n",
       "xqRrA1QY/S6R++2uT0Okm+V/77aG5redviPTb+3tpb4ILwXsV25clvMqU7WeraFNsLHERfO/z+sy\n",
       "8dtUbU5SXFF0SKsZ/KcdvfHZwVX15edGdott8LWLNz5gn/HTbzZGC307t7nhHAyFuileLO/J9C//\n",
       "3f1fcevwH9xw9SIYtRAxVZcdvIr9/M6ORQWs+jkEPPHbti/QVMvh3VjUy/Mu5qwzVeO3S9+Xg92m\n",
       "Cb80BtINOw+RxlzkKoOn+5XBihVFWPEThoMAjveQj19xlPwfieZNoJUrBIErelrMcYzW10aItc+e\n",
       "uFs6FNBqiLkxXiOW+UNDpUJVpK3s142tZbspxxgHWrI1HuPBbJQpUeS5jUvVPKI44LXLZD9juWGM\n",
       "oYNtYpT3dMo/YK1ZWTXvK96yA0QyY//eK4We0zWJnzfUn9/ZAAAKtkGehUURLBH/AC0wgwATt86r\n",
       "n7A/i0YgNqxCE+XapAkYFdr/lRcsm23CVYlEuPYyyplA8+2K/fYDaYJd0o848kazpI8q2Tb1aLAd\n",
       "z3RS43FmmItEh1tp4vDOCGI6/GFPHVDG896rSnaj5cq9ZGtXtXbNcG/XkKq7KThNbHRipQ+IXa+W\n",
       "FmZD79z4m3pjcotyameD5Nr6gSnYItJfjA0cVTPvT0zqgUbOYCkgqhCRVMUx4XYGqkMSPFbcg1tV\n",
       "KOBnZUQejxmzk/m/PLU52dX2Pv3CZnNSXJyiv2rhGemeQdTWZ4nmieBDSNOqwuJ6sB6iSXEiQ/yi\n",
       "0xtfRGl4A5Zb0Ci3xv3chzof+b7C9uFaHKzkirsnR8z+XfTs8BrISZdlvTr2EBD3Nsi+H56U7c3U\n",
       "KfVqYy85yfwRFU2O61FVTgCskBrrwF04hS1eFS9tWaTkaaGA3UhciquWr+QWhZERrxrfJuv7mMya\n",
       "dK0qV732+JeHQYXRexzKi0YpP9qr5vWRLlu/FOBsyO+B53X/5hQZufvZXMhmLiyF+277lVNLkWdQ\n",
       "xHt8vKE+VzkhP/5CQtdmnwEfxCC0Ud8nzEzWIJGnKDbER5Tzi6fiST0bkX+siWPMkSYC8RH71iPU\n",
       "q63B8Y9BMx5x6gXuORK6J6AbqoWmRoWyZhErfbUE8REu6plWOkJ1ja4A7fKgXMeEHVt3fq9rqvnr\n",
       "0BF8JH+E+iZLU5BhNQjGgGmMDoIyK7pE7OGJFfSpLQGADefe0p+gkAHEzL4NsYBOgr3AAVUXrmwG\n",
       "WeDP2zITZWal9HO/clCYJPuTbLw24gu3UR08+F2/dHssAIEZRD6LgfnhJw9t5x2mrZTzV3FMLiDs\n",
       "EFErWvuNvHL6mcbBb61PE2Al+EeOdiINrBCTF75CGPJ8RtH+N5OT5RSSXScwZuvB1MIyNm6BsKzI\n",
       "1/4udUH7+rFyVgSVz9xnTuW7Xl5Bks401zarfQEzoT/GgGVX3l4Gt2wf03D30/tLCp53Xq9CBTqF\n",
       "dspzqf2Kk+YKU8UwYHlA78zyeItTtvTL++UXKNl4sEk68Gq82XjevmGYarCgaA9gpfLNIgWkFNpq\n",
       "/niWgBY4q9xXEzOogBurLxkUJzk9VQTzY8z/P40tFuCwn2We9nHg1NSxYH/IoZWVAjjYFnkv6+LH\n",
       "PNWL4j3DE5resIyNeGE2cdrrzj3MEcjoMUzqebWs66dkcLqmlfDtkxisCJqUddAZRoyK/+OHf54/\n",
       "e6G75FP//antBEF+LodtD/he+tcO/k3BEWg4ZdfgYbP5KWHwfti0Y1ZhCR3JuNxDMEzGwpyadWW9\n",
       "bqdoNt6q/1Ch5xfsHai3elU0Ir9zx0bBMVso5oujgoghXL7iik/EzZ9JRzczRz8od1n7zrdcrh1v\n",
       "xsLSg7ouvD4XGTRubt1TdAe/52C5YhI6EFsUT2fosUpnW6Pn8moEDiz2iNUrbhalxb+iqzVrCp7J\n",
       "BOXBNKxNEPLruK0il554MT487XDF2abh1/uOB9JKXrUOzWFsZQ78iTiyEtSbC18mrDfnDlNXOijP\n",
       "/7ya3Mclmnr5rn4RTyyCk9bGahQWE3rXrNaok6BwYibLJOPc5eI2ql9Aw0INLg7NxUvSTAPq10Eg\n",
       "lu2QXcyAuxCY7i6wD/QtRxf/B3ItjAMZTfomOEZ5s9dMZSHMn8MTb1myA4Iy93CApUEaybzu0ndH\n",
       "4TAq4YsWvy3/nol3PHeSSOMi60rqGEI7Vi5Jrv/FKvwWMsMsQ8i+eS1FwKQIpjohjqDa+XFkjaDW\n",
       "mBA0d1Ig+N0OwosA9blm8ZIqp+Lx3TUlKNDKJKBqreaiLp7VR4h751sEsjXR+fE5P0RMym+Lx3VD\n",
       "sOjZFgREHFyphd6XGyLXwtf/PSbivy/ivaoNrFc6BVasuN8T5YuJzNNa8EwtJvT4RBZhDIBKTJxP\n",
       "FhseslfhDdCXdML3v9MBlkKnBzlB+t+GK7DqEt+3rKXNEB0GsLngjVzvGgK2nzcRmqg8evp9o44z\n",
       "WMF5yCW7GamImPVEyotoAHBbAK++Lc0NDaJGbaIMDkRLZY8Hy3xDWMoz6pTmqq52aM8m6dHh1Ykp\n",
       "I95lcqYroztufkqWo6YGAj+j77fA49OLONbeymXBiHX0nM7MLPZ7yj1MPwf7oaOKSIjNhMPLJB19\n",
       "c2XpsGIjec8CLHA/p27vfQWUed6tYRKo2CZh7LOGottHCwPL8JhPTdhS5SxP+E3US2T2/JeBNzEJ\n",
       "qxsewwKHw8nVpQDcQovMMH5G5JzYcFk7DRIIFgzkLCdlbj3TBSkpzMTyfmHVuVklx+k28KijQ9hT\n",
       "xLXm60n1DYQ0wcz3p2cBOTvWHDhYKMAibdpYVMQ8z4iNCJBuaqxiRlfEuHMuUY0EaKA/DRerNo+w\n",
       "Ux6E81+l7rDHtTXTdFKdBZvd8Fb5zbDv+oIpXnWE6wJsEfP0C54ZR+vgQEWvxqQ+51DALiBkC8xU\n",
       "5QF0dsHEK0jn+Wvpla08shzoV6RY+m6Ajs6a3oEn7ji6pD1hNQP6djGrXtYcVHno0TxOS8PgOfc3\n",
       "weZeP//6CMheMIk8/dRiPE/27kgeldjTVDtlFuktqM8yavahIY/QCi1G6zoJ2B0wo71z9QfmQeZn\n",
       "E+Bm26YlWdVKIPV5ezbQiUOgyj7Tw1ztS/6QrMBBNJmI6oDbY5zHBwCAYbmrQaLd44Tz6ciJNOD+\n",
       "S1zy03HOq7HgV7QXADOs7oQFDaqAwe8abrU5gsgxdA3FKOUGp4UA2bJ0VXEw4h8nFmNCYJptWQ+s\n",
       "Hb9k9656s0lWA03x26KIXrlft7Bv4G/muMpVGMSHcEfsCaqzjU+O8Mq196MeJxB46Hl78g/Kchkf\n",
       "fWkEza1oxtzps/gdEYrH0WGy+2oUv2Jl0hCNfzZ3ilj8IFjIpB3WF8nl0jChSkGD6qfJRkdNaCkN\n",
       "05IQALdEGMtcj9CSep7EwqDXDXoMxHBU8jjXVc8j8zH2v4cku2nYMyUmGB2OkO028a3L7Kmb30T0\n",
       "cXi0al5OIZtZIGnw9cr+iKxDbc5C5vT+eegHF4QOndLWDhXvjo1O14xeYPb8xlTz7kYxIkK+YTMi\n",
       "v1vs0PfpeGfcpMf+JKu1gIHrHTtR7T7sTUzvhQ8HfZFOLZVbw1OkX9+Xx0Qo04nxIkagj1ps1xSB\n",
       "13ewEJIpGT23Q8f2OX8FJD8qYTqJYs7uf6p/1fSqSdUHUMzHwFSaCJNzEpeCiAb46qhzZ33vgVWL\n",
       "Kuqr+n+ix5303oEE0a0yCQr3a9KmQCAALosM7GdFZvX95dCpu/W/DjFcKgC1pDMcY3DH8LfZbPKS\n",
       "oo0rz2RdrXdEQv34mX+54DEorgLKzCwRt6qD5lhHG+5IrlKQ/oZU8CdE652iygtaytSBHd6k5Dwa\n",
       "y8t6Mj8RHeMkm3R4ulaA4ar1CMIU4i/5kzvUoOeWAOowzfou/PihWRsdMUG/qHLvIAeEgnTtKO1k\n",
       "hOEUf1514Ednk84wxwbwT2u6yWXH3a0f01UyBCztvIyM7qrngfHmN57RvI9lM7MBUkRwCZBv+AZ9\n",
       "41JcYm0apIHUIsGqQuTvkgFhWakX1XixH87LFBWCBkhpmMntgs0GVmbBIbjVCCggXU3tMsxqPW4D\n",
       "MEVN3oRqNvih/r3mmBU/gVUhbQZ/QbSOZ7bTDlNdJ4arSoiZTdg3/NjmQ/U1bQAABscBnqZqQR8A\n",
       "LOJFfZG2vFFt8ABCn0o4Cs9Hh8Z3s2rekkh5JxkEadV6gQ8SjKc+2JUR9YLW5f5QjDy0qz8VRELM\n",
       "tQ4cHddlliOe0hcjvKASKcHS/fvioNlx3d3sgCYANgWeQcDeX6b9PLJzspNWI7/yVV4UnARbH3aK\n",
       "89wZ6NFxQbbt++qxDIlwlFAH2rvwnBUWE746T1yQQSXFDHcn1ty5DfjhMd5oxAvag+61bSTWeDp7\n",
       "qAPzVO3TTydj0k3GMJuiVJpsOMqWa8E3Wn0a3ffKlQeZbuk7hjjvxPqvcVDLqAUalUD19dQKjIRS\n",
       "GmeNBuZxK6/AS99lipo+Ax2hDEFCqmGPGk0T6ZFvI7tzoP4ACiziFLftmKkXOYCIPUZ7i+sBHsH9\n",
       "JAW7RH6+XGqy6+KkpmNKNGf9XK1OarVsUI/iZFGsbfFcKFAEf6Fk7APM7fwsjjOqtkX8WXmXyyE8\n",
       "7xNU6b4ugB4CVAY2ZRGM+t7wCFKtbLjBkVByFui34Lf9REyQ8Ehn6hRXrm7ycqThotSIr87N9uvj\n",
       "xfu7yEAK/Uln56f+QkRl3qU9Os2j8JfJdw8YDpqMqShmm2RkScgRsUjhu7AQAmfL53kpv3B8qSTd\n",
       "etftM+NZ4ZPfM7ymE+wBg0gRqAirPowuwxLpXDjvC9QcOMWai2PAJQorWZv2DULrsYUTx5xAvGt4\n",
       "oaxVf+hfPqT1q6gDFhc+1B8ZLvUMC1zp85Pt8bYukNRSfMfHvm0O1TzTB1n8hwilnDn6Fejy5Kjt\n",
       "ic4x0BlMDcbcNQYSnCDfTqfRE4Y3xcFMTS7wXAsKXWIn0wgk5K3wyChn/x6Dv+hp/XfjIyo6oEXn\n",
       "HIoAMnDz+90Tbh06J5fkHnbVSPG7qcr4Iv+o99YikHFpc1GMNKrH/eb5NoK3+zVojufmsKals135\n",
       "CMc5+p1xT2cWj52mirqeLWQnt4+ZQG/mKES1tDFQ6Zf9Y5GILoIwc4lPfaixnLTUVyaqcfdsNLFn\n",
       "d5oflU5QmUdwsgt9D2Tr9WPXtSbNGfToafxikCZrFyGbTwEBjoa7jTQUflMrg09fe4aT//eJ+nN/\n",
       "HNBRj0dBIzBilxwCHascqKQ090iUPg1IO8MntCXuYKYWg97rifc3az48toJnZghgT1Iw2AMb7PXS\n",
       "0bGgIm1HIlpncUSPnfT3SDs44P9NNfFmaDePtUaQa9Dc2IoMkBpBHAHu6RxGS1yiBxmFsnj0BsgN\n",
       "P2UG+AwCz9sayjpamuJx1k0qmcOMuPiQ1RFDylZJKtPD58jRZAoqUJWC6jhTalamj/PWTC5yabXb\n",
       "YqROggtjA7gplDAgqdiGyn2KFZovHK1QxaHqSidfzEDA0ZplSwE2DuMb2h43ORF9qamqM59mB5wt\n",
       "xHLwA36/4sxx7AjaXLsO6xD0E8O8V5vH23r7CHO5LmDm19aqvsppG3lKj3PEoNmJCUOH1ygRk5cI\n",
       "XLwPL5ZP4coEUqJL48yDHpLzW+hJsg6mc5GNfy2Z/JJaJSNZbqDmSHjdgCBOWUS7FswHcsfcpcKM\n",
       "tqUPB/u0m92wLe8HQVdWOqe4uNYojbp3eFM7JJYzLhfT/P1/ibRlC8FubVpocCTCiwWD69Ic/pkJ\n",
       "tm9PHjpKe71TH+5KaG+e1ix43l9CmyhMPyqsQm9CBmwISJxe8KOC3zVGX6acxITqipfVLGeVBeGM\n",
       "oO3MoinYu6z3lKd8N+znTorriQ2mEPj4g7z9zo4meRfPyRIXO83qt+qpy0fIcRJIRNVYfE1wpHLG\n",
       "bKeL0GijTeDF6Tn4GW8Rp02GQ22V/CUkZv2dz5c7TkGcqNgIeowulAsFezVNzXiRxMCujpMllU0l\n",
       "dBZVHX5IAPxauliYJTNhe8phaxvSOoNkT9PegdNmvBAsxdDux8LcZCqyCQ4xh+Xh4YgRx8gSKe+3\n",
       "cP0eUYqnuwfc0RdSfu6p8zJNg3cORWfl3FVZJJ8j3v6kG7J+38H87vccfsg2oy+5YTGZetqqSB4R\n",
       "rmVznDHwJ5aV9g5IpAEGCDW61U+nHMH3tFdKFbkLVR4z8z89u133P0o5iJwwIQOCSmnoYSUDrm/S\n",
       "LD9KIbcv/2ojnmkZNOytXOxpiC9zr1WW4IGmJvlfq5WZTtGvAmy7/ei12q0Q9amACXCAUi8u0gLj\n",
       "h+36jokVqF1M+BSSw7c0SIoXfVF2MmQlmUB+2/O0V2xbYaGtGa4racoUReiA3KojkrIZ6UkWgTz1\n",
       "7Or9/VH0RWeevR0K/NcRdypRQgETKMNIJGo3yjazNFHIS2XEjihUqKcu9Hp1t1b/N9JaKpPaSjza\n",
       "95QVASB2Mnrd7zFKobURdx9VAAALxkGaqUmoQWyZTBRMEf/+tSqBAJpozv7uyFCAA2k5Wn11rGRP\n",
       "U1dWGqKC6EfudwoTpvwiU9VKsqnwICHRmtsRsQ6FkkbNef6aAnUNeV/ZRcw6LAYZKSDNJyEw8fsB\n",
       "61guZ1Q2fLMvmL4Wh38O/erKtNoWbhUETlijBuSM5ERGGo9VpikeHYasZqWABCY62EXI0uiMUHLX\n",
       "u+a+BsqyV/6RyRvYEp+os5rOjfuq8FzaP0YqUrpYfwF5AJOwjp32ghW76B08PzyQbueROKLpfy4o\n",
       "Q8oAZGrQ5opGuOWNWLxm0XWuL3488fd71HNWyUMgbfylwVTrEwd8JtsXxqhQWghgO8QYKWctqTgs\n",
       "d5YsazkC4gW+CeZjDp/5drHEO9IF0VjR15JMxDDIzpWeV0J+FA3dBYlOMUg98cIJt9cDe+y8ionI\n",
       "waRaP/fsVYSGiExBHYflo5cTBr6T+sQuWRQM/F1ho8NK/6VXMVD7DOLVKNtw7CeMYeRAzqSplkYz\n",
       "dEyT4Bu26I5drvWxyggPuBZl4bkzOhoXLDr6iXwf56H4j5NFmXkbOuWRUc54sHc4n0Lk2aSf6eOo\n",
       "eiSbEbugVniTpRcPVruoezE0YDRPYRbDVZY3H+Rm2IIE5DlVmhxA8RlMDVHn7I5jOTkRqCVMsNtt\n",
       "GKyHHOepgZJDm6XyQbW/VEK/vM/afarQ6jjqIrnXHcg+WgnTm337T2xGNizGUiUXtQI1fxrPkfkf\n",
       "RBP2KXi9LRdWP/EgK8DEnpRylnvkyqDSP5uFtNzBD9dRAncNLtpMcQjmzYvATltBP03S3h4z+7Qs\n",
       "MF6TZOsi5COAUiyXoYWRHm6G6O9TiVTRL0nsokqceTMLjoDB/5nVLzp01AjerNJyIQKiOIWHVY4j\n",
       "kYv4l5Q/H4Ssi2G/u2zGE8NqiimEQaSn96CaBBT3kB9ddJxezovVtzbmd90vhwgPuaXNX48yEjDc\n",
       "ACcjYQQw2nnzAHzlCRcsau8vlbsoXx8AK3iu6hwLrEVUM70Xci9Cvn2SIkY5ZukmJO89lnJ7jg4j\n",
       "eWggIUfjF3KGn8jmfLKKTqcDaHtRFhS+LnXWBok+IA2BUY5MJEe6rV8gM1Vuq6RMtppXdmB/9/uo\n",
       "U+wIWyydC09JWTLDKKPwYzU3vpWj5iVWuj+5GXUtsDUhNMswj4G/3Hsiu0bqsTL4zzoxohEQ6BgX\n",
       "YBnWdkcZrK+5egSyAh2DGtsUAtcJ7RJNTtmalIRiRA4UENQW3wnuOBD4CP6UEOFHtxQu7gRTN3C8\n",
       "jMOuKzlq7hXs2drsLqFraibDxXRtKFMGpEz1MH9oPsaRIejc0vocZAMPPhERjeddHleY6blUP0au\n",
       "9eNFYkWEia+15vGP6O59kGrBCO/64Leoe8M3MsQ/G+vZTRIq687XWfp3yHtX3q8KXr//JTpFwUCJ\n",
       "7mVgkUdepZ+R2P1w6kbIyX8uCBhuhn+fGWOt/DxU42FF08jA9yGUEP0nlyITn5aFFKL5PXB2mxta\n",
       "kRYZmFViuaHJAvP/xtIMCeqEll0DIRZjxZWH+0BIQjxSgs7PZtL0WC6KlFqn6ETUh+tDyvZiCJV4\n",
       "Nkjx2IaEhkXjKWRfIo1+nWtSg1Xr3WdYaQXciJEKezpSmOaY1bJ3nGYILOvDlj8FKJRFYpgMkbd1\n",
       "o0CpHzoZQ+4jaAiOeP7xiuUcL1gMlfk5cjXZ5kuf8yu8hIkEiTRWMS6+ECC7csNBzpV4nqsGBHZX\n",
       "lKq0lcOOdFfbOXoLnlHCJwDcjixt6jATnygqcTVKbJQBfJL3NNvPKK8XDCs6DrFHOysORrVb93ma\n",
       "Nwun4dnjxexoSYetPuZWfsPszo5tSD0WcH0lPermgcHZKSGPSyrwpfTakuD7CaXKfv4pXR/x6QPD\n",
       "bcJoSwBIkCwMU42gQOWeeIUVxaSbJaKalWdjyvu4ycT/8smJjTgKCfC58sh+wYIRMFOq+I4djxx6\n",
       "qNHNcJQe2uzEjskPQ0nRrzx//CSSG81VVGRRaf3Io2qG6DdYGwhBLd7BGuNRzm+x3/MdPG+8MQD+\n",
       "O8FBUdPwGaI0piLQR9gEQXQnjAafzYG1mw5a4AgID71l7fHeQsak+xb0rTBaX4Kxl3Cv9fWHvxNC\n",
       "JlctIl4/l89LkiHCt/KWBIgEJlzz7gnTm3YRt6q7R5HLS4+gLMrm0MmxmPtMk1E0xwsYMnZY4/lO\n",
       "Aiw1mMmNYu+EtfK4XHNC0kSCP3WBAOssdypLjuYXNh7gvRAe/WTmfwvPrnZOmyJ1OpW/9FiSAV9l\n",
       "gV6JvV6uqBFMEMYHfWX1U5rGFT8wDjYUgL5ay360NBOfmsRGbbZC9fjObFCyaIuSg121qvqPDVtC\n",
       "v317OVKDbvK5sCfZlG0+CLXiFCLQZBF/oY6AAsr7jUYmH1ENrgbZqumyKk/61gcg+Pf35IBw5X/t\n",
       "6/nm+jAPyKaOJpDRtFPzAY0GTH6IDlRcXQrFB9Oatb3qzvBCJdgB7XpL53B8xJaiRjCxKDl0bOcz\n",
       "zXRxhU487uQDPQwSr7Qa3onyFUfTaRp7rW88XlOLn5vOsB03fYxl17g4tP0Y3RQaon7ilfT971Eh\n",
       "sQiB4N1hziIMO3np/cAQ+3yDOYsm091f9x6SG4Jl5TjpjGpzvWuy7lDw/OzFG6LU6/qVbpckZeuV\n",
       "+myIktcYLRM5NvL2VWGDyAD7UEckmfMr+a73KLCRJoIzX5B4H39QKjyVOGOeFo1orsP9V930XT4s\n",
       "aBvsLlWkx+AC3qwp5b3IDgmx5Ozgpm7gZrQc7vIZAwrAC0WmSMqy6yqGZS6XImJ85EvXvEkHnSW7\n",
       "rL1Q8Rh6EY1AW/bV+53zmqZzKGKuvPw6qjWVhXL5fZ32QaAdO23lt3VL8UpzZkNw58VgdWsCFWIT\n",
       "flCu/30r59CBBUll8Bk5UvoPPv7R4m1GV1UmKAnR1iFneDWbYZMtS6PQDD6bIGsfHCd7HUt3JVk9\n",
       "KqGtrWYaWRvXLCMUpjdxTNUkl1hmBd6S8e/BLMnMKVnMEF1jm4PRO48rXSjZ/+0K7QJvIx9esgKA\n",
       "C5+O9QI6p5TleospS+ZcLPAoCgYivttoBumVJNiEc25ENqpMIpcNGhZe+m1wD2YAOO24G+tqqj/q\n",
       "CGr0ZLDc8XHUfWEkcB/sg7i9o19xtcAKiL6jS1+LlTnFb86GduP4iVyejZCJUPg6nvrPYd4Ug881\n",
       "A5ckYIsDK1pre8lF/mSUdLezVilvkrQK0qN3XGD7+hy8ZIkG4wlNRjakvMaLDrprxSYXGxMMfOAl\n",
       "pwesR2YdQQDmorCC+wwlDV6Wsnz25CSMVl2g9iqBTh3jqDfhDUzLpCkGQFGpqkhMeI6OxHSD8xqR\n",
       "y5uhl5vxW6q9QiE6iTKK9iwjksqn/vM+VALhUvg/7eVuL80xPOnQD5ShP1yjwhaidd2ztT+K0Iy8\n",
       "unmYDvdVgTdqg/yXy3Hf+JMgVGGnPrmsZyoNjlHE1K5DFhen3G6UeYQopgM84GOFmUVaqCqGfmKo\n",
       "ya3+PtBPAScSSg1T794LvUw8Wd5NJ+eOHyzOAGh/zMnJAUA7LvvWJ8aLL7okmLyOjjpdeYN7Etyh\n",
       "7dBYvsfD3qAPGy01FHRWFHrgCQGmqeCTqqKG1eBu3WkujNB+AJ8vTHqrrbH5qmQNPuJPY7XMSoVd\n",
       "QDe/bOB95lMFIx19sD/4CJA2wPW/tfmuemb9aYHtDp+HPcPoBSYsMGn7NRQqjZ9VBPGQNUiELbes\n",
       "B8lyLl+wnOigbGokn/qGaTQlQ1SJbhbEtdRPlMcDow5oM/Shjs4JfJYsCsy6rUzUlEHFQI8kM6/8\n",
       "Ig50TmGr4JnocEPKV3AFCO2CV78nRo2xWwac9GTJLHPUfIVWI0n+arJ8ncdPEDwN/Q4PRXGJ/Chb\n",
       "sO1WPgX2O+TsTNP+kHN/XR2xXSfvuvAvSQ7b2xqFho2EcgrjJb0Mv9rO9dm39p+n4XF4otPAu8Av\n",
       "BmzBPQKa6V77jGuEqgf8OvVE5OdrrloGNuWQqrR4KJ5eCiH7T18uDvV+P+frnYYTvCMmBHZoNDlF\n",
       "UJGfcz9G6hpZvIWj4CkgAAALowGeyGpBHwAs1ZpjNAAhTxtDn5NKkwkYuYgLVsgD6Es5xk/pjQiE\n",
       "Q9oPKKeR30eeUSitdAsimf40SACSN4I77oiKt62fALBmibGRslV6NMNpiYTfGqIesYigV+SrHcq+\n",
       "GCziy7k777iOrjv1WNMGmsiBOCmqPH8SDpoEzQQweu29+Q6itqAPuO4IKHGtPi34jWC89hyu84SQ\n",
       "ak+ru2Lv/1C6eksgmp0eARVm00iGGOTHHU2Pz7nfT1At8G9VoHZWg//oq0qV58nW1aYHxhBYahuK\n",
       "PSBfa+LNbTF8JG6a0UFsAbiDQGCZq4V1s5TP+TFqFdmr7AZK1mpjo1sA28YD13cFpWdMVy9GqaP7\n",
       "KJjL9p+BihWQ6fkYzGmWDMjZPsyRggXQEXWKKVvqmWECIIZqd0drvTR+D5UxKRk9z9KXeX6448An\n",
       "Rct5bDfK9/MK5uY6lUECmo7HgE+D2/CusGQOt7VtvU1qFZ0W9p7WwuIl2ABFCOECSXErcVHsvpMF\n",
       "tFdEh2nLvUyAjc855O8yAgDOY9Orw/xERzg3HooRwoXf7BGWdfLmeXZfTiKYQf/5CQnb3iH8/y+a\n",
       "Us+hMMgpyGIO6qWnnPbhrDRO7AyAZH/PInB+8Ro+M9/HfpS03mhspSNZW+5V7gANDi4dJlhoIetV\n",
       "Q8/oRVIcjZjoCSEuIArgWMBfH32wzIvDttJxo9pSIZsuJ8zCw23AX5Bq+Nq5PPIDnjIkEoLjHNic\n",
       "aAAAR7SRA0CmRuYWnxaXljSxibL0B6Ey172jlWrK6WlZYhgkXPF/Fc+d1WGX53x04r5nPFCb0YKY\n",
       "BhQ6GeGlMCUZRzlOniNY586NhLH85vbt2uIIHV2GF3CSKUg18bqOJ3mqmMeZR9iiigVa8MnoBbOq\n",
       "1je+6UIFkAWo6E662rrhKQXJlUWGfQsFhfEuRDDM8FprhJ0m0h2TOIXj1tIgwE63E0rp6W5BiLXq\n",
       "qV9QU/T8AHodL5n6/LS8dALI5bmECB9e4uGdt7ec+F0Ow8s7fXAAQ2/qGOEE+IisrrUsOSQDsNn/\n",
       "Rf2jkFrsUB45HqPnMOXx7p73YEzjJHwMm/VOxBdK1t2yLx7QxxEhm6gpHSW7f3PLB+9rjYngNLx3\n",
       "ymLTIaKt413V7mgpq/VhJEw29VQhkVroYDVI6CRIKVi9SeAqTU+zZE2PDCvg0xipVJgbepJxPHN/\n",
       "HX9RuGPzV16yKC6HPoG7E51F4YEyNGkwH/RuoSj6hyFGfzywEjT5qq5fBi28JG9ksQeYQmuVso8A\n",
       "Rk1/piu6oEqjXF69/7ONil2HBQM5H9ZCvjVbQrSJVVqg3cWDpEbOz4S+rGfumZBW84ypcG7msDmG\n",
       "CEpZuoaolaw2pEyNBp2e33itormRKGc3ZmIq/VTPgtminqAxtWTEy4sB3dHjxtJ16YxywRodHoXY\n",
       "He4TPxKXMBccmwktBNvg3iBC3OjwifmsmnZUEYFw+Bhb7T/dIZMbQpCqfB3C45Gzp0VTiY7Z3tL7\n",
       "9CGBS1b7loO1Krrac6kV+/6eixxyLlfoJ3mxwaPByq9ILI0YGH5+briQzASjcqKaLLXfgqhplAAU\n",
       "zrPM2QjDXVzQW0nxmTBk8QBGUyYgIcrzEvElRo2Hg7OT/nLrm3MzgQkBGw+rD+ECFOns4cBHhks5\n",
       "Q6WLYCDAtOJEQIU7OM7xU4HDe9uCfQiFNmEG4aquwUqiR2/eb/d6x6VRFFNSh8m4y8LY16psVAXA\n",
       "znTD2MiFE2srv0LJJuLH2qTVIR7g+gF2EcbfQ0eieyCxbZU1kH3JplVcg4ZA4S0zE4u6G4Fqwqn/\n",
       "1lgZLbMFtSTxMQSApil5dtnOi35uZINnWJZW78hYvclBFdwjWgNeUpOpuBxV50MWvbE5OhS/GSM6\n",
       "16em92LYioPKsCzaB2W/82lYbvWtvH/MFQ97/3yn9KHVJCo4anod+NTIYzkIiowOrb9DzndHm33u\n",
       "pBfeo5crgZ0197nrkWeWMqDvuTcO3GDBXafPgJa+5skhMd/w3n9gtn5uWH5J6X/wA2gw75YXKazP\n",
       "sk1PnVqkmghAEUBeMkz5+tCFELFnANFSItDcLDqCGAp9ozhG7zafuVLSwBxIjQC+B/29Geq/mDMW\n",
       "8IaM0MQzPhXV5BlKXprCs90/y8bbX3bpVmAqiGG06SmfgciWJRjJW2SBoHLw7fPmisKfkq03qrmA\n",
       "GVscvuDzB/V/OzouB9eEbM5mszyxKUDV7Tc9i2kTDXTqlmXTUmTAxh57tenqE48R3w66Pn3Hi40m\n",
       "9Ua06S78WaZ8IwzFfrxZP5l8PWEjGLW3J/f5uDXNUBOYzMiDmqUwo00emkTyArYIZZlkOQanUWsf\n",
       "JKeeAE6tA+tvH6ceQnXvFcnz/bANqPR5NEzJDvCoNCj+HCSgDcjObnaSsHVXbO/oTFRv1qQ6lJfd\n",
       "FHRVTQE2JSYLOXqKdi9RGUESeWbwWoddUSLcIDUEqhbqJYNWPeatu4mXXpr8Vnh6l/s1HlYMsx9O\n",
       "kk/P+w8vtmyKW80A9xFkPpQ7EmxX+g00aFi1/5HNZxnWok+YZ/guwCrciBXFZQgh0UJJIVN/jjzy\n",
       "xuQGOgJz7EoFtqPfcvhiNk0gjj4OHwmSBmbRZj+7zFL81+6l6rwcq2ix1+pWlf7aiDaoyCinhRl4\n",
       "KjRd7TSDILwR3mC64wl40M7lqL+DiUZbddCr4+rJNdLlDsEZgDYkTF0PwvU6Q3A3rXCFQJgGvK5z\n",
       "Jfm5/KZrVFVyKkRiMiUuIhS2WPlZnIy7mXkrqKOf4vBzHXz/5JENuHXN9r4SrSOgl+bn6lk5kLHM\n",
       "6mwhKI6mnIu/AvzbWPkUsmr1FAyC29EOnaZ0ymmKb4wqy+T9nC6+nHjt1vGNdtWVj3aVy7/dC0Xs\n",
       "krHtKYifXDtPw7K3OIuXQtFhkp8M3NektfBUI7HflbrXsC1kywtuzzhEuvmUB8teVKMUQCVMSNH8\n",
       "k4vdQuVUsOU9c9EjAIU28Yno7v24kSi1/uliHdGLOkxUmxc7BYnE67r6YzJXQ5jwn4uhJQ72kYV8\n",
       "7smnEnuDbpVNsOh4ERHrnM6BQmp7hC5g7KBRSOhSBtXnvoVwXSs3euN6vnK4RarFk4x6UStT1fil\n",
       "nUcNHeNPBiIk873apXd8czisfegw5yHP+S0TZK+1Uk0mb70V9cXFx3/sOKCm2B7ksemdtOSIwXgV\n",
       "KHvqp6Lbi9aNX++m6gBe7xQ51B8GkquwX/WcChcpzgnEpUdp9kfrV8BVh/P0QWJ/AD5og9757kqp\n",
       "Is5j73NxckQ8I3rWlq2opyQTkI41L/uLodqASgC/aNzB/T5iJk1CAoU71L6BsLQ0UqU9UleQAIws\n",
       "ZKVDX8wSSQHtAWfMJhYGVB5NX3JL0hBLMsvIqp3dHS4dx8YceGcts7P7oHYcXr2Co2WPJE1Gm7Sp\n",
       "GpIKveGihh2HELoOC8xF+zpM4fvKb+9c7tFhR9R7Bh6WnEZAOhroMy10qbdrAyXP1zBNgy8SG566\n",
       "5dwUDpqASzeQhlzrKyjYqYRRQpwFC9uPMLOvN142dsTj5WwDNJQQJCcHovhQ7OWyIG3XoznEbECL\n",
       "eye2sedK8xAwvs6qMmeFQoH04ecD3NNAWbGh0LX5RekQ5cE7LufdEuKoxrU8Gmiq9GZjQvBb6uUx\n",
       "O3cAmkvfvS60+TGh6tswS+iOL+eHrE9+fpKPX7qYOlSYvdYZ35YX3RHuLGlLOcoLqztCfsWloqet\n",
       "pzwE8mjfe4Roub3Qbsu80elsKULzzNZKYwr4T/R0QHC88XgM3d3Gt0yKK2OhDcg55sncezmC57K8\n",
       "cefBDlzSIQWqAj4UVkugVjKJFpA7jK35THMmlZ8qdJC8uZhTW5CJxoRpl/AOw6x56kIxm5cd6cG6\n",
       "EulrsltHoYMBr1DagJoZeFWoIlJz22tl9LXJco3P7dKbWBr09Iq2oHws2NQzAQ2H0QcsfskaPb6L\n",
       "R+jKjmKC52bG1LADLxAXBw++nOyDL6GdxAB3Zj5N+U5ALgAAA6Jtb292AAAAbG12aGQAAAAAAAAA\n",
       "AAAAAAAAAAPoAAALuAABAAABAAAAAAAAAAAAAAAAAQAAAAAAAAAAAAAAAAAAAAEAAAAAAAAAAAAA\n",
       "AAAAAEAAAAAAAAAAAAAAAAAAAAAAAAAAAAAAAAAAAAAAAAACAAACzHRyYWsAAABcdGtoZAAAAAMA\n",
       "AAAAAAAAAAAAAAEAAAAAAAALuAAAAAAAAAAAAAAAAAAAAAAAAQAAAAAAAAAAAAAAAAAAAAEAAAAA\n",
       "AAAAAAAAAAAAAEAAAAABsAAAASAAAAAAACRlZHRzAAAAHGVsc3QAAAAAAAAAAQAAC7gAABgAAAEA\n",
       "AAAAAkRtZGlhAAAAIG1kaGQAAAAAAAAAAAAAAAAAACgAAAB4AFXEAAAAAAAtaGRscgAAAAAAAAAA\n",
       "dmlkZQAAAAAAAAAAAAAAAFZpZGVvSGFuZGxlcgAAAAHvbWluZgAAABR2bWhkAAAAAQAAAAAAAAAA\n",
       "AAAAJGRpbmYAAAAcZHJlZgAAAAAAAAABAAAADHVybCAAAAABAAABr3N0YmwAAAC3c3RzZAAAAAAA\n",
       "AAABAAAAp2F2YzEAAAAAAAAAAQAAAAAAAAAAAAAAAAAAAAABsAEgAEgAAABIAAAAAAAAAAEAAAAA\n",
       "AAAAAAAAAAAAAAAAAAAAAAAAAAAAAAAAAAAAAAAY//8AAAA1YXZjQwFkABX/4QAYZ2QAFazZQbCW\n",
       "hAAAAwAMAAADAFA8WLZYAQAGaOvjyyLA/fj4AAAAABx1dWlka2hA8l8kT8W6OaUbzwMj8wAAAAAA\n",
       "AAAYc3R0cwAAAAAAAAABAAAACgAADAAAAAAUc3RzcwAAAAAAAAABAAAAAQAAAFhjdHRzAAAAAAAA\n",
       "AAkAAAABAAAYAAAAAAEAADwAAAAAAQAAGAAAAAABAAAAAAAAAAEAAAwAAAAAAQAAMAAAAAACAAAM\n",
       "AAAAAAEAACQAAAAAAQAADAAAAAAcc3RzYwAAAAAAAAABAAAAAQAAAAoAAAABAAAAPHN0c3oAAAAA\n",
       "AAAAAAAAAAoAAB6/AAAM0wAADDIAAAt3AAALEAAADA8AAAq6AAAGywAAC8oAAAunAAAAFHN0Y28A\n",
       "AAAAAAAAAQAAADAAAABidWR0YQAAAFptZXRhAAAAAAAAACFoZGxyAAAAAAAAAABtZGlyYXBwbAAA\n",
       "AAAAAAAAAAAAAC1pbHN0AAAAJal0b28AAAAdZGF0YQAAAAEAAAAATGF2ZjU4LjM5LjEwMQ==\n",
       "\">\n",
       "  Your browser does not support the video tag.\n",
       "</video>"
      ],
      "text/plain": [
       "<matplotlib.animation.FuncAnimation at 0x1900dbad708>"
      ]
     },
     "execution_count": 19,
     "metadata": {},
     "output_type": "execute_result"
    }
   ],
   "source": [
    "anim"
   ]
  },
  {
   "cell_type": "markdown",
   "metadata": {},
   "source": [
    "## What nangs provides you"
   ]
  },
  {
   "cell_type": "markdown",
   "metadata": {},
   "source": [
    "Nangs will provideo you with classes and functions to asbtract some of the concepts explained here in order to enable fast experimentation while allowing you to customize it to your needs."
   ]
  }
 ],
 "metadata": {
  "kernelspec": {
   "display_name": "Python 3",
   "language": "python",
   "name": "python3"
  },
  "language_info": {
   "codemirror_mode": {
    "name": "ipython",
    "version": 3
   },
   "file_extension": ".py",
   "mimetype": "text/x-python",
   "name": "python",
   "nbconvert_exporter": "python",
   "pygments_lexer": "ipython3",
   "version": "3.7.6"
  },
  "toc": {
   "base_numbering": 1,
   "nav_menu": {},
   "number_sections": true,
   "sideBar": true,
   "skip_h1_title": false,
   "title_cell": "Table of Contents",
   "title_sidebar": "Contents",
   "toc_cell": false,
   "toc_position": {},
   "toc_section_display": true,
   "toc_window_display": false
  }
 },
 "nbformat": 4,
 "nbformat_minor": 4
}
