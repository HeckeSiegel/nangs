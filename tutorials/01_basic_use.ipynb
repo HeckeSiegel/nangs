{
 "cells": [
  {
   "cell_type": "code",
   "execution_count": 1,
   "metadata": {
    "ExecuteTime": {
     "end_time": "2020-06-21T13:28:28.622113Z",
     "start_time": "2020-06-21T13:28:28.276112Z"
    }
   },
   "outputs": [
    {
     "name": "stderr",
     "output_type": "stream",
     "text": [
      "\n",
      "Bad key \"text.kerning_factor\" on line 4 in\n",
      "C:\\Users\\sensio\\miniconda3\\lib\\site-packages\\matplotlib\\mpl-data\\stylelib\\_classic_test_patch.mplstyle.\n",
      "You probably need to get an updated matplotlibrc file from\n",
      "https://github.com/matplotlib/matplotlib/blob/v3.1.3/matplotlibrc.template\n",
      "or from the matplotlib source distribution\n"
     ]
    }
   ],
   "source": [
    "# autoreload nangs\n",
    "%reload_ext autoreload\n",
    "%autoreload 2\n",
    "%matplotlib inline"
   ]
  },
  {
   "cell_type": "markdown",
   "metadata": {},
   "source": [
    "# Basic use"
   ]
  },
  {
   "cell_type": "markdown",
   "metadata": {},
   "source": [
    "We want to solve the following PDE:\n",
    "\n",
    "\\begin{equation}\n",
    "    \\frac{\\partial \\phi}{\\partial t} + u \\frac{\\partial \\phi}{\\partial x} = 0\n",
    "\\end{equation}\n",
    "\n",
    "The independent variables (i.e, $x$ and $t$) are used as input values for the NN, and the solution (i.e. $\\phi$) is the output. In order to find the solution, at each step the NN outputs are derived w.r.t the inputs. Then, a loss function that matches the PDE is built and the weights are updated accordingly. If the loss function goes to zero, we can assume that our NN is indeed the solution to our PDE. We will try to find a general solution for different values of $u$, so it will be set also as an input."
   ]
  },
  {
   "cell_type": "code",
   "execution_count": 2,
   "metadata": {
    "ExecuteTime": {
     "end_time": "2020-06-21T13:28:29.067113Z",
     "start_time": "2020-06-21T13:28:28.624113Z"
    }
   },
   "outputs": [
    {
     "data": {
      "text/plain": [
       "('0.1.1', '1.5.0')"
      ]
     },
     "execution_count": 2,
     "metadata": {},
     "output_type": "execute_result"
    }
   ],
   "source": [
    "# imports\n",
    "import numpy as np \n",
    "import matplotlib.pyplot as plt \n",
    "import nangs\n",
    "import torch\n",
    "\n",
    "device = \"cuda\" if torch.cuda.is_available() else \"cpu\"\n",
    "\n",
    "nangs.__version__, torch.__version__"
   ]
  },
  {
   "cell_type": "markdown",
   "metadata": {
    "ExecuteTime": {
     "end_time": "2020-06-21T10:03:39.388652Z",
     "start_time": "2020-06-21T10:03:39.370652Z"
    }
   },
   "source": [
    "## Define your PDE"
   ]
  },
  {
   "cell_type": "markdown",
   "metadata": {},
   "source": [
    "We provide the class `PDE` with the default functionality to solve the PDE. First, create a new class inheriting from the `PDE` class and overload the `computePDELoss` function to return one loss function for each PDE in your system. You must initialize this class with your inputs and outputs names. "
   ]
  },
  {
   "cell_type": "code",
   "execution_count": 3,
   "metadata": {
    "ExecuteTime": {
     "end_time": "2020-06-21T13:28:29.113112Z",
     "start_time": "2020-06-21T13:28:29.068113Z"
    },
    "code_folding": []
   },
   "outputs": [
    {
     "data": {
      "text/plain": [
       "(('x', 't', 'u'), ('p',))"
      ]
     },
     "execution_count": 3,
     "metadata": {},
     "output_type": "execute_result"
    }
   ],
   "source": [
    "from nangs import PDE\n",
    "\n",
    "class Adv1d(PDE):\n",
    "    def computePDELoss(self, inputs, outputs):\n",
    "                \n",
    "        # compute gradients\n",
    "        grads = self.computeGrads(outputs, inputs)\n",
    "        \n",
    "        # compute loss\n",
    "        dpdx, dpdt = grads[:, 0], grads[:, 1]\n",
    "        u = inputs[:,2]\n",
    "        return {'pde': dpdt + u*dpdx}\n",
    "    \n",
    "pde = Adv1d(inputs=('x', 't', 'u'), outputs='p')\n",
    "\n",
    "pde.inputs, pde.outputs"
   ]
  },
  {
   "cell_type": "markdown",
   "metadata": {
    "heading_collapsed": true
   },
   "source": [
    "## Define your data"
   ]
  },
  {
   "cell_type": "markdown",
   "metadata": {
    "hidden": true
   },
   "source": [
    "To solve the PDE we first need a set of points to evaluate it, we will use this points as the dataset for training de NN."
   ]
  },
  {
   "cell_type": "code",
   "execution_count": 4,
   "metadata": {
    "ExecuteTime": {
     "end_time": "2020-06-21T13:28:29.160110Z",
     "start_time": "2020-06-21T13:28:29.114112Z"
    },
    "hidden": true
   },
   "outputs": [],
   "source": [
    "# define the mesh\n",
    "\n",
    "x = np.linspace(0,1,20)\n",
    "t = np.linspace(0,1,30)\n",
    "u = np.linspace(-1,1,10)"
   ]
  },
  {
   "cell_type": "markdown",
   "metadata": {
    "hidden": true
   },
   "source": [
    "The class `Mesh` will combine all the posible values on the previous arrays to build a mesh. You must pass the data as a dict, providing one (unique) name for each variable matching the names of the inputs defined in the PDE."
   ]
  },
  {
   "cell_type": "code",
   "execution_count": 5,
   "metadata": {
    "ExecuteTime": {
     "end_time": "2020-06-21T13:28:29.208110Z",
     "start_time": "2020-06-21T13:28:29.161112Z"
    },
    "hidden": true
   },
   "outputs": [
    {
     "data": {
      "text/plain": [
       "('x', 't', 'u')"
      ]
     },
     "execution_count": 5,
     "metadata": {},
     "output_type": "execute_result"
    }
   ],
   "source": [
    "from nangs import Mesh\n",
    "\n",
    "mesh = Mesh({'x': x, 't': t, 'u': u})\n",
    "mesh.vars"
   ]
  },
  {
   "cell_type": "markdown",
   "metadata": {
    "hidden": true
   },
   "source": [
    "In order to train a NN we need a `Dataset`. A `Mesh` has in fact a `Dataset` that you can iterate over."
   ]
  },
  {
   "cell_type": "code",
   "execution_count": 6,
   "metadata": {
    "ExecuteTime": {
     "end_time": "2020-06-21T13:28:29.254112Z",
     "start_time": "2020-06-21T13:28:29.210112Z"
    },
    "hidden": true
   },
   "outputs": [
    {
     "data": {
      "text/plain": [
       "6000"
      ]
     },
     "execution_count": 6,
     "metadata": {},
     "output_type": "execute_result"
    }
   ],
   "source": [
    "len(mesh.dataset)"
   ]
  },
  {
   "cell_type": "code",
   "execution_count": 7,
   "metadata": {
    "ExecuteTime": {
     "end_time": "2020-06-21T13:28:29.302110Z",
     "start_time": "2020-06-21T13:28:29.255111Z"
    },
    "hidden": true
   },
   "outputs": [
    {
     "data": {
      "text/plain": [
       "tensor([[ 0.0000,  0.0000, -1.0000],\n",
       "        [ 0.0000,  0.0000, -0.7778],\n",
       "        [ 0.0000,  0.0000, -0.5556]])"
      ]
     },
     "execution_count": 7,
     "metadata": {},
     "output_type": "execute_result"
    }
   ],
   "source": [
    "mesh.dataset[:3]"
   ]
  },
  {
   "cell_type": "markdown",
   "metadata": {
    "hidden": true
   },
   "source": [
    "You can also specify the device to cache the data"
   ]
  },
  {
   "cell_type": "code",
   "execution_count": 8,
   "metadata": {
    "ExecuteTime": {
     "end_time": "2020-06-21T13:28:30.376111Z",
     "start_time": "2020-06-21T13:28:29.303110Z"
    },
    "hidden": true
   },
   "outputs": [
    {
     "data": {
      "text/plain": [
       "tensor([[ 0.0000,  0.0000, -1.0000],\n",
       "        [ 0.0000,  0.0000, -0.7778],\n",
       "        [ 0.0000,  0.0000, -0.5556]], device='cuda:0')"
      ]
     },
     "execution_count": 8,
     "metadata": {},
     "output_type": "execute_result"
    }
   ],
   "source": [
    "mesh = Mesh({'x': x, 't': t, 'u': u}, device=device)\n",
    "mesh.dataset[:3]"
   ]
  },
  {
   "cell_type": "markdown",
   "metadata": {
    "hidden": true
   },
   "source": [
    "Finally, add the mesh to your PDE."
   ]
  },
  {
   "cell_type": "code",
   "execution_count": 9,
   "metadata": {
    "ExecuteTime": {
     "end_time": "2020-06-21T13:28:30.424112Z",
     "start_time": "2020-06-21T13:28:30.377112Z"
    },
    "hidden": true
   },
   "outputs": [],
   "source": [
    "pde.set_mesh(mesh)"
   ]
  },
  {
   "cell_type": "code",
   "execution_count": 10,
   "metadata": {
    "ExecuteTime": {
     "end_time": "2020-06-21T13:28:30.472110Z",
     "start_time": "2020-06-21T13:28:30.425112Z"
    },
    "hidden": true
   },
   "outputs": [
    {
     "data": {
      "text/plain": [
       "('x', 't', 'u')"
      ]
     },
     "execution_count": 10,
     "metadata": {},
     "output_type": "execute_result"
    }
   ],
   "source": [
    "mesh.vars"
   ]
  },
  {
   "cell_type": "code",
   "execution_count": 11,
   "metadata": {
    "ExecuteTime": {
     "end_time": "2020-06-21T13:28:30.518115Z",
     "start_time": "2020-06-21T13:28:30.473114Z"
    },
    "hidden": true
   },
   "outputs": [
    {
     "data": {
      "text/plain": [
       "('x', 't', 'u')"
      ]
     },
     "execution_count": 11,
     "metadata": {},
     "output_type": "execute_result"
    }
   ],
   "source": [
    "pde.inputs"
   ]
  },
  {
   "cell_type": "markdown",
   "metadata": {
    "heading_collapsed": true
   },
   "source": [
    "## Boundary Conditions"
   ]
  },
  {
   "cell_type": "markdown",
   "metadata": {
    "hidden": true
   },
   "source": [
    "In order to find a non-trivial solution to our PDE we need to specify a set of boundary conditions. Nangs provide different classes for common boundary conditions."
   ]
  },
  {
   "cell_type": "code",
   "execution_count": 12,
   "metadata": {
    "ExecuteTime": {
     "end_time": "2020-06-21T13:28:30.566112Z",
     "start_time": "2020-06-21T13:28:30.519115Z"
    },
    "hidden": true
   },
   "outputs": [
    {
     "data": {
      "text/plain": [
       "(1, 20, 10)"
      ]
     },
     "execution_count": 12,
     "metadata": {},
     "output_type": "execute_result"
    }
   ],
   "source": [
    "# initial condition (t = 0)\n",
    "\n",
    "t0 = np.array([0])\n",
    "_x, _t, _u = np.meshgrid(x, t0, u)\n",
    "p0 = np.sin(2*np.pi*(_x- _u*_t))\n",
    "p0.shape"
   ]
  },
  {
   "cell_type": "code",
   "execution_count": 13,
   "metadata": {
    "ExecuteTime": {
     "end_time": "2020-06-21T13:28:30.838112Z",
     "start_time": "2020-06-21T13:28:30.567111Z"
    },
    "hidden": true
   },
   "outputs": [
    {
     "data": {
      "image/png": "[encoded data removed]",
      "text/plain": [
       "<Figure size 432x288 with 1 Axes>"
      ]
     },
     "metadata": {
      "needs_background": "light"
     },
     "output_type": "display_data"
    }
   ],
   "source": [
    "plt.plot(x, p0[0,:,0])\n",
    "plt.grid(True)\n",
    "plt.xlabel('x')\n",
    "plt.ylabel('$p_0$')\n",
    "plt.show()"
   ]
  },
  {
   "cell_type": "markdown",
   "metadata": {
    "hidden": true
   },
   "source": [
    "A boundary condition has its own `Mesh` and logic to compute values and gradients. In a `Dirichlet` boundary conditions we are fixing some values, so we need the inputs and also the target outputs (in this case, our initial condition). If you are including some free-parameters as NN inputs, make sure you specify an initial condition for each one of them (here we use the same for every value of $u$)."
   ]
  },
  {
   "cell_type": "code",
   "execution_count": 14,
   "metadata": {
    "ExecuteTime": {
     "end_time": "2020-06-21T13:28:30.886110Z",
     "start_time": "2020-06-21T13:28:30.839112Z"
    },
    "hidden": true
   },
   "outputs": [
    {
     "name": "stderr",
     "output_type": "stream",
     "text": [
      "C:\\Users\\sensio\\miniconda3\\lib\\site-packages\\ipykernel_launcher.py:3: FutureWarning: arrays to stack must be passed as a \"sequence\" type such as list or tuple. Support for non-sequence iterables such as generators is deprecated as of NumPy 1.16 and will raise an error in the future.\n",
      "  This is separate from the ipykernel package so we can avoid doing imports until\n"
     ]
    },
    {
     "data": {
      "text/plain": [
       "[('x', 't', 'u'), ('p',)]"
      ]
     },
     "execution_count": 14,
     "metadata": {},
     "output_type": "execute_result"
    }
   ],
   "source": [
    "from nangs import Dirichlet\n",
    "\n",
    "initial_condition = Dirichlet({'x': x, 't': t0, 'u': u}, {'p': p0.reshape(-1)}, device=device, name=\"initial\")\n",
    "initial_condition.vars"
   ]
  },
  {
   "cell_type": "code",
   "execution_count": 15,
   "metadata": {
    "ExecuteTime": {
     "end_time": "2020-06-21T13:28:30.934112Z",
     "start_time": "2020-06-21T13:28:30.887112Z"
    },
    "hidden": true
   },
   "outputs": [
    {
     "data": {
      "text/plain": [
       "(tensor([[ 0.0000,  0.0000, -1.0000],\n",
       "         [ 0.0000,  0.0000, -0.7778],\n",
       "         [ 0.0000,  0.0000, -0.5556],\n",
       "         [ 0.0000,  0.0000, -0.3333],\n",
       "         [ 0.0000,  0.0000, -0.1111]], device='cuda:0'),\n",
       " tensor([[0.],\n",
       "         [0.],\n",
       "         [0.],\n",
       "         [0.],\n",
       "         [0.]], device='cuda:0'))"
      ]
     },
     "execution_count": 15,
     "metadata": {},
     "output_type": "execute_result"
    }
   ],
   "source": [
    "initial_condition.dataset[:5]"
   ]
  },
  {
   "cell_type": "code",
   "execution_count": 16,
   "metadata": {
    "ExecuteTime": {
     "end_time": "2020-06-21T13:28:30.982112Z",
     "start_time": "2020-06-21T13:28:30.935112Z"
    },
    "hidden": true
   },
   "outputs": [],
   "source": [
    "pde.add_boco(initial_condition)"
   ]
  },
  {
   "cell_type": "markdown",
   "metadata": {
    "hidden": true
   },
   "source": [
    "We use a periodic boundary condition at $x=0$ and $x=1$. During training we will enforce this values to match."
   ]
  },
  {
   "cell_type": "code",
   "execution_count": 17,
   "metadata": {
    "ExecuteTime": {
     "end_time": "2020-06-21T13:28:31.030111Z",
     "start_time": "2020-06-21T13:28:30.983111Z"
    },
    "hidden": true
   },
   "outputs": [
    {
     "data": {
      "text/plain": [
       "(30, 2)"
      ]
     },
     "execution_count": 17,
     "metadata": {},
     "output_type": "execute_result"
    }
   ],
   "source": [
    "# boundary conditions (peridic conditions at x = 0 and x = 1)\n",
    "\n",
    "xb0 = np.array([0])\n",
    "mb0 = np.meshgrid(xb0, t)\n",
    "mb0 = np.stack(mb0, -1).reshape(-1, 2)\n",
    "mb0.shape"
   ]
  },
  {
   "cell_type": "code",
   "execution_count": 18,
   "metadata": {
    "ExecuteTime": {
     "end_time": "2020-06-21T13:28:31.078110Z",
     "start_time": "2020-06-21T13:28:31.032112Z"
    },
    "hidden": true
   },
   "outputs": [
    {
     "data": {
      "text/plain": [
       "[('x', 't', 'u'), ('x', 't', 'u')]"
      ]
     },
     "execution_count": 18,
     "metadata": {},
     "output_type": "execute_result"
    }
   ],
   "source": [
    "from nangs import Periodic\n",
    "\n",
    "x1 = np.array([0.])\n",
    "x2 = np.array([1.])\n",
    "periodic = Periodic({'x': x1, 't': t, 'u': u}, {'x': x2, 't': t, 'u': u}, device=device)\n",
    "periodic.vars"
   ]
  },
  {
   "cell_type": "code",
   "execution_count": 19,
   "metadata": {
    "ExecuteTime": {
     "end_time": "2020-06-21T13:28:31.125111Z",
     "start_time": "2020-06-21T13:28:31.079111Z"
    },
    "hidden": true
   },
   "outputs": [
    {
     "data": {
      "text/plain": [
       "(tensor([[ 0.0000,  0.0000, -1.0000],\n",
       "         [ 0.0000,  0.0000, -0.7778],\n",
       "         [ 0.0000,  0.0000, -0.5556],\n",
       "         [ 0.0000,  0.0000, -0.3333],\n",
       "         [ 0.0000,  0.0000, -0.1111]], device='cuda:0'),\n",
       " tensor([[ 1.0000,  0.0000, -1.0000],\n",
       "         [ 1.0000,  0.0000, -0.7778],\n",
       "         [ 1.0000,  0.0000, -0.5556],\n",
       "         [ 1.0000,  0.0000, -0.3333],\n",
       "         [ 1.0000,  0.0000, -0.1111]], device='cuda:0'))"
      ]
     },
     "execution_count": 19,
     "metadata": {},
     "output_type": "execute_result"
    }
   ],
   "source": [
    "periodic.dataset[:5]"
   ]
  },
  {
   "cell_type": "code",
   "execution_count": 20,
   "metadata": {
    "ExecuteTime": {
     "end_time": "2020-06-21T13:28:31.172112Z",
     "start_time": "2020-06-21T13:28:31.126111Z"
    },
    "hidden": true
   },
   "outputs": [],
   "source": [
    "pde.add_boco(periodic)"
   ]
  },
  {
   "cell_type": "markdown",
   "metadata": {
    "ExecuteTime": {
     "end_time": "2020-06-21T10:30:37.002062Z",
     "start_time": "2020-06-21T10:30:36.956196Z"
    },
    "heading_collapsed": true
   },
   "source": [
    "## Define your solution"
   ]
  },
  {
   "cell_type": "markdown",
   "metadata": {
    "hidden": true
   },
   "source": [
    "We provide a basic `MLP` class to impement a Multilayer Perceptron as solution approxiamtion to the PDE, but you can always define you own NN (just be sure to match the number of inputs and outputs)."
   ]
  },
  {
   "cell_type": "code",
   "execution_count": 21,
   "metadata": {
    "ExecuteTime": {
     "end_time": "2020-06-21T13:28:31.220111Z",
     "start_time": "2020-06-21T13:28:31.174114Z"
    },
    "hidden": true
   },
   "outputs": [
    {
     "data": {
      "text/plain": [
       "MLP(\n",
       "  (mlp): Sequential(\n",
       "    (0): Linear(in_features=3, out_features=100, bias=True)\n",
       "    (1): Sequential(\n",
       "      (0): Sine()\n",
       "      (1): Linear(in_features=100, out_features=100, bias=True)\n",
       "    )\n",
       "    (2): Sequential(\n",
       "      (0): Sine()\n",
       "      (1): Linear(in_features=100, out_features=100, bias=True)\n",
       "    )\n",
       "    (3): Sequential(\n",
       "      (0): Sine()\n",
       "      (1): Linear(in_features=100, out_features=1, bias=True)\n",
       "    )\n",
       "  )\n",
       ")"
      ]
     },
     "execution_count": 21,
     "metadata": {},
     "output_type": "execute_result"
    }
   ],
   "source": [
    "from nangs import MLP\n",
    "\n",
    "mlp = MLP(inputs=len(pde.inputs), outputs=len(pde.outputs), layers=3, neurons=100)\n",
    "\n",
    "mlp"
   ]
  },
  {
   "cell_type": "code",
   "execution_count": 22,
   "metadata": {
    "ExecuteTime": {
     "end_time": "2020-06-21T13:28:31.266112Z",
     "start_time": "2020-06-21T13:28:31.221112Z"
    },
    "hidden": true
   },
   "outputs": [],
   "source": [
    "assert mlp(torch.randn(32, len(pde.inputs))).shape == torch.randn(32, len(pde.outputs)).shape"
   ]
  },
  {
   "cell_type": "markdown",
   "metadata": {},
   "source": [
    "## Solve the PDE"
   ]
  },
  {
   "cell_type": "markdown",
   "metadata": {},
   "source": [
    "To solve the PDE, you must first call de `compile` function to specify the NN, optimizer and optionally the loss function (we use MSE by default) or a learning rate scheduler."
   ]
  },
  {
   "cell_type": "code",
   "execution_count": 23,
   "metadata": {
    "ExecuteTime": {
     "end_time": "2020-06-21T13:28:31.328112Z",
     "start_time": "2020-06-21T13:28:31.268113Z"
    }
   },
   "outputs": [],
   "source": [
    "EPOCHS = 40\n",
    "\n",
    "optimizer = torch.optim.Adam(mlp.parameters())\n",
    "scheduler = torch.optim.lr_scheduler.OneCycleLR(optimizer, max_lr=0.01, pct_start=0.1, total_steps=EPOCHS)\n",
    "\n",
    "pde.compile(mlp.to(device), optimizer, scheduler)"
   ]
  },
  {
   "cell_type": "markdown",
   "metadata": {},
   "source": [
    "To solve the PDE, call the `solve` function with a number of epochs and batch size for the optimization process. It returns a hitory with all the tracked metrics."
   ]
  },
  {
   "cell_type": "code",
   "execution_count": 24,
   "metadata": {
    "ExecuteTime": {
     "end_time": "2020-06-21T13:29:09.161619Z",
     "start_time": "2020-06-21T13:28:31.329111Z"
    }
   },
   "outputs": [
    {
     "data": {
      "text/html": [
       "Epoch 1/40  | lr 0.0004 | initial 0.45461 | periodic 0.00394 | pde 0.00169<p>Epoch 2/40  | lr 0.0028 | initial 0.43021 | periodic 0.00854 | pde 0.00654<p>Epoch 3/40  | lr 0.0076 | initial 0.44657 | periodic 0.00696 | pde 0.01265<p>Epoch 4/40  | lr 0.01 | initial 0.401 | periodic 0.01033 | pde 0.01582<p>Epoch 5/40  | lr 0.00998 | initial 0.3476 | periodic 0.00992 | pde 0.03351<p>Epoch 6/40  | lr 0.00992 | initial 0.25312 | periodic 0.0086 | pde 0.07139<p>Epoch 7/40  | lr 0.00983 | initial 0.15538 | periodic 0.01205 | pde 0.07763<p>Epoch 8/40  | lr 0.0097 | initial 0.0742 | periodic 0.01455 | pde 0.06072<p>Epoch 9/40  | lr 0.00953 | initial 0.01913 | periodic 0.0065 | pde 0.02674<p>Epoch 10/40  | lr 0.00933 | initial 0.00448 | periodic 0.00321 | pde 0.0129<p>Epoch 11/40  | lr 0.0091 | initial 0.00229 | periodic 0.00164 | pde 0.00769<p>Epoch 12/40  | lr 0.00883 | initial 0.00124 | periodic 0.00099 | pde 0.00517<p>Epoch 13/40  | lr 0.00854 | initial 0.00096 | periodic 0.00061 | pde 0.0037<p>Epoch 14/40  | lr 0.00821 | initial 0.00072 | periodic 0.00061 | pde 0.00282<p>Epoch 15/40  | lr 0.00787 | initial 0.00055 | periodic 0.00049 | pde 0.00212<p>Epoch 16/40  | lr 0.0075 | initial 0.00049 | periodic 0.00028 | pde 0.00177<p>Epoch 17/40  | lr 0.00711 | initial 0.00036 | periodic 0.00032 | pde 0.0015<p>Epoch 18/40  | lr 0.00671 | initial 0.00034 | periodic 0.00029 | pde 0.00137<p>Epoch 19/40  | lr 0.00629 | initial 0.00033 | periodic 0.00019 | pde 0.00116<p>Epoch 20/40  | lr 0.00587 | initial 0.00024 | periodic 0.00014 | pde 0.00096<p>Epoch 21/40  | lr 0.00544 | initial 0.00018 | periodic 0.00012 | pde 0.00088<p>Epoch 22/40  | lr 0.005 | initial 0.00021 | periodic 0.00014 | pde 0.00099<p>Epoch 23/40  | lr 0.00456 | initial 0.00019 | periodic 0.00012 | pde 0.00084<p>Epoch 24/40  | lr 0.00413 | initial 0.00015 | periodic 9e-05 | pde 0.00073<p>Epoch 25/40  | lr 0.00371 | initial 0.00014 | periodic 8e-05 | pde 0.00064<p>Epoch 26/40  | lr 0.00329 | initial 0.00014 | periodic 7e-05 | pde 0.00062<p>Epoch 27/40  | lr 0.00289 | initial 0.00012 | periodic 7e-05 | pde 0.00056<p>Epoch 28/40  | lr 0.0025 | initial 0.00012 | periodic 7e-05 | pde 0.00054<p>Epoch 29/40  | lr 0.00213 | initial 0.0001 | periodic 6e-05 | pde 0.00053<p>Epoch 30/40  | lr 0.00179 | initial 0.0001 | periodic 6e-05 | pde 0.00051<p>Epoch 31/40  | lr 0.00146 | initial 0.0001 | periodic 6e-05 | pde 0.00048<p>Epoch 32/40  | lr 0.00117 | initial 0.0001 | periodic 6e-05 | pde 0.00046<p>Epoch 33/40  | lr 0.0009 | initial 9e-05 | periodic 5e-05 | pde 0.00046<p>Epoch 34/40  | lr 0.00067 | initial 9e-05 | periodic 5e-05 | pde 0.00045<p>Epoch 35/40  | lr 0.00047 | initial 9e-05 | periodic 5e-05 | pde 0.00044<p>Epoch 36/40  | lr 0.0003 | initial 9e-05 | periodic 5e-05 | pde 0.00043<p>Epoch 37/40  | lr 0.00017 | initial 8e-05 | periodic 5e-05 | pde 0.00043<p>Epoch 38/40  | lr 8e-05 | initial 8e-05 | periodic 5e-05 | pde 0.00042<p>Epoch 39/40  | lr 2e-05 | initial 8e-05 | periodic 5e-05 | pde 0.00042<p>Epoch 40/40  | lr 0.0 | initial 8e-05 | periodic 5e-05 | pde 0.00042"
      ],
      "text/plain": [
       "<IPython.core.display.HTML object>"
      ]
     },
     "metadata": {},
     "output_type": "display_data"
    }
   ],
   "source": [
    "BATCH_SIZE = 256\n",
    "\n",
    "hist = pde.solve(EPOCHS, BATCH_SIZE)"
   ]
  },
  {
   "cell_type": "code",
   "execution_count": 25,
   "metadata": {
    "ExecuteTime": {
     "end_time": "2020-06-21T13:29:09.602620Z",
     "start_time": "2020-06-21T13:29:09.162621Z"
    }
   },
   "outputs": [
    {
     "data": {
      "image/png": "[encoded data removed]",
      "text/plain": [
       "<Figure size 1080x360 with 2 Axes>"
      ]
     },
     "metadata": {
      "needs_background": "light"
     },
     "output_type": "display_data"
    }
   ],
   "source": [
    "fig, (ax1, ax2) = plt.subplots(1, 2, figsize=(15,5))\n",
    "for name, vale in hist.items():\n",
    "    if name is not 'lr':\n",
    "        ax1.plot(hist[name], label=name)\n",
    "ax1.grid(True)\n",
    "ax1.legend()\n",
    "ax1.set_yscale(\"log\")\n",
    "ax2.plot(hist['lr'], label='lr')\n",
    "ax2.grid(True)\n",
    "ax2.legend()\n",
    "plt.show()"
   ]
  },
  {
   "cell_type": "markdown",
   "metadata": {},
   "source": [
    "## Evaluate your solution"
   ]
  },
  {
   "cell_type": "markdown",
   "metadata": {},
   "source": [
    "Finally, you can evaluate your solution"
   ]
  },
  {
   "cell_type": "code",
   "execution_count": 26,
   "metadata": {
    "ExecuteTime": {
     "end_time": "2020-06-21T13:29:09.789620Z",
     "start_time": "2020-06-21T13:29:09.603620Z"
    },
    "code_folding": []
   },
   "outputs": [],
   "source": [
    "from matplotlib import animation, rc\n",
    "rc('animation', html='html5')\n",
    "\n",
    "def update_plot(i, x, u, t, p):\n",
    "    ax.clear()\n",
    "    pe = np.sin(2.*np.pi*(x-u*t[i]))\n",
    "    ax.plot(x, pe, label=f\"exact (u = {U})\")\n",
    "    ax.plot(x, p[i], '.k', label=\"solution\")\n",
    "    ax.set_xlabel(\"x\", fontsize=14)\n",
    "    ax.set_ylabel(\"p\", fontsize=14, rotation=np.pi/2)\n",
    "    ax.legend(loc=\"upper right\")\n",
    "    ax.grid(True)\n",
    "    ax.set_xlim([0, 1])\n",
    "    ax.set_ylim([-1.2, 1.2])\n",
    "    l2 = np.sqrt(np.sum((p[i]-pe)**2))\n",
    "    ax.set_title(f\"t = {t[i]:.3f} (L2 = {l2:.5f})\")\n",
    "    return ax"
   ]
  },
  {
   "cell_type": "code",
   "execution_count": 27,
   "metadata": {
    "ExecuteTime": {
     "end_time": "2020-06-21T13:29:09.853619Z",
     "start_time": "2020-06-21T13:29:09.790622Z"
    }
   },
   "outputs": [],
   "source": [
    "#t = np.linspace(0,1,10)\n",
    "U = -0.5\n",
    "\n",
    "x = np.linspace(0,1,30)\n",
    "t = np.linspace(0,1,20)\n",
    "u = np.array([U])\n",
    "eval_mesh = Mesh({'x': x, 't': t, 'u': u}, device=device)\n",
    "\n",
    "p = pde.eval(eval_mesh)\n",
    "p = p.cpu().numpy().reshape(len(t), -1)\n",
    "\n",
    "fig = plt.figure()\n",
    "ax = plt.subplot(111)\n",
    "anim = animation.FuncAnimation(fig, update_plot, frames=len(t), fargs=(x, U, t, p), interval=300)\n",
    "plt.close()"
   ]
  },
  {
   "cell_type": "code",
   "execution_count": 28,
   "metadata": {
    "ExecuteTime": {
     "end_time": "2020-06-21T13:29:11.099621Z",
     "start_time": "2020-06-21T13:29:09.854621Z"
    }
   },
   "outputs": [
    {
     "data": {
      "text/html": [
       "<video width=\"432\" height=\"288\" controls autoplay loop>\n",
       "  <source type=\"video/mp4\" src=\"data:video/mp4;base64,AAAAIGZ0eXBNNFYgAAACAE00ViBpc29taXNvMmF2YzEAAAAIZnJlZQAApLZtZGF0AAACnwYF//+b\n",
       "3EXpvebZSLeWLNgg2SPu73gyNjQgLSBjb3JlIDE1OSAtIEguMjY0L01QRUctNCBBVkMgY29kZWMg\n",
       "LSBDb3B5bGVmdCAyMDAzLTIwMTkgLSBodHRwOi8vd3d3LnZpZGVvbGFuLm9yZy94MjY0Lmh0bWwg\n",
       "LSBvcHRpb25zOiBjYWJhYz0xIHJlZj0zIGRlYmxvY2s9MTowOjAgYW5hbHlzZT0weDM6MHgxMTMg\n",
       "bWU9aGV4IHN1Ym1lPTcgcHN5PTEgcHN5X3JkPTEuMDA6MC4wMCBtaXhlZF9yZWY9MSBtZV9yYW5n\n",
       "ZT0xNiBjaHJvbWFfbWU9MSB0cmVsbGlzPTEgOHg4ZGN0PTEgY3FtPTAgZGVhZHpvbmU9MjEsMTEg\n",
       "ZmFzdF9wc2tpcD0xIGNocm9tYV9xcF9vZmZzZXQ9LTIgdGhyZWFkcz05IGxvb2thaGVhZF90aHJl\n",
       "YWRzPTEgc2xpY2VkX3RocmVhZHM9MCBucj0wIGRlY2ltYXRlPTEgaW50ZXJsYWNlZD0wIGJsdXJh\n",
       "eV9jb21wYXQ9MCBjb25zdHJhaW5lZF9pbnRyYT0wIGJmcmFtZXM9MyBiX3B5cmFtaWQ9MiBiX2Fk\n",
       "YXB0PTEgYl9iaWFzPTAgZGlyZWN0PTEgd2VpZ2h0Yj0xIG9wZW5fZ29wPTAgd2VpZ2h0cD0yIGtl\n",
       "eWludD0yNTAga2V5aW50X21pbj0zIHNjZW5lY3V0PTQwIGludHJhX3JlZnJlc2g9MCByY19sb29r\n",
       "YWhlYWQ9NDAgcmM9Y3JmIG1idHJlZT0xIGNyZj0yMy4wIHFjb21wPTAuNjAgcXBtaW49MCBxcG1h\n",
       "eD02OSBxcHN0ZXA9NCBpcF9yYXRpbz0xLjQwIGFxPTE6MS4wMACAAAAeKGWIhAAT//73sY+BTcgA\n",
       "DZc6inof4RWx9JBRerHZoGTqAAADAACJgY4WQLW8MCCWJvQinEAl+8mFUYFKew8FIYMX96zNbIBA\n",
       "cq17CG/kxtJ0GHqpLXBYLTMV/jHoID+bkUJEm74eAqWBV/BvtQMK/PlscajOM1GijCO3I70NHh/N\n",
       "0Of++OE/SsLQr0GE+N2/0loi6ciwGUw8EwPuf+eYtG3fapzzUUUQ/Vp/2e4KxLMmo2GhWyLHy9tp\n",
       "aU+VWOtD+b+SnCZ7yjGUcCeZ2SkwcxKiTB2DxXHZq7bm5jJjiXGtO5PtpkYCxpzGYkh5vOSr4oDI\n",
       "k0ko3GwFQ72oYtLEGGvvdTQo7Hb+4VPf8VwelDgxVLgWrZnHS50tlUydD2wzhQdiGOR0KlfLyO2V\n",
       "3n2ykRArUYTVJQRFlkFLXU1jurkJidPJKB20HipiDwba+EpilXODoJ13xDSoyZOJmWNhI+qjMLdM\n",
       "s5iSTP1kYCoJ9V7aTpKLG9SUWmNDknXmtIgIUAhITsjC+sZhsZ3tPj4R9xe0oxu2tTeyrMPlQE4q\n",
       "t9+/7usgemKc1ui6xCgArym5z4Pozr7bGTY2PD6cAijFubxNdU9/Grp7WumXg3FlsMIuzLAQknqX\n",
       "7Fgd3kkIs5A75a450dHKE9xPEFmgzihJ1OKG4QHnLpQ4SAUA/6id2UgxG1Y/+KTSdC9yqm3I9iFy\n",
       "cfHB5t5PlNMMxWnFU0L2kUDU1AIdBecV3aAClZt0Hhtpvv5VuwviSVKzKxNJgHqLPWTUINA5kcQr\n",
       "Gb9SSZNyF7ThR/yBdBPczfxnKblEehNwq1qJ0cQ64otHQz3cLTYHtJMQDxjdwWA7wobDFGColMja\n",
       "QWAeX5TOEb4DXomWhueYPw4PEivo5oySA1tO6eDDK7B85HnQp/eh4arWn10lijyOCo3QqYhHb4ka\n",
       "DfdoaH50stnlW/IckAhrhux5mrb0h2JDBUuL+KXJ69k/joth586T1v9jXDVRziqeb6tMa1rn+7z/\n",
       "Pxy5plYz1McKFcVxYjik717QFjyMAsBljyvQDElF9b9bsT2+fJEeL1TgjS0aZRdBuLleDaXbN2og\n",
       "lJHQr/Gy+cuDXP97Hp3/Z4jwGgI3qKG1ytzf2cNjDBQSAlDsn2XLh8EOMKd/ug0GQpkCHDuaOMts\n",
       "lNlNjlDZMg3al0Y1KRF9w7n+SX/VGQ5G5iJuFYrk4hR1EcWmHgBbb4SL++99mElIIf9iGil7Hu4p\n",
       "DUl65HyG6qfMPepAPEgoyd0wIbYOk2Ok0wRc3JhrSxGEzFSpm8QDS3scDbWrx7ep0ApKVeubEZky\n",
       "T/rqJ+8jDRs/y2oJk0PDRnYdlP7NBjmuItXYJPkPTvccRcEzEo7TRrtsVeQaF4wjjAyZs7EKJ4cd\n",
       "IsbSAQSpGQIqU0otnaUEWXyfdbsGP8Bj1OP5QboZZLPOIRYKgg7oU89Vxg5Dva2XgtiCnG6jSp/d\n",
       "q0y7sTags1XoN72gHOqk7LE9dpU6EkPg8VeK6CzqPHO3gNzdGKfZLssrORVRQwbEjYx8BB+pBx9n\n",
       "ucZT0a5AYjpGe6HkKBF9k6CjYNHndwy/kL+HAQytefHvX2bsa5FZ7JZc7o2VXcv8+rpQYczpabqv\n",
       "XUZVjfK9uNSU1obDIVHRRtkTMdbVWopddLGvVWqwVJj9n05ZKIQNM/vT69UvHEJOFY2oaQ6XxqGX\n",
       "dG3hV6irMqQzm9qz9WcN+VabkL7ZcvpxBTtu2EfeBXtIbJ/GmQRopfLgLGQa9bMu3si8s882l7gE\n",
       "/M1O6cOc/ddDdkZb6HJQf4BpF3qPDSFjcKA7N1R1+JEirWXU8nvlepuLR9AbxWjuOlu3+glSBajL\n",
       "u5re3oz3vihXkzvTj9SzSf6t/WtSYKRkbZpsdll2zANWo3mvUlUZdFHWsTNIHOWUVf2WI5DYRwoz\n",
       "qzoVYlOgp36PVamMHTrg1qnWHdsPGdEIQllwFuLoE6liUo3YXC06w0hjYKa20HrA+SRx9ww8f8yz\n",
       "9AgBVfr8E0V4fNsoChIH55fz8mqHbEzKhB5/2fbca9pHwHpNvmG8r31l0vR3f+7qav6rducKt8aj\n",
       "D1reaZkNWngrruI8p4k/WJS/rFagyFWAprP/iFB0OXynTrW7QH4Oe777mIXEIaFwz5Gaed8AylX5\n",
       "p4Tw+nGameEwelToE4IQsMuoN20iKv3D8wrSqCA1g7DZpp+nrkmrtjPbK6+aF0ul6eI+H7YD74J4\n",
       "wE+41r97du4olwZIPdeckhYJdnLIr5E4c8IHxnnLHYBv1F7aIjc8nfntT85DBgBIEATK9p08z821\n",
       "/5mv+dHJi9AsAg5h50PiclANgBnarKysHvSrDUGvBtVeZbavWvZxL9TDEA5c+NvCvsL+ycFy+ebI\n",
       "9kG/phLhQO5UJfl+klD95FafVz8WGAbQqI1/23Vkv7DnYkCrW5dQBvL8Ntx9WJ2TfIVlO9uJ1MYl\n",
       "vyobuQXjzv+C9qS4IMSH3PcBf4uSQZrc7uAVi7TEce0P/9zsm1FsQlCwPoVXh/aBP5DSmKLqnNay\n",
       "k/UM/C/8LM6ggYjqqSstSjkG/+hH2/3vZTWHSAN4Sb6lmZjdp6v71gQ9jAsmn0IaXgDZSdYg8QXH\n",
       "Hxj5Uu1AeLVdjLT4HfNCzIJJ12xLLH78fOK/6OwCiG90MpaBf+QeJ2WYgEXi62OKRsyPONIux5qr\n",
       "DXRVB/ruKYBxUwr/RlfgV1HA9Dbd9vKTYxqkGodHCh65YCZObvPP2rBYRkMGWFiNlpYa31JcrOiD\n",
       "tnz5h42WBYbTu4zW7cqSL+cxiPCnG/y+90WKcEUK2YoS00AVT1fOkm1ZMUQ8ayNX3rWyBRrG/MqZ\n",
       "clLDjoYwdUFRwkS9G4EdF3cc6Fkrb9e89cBI4iSc56E6Akn21em1iNH2x6br11tH0eOxKpWpX3ZX\n",
       "m+JvBE4oTJOwtNbr8pHwtxh7y63wRmmQczJG2ovTp97dG79LIVPFkPUsQz9pxIhLMW+D2p7qyzYt\n",
       "FPUiCDxoW+pNMpDstbg+7q/USjyDUbxsPPd9E/xyfocHpkU5RBcbc8GZMb4nDOdXbjSJWPm4yMZd\n",
       "fpukARLD1oK7TwJ6VzEgqo4vlRAe5LZMwr1/wrX2sG8jcpM88DZo1w83oTipyex0TCW5Lj9xk31H\n",
       "30TkdqDDiA5LkG39UPa2kbVv/rFPQ9WOS+UTmu9qht/amnlzQIp0BlrcwE/7NfTC9SwaSe0nv3y1\n",
       "Qi3bqZxstTgbaGC6ZZ83Voa51HkBfbjhfj0o7ZcDIZIC8Y1E1GMxZhHz9BA2wXQ9rugeb8ccwxE8\n",
       "z6BAqJ+lXMhkr6JZkEzZXJZEY9n2y5CGDeojGV1X4Wspvj6wBaLHuSaQt9F9df2Q+fGBgueG2F+/\n",
       "llKa9s3Wx5tmiexbbn+EMNhXpwWcauZBkxSTk2sx/6ew78jWWp/WEI05EsJN93gN/HIo4TYBGlMb\n",
       "7aWgvtzUAVerXVE6I7Dn2/LoUZ/pXbiSYfXffmyY/G3fWFbrK7ij4DXUNMWCv9uuuPCxlFPiawJ2\n",
       "WuSFc8SCd2I2VyUZfqQDw7oAZCajTe44gmq4ReDIA/EYPQKth0l24mqAHmn9pzRiCgWgKnjWpqhf\n",
       "NcmmgNEU7YmNBCwlS/dMtiRFBllhI2NAHMQlGmkJsitPXEbiCErkUD1JuiXVhDZUNSAuYJBGEiQ8\n",
       "Cpi1ars4VFsg5LjAClcyodK2DCvVMH+3uAWuBFmSUW6P5vdMM/+kTlmEmU778fCquQGt6Ky3O7y3\n",
       "ZgRri6rf40hImFP3zVao64q4tE2KN9LX0qxQyGMZoIImsK7RkEo78PLw7Ff9rkPnaczlToc+zB0P\n",
       "pepNnWaPBWPNTY57BByBL86UOTSLa/LmO7QkOJEja/XBMiDpFvqd5BkUmnbusuvJ4wlbj3mzFPdx\n",
       "8Vub8TEuSQa5Wy/ssPQLPDxyOcgwhuQCvPkAbHm0w2vr0lY1tQZKR6Rceoif//JfDceTR2oPKQM3\n",
       "tF2mx19v41DCpC0wJzgXcvYY9yvfKpoaVkL+NgkrGRuwil/Kxc5pAxqH4VZ4RIDmXj4hUtBlcnx5\n",
       "+a0YPMI3MRPu/Bvsjt/0PhEhx6M8EsvRPshJMu0DvO84o0ewUzdQXm/+pZs4oD4FwvHrY6X+2cX9\n",
       "EyQRShDrX9W63e6I9SCgpvCFPohc32v59luDjqv59cgkkdD09Cwjt88ujwVybQSCCTHwsfKYTcUc\n",
       "TzQf//JHNta2XfZ0ti/b5R/gWzwsXlfur7w/SgIORZT/Mskszg3QZQjmy1IUbLGYKL3Q2VRLnuFj\n",
       "AGuL7sCvqM4RWnHpb/Qpkc70/+E0aXfD3VQ2tuz1YsgDpSptX8jIMeNYKmVPvFyHTlHUxLTn77Sm\n",
       "65/VL4drBvrsQxSfj+Qn3WrQO0SgPGmvVzRHiRzeXspBGxByGolyaZwj8DKgJHJkArphD3K37RK5\n",
       "hoIKDoJWRArplE8S+U+yfp9FZ1Lth9Puj6uieij8jKSZsUmC90KB4WITPWdTcZvbVJjNxxotb/SO\n",
       "/Am9ZE2zbzT3lBbqiCbLQhlpMZChSXzWEBVdQMRyJI22pNfpdPCq0U4gKud/KgeUurUE0oFGx358\n",
       "CljRFOUwH5dMd32ctK3IhpcKCra0/TunwXjZiU0h/iltmvID/V8W/adOihzXe6qc9SrFMr1enhUk\n",
       "ZrRoTBsAz9qD+Z+tLSJyrxy1v/9lsDJwbpmMe6bstUojlXc2MjVwGqmAAUuTLIEstPuL4jpEIzZd\n",
       "m/kl1RUvDDcVG4yaNP8913X0o1GyuTUaILQa6QkZHZ9xS7RILB9soRXSuaLl+koutWRGb0cRL2VJ\n",
       "f5u0CywJQlr8UIGgZ/az3AJIOSmAE1AgvB6KRkdbxpXvdYSG6fMTvXIrxbfzn1xcR7NxlUn0Cqjk\n",
       "AsVB5o9and/fP0TqNBC8xVlo5TVWo9BszpIEHOMaVO5E3RkCI3EnKh6InelO5Eg4ZixnodsxueBZ\n",
       "yNz+74QaElONYW9e+Ok/Zl9H+GaEDidJxdXkzIMflUJC07HM7JSJEyXgyV9aMVJ6Yyl9tMMrEdl2\n",
       "h4SQJXFo7UMBQ57Kmfw8BLYIK1RJ+P0oAqwoYqoJIbb66CHAcjkPChInoOvZ6j3nx+Hybnu+gklN\n",
       "+kyyBvD6KdP8DigAf/3wicz1DTJ9rkukjm3R5ad5sfWxRO9o7kk5OxEoG7++EPGX2yGz1Zd+KfJ/\n",
       "3ZkpIP0IpCZDxb0pCI2vKAPFQMwrpWqS5bi+dlpxytJu7gJKI/X8H71WtErW1z9+/Oni8nIPRmVG\n",
       "a3EmYnLYkFEMZ+m2OP/A888k7hvf1CkA5HyX9AylrjnZ2rD73kyB+YmfeNx3KppYEn49wrG7uEgQ\n",
       "5oRJ4Sz4MYKe/AERd0i/53Z+9lUsFY4bSY7Ea6RvZlk4G5k6MJe2hSmG9XUJU8PYXZLWgGk73ABQ\n",
       "NvobOlid0soxYAoef+ajGPGHR9Ofevuwp3wWiCJ7ChWbXQNAdsgQn6emz3dCf4MaB2bmh5gU+Ul2\n",
       "QWZe3z6OhCRTw/bjbnlgcsE+Ge2A8uHdOhH06ht7I6gQa12+In2yj8i1aciDClNOO9xZ/vYG8D+O\n",
       "wA8Z+M1yOnpl9bEa+IfSSH+MGZXIvBnXDYsBo2UFT2Qxsn+JvPwjd39M1tEc98mxA326f8Ameo0w\n",
       "QmoNQPtOORl4us0JQy3AddBAi/U7EmluDwjtbbPCuvbHPt1lHfs7SE8o136jXpFVBVP66sbFUs8r\n",
       "+vb050aF5zOyL6URymrO/eStbpK4A1sfjZMkOF3ieLnLIzWkDjsH2GYmTYGO1IhGUzF+GIPQZNre\n",
       "KvvfhoIH64DD520ja60Ic+Xt0dCfqW3UGFkaaJF1CcRy1hEiUQnYRMV5vNHH43rNvzoGUxGtMyTo\n",
       "Wc+2/Zl7hHDWDwM6J8iRaO8O1DNgi6jhtCqpI7bLT7W2tXZYV4Z4i2sPo/Iir+yQ89lL4tl1vonE\n",
       "r+nHlWuXqkn3LuXjduFSZ19gTxGPpHspARiTgbF2BgEF06qE2S5qVPDPqI/PHQfCUjkxK8v/FdYW\n",
       "6kafIKQdOx2DRnA7xLuq3XBvEFivr7QmNjpis4e1gXiJpUvo3k7gFw3K2iyTWpHEifGbyeG8ktol\n",
       "UARSVvHwCfWbz6AJLhsoxoE/ei5Alrfawgzvk/3en/EfQ6I22VtUcsw6JhSnebMvSAyiFV3g5RIc\n",
       "yx4bOl/LLLmHk37f+7CjByawA9rSGPqrlqmzS9tE42BAYctPQA94/R7EXV2pjxjCSpTDKLonXyCW\n",
       "VB/6bxoag9qxPMb9AMBa8VG3za8mzbn4WrU3/+g3roSKC4r8IacAVmPB2r45pN/mBhYfyT1AFZ1l\n",
       "lhtW3/4TxzxBdJJAV2XW6Sg15Iwl4Ejqd8KJ1bd2VCR+h2JbRy+0MA0nrRtas4ksgRadHPdTT1yc\n",
       "kEN+HitaZq7ikHIm7Iszqy6/ns2rM/slxmMCof7RGhWO7Mt2USkOSlpzaXMKFL5ph64QW7h1C9ll\n",
       "gVZMJ4acqiQK761zI/qG7M81aapQiOfd4FXBLQW2K6C0FYNUYs0pJR3k22JSAinr4cqNNp3iNexK\n",
       "KdFLa/b4jt0Cblo33P09x7gPLx6nRXGFF7OhLnZy72dhz8YG4dnDMgxQj9weBbbbhA2wb99m5/1P\n",
       "1rhmUY4NkJ6xqnHnJ+XKSObXGyAHkXQGdUWQHc1/fpWZh/Z+mMjiRnFrh5fjKS0ydPJ/I+NQ/aBz\n",
       "rRvW1Epnq2/PAvRYyOBwz9sLtviw8ogSrFBM0rZzuptMTnCyJSreZ1gqQc2O1dnFNTg8RizeVfMH\n",
       "xLNQVPocJ6nlIu5Pa1nO3NRw8GHPTge3t2mh64Zlf1PLDRxZazcwAlgUGa2ddcfcZ+ChIBTyjHH9\n",
       "F+rodmqo/x0SE6vP4GVwitq0GgumcaXtSUzs6IufFXMoWhS0ZtznGkGXC8GaRGtWe6p4UQVyFb1h\n",
       "PhASxaPu7SXQWUeRi6O8phGmrdm0jM0hMOaAxCRrGYkP+rDyfe4bgpiz82WoTPEV/kxKDkr/iKU9\n",
       "WH8GC8L0M1+48s0u5tWIu9f2Aozlm/x3YyouzMxfZpiwxQpJubn2WcydZSm6sP28n9Er4t3kHk1h\n",
       "RvuNCDkRuVr6Tl6zThtaqL/W8oqwNxTzZIyroMQBjWFDLD2oEEXZ2PibyzNF1VdnvULie6seY5jL\n",
       "zEkjjajCOgfWNTWihW4dLKuKgzgtoabSuH/v6wJPvI7QwR0epaEU/YzomxBp5wh5OntHD2vsjWs+\n",
       "iEEnT24l2MfitITRLqmtDgTM0bzx192GAzydFaWzEJQxSAz8WXoXl7H6nzjZQfWTFh4fq+qMX+zX\n",
       "8f/yiqVfwxGC+Xik31wq717MQiGhpBgPRFJAfh/cCrXKVcowtbJcx2L9eqEUZTGGEXN1NV7XRywU\n",
       "N5Xzn/oG2NrIFG4EdbGhY7AbOjzEHlcnu1rUhT7nwy6dnUmAWuLVQDOIR8W/+3uWCVvMmpTU19az\n",
       "J4XZFXv2dSqWjEyHfFopmBta/FjJSZ+RrdAx5UF4JgdFu198W5aIOT7JxnEs71lC3EHPCuiaelKr\n",
       "UDdLxRdrduP2DJj3+h/SOz+xl1IVFTQYNzLmVqF1CFqOOuc4Ep0cfAqr5ut2L+rmGVFc7Yf7ckmi\n",
       "sM+4zL3ooZ3YcGZlzSO/eE6F6CkGoFZydvqYQYAAKenfNZ0EdqzGrPXfdflzJMtQTP0hX3oxBRR6\n",
       "upiLsN5sjrj0aOJF5EqZYsHnPGRm/eOboLSxtN0x3FY/gZ1nGWMwLPINJad807G8bu/cywua81LT\n",
       "QiN6DaCCZqVV1W15u5HoFGs//li1+eVzJ0q4HlbsaBF/FguRkFPGufSr6UD966LqfpB+KXHd5VOC\n",
       "2xxmUk0erN0XHzoxAgOvg6ITki71SGuIXamQeXzi/ZtvlO2u3nNnK3BiVVVhHkdDX5rIpP/96vql\n",
       "DyLVTVanXIf2sXbu6Mely4DbhUd18BrKXo7QtlsHC9YJoTsVhbt7KlEh+WACO1L7D5Ym93odbxyV\n",
       "hkHp8TzNzUH3fI2CBiDQnCEqqKI6Ca8dIpJUb+xoadJhkp72Rvn+BfhwFrWcKuIuHBArFNI6s8nu\n",
       "XMpcIPvH344ZDjLXH7aP4p06h64y9dKKeAuRq50B0KdWnuWlvzzj/3zbGaPdLvcVYkhq09DHbo3T\n",
       "jMYcCDlY+GnKB6M9sYf0DpW8asVV4OCsWW9+7dRWnj+aW6kI04A7Z87UGhPkAjFxQz2evSmgkw5+\n",
       "y3aug5Qd1luDekgW5wpvDlq496D5114IR2JXAos+6WRMyJ8/kQw+AYbwGUTGt8Um8jO2Lqrty5aj\n",
       "K5NP2gRNk+wf3Ga37mENebchsr7mAmZFOpDhr42iPKd+DIc1//Gl1fh+lZZ+0jr1rrZSixEC5h+g\n",
       "aGmAQEW0b1cQxQL1sheyyFf/irczcQDpkZ+iR2nXhjCQFN9IX9dFYOQ4J572Y08OJHBFnldEPcJ8\n",
       "eUrYjjBSVRC6MmRrVFGB2p7us7n4sWT63EqDtkj8lQdh1BwBl44E4oMCO7l3G9At9S7K3nwtQupP\n",
       "goYGqnXrZuWULClNPtsaBweJv9JCq0yaskUT/lJwpYouosvvI8qMRSgwzZ1zQMAIaS4jYKaJOPmm\n",
       "VtD3VpeQ4JUuwc3xZwjgniJtHVdG29rUx+k0LacN/gY1szeXFC9s85AQToCH8bv0yPrptgDhkDJB\n",
       "3KwMJWeZ05Qcj8B7o4XCC1kP4TmPpjzwe8taoVfM8Nf/8rCvFIzlHzyNsN4DBfFgVGM1LxyRp7qp\n",
       "BHqWNpBasenFXplX1qQWvJTCUDy835v+lAtWYxOJv3yNyH/FISB5MJKeenxsPn0WxqiK9RbZT5rv\n",
       "BhSqXn4k74q2mdAxtTms0e575hn8Wo8fZPEfKKxH+zhrP+CIVKtocz9OjQ2jBQ3O2WRKYesJq0IY\n",
       "8Hd2+rM1YutwD6oA+B3J0mxU0H4ppOkDpfDndQKxONqsC/fdbECJ42bogvbnZazt/rgmp2YNle7V\n",
       "v/b9qiiQM3fw2PBG/hxrB4DB2XcyzJfmWoa9r8Cu8Cr7CWDu9lFrHQk75Pl+j2fn+IUJ0yS3C+W6\n",
       "uFYoYsr8BjjxOkBdzqDyp42QFaArgRGhcfKra2rsXGJzaZOK5eS/4VB0VQPZqdXEjnyWJSAr5CbD\n",
       "n9ZorrezAaRXvGsCI4J3qh2+fMRWYhsslnkPMVn/gpAYzyH1poWLR40i6+JGHBF/YxvtJFcUN1hm\n",
       "qgcxsvbQ2KCG4U9QSV+saAU1VANbXdFYT72xyUBlhpowYU9ImG9RErL4TIs4VRYXRlbJK/p1drYW\n",
       "B9+HmEHC1RgcoOgXSI7QZ1OqoUjomM56XqH3OAVEHntLgyyg4edjfaxQd3Yy7htVm0ULjfpStWT+\n",
       "6L7nVwxC9s/SxsOv4l4EbhQsHhmB9EGxv7OKYxkxnGAcMSEOfdGxpfszfCRHXaWp1bBcSSbT2avg\n",
       "j7nk/goLRmV1imU/ygOwD4ET/oJq9qoq1Ld3wZdNrqEXhwStWk0jIFX256HT+5GiZejIdqr7zSlL\n",
       "34lnB3WWux6ppzudy+5jj5Kx7kzp17EG4CSDRx1LTFxPVIFnAV4Wy+iJCMyPLP7L6k39V9KEt71x\n",
       "59Zr/ixQHungNOAyBSqC5ZWPAvXQ8fIb17mbv/wPnV5s77DCwtRVPUBAPZ/JHqnajzVnK7Z1J6ix\n",
       "n1mguHsBRMElh4/FFY4ZLYhdCD6bOQ8ryW8Z2i8VOfRcm9zm4VD31lV2/vS45XZ8mRZ6mLIHYZZ5\n",
       "/h1LBpQe0xL1wmZ60KmWI4rkwbl87HwZPOHRohWJ96YysjTQtHOZK7zpY1dInei/96SrdXrZPfwg\n",
       "nKZGX0GCdsVcZJG17tKl4fg2tEwQWzwH8IEE/RMaVnZ51COWBUo3Q+1wvuar+OKP/Ia7akNjKm9J\n",
       "9d6GMixFv3d+KsWnt9jDouoLnsYCX6yWhNTvlljj6lemZ8mwtZiklFwEc+nFoOLXncff9cH/qbz0\n",
       "QcJxM0ZdQ8sNTnY74yRAz7OUZYzlTZK3Zbiy2r9AIqjecc7sVLfw825uzX85XgOi6gsV+JvsrMHE\n",
       "chLAev5wexCrJZ7QBSBV5dNWFJMfqpIkDEBhyO3UvM+ieUfpNecOR4bLYx7HPUytl0zulB7XBoXS\n",
       "61Mi4NuohzUqsqzE9qnXAeXuLBjO6tzlMPxaiwhsFw8gss4fssOI+EnrAKAJ+DWpQMM3xMVtmTyW\n",
       "Zrop0Lg/JSfc+l9BV2Q4IISyNVSv82vGZYrLrSxy2svsvTb8y++ET7fx03TpZ65UD8/SGhB47UeB\n",
       "x5Cz2UmIfKAAB/kAAApqQZohbEE//rUqgLy8gAAc5vOxOVhNFnbPmBEEWJrZ8Npy+/VL8iQLWSPT\n",
       "pkMI3Tb7KlNBk3Vq4R6vzkYW2/ZQcjVWPp62tvVybbHd3QzSMIJD7iyQ5DGAhlOuEq5UHoUwh+XA\n",
       "9gGqblsL+3NQfHh8z5x1/P+oOSA22Tz4mQYjBRy1dyhZyh7JpbKOA2Fup3MUcOa6zfdg0AdXZfYB\n",
       "xCvWkN2TwPMrY8RHdUzSQw/7ukJP/gnvdGpzlYRJG3krDML1LCYohkcJVqj/Xj9X8uzDDGoEwehA\n",
       "txx1Hrh94XQbBBVNNpUxYrEdBENzVY2WnQK/1WpGN2MHiD/KxIukglpJl8lbECa9/F69TzwrXd3V\n",
       "YK5QRNV+2QqPAmd1I7TI3V1LrREzWHrPnaGlSE9evlOHtfU6fsRS/vzpPAzUPWO7w1tPl/TuEDNt\n",
       "hSamDJX187vmBiUp908W2gp0NvNl/GhlEIxu/28Gm4zHeoxJifF8b45H2NjBfrbonbZ7pUlbz9Zl\n",
       "Z27WZEkV7buT9/mW3IE0CzzvTT9Ayf6T9NsKnUkr/FH0Jl8UIDAkyJ+c+MnNcmn9ltW0AThiETJd\n",
       "KjOZNlm1J9gWxcdY+bITfGsmtjUvJE+TXbJ4rHzopmQ0YIVVDyQctpFOwcQtbb1zWzSd6PA2oTc4\n",
       "4Fzpw4FU7o+5+36Fwhvlmamn3F/u0iI70P/yIEbYz0XeLoCdk6Bh99/dp5wraiSAF75tjX40AmV1\n",
       "9e4QwUFJInu1fuDq75jHEYhdi65LQwqM5wPlSABIke6kXoi/GVoNoU0G6p31CEOEtWBJyLI3TgMd\n",
       "vXdi7D368fJchh4AuUVYb6/2qxkS4FiIdmnHP9cCyHdbLXJas/oenS69GIFZiQz/9o0WEiVjxonU\n",
       "m1UIlNOS1mCKmy8PiTWbDOz7ujiMvg8++wMuV8rzVFvryBAsbQzEi7F/nDhqME5Nf8qvRWJGYyE3\n",
       "X6t9U+vr13qZ8xD5H4ksvb6bTsPTGpbRuoBEwQcJiMRpI7zmVwHRJVVlZe8GTHa17gHHZ4XHa5Fl\n",
       "AhA/epS3200rFQvGIUqmFKUIhWKMWKWKhEl8Owx0AiUVNbv2qAdv/QnLL3+bSpKyO7eK6sKMKWg8\n",
       "odcMK6NOZSFqdlJJPnzz1SzAcwGzB12dXh/o0yAn/HGLXDEXMd1ouwC5ms06aMAscQ7i4e84YAaP\n",
       "sD3miBJEj9V5FwHBrB+vHXrqwjdcYKCGD9skW9nzg/jVi+XNRQ06gmxHpwZ0xqZuF6uT/X2gmWWr\n",
       "7sPKDh8OdTjAsej4NRG6il9Wmtn8KWfNHFeL586XVitpfK2HFd8EVDlanM9/6zFcXhJn6tJ0TRtk\n",
       "w0gttvgDEHGkssgekAsWThM/xmYDz2PmG0r7FywiJ2pGHSbRoN4kRW/xwj6O18/sUuVyqJkNSf3u\n",
       "EolacZfb6F5kaSGP7yXxLf+zewPr8vRO2qxGljLT+9OwLMyMRbNrJk3XfSm4HywJobWnE+WzFje4\n",
       "+vfUdOu9sccA4uJpt5QQAS7EQqKUtpWs5TxOgmtWiACG1qoL05BUOdZ4A3/6UKY+ZI4BDZGwc4TW\n",
       "tZ5GNTmfl7pDe8zjtqbxyLrqonM8hIM/kzHiaVQC3icy7mvOTwnH0lpClx6uFzi/oAnxFR2kgltt\n",
       "4q+JzCbIKdhgXVBKIIAgtZqDTqhLATXZx9GruqCXalKOlGVoCR/YakItIt7VsjhsEJ35HpZqxFGY\n",
       "XvRvLVXfbOW0aaKprAgKHs7qUTqHKC27bMTN984HhjIK3XPRcmwurtxuMgaBaaI8vekbXz1qxxP0\n",
       "ZKkXC7iki77lrBr2PPDNcSALoZmEqf4H0KOF/hR1BM3KYoI1JXlswIJd5djuahNsypUIBWNFlDi1\n",
       "sNNTsqxXu0J2JBZCOjGG9eKNHSxZ4t65eTgies3V7Z6Bm7Ql3ktpBuaEZj7v94KfX9wiyBIb6WMW\n",
       "AssEotOBUxPp1oVsIaOvsNod/g3POqMr8BkqkBPJDi5miZjx048TkiFmOlin36DVBfvs+4ZPEsEm\n",
       "XPLwt/+J0oMwpYAoVpHAEcNaiaa9NBO8f1ID5rGvy6RatJkEv0ksjVPC3ztyqV0nylGDpPEU/QSk\n",
       "V3g+87jkDwvJ2TGtoCkCrCISS6fltq/X8EGbvbeV8NHr+wKB5HjgJELmz08MZWVAV9azcyULR4wL\n",
       "JuNpMB2OmzJxSkgAmjqw39yj9d9IAo3MtlU7G0KZ5wawHfYgS89ebAfzGpG3xZ2hhe+pKlUwNJkm\n",
       "1ROzKktbN6PvsMFyGp5quveEYeDvp96v9hP1m4IiUMuMjvcYyEbjdmjcavjQ8pmdoiZAgyFEfHmR\n",
       "OtG+8bm5TkGXKgUeGpuInXjNRXjSnmCFkyQChhJqGCTZxu/jd+Z3OYPSs/SlwW2nS4sT+4vBcrGJ\n",
       "/A/znCzj8xx9zv7xrIG85vFDUbeex10S9YO1zXcKD0pz9pnqYKzcKEbxgNUHzdcgf2JGRGs7q8yh\n",
       "9gF1yAJvF0vB2E0s9YHivvmzbep7cWGzpD4LGmF81wF5Vu1miC+GuzqfNXSUECCjAGTCFLYIUw7x\n",
       "FRkQEZzQJqKRIIwUPQ0SBMcaL2vO0VlgX2Z3xwpZgry9BUnttywnjUnLOUTO+GRfXRlZ6x/l0oxz\n",
       "FTXN7BzEoMjjyNNjca99QwPq+294SnujAk2988a4VY5lBJlqIQT2TNeaX37pHmxJI/Z2NSxGMIho\n",
       "XJVUhWzgJOAgc0XrkZee7Vq3BJolmoPaByzAoQsBJnODD9RNg3WVK6gpHZIpjBVYFem2UZxL48oq\n",
       "zbbdQj+tHX/ox6NK5sXmFnWO1zk+6N2xxj5nBs4ml4+ISs48tGcfjyJ92a48/OLQQV3IRSPxrpfs\n",
       "vQKDc/64QiZ7e+9kS4DzKkeZRseD1W0Sz+IozDoicD47ERBLx024vv/3ABRqhXj5SmXV+gnYyihY\n",
       "5Y8Msf5KVdpAM72NwwuBvN3+eopJYTXJ6UVdnydLC8h1Rp97nZ6I3nHfTmZwc33CLeCUwbh2+UJ/\n",
       "YVLk2KhfRG8Tm64bejqixM5fQw+tCUY98BVooGzwcNDBL6l8Sn7Pjn1YCVOxH4GWtoEjh49NqF+C\n",
       "cZ9QPftA7f8FTHns9+TC8eQ3qJAGDOVc+/wP8gvUS2NxLHvr0vd8gFubhtZv2ns1NWfJ/oRESa9B\n",
       "hmzkwY4ucFzaWHqmaHJqFT8RyQ/y63+VGfSDF+bfZjlMz72vUtizO/vedVbX5TIJyFN+3q7ZQy/s\n",
       "bBqg70IeU2N9Z6wY6+S0vKGfqR/fDPOu5MCSREKkVdjSRoeDQrccFcjnfa2z26sanhEI9K/oyn+S\n",
       "ACfp7rZee69TceMA/WL0eA7YR4orOTHvo1iyEJzLNCrDZVbzVYGEjkT50tMnQoC8Ii/Gx0X1rlpN\n",
       "BvHOKBtTS0jQ1fIgHaHPfVR8l7/sPg6XRfJrtKkgkUq0NPZj39EVQBmiC4PltSuaU8EsapAACzjl\n",
       "ZQ3w05MrQAJRkolYPunPbxBj+V1X9CHq/86Ah5e1T5e6B3zt2cXPUj/sZBPI731+GqE8rNnLzQfd\n",
       "H+AAAAcmQZpCPCGTKYQU//7WjLA44xXbOjX5ZABzm/BmU/RIbmMEx0RXnHrjfzQAzjiq6fZSC27a\n",
       "egj7gSZeudZ1V1HYuZ+N+mcWPMExqX5m0HCruBppT0eneB/aExxr50n8lIgAVL17jG+V/yL6PhZJ\n",
       "88N7vUyNdORiWjlXAGk43eyxiJJNww4ko/B5KjjFcKE03OZJdB2KtS2hfJKzRCPiFuI1233FWUOK\n",
       "RPqCXjngLv3UjyvjkZi2v6WHwVzH/nWRVwgQWo+tnJSptd8IC2vIXTS00ErHmT3HE0HAv6s/VpnW\n",
       "UXUYGYEvsmIWAZxuyETMU5LRCTMmw9mRPs32dH5qOL0N6t1Zhw0P8SYnUo9osOeJQCgRxxAUfARf\n",
       "ntfx8PNUj78HgG5akSy0ChNoZlS1ovNyoKXgXX/uRAA66FKux4+Q9J3GLdLlXW55PNaK7XZyDJD6\n",
       "wWA5HQJY1xHgHIdiIPVDW1NfwPT7X1XIpnvaZPaODuB0pDO4unvkHj50LK/daifVJe4FGO8EKHJw\n",
       "7t75lHtO+Q+bntt8oRjCwaANbhhtg5hWEHVcpgukAHOJmrg6Jt7VDFBU6+B97sn+L2P1dlTztTGA\n",
       "WmkpybUc+Ccb/3ohV8MpYIxlAnOZ3loQElg+zhoGquR4RV1wJRuO2IE/3Aiwbd5jvwHMdy8Hxwbm\n",
       "ZlALDi2XqQtfg9nUwUzFJRcSBZzHK/9Xpg43A4yjKXXxkzaVweY5LwCxLm8SovxfpBz98f2QDWym\n",
       "j0YHVcp6XQbBr9o1bQedvCU1qcppFGny6Bbk79IELXjAZYey+UkcITXFZ4HPHR15XbcgWjAYQ/E8\n",
       "QvspqlzATlemBOS8bi8lrluh13XtbUOGI2EooWudsbSPMdfszxXrSfm5Hajit/FYxF1m4m+C4fjd\n",
       "8qd4R8n4GQn8fiXGLDM2RNUTgYW+vEoXB3e9JjJJIHdQhrFooh/xxjAs+cJdN8NDCJm4OA/WkaTP\n",
       "zlP7lNxfvLvRyEFxkjAlBmAHTvt1A+KgzRqM2nUI1G/inoEOvKLG5Tuc9k4Ad/zKtH0EIk5mAcOC\n",
       "gItPLzUxGvf9cN/3e8kcVkyNI8zbCrBfGN22VL/RouYSGb9pdsEAFd+9BElgNwrmX1jH1pdcdHLn\n",
       "QCP+r0si3yYDiUOI/XyDtyPAqm28DRFl7Fe1qHZCizcYxVFv7d6fZpjLYXj0kEhXQqHr8KXvKa0A\n",
       "1CcQmUBgx2QD1lHQ0qZDIcBMdoSrfcXYU0FOX7JtmbWxYGCHaor3o7HsLBhW4MpJjZ1X3//fK0Pn\n",
       "XJDGw3p12LLj2lvwiNXDwkICi2HONOZdNoj3geyd9cWADC1jL0Xei7h9pYf0QtSL9BW/GBN0h2i4\n",
       "TMvUATq9rFscV6ysOGa/zWfEA7rb41mgMM2Ai71r+e6HP5K1KYQxVUKF0CwNSEujBRn+0MxDRsQ4\n",
       "ur1zHx9FEdRew7WEK9xLoqpeJ3UV+yXPn8pGLQaUOrfy0h4Gj4Z30AdgePDsDbmvevD2Jb/m1xug\n",
       "HU04HADYl/gy4n/gsONVWR2LYIr1nbyG2vIhFKsMTytAUYsGf+GDAOstYF0RJU1V1lsJbxkQCbIG\n",
       "WL3j83LK9Het7V2Cl61+F1QmOrTj0c6jIMZIloajZKNqsukYfluK/epZJ/7HhsplqDMzlFmsbeA9\n",
       "sbGL7AEqR1Gs9aHjdFrm9hIXR0CcOrj9lcD6ZHaouUBTOQF3kRZjwgYauDQIhNSQraU4nKiD9G7k\n",
       "eYz+vaY3f9gIFJOfCv2rOsHWMWqIMY4RqAtrX/Evqfl/NoY3kwoabK9PpBAYpY1UIjzywuDpcwkM\n",
       "RjNXntRNiFoC8pbHjvyWH3siH/sSLAjkJbzFX3VysUib+wMeJuNFhYHe9fx5viAZuLm3bXU5wmGi\n",
       "ltsJGUZYd6lky2adwGxBf5jHzwuzIx9aAbWAo0Blh5EIt4q+NN/hZ3L0jEsN5ivCN6TQnvJIHfcl\n",
       "DKpthvSinUwru4MWEqO3R1ZyqA79ZGftrhLWgm2LTwN4wJju7KrTPDoIJDSASKeFr9TPTRH/zqQN\n",
       "5JpQXv7FbOBBZlbaMLRJbVDhjZpripMXR0oZzeBxa/fL3qDtUPErDd3gAX0F6PBXJBmxCb0R3kwJ\n",
       "SJTnOfiQ9q+G8cEFw6UCMMOmu+kNVq+XpbpS7+IPP8tKnCQUKv+7aQrxLpb38jaWRXQovIToDEaq\n",
       "0TQF6Z5JHfvf+p0QBm4qmHZGa1NZajrETNlt90uTEorrT5buNK1/zPi/8cAxvezMU2huPJXFqcNF\n",
       "M0If9YbNIzNRAqvD/Qh7YVjUM56jk9nl7jIcGUT4A48ylygaT3g9PDWQKsUnoEF9sFePbuAmiNIH\n",
       "alX8UiSKBfvlkiQw1/SrOy7Dv0+m1AYCw1eBuqCZ41GfrFNjafLMNYYw/j9uNwufJv9O7O8r4UnZ\n",
       "7KB2FeQypsuyKt+BAAAIqkGaY0nhDyZTAgp//taMsDbvZcAC+1MicWQ83E812moIHy8/n5cfznaZ\n",
       "2WBzHm58Ue/x+wpB2EWcxo/w6bi5Ni29LHXNjALT+SkKottOsLJrKWvsKPMyBP/GmziOwKxwz4Za\n",
       "7V5QQ8CeFAjjBv7J+egnSR0+dkhJ8yl4MAucGirXYX8r40G993USRg7sahjSmdZ3CmK0FizXj14i\n",
       "3+fwIcXIg1/PiZYbsn39s4dgKoof4xnzNAj6OXqSD5YNut/I7q6LE/gXJkTFqigkizh3rwxb7o1s\n",
       "DuAfHcaNeZL9I4BD98hB/GkLXSF9Jmf/OTGppMHQzeTONe5MT2DbT6na8/ABCAIAjtCKHR3cZAfE\n",
       "SAYSduTjxhzkRa8nOIcsXGtXvbhawrnFbWeQsRR0mEKFkbuuc+DfteJZMRRXgt7csHUc8Jxwjukd\n",
       "Lb1Ww1IRVMq/h9Nd/sgfAJXrLTROIp8OdU8UBApZBkm9rGpntQXGlui9dzI4dKs5D1Fn69Jwienn\n",
       "SoVKMYQuQGwcqmt04EnOzeTs+g6n58JsA0apKkiOf5ZFLwGxcSaOrXvn3GizcJl9RrrAAYxYNYfp\n",
       "5w0IjHIHk/NVqSdgcLb34/ps2v2Hgc3GK8wpHA5GsNfGEuZymuYzOoPmjrcJJb529zwBKEHfPLwL\n",
       "plfgPNkcsquyuHINQFUsAN8TSP8GQqK4YXu+mpDivrBoOT10Kvs6ATTLRUTJ1TILj8b8RS/Csuv6\n",
       "//oV2GnAZyNPnECsnudDB3B6j+IO6w2HdvUpZhlhk0eBUVkETW6ewR5SmM5bXw8pTQXU+YmN/z1B\n",
       "66u0NlcntGPGCg8qHPm9GqYKFudfyzQk5P1/1/Mux+ir1t4homs7mEz3OpcyriVBvh24LUxC+AGc\n",
       "IwEwbFuKshOEhVwbUrY9K6tcONifN96p8s2aSO1NVBxV76/hv8wvhxXiM1fl8QWvP85PURYgYyJ3\n",
       "vdfS2oSfg3u6bbIyu3vHPbnJV6EOkK7ZrGvXgKrCN5TYfy4Y1Km94nqXpxoZkjC7/q6fsB7gdKe/\n",
       "dpqRilpht28aMa7MXbg6iOfLqwLVTWNPqMtYYR4WsbWKPFJMYMVmaS/JUBo36SThtjWYZSLnJXcp\n",
       "0X2zlFhkkhlmnOfbzBvl6ZI1uXkt9eBxUoZ0p9nWatH9UrasZH5b5B5O6ipS3UE5Uc9kJbwvfhdP\n",
       "YLyBPsZGzWfj5NunP/Vuf389L7kDhXuDSEXuDwogj43xg0wLas3ym26U2QmmVrGBI+pR3tZUATpZ\n",
       "+yU3rllv2yTSb+W3nAwpgv2AwLLT7MH6Meda1u+UjzvOGZb9rtPGJ+1tCTsIHhvxwo57EYFasWW6\n",
       "TG4nDQNT3uwNZc6pCk200zlt8SOwXdeNqTVggc3DfQu7KfKRWmcdQP6Ukg/6GAllUYLGQUEbDFh5\n",
       "SzG5gwMhvzP7CT3a7aMQKmplDvHwecjmd68DkjL9vjPEsTh08kKhc+Le+1///2QORIfiQVZ5nPiY\n",
       "UFo6y3/y3ViL+HVzEiKY3zfgx5FzrVsc30OrFk19UE+m4mCrt/UIOpN6JTTmDQ3/PV1tq0HbbYti\n",
       "S9daX8BHqkYwdxvhuFRzrolifr8GcF7wnGiVzZF2P0GwL4qcnt5fpQhT0UhioPWlbkp9Q9U0hiMG\n",
       "cv87z1GrQtkB3EZbsOd7TZA9ZoOJKveh+RWfNc+t8MvcoPeReHC/1seDqiSOf9jy7kDaY5Na8DbY\n",
       "a26qp5lZu7UA2j8XrBQpY76wu4cEhLRjKkx/DvOPOjIOwR2BRXRhrdhJG/xptRLWNGjllLxbl+t+\n",
       "GcUW7B7d9WvWb7R7zBtk9hd5wwIcGhv+jjTge+8hPsuKppI4ShFYLK/tHE2Ew78V/3IjHXa7LkWh\n",
       "+qlwmuiDtdeUTtU/bG80oqebKe9M53RUJ9aHFpuNk1lzN05AZ93ECjLdTac4/MCx60b+YRyH2AJ3\n",
       "+DJTOvg1YTpzpEavLXJsuGnFmBWk+g76VrykM6jWbyiXClqq+iGLrfTDey2WIgrlvNF/WeaH8pwV\n",
       "Mg3kDdiRzp3L++OF3gMmc26F2vu27f16GiISCPUxpjhU7WLf0SUoFmwW6AD2r/kRce3AM3us81FC\n",
       "7uz9ZZT1FhNmM9vHy+FgOQi5h/7UIjnSkk6WtgKUggZuF1C+3on/dI7uQe0y3JtkGgYe8DV3eRm4\n",
       "2lbMOwOj17OETfoU4xsEO9LONyhNAVU1/1CD7DR7N7mkvERB1YBVyFOAUAMcEGH728Piy48BrLSD\n",
       "cNdUFFVk5hF8B4SDE7ynpzoDywBT8GeuvwRPZ4eTYPUMw+1T56eXucJAq6/9PbKJP0SHvzPJYCtX\n",
       "VsmNYCo6qZdpe9vLManQrHY1+hTloCLl7xF2OFtiQFKhq1bbGfpfl713x75vagQpRSbxqNO0595k\n",
       "T+5e2vGP8WDm1gzgTmednAxxHurzL4wsRcrErzZqL7gA3ZaqiBd+zHInHOcZVb5oTdKIhABf6NkW\n",
       "6uYYPoPIQWs1hQaMGlE0wms/qAD+DTwAwkNipemvmmEue3wb3qJkQFVw+LGskpbkZs6FmWDBFxCr\n",
       "XyHKTrmuadU95WUqaBfGd8vmSv6orj9+v8zaP4kmC53nRKJLme4mWcUrVQfH1JeSbtWiRZQpYr1c\n",
       "P8n3XJ/gmCFN8pJXAM1TR+DwKKYRYDqRhda4jwA21+D3HJ+SRV4OPdXOSWNYjvmcWTEL1VdVA+b7\n",
       "ntUGtBhefSyNd9aT+zrp3HY1kRsZHYq/wJRLYcundlcG9PG1Y7HQFHPMzlnerD02D7g6XomB3HwE\n",
       "TpjAVarHx3JRAh7lUtTVj3LAiX4lrTLEOHdq6r14LalRc4IwpocuVpV6VykBFJt9JJSSGVfdUQ1b\n",
       "e+iRHxPJLfncvVWKTqZJmAp6J4ZmcgBdiiUKrig2i+eLu/UEob87/kpBuQYF3E/7RhqDsN8VP9mp\n",
       "WxveV/LJayw6C7QAAAhWQZqHSeEPJlMCCn/+1oywN5oBKACpVMe39uht39dcQMgM2pgZy79NsLIe\n",
       "GyVGQvPxGMXPWzV9ueprv12RirTHUWjihtI+HxgjaZI14IDsMzEBF0fhgeSH/8qeRwUuP77QIDY0\n",
       "NPnFy7422JdMwWTBAw3fZ5ztM5NJcsRNZZrQM0waLFm8dh25jdMI/E96f7kVw39WtFK8z94/uB4R\n",
       "GZpXmUowni5NROx2PLvYBWmlgz7FTrj2TFVLyNZTYL2fSAjepllCteL3IuFAReWAO5F2NFeaGC1D\n",
       "1dSHNlzOKFAS72psWk3m/jP/qsnbbDdfiY/ct0ZUMmUK8G6emOedCkXwIP6a6fSXku+yUkHBaaW6\n",
       "f10UyoIzz3ssS1FaxB8ZPXMfbPyGCiN6CPtURXOLGoPsNvAJoAkXOn1imS/GqozcZZ1I80xggJiX\n",
       "r7AnEY15tOdMnkwkWchcB8+0MHbAU3GTlhTtmvCmG2LB2A/4IFmqnx2QLqF8dC1qWzhgCsAXIx5h\n",
       "M8ML3yo9mABj/xHosOCsE8kKkI/6Mktl1eh3IsRslVG/svFDHPkV8pUA2uiO4SsdqGiZGngu6Og8\n",
       "36wCTwOj3IKy5J6gNUq9KqyhT0rucD5ViLbS5BXvw1mamJaKtdN/PGo7q+708udSILHxudJqOb5a\n",
       "gXEQfIZu067bn7FMRjMC/jD19DpgBYH84z4lVHwuZNcvAMnoSOZzGE0IZ04JEQFSDdICw5lWf3w2\n",
       "+Bo7RiiHooBHhQysXd4vU4f/oVAotPU5IzSBoeIpfLOXin4CL/b+N5GNaVIngINJCeQyw1z2zwRB\n",
       "zKTmT2fEoCnE0ja0QMgRVHgHZMKokgq3eNUDHUaxe+LglHMgN7Xeu9dbPA+Jaqtg9iu+sPMk2Zlh\n",
       "KzUjcl/I+YChv4e3Dx72Te7Gf5Nvn47RrPm0GYvhxcotocmscLtXMVVts/VKGhy+omSluo48kffz\n",
       "eXrhFvahRKPzB0LN1KKvpiSCBKLbOCxC/5U3ORnUtk3tBvNcMomSVq8+80Yu3FiC6ZjuYdqdIlau\n",
       "fWwBHMzeHx15QrFthjFFRUCtUFe2QluQPpvt4KZBju3kPb5gDoKxqqF3yKdkT1k4mZEJHgXCVM0X\n",
       "8pFe3GMFaJSxUO7E91ostyUArcaeGcH0lmAVZa70AylrT2n/z7zGPA5DIPOkdoKJ/7k6VFYbPmpp\n",
       "GKW6lanyfmRupdm5JpWok3Q5psztwQBpZYBgrvz5El3bMCjPwJtXZ2Tb516nI9vQQutQQpRersdU\n",
       "zlK+yWXJIjcTigGcfmYp94HWhlpTp08W1QoRlLrTb2lNM/pOfvT3nIW22f+RZByh1tSbyJmgz10U\n",
       "IyV0wOUAJ6kPiMyyKAbn7EeBjgjIg/GDYiBA6fEz2ssXup0qDByRR56YONNdMDP/oDFJi3po4Y4Z\n",
       "57Z5dOcFsFCNmxFIcr2zG9pxWu1HGlWUvh9gmwVekZu+3ErNb4wBLSTIy+zPeUeuOeeK+Wm8WtbF\n",
       "MqlIov5NZMziP/x/CmASc9IZKFjG6uqjpMDVMEtZ6e4wjmwy9hTAPVdP2RuJ2bKlKhJ5kVVc5Xxi\n",
       "WElJDPl3PQBGa2qXkY8pI0vk7OSAM01TcuGICUAEXGBsBcwlrxXMFoEV8CkPr9wf8grOTFKmXCOp\n",
       "eZHRk7iJ8r/4wBEPMDEPy0c+qziO+kbhY9PxxKZB+y2rp0MXCj94e69+rM30kYO+ZSxvcDBO02+E\n",
       "RCdV+7Mn6K3tGyaF7dPSdEBZMeDvdZ8yg8e1KT1lGisH4bPWjZG/hJ/FGHS3FF10+4LpqSVxLas1\n",
       "Jjz2scGyh1ZokGkQZ5tIdhJFy1/QULvdfIuoS8+yCCEAL2SZv3wDekXNBx97H7PgkajGUM5UMuqg\n",
       "o+eSnbR1RYmcU9t5QWGuBqO3IzjZC18JX+5Z+WLcnD8ZeSQztg9CJlMLioTK6yC6QozvAgaX+q/0\n",
       "WuYZPAJeQUef7FrdZzUWVeDqxZnqa70xwjxyRQ9LFtUD4H/P80SjX4NcUBtwYsf9xJEQl/mvZE4o\n",
       "8qU24A0l18dVkc1sq7FezWvLI+2i9yPtRHuXq2D3sGpCjxVTkNGFGp56UDxnVrb8QwkpsjTeBu1i\n",
       "LlOyjrisp3i9InUxZ7ML/WsPOg/Dw93Qv3YOWJL4UTp079/Sby4Py1Lzc4uVMV54BOvtdAk1Tpxn\n",
       "D2LPVJVLV9CzjoriWyV7wDasCzuMkZBFMD7Nyxk+L0bj9RtrYjo/wxcNjPNrZJnz0LXfflHS41nc\n",
       "Bm+wpXX7mFEEc0zlPk8wrYE4m1vgLjyDbQwhEo3NJBwZuuD/aRXA+IuTtxmPJuqIE5gUAFJXGe11\n",
       "uk6vftlUCcRXzJDZxZMmEXALkTg5+5lmrRAAvPFa+IBcc3encktWxYA+zsQqfWqoOjK+SnF0EvLS\n",
       "dgfEzdEd7C0PkHzx6fnQaTyrhtT9huZMoudGQLuFZ/7Kj2yNVGQ//BtoeMhvubBjxaBjmS1kl+M3\n",
       "4V6hWCWhYIueO6KSnYOkdqUt6gLyR1O2yBPuLsM5jo3FYdePZ7w2vQ1PPRzBxRl3FNPOHD+IJ6mN\n",
       "kzAaHkL2xVymb5EKbmGNTKNSv2QZ80ajtv3nQ4hQ64DYqMOcyK6YtgOJyV0YGdRWQeefTZnwpVvd\n",
       "KN4wIiyp7Yly7bQD6+MTMSbWivm9AZl5W1whFJbg7AJhzujXzqbIcaJTIrji3lM6X5AWLTqsSYLZ\n",
       "g5xd8rmshm23Cfx8++E7VLJzGW6Rjyh/UiZLWnKnMuLRfXRxIagZMpewXtmp7pNwQ5XUGSMKgoqC\n",
       "ybpsTCaHCZMlHgigF3JXgG3I3NamjsKcuzr9XOEws2qnzm6Sp5q5qQAABz9BnqVFETwS/wAdUPvP\n",
       "8fUf4EABCqkxIRCs9Mwr2HKx4O7G/AO2es/asPryiuFcL39gSoRj706+mlAJ80bAoS2UoiD5d6+U\n",
       "k2GU93qY68sDl4mGCmIomjHNKg3EKy6nBKRaeMcPaziH1deLmETt5PZfybKegtKtmsZSBv5dbYPl\n",
       "1LkHXI7zEfx/X+DuHefoE25Ejo4b/977fnZqS4YMKPTvnWuihoTGI3u0dtGYwPpFjPkBtXnlhSLL\n",
       "cK3PSYpP4JGJuffW+PmhaBaOi7AegCmMRkmgKvjUEeIIcgB3xPalUTRRbEsf4/soVbmTPJxBMTG0\n",
       "fpV6k4p8gl6iloQSPxlyMtRCr6wKV9O0hEjb5HS9gMVmoDm980dTHapU72BsVsKaQ1li6HOfV8Bz\n",
       "O3LqlWj6ABl2pKBSxRFRQRq3RT/zVpmnHm8W6Zilw/97vN1QAdekZ7i7xunHGTodqPqWMNUxe/f+\n",
       "QtYquaksnN4FCOdG7YbZeBYwvBVhgwtIjulTmJGvNhuljvseebZJhaLEvQxqOW7TpWgf6dasT7q5\n",
       "/khQnsWir3XsloVhEM3OaaogOVFuFK4O61J6LGyjuz64YQZJ7kx6GAZaLzeA82nC7p/x3f9USGF0\n",
       "srfsTW34GAYjayWgciOZjbF2e2BJTlGKJuCUAUBReV3/xsER5VbWc1Mf1H4zkZPOkdoOzoJmRbR2\n",
       "4mOeGEjQiRhpQfL3HDgHF18VH/r6Dmm4S9MJi7/NoNLnuL+H0jD166qe9eqQIXq/gUVieJ4V8t5c\n",
       "yhsrQcm6wDq97HBS5y+/B9fq379vB7JJ0vfIKH28Xf/whFPo+Wsh1V9FbrA/uJq1YALXT799il8z\n",
       "bFrO7hnq4/qQMZahsO/rl7bEWZuYUU8YIkSjfyB4klV9hI4DB6qc4sDf5cvee5+2+/GN7JLTFxO4\n",
       "XWWJh84rbHR8TDfpV3BgOTVsgSeiIyedGFHjwRnbnPSMjo4flODc8DRDwAjbTv4iI9yzOv+HLrG5\n",
       "3rJZJ9u7n1qoyy7WkfqKTd8wYCozDPeKC4P8Tx6JhihZ+tio38hocbY21ddJBHNMx/mbg7UWHuR3\n",
       "ZPnzMLNnQn1Iydbk/uuiIXn0bvDxj2ELvDW1iF6/Sm+kQ+JGxCu2idg9MNhtIPCmm6q/1qBxaz1H\n",
       "bpjy34n5vEed0UE8MOmae0+VopVuoB9ItrV4ext+qa84pTteGxP0QvFbwedjlhbpMOuatMW0IXNl\n",
       "fn2/WljCFBDi+OyycLOX4NBrM/T8in+6kejObYv77/sZC9L/PSmpF1Q1wJ9PiNLBhzeH6rNykEAX\n",
       "sJ7QT1R8L3Z9DGtarwlH66U75mVjvPVH1uGLVu1zDpq+yq6KNffv8MORoBeQJdPncRzBefSknCRi\n",
       "nLA5PT5KQQT8nNxOY41KGJ7cuRBRB1rPCxzPEyaTgJ1Fb4qudPvA6Ee8queqjQm2QgS7DtmxSBxH\n",
       "PnJHvWjUDuME/eBQiklzVMR4IxH+DZYFP7VGed+jY9ErIvy+SXEDz0Sba99TaaiuCY1BI1GYnAvl\n",
       "0za5vcPWejwhx4IlIdQFprsRvYmmu1jawUSlQPvP4sNkfJO7TuAUjjNtrs/tW/L/ju+TzPrTE2mM\n",
       "z4lcU7n+s8TvuWF9nuDWjpn9ECnFsAnmCPpNr9OvFDHH+vElAJkAEoIHlv/ocegIazLCt5C5jM+e\n",
       "YxvX7OXiqurYJMfh/qbhWMqS6+v9vLi95Rs9TLvsUssryYkv7SOOvVWdjSUXyFF4e/HI6OLKKMPe\n",
       "zxr6MndY/xquGHqLUr/E8ydeloe1ez5hF+zNKrQeuas1bnAs8sNRhwF6z7KJAlYfquOxDY+rDAY0\n",
       "CdKOspfB6guXEeC6N+Sp8kfjZ+PZ9V8Qu2gQiqGP9rCIBYtxHMxfMTh2SYFPddHdTv2chC/3kNYq\n",
       "pdofUzcYOyfv6jgLITGI2TkVN5k04zd7Raw1Ru7wTBqOLo1AI+KR29jh/HHG338u1uSdX+T3e7Lm\n",
       "vLlibf0esI1RbRmpY41vl0Ylm4iuhyUu+cn1tagn1O/5DBfYw/tlyJjXAM/cmnymTTdrdQjmGVya\n",
       "aBQNV708C+rDRhWNYna757IczmmazHY/ooYIWQJdK9FvIh8KJjZwxWVXlguEfC5w8NqoEWjxcZJ+\n",
       "xbwGkX2whEvWwKwG4N/yde28RyeEHPNzCa+01ENS70PoquegKsmXSidM6apP7JYyWCNDSo8uHviq\n",
       "Moyudqii/tqiqxImHwWWs9ZcAWbXJ/hush5z+hyQD4/166tOeC3NLSy36uExPAjcqr1PGVEgzJ5j\n",
       "NTFCLcBadNnCIcr64fBftg4+DfrmFO6mYqoW4QAyeAPvLvVntU0iHbWCyGjFJB57cHZ52U4Es7zR\n",
       "4R4t8GJASpowxB9KsjmXuX73K+Kuhl9f2MDEeRL16I6FRNse5PHsJYcFWYBg6JO5eoeZcxXKceaG\n",
       "89RZqHj7Y1PcudHOBZx9yoiBAAAEoAGexHRBHwMtIKZKGi4AEKfSssV2Vt+pUT4oemjH20UKHY7w\n",
       "2sM+GwbC6wspOL5p5SSVIvrOXvDDR7+C1DeKFMI3Pg1Hz2hCBWtDZK176x8uZqyHpkRwdUpniVz8\n",
       "RGk9Ui40CBrZN5OEFc/aTCu8KO4CVhNuLPwUoyC4cPON+M7UQOrUPYQcXqyHKHPT0Mrdj1g1V9b1\n",
       "CvkzJdh+BCqWi3Fxlr8dz/3W07ZIQkh4MklrR6r3qOh+VNsc+DdQwV9Y71+8GJuliRWj/ezFvi86\n",
       "t+zUiaNTvkCRALlx9i9lkvcYHtp4NrSXGwMp7PDYDpKfnVG4gLS9wRqa7AZJh5VWmkG7siK2ungc\n",
       "NLf8tX3/J4SPXinom4tZANTKC0gb4Zh9yIdGqXpQo4uISKbREAfe9MM+y4LWvrU5ofVfgCBIuJUg\n",
       "wWV6/xEg1cN/Y6BldoR5U385yCRw+uC9H004XQ1sk9oycmxxkDYmJNCLhOcfxNqunz0h1ceN4n8o\n",
       "yde734w3+wcdKg7KpHP2+lK/tgHGpOBfIAmT8/mLtN98g/inBsKjnASbsj5sbp5Jt8krvQIqEOEP\n",
       "1g/zv7g61/onHFPIgDNXCXCkoWiUBdE35g9oGVO2t08RlF43jc/kn1rTGRNhCbQn/PEkPiSKqiGK\n",
       "zFC7ohi6ZuDVze+geWdF8YuYIQrJX0KKbU36r8PbpA0pMaOzgJ13LvabPlxtn1t+Zd+uACFEQ82n\n",
       "HVnxHi6/8C4xcYFrr8EaVm62xZ8RhdZiMvU+e8hH/0BfPnocF4bARvQYaj/iyDHqqRjML8zAC4EE\n",
       "sluPcqfs2K0f6n6WzASaPWWDDaAip+iRkVIJqG+m72uR3mNEexr7CZFIo+zr/t8Cn7Bb12AOw6Dn\n",
       "qCkUCw2MB3buAZ/R9v9+EsJDwrELmFzeX8jP6e8y7xT+fsmxwnsTOeDpBEAA9u0/y27bCuWhfN+w\n",
       "7RAJpWW8Y63sSAIjU2zY39h/b8r4rWqtIBQnkzzLuIxfYRZEtodQWlrGST/qhlixjaxlLJWsjcWr\n",
       "4hRlpYMXV//kKsgzEeV+OSTRsRpYA1MrLPdBcGAT+W1GWhvantC5sg2A5f4g3vxKdgnEXxHCrsGD\n",
       "YDxoKXfzA/my3QTQLKRVo5IvYCfwzMqUiFZeovdc5O/KVVMPZ/FxGF/rBNRO+9QkvoX8qJv1QAbi\n",
       "hfK84W+njCEd8zAJHgBbVFvNHOX0J2kriars/R00iAesKh8FVZdWuU0wYaU9IiI7AVDvXvdnsapN\n",
       "m+4lDCB2HVy4J9K5nejf2cRvuwtxnGcBYQ/TXDRS9Q/1tgyOJNBCfesLh16JZat8pD/jxK1hmxsD\n",
       "OIJ7BIh9KWMVsT2SaTjT2LSJaTQxnLyl84M+2UMKNO/fGc7uL4R3FOylGZ6ZFwWl8xjWiWg40evU\n",
       "/5bbVg5krmqT08WI+FiVvR5sNARwuSJ3wLzyVecbZSOxZuus7zf724fil3pKzDw/9UPx3h05nfeS\n",
       "+L1znnAzW9nb+MWHE13YkMS+dwkLY8iY3o5mgcOHRs+DmSuMjB3whrj9bvKIMgZCacuYd43cxruV\n",
       "JicRV94cThNRAAAFHgGexmpBHwMqnVsdpSYAIg+lZEe7GKdj406Jv7Pty+FDt3IIc9ThCXS9YWYW\n",
       "hGTIiG/k1AjuiZ1Rg6qB8WATUGp79K63LPbqpWOBL2ZWQ8QJZIytB20XQ+DOKjPkBOATUei8plme\n",
       "8alQ9p55y4GHTpILolWMJ+QWanEINovvSh3v11eO/JP0O4ns8nluBU3kQwFlkhJH6aB9SspkXIFZ\n",
       "M5NdJvavHPLwGOIM5SB9FF+xg+klISCv3EXY3N1qY+Qk1HD5DlbM0CDFPDTWinc5sxvrCbIw4D95\n",
       "YMu81ap9Qpi37+oiGfSqFWNH5cASwyMsE9OLxvnX7TmnUEqoUCWKCE7/17obCVrDJMmsYVkObegE\n",
       "I1UKH7y84WLBpMn/yEIfJ7K3TcAFUa6z6/6yzb/bd6Y17Ljui0ahjzFEIsVUr6Xj44A4N1HmWo3M\n",
       "docHz7Ff1ewzKjR48O2x52LEUQKULslIzYAqcoUGF1Ct9gqSKUlAAP4+373kqjQ6fLj5K8jEZjMa\n",
       "0Wurr/ogt8fjDsNmvPrw4mO28ue9u3CLzNMgkEDnqvkYRYuyBqGKnVQ8Qq/M/dYWe6tP01CLiqFr\n",
       "VOJIz1qGLASyu9RyMFp4Lx9C4Qc6FvLYUwzMKVEtdoZMla6JL4MkM9sw4pCZGfoH5Sw5Sf7mVcsl\n",
       "I3iiYWZ2i9ATalx3cYyWWrigujxjpIUtlHUxvTnayAarhyCj2A6v7JlgA1kpn4mT6jPTUbEZlL8G\n",
       "TmZo0xazLMRSp0a+RzFX5m6uFIQHFgLkVFPazoS192OEQ+gOqzolLkWfq9wwqzwTr39O2EeRCErY\n",
       "7gTGASC7wEH6McZ1DqQgxQ8oR5joQXynQORp64g06Vn6k1obxh/NN5Z9FA0NDKSRGxXfoLWxhGpQ\n",
       "d0nXDn+ajrKQUfuffd8HeAXeVa9Ty+G4oEmdGgqLuo4mxkSg3dSd+MlWqhK2E997y/jmw/mpFLVE\n",
       "u73afAKZrGiOd67Z4qOCTyGjgOdjPA4xdXd3KN+joTx16YVaKye5Rw+nK+4pqCYKc121m/pdZ8zq\n",
       "JPXt4hznvvoSzh1rX2HtoBhDToWtw+GMkIrTuOzrPcueFVEGWwGYsflq5/rkz0ODSJXVRFDHCHAX\n",
       "kTnQO059QapivnU/3KsJTT1vXsMmUlztPHw+FAemk2PU0Ty5Az2lcsiGvnckAhEU/dCN5EVBLWqv\n",
       "G9i4e/jbLqtrdqVNrjaeyog06emH65Q2Kfj6R7KnTn7wLHDDYjTjlnSGQ0/Xs7iTVWn9KHKskAd+\n",
       "tWPnOsRmGYp954Eh+lbyBaOtY5wtlxv1ESIZCUU1M6tN4bHNz1kZnA/R9nnZQJPd++/8IwFmOam2\n",
       "gzEKntgwrb5W5mcyz/1Jxvujvrsy1J72so2AXTavrYf6nB4OwuqyXTXzr9LCqDwdNGVe02oK/xV4\n",
       "gZcUHVTPOTGMlhxHIqTj07XfkN7KoJABg5tSK03i5sqd3MERMgQ/k2f6M4wZnsNOsTPAV3m01LRP\n",
       "iwMdpcAbhD0N+1McyJQGwJc79rjPzwjmW8UKM5MMKZ/9hsFdVo5zfvr9w0+ty3cK2U3beAoeeXnF\n",
       "1h7N9XVnPZI0YF8Vy7QgH04u8MkVdwCADjC7i0cAmMoxEzaYAlZyjsC+pTmx//m92FyYydjAmcMl\n",
       "LS9PMMTFwubdnFW/97rvS8+af51GH70MfQL5U45DM1KbZa7MWsa5UzvsXeHEM/0pQMDABI1Eqdl9\n",
       "n8Z76uEgtuBZXKcRAAAIL0GayUmoQWiZTBTwT//+tSqAw5ca/YdrayIgA5zd+05NE6+YcndL/6kH\n",
       "AZGEU6QmL/2mU+NU9tsXjiWD3e2j+IGMitkonxJHUihJnK0QypZyka+q78Djnx1w1JHVWsscG9W0\n",
       "GM+3SuQ8uuFr2TqCA5bJOMo6VtwclFqHV761FCRNRj3LJ+2IrlBChGDZ9xtQp0Y8pg6q9aXsMLEN\n",
       "b+bYq6De+O+WDQVZQvKWKyTP/IrAApd9rv+HEel9PRRT9tcHPQTyXvHVMsmuigwWrdd6+JUhIHfX\n",
       "M/rgIyC37FawXOFH0h6lNtKTAi0ZpBEP8X+8wnfgsUpEwocNCQCRhlHvlPsCPB/6ZhV+pdlPaiab\n",
       "SvHfxOBouW/9NrzFdrKN6dVsfxI+qmJgl6pqajhgERNCEdwaXVJgl+aaUeWCYrv9D4K9NwQFPeAt\n",
       "te5iBQkyZjabfqENScwQlsllTS04aeYeqtHdH4Ba62qmEeQbT49FI/3dQnFfLL1VGSI6vw0uOGAX\n",
       "B57dHUGR6h7STqkSa3u9JXmqUQCznE6vt6o/V8zUazUVjr2bZNlinJ0QmoFroojn0ROIxE7bFRoh\n",
       "qqU32WaQBnfw9r/Uwjm16IBy1lcmWKQosuDhdznJ1ucdXBT+5pKn//aFqg7VOw2GB1mBr0ytoHKS\n",
       "WATGswXf34cHmDhn63X29J5JKTaOOfPqQdk5EIupSRjTUqZM1poNd9V3HWazSVMqL/gvZ0ZdXoDo\n",
       "4H//SHHM9j+XW7wKSOSdj8Z9Nq1FD8eTTlJuinUq2cZc/JflP302SQAXUd/bM7MvYPYCz9DANPSh\n",
       "0JUQNv0xm3IzZ4CdUdA3/3oKVM32XYlXxmiuM6RPb/JmF0Lm5GfF7MKxqQuXt8FoXTWmWbh3k8TY\n",
       "xbF7wVciOrfSSJ4v3T/r7Cw8cDm3sA3Kb9heya5yQLACKXefxm/CI9XHoEHPzprHGjflFQRQbLqt\n",
       "yKyJ96LK6tE0IDjIonHWuFqiZ56qxFtqXGK8u1pi1pgWUuxo/JvxiChCnlkt++cotZ+UTSTRXslB\n",
       "TbK35s60A7o8yV2LROJfFdCCbb+gMEcVtueEsC+saQ/nVzZI/Axz2CU05kF0CGIhuuYe9TlRbb2K\n",
       "FXx+AyYWXyLGkDZscqHG0wSY1Tluauk0ZjDu7h2SF8PxfWPxzbcvtX8RXzxFr8CsCml4x4Caf5/2\n",
       "tDBsVZJ3k1A5g+DH6tp4jFgfNh9WkMvivlJcB0Gul8Azc5MennswjjiGkW6ACD5UisFVCggXeTIB\n",
       "OqBW05r8ztnUjmbLhTwXN7tvR2vdJOqdeFs0g1HUqOlHWkutol3VliTEjW98GiL22VNXEV7doaA4\n",
       "2b9Z2b4naQi1IWPY6pzH7VcFtjHpa3W+5MuE97Ry/5of5+oJI7RfExAYybUpsvv3eZ43wtlYuSoG\n",
       "PbQU1iZlTgfpwWRMn1p0FQf7TqsIclcmOQtekrMkZTCqM+8B58soxLCog4bqMVnQ//B/bNLo/3h6\n",
       "T8TRmhXYhH6aktyro4vzaHRZg/dEJ5R37tzu10MJapUScsuIkoeK2KBI4bWx7RyZzCEUEERtV29Z\n",
       "QWA0hhKlAyN79EEqqoDRITjD70A8G1uub8SHp2UCfabEB/+FcENweXS+Qg/5LtgaXB0xemsaiS6D\n",
       "0B+q2HYcosTDKLbQ0wuSiSrwX1UIdq3hs1ZRD/QjAeokSB1r+jlKkJL6FKpveMfjtdUGjwGA8trI\n",
       "vMIxANjRCEFJ0jj1ag+joNbf4ateNbsc7V/yEZ9ywXlLbMJijnNdRHU7kRfNAg2uTB4zfUYO981T\n",
       "Cf4kY9oXDO7FVbgvP3zFbkF4gMgC2vjGQmB+iHYBb7YCxajC1pY5aVoDDqNWpwQpBWVHYKIlj672\n",
       "rQBQ8/HDuY7Ff3TXN7AtZ4CWu4ewx7jL7+3D+VRmGFLDWjWpw8cLxzY2A3niPsn3SGhfpbx7KzEW\n",
       "oA6goIRLdRwjLQqyEGac0Ehcq6gt810a1AituDN2YfV9jMa+0G++p/M8QGiDGS8gtWD+jNbk6CN/\n",
       "+TGm/NYM03yieCiXiD/zAtfw/bQqf+5WNTEDu56//5Yee7rsExJZpvM3dMavTCzrxm1j9csthV3P\n",
       "1Tot4wr/fAT9w1d5dZD2iklEtoQNUOx36XHeM6nRzQ/jm1H+DshCd1z+LepcWl62fQWRqr9oYv8t\n",
       "LY//C0ATCCPsh+g9fESFMpYRCy6vSGIV92kCUhB/N9SyLAR3KVJgNr57fcgcTVFcc/l8tytKyGss\n",
       "25Ahane+qQIPrARIIlRNXpaIb64IMTdN0k8By2BT4/1vRciei87oxuEqA11RFRFtMz40XoDxL8W8\n",
       "PjxU8o5NN1EYZ2/XWCDnP0sNwGvEe4ws47zhQFtNQ02vUe+LUzunHJjKxfmYwVGY7cSM95D0G1UP\n",
       "Y/nAT6X8DVDfWlV4HWGy3ai//6gdNxfVw+J0GJUvz+WblzM+65oNRj+Or8dYf/AzqiwXvKqjQ0MH\n",
       "79D23UVwj2coqG6FYw6YiUyRLa9exnPhRaUfoB5DUrcFSwqqxs/875ojNbmvMC1TQI6AWrja6LIH\n",
       "tnGyuX0KhlR+B9nd2iOPx/MRZEx6pma++7H6rJnshZPRPxNLJyS+x2zSIhnbOGjKHV3O8fuXVfb0\n",
       "GjSFE3OWzBZCy5sJy8TzuBpC4kcpU071hVrxqbTN/7sbx2IGuICQyUFYlFEgnsGujLSulUtz6SKE\n",
       "JBmyBNMhlQJtPWZSK8auWSkZRtKV8J0KIhPM4KadP8EYdJB0Hzsw19t1WzssIfEcmHtJkPZ0MckE\n",
       "ZLYAAAVjAZ7oakEfACeZeLACIPpWWARRzS74CMHh6BxPBAVDGC0QrfB5z00LobsQ5GGRdK/HtVe2\n",
       "n7iDArsx/TYKpTxfwH/i9qZXCADVoI9NWaenYrGVnZlo2c5LQqomdeqh2k3QerJQryHqFqPXlfcV\n",
       "jxMlWG/7NIJVIOBnntTZXqUbFXAZEc7MUx9ZTgIDugCGnXEsxB80S4go70PyDzwBHEPKqLhYm6nt\n",
       "EgBvEGjl9AcBU0WQAkzMlcQnHGV6XZWgkZXcYO9Yz/6Cy03cy6hCXuffa2OlQdBSQPAEyPcflUYF\n",
       "gq7RGzY3Q7t5uMHO5EBPawr3maNPECIjj+XJmX9sqWhRLKcmzUlaujJ/qbMzUu05+d5J4MttJz84\n",
       "TPxE9LM0yWh7IwAqEDLto4TWrvxZApmoMzbT5V+vGwSGcH1aopUgrCQeboLuh3qLD3asD2JBlb3C\n",
       "GR9aFPUvH5vY6tztS8NwfmpNAmBb+32yYtzDTf33LYxgRpj+LGe3iP0EZihxC98QNUXZEdSmCU/t\n",
       "pyvbucyD2s/JOKYnAlkn7QU/F0VjLQhRMx9gg7llWkTLCbEZtinMnerJBBamDkDONavZZt8EvIkM\n",
       "zGr5+GW4Xbc8jXzxBs+OFKf4Bc2ErPgyTgyoK7I2oiNSx0igN1j/Q1mXAArHrujrYhvY3Bv2nzaT\n",
       "+fewQ+3MrneKwCw5xdrfmGCCphXS+QaOd/hb0S6eNRCvqol94dK0+P99z3Ri+BzaMV2UFY9xhwcJ\n",
       "fgeXLzBop9ANMp8+f+bBnSVl7dAiwUsqW2C4lv5JOS+SafriEVKxQk2VWLeQ2VjqRCmz/eH9sxH2\n",
       "4OQe67ZX7f72jwRZsz2PQKCFLuEUh+oky8Z8W5/tFi00hdfRX9x4CUDbCafWorCF5O5tE0EF1Sfq\n",
       "dnZ1DI1hMGrnCZVqy3JxwP1WqUSCOKVH7ToRnX3Jn53rnBlZ6NvP4NBg1hG/hR7Qnhh7puswuf89\n",
       "axqOH5DPZT4/rnYXFAIrLdvCLB1pq9kr7sgQowhFGDyMPmu39K8UiFU4mGvZnR8k9S2XCYYc9LoN\n",
       "2QKqyMjkwmllm25PoHHTazvVNKWdsmcVgqOkswFzr7ZVDZYFH/9ZptAsQBIO8bKk/lflciIL6Mea\n",
       "4vpPn/I26/iQxOwqP+h0J+mzq1kLrZhff4jSA4YXXmkJwLG4Ji4vxnnSGuOmrvE3fVJ5v7maMzG6\n",
       "zM92ujqDhyXMcIb6Ec1PnnvvqW1bvz+tAd3tgYZz3G0SfpW5gwpqGYSJKoc3CDs4uD3UVtcl5So/\n",
       "MWvBHeF5+FCrAXaj/Yy5UIm/IBJHWX8Eih6qxtWOd/ZiKROLBOVjYMCTZDbHWbzu83Zq26Ge57Ad\n",
       "L9WOKwPpGX/rnPz7F0ZK89qw6qomQEASxyGPILXpXccs+RowKyLUu6qgjoUY82fYGZ4b8P/33ryH\n",
       "nOxqpJpU1oWXgeOaKSGemh5STfD7GlUqVyCBbuMOEejJHdJamYVuYZVermeyd2Z/gM+9XOxVWPWr\n",
       "3tBaKr9Zj943qW7+bc/RotpWFQe17ptutBQ7aRvuoVp9eRsCe6wmezSKF3WGv8ERgvB9Yt/8yhzw\n",
       "ELXSJa4N9nGqphJXhTh3VFNvH2pDswkc528qQ2/fAAkt+cCURgVUIoM2IK1V6vF4QQg/F89+SwDU\n",
       "eS8tvHezy/kw78X+A73zTIBrB2uCGPp9MS8hWN5bZ/wQVHukqRWNODvbyPOM8pv1U7RzZ7ft9nLx\n",
       "ZhAnotnKxZEjk1nBQ/0xLZOsTEIqpHogCevsFWGy+Ux9AtYVUNV2ffZXD3h5fqPBJVF15A/1jyrH\n",
       "i4+Az08ORzHtUkb+pjY6MmAAAAdAQZrqSeEKUmUwIJ///rUqgLvx1rKYVABEKlnIYNJ77DQwjp52\n",
       "q0xgtbsfmEp5oZ86qJC6o3w5K1EusiiuJiphd3feZssVnFxpSsoV0ijEKnA4IBHMvX/xRPEEVTKB\n",
       "Hz/U6YcaCPsI068TamyGgmoWVsLMp1ljPwoxPpYqmQw49PUnbql0Q7mAMcK8hRnNwCG2Q7INSdp8\n",
       "Rr/ZFrLu0/RJWps64g35WtUfVL263bC0xdfePUJJxODWKFRs8RcrrtukkIaeB8IhEeJmIwZc3YQk\n",
       "yEcwfbNHM0kR8LVJcj/D/Gbqoyn5VfhwxzUoMwIHDIyhQlGrTWqy9y9dQkTBNhuBd8bkEbqFaoKx\n",
       "HYEfj98kvqcQep21lTaj3FqlPYSiKUaGLlj5zKThf2DwaCIohOjSvS4GL+XuWaLlePhVHO96sI4T\n",
       "j8kIy900D8my9cvz2L5/FB5s4s7I3r2WfUEL4nn56uRD3KP4JVevh8zsXsyakMXYkSGibg4HoNSK\n",
       "n6MHemPTSpM96cpABFPK1zRX868TzUVQBAR9uo99/lkowrBLxv6jtxCAPHV/NzzqUptIqRsFxz08\n",
       "xO8+MHFuLETKIBcGFhRKDfeZA1vCTDYiAWmOzgWjXfFUdpnRGJX0avea0jQdSJ9cB5QPuUP/9Cs1\n",
       "W4KrfPo5DfK5/ErR9pTmZU3vNuhlS8yTN+VHRf7gdTDigi5flD7wgBu8wnR4T8qsyXDN9C6OAtbb\n",
       "IGwZHx4Su3PIEHDMrh4KYtqDBwfT+najYcgzsGKxUay7KzHd20/ei4lZwRlhNECiE7kz6twq+Tgf\n",
       "IV3zE+vnOl1HNP6FR+8yNC5i5B5GKo1J5oPVup7p72AiSphRXfVnjt53/Dxci6ImTwzmYi5eZqHh\n",
       "nZ/kqcK7tyEXuXXa12N4JPeBPl6JYvFL6L6iCKMeNCRtbEiOAQu+OdMh0/6Ifg4AIzRumQ5pRogK\n",
       "YNUDLKqf/djM0rwG2uGiS4cWZtAqO884dhE8aFcSQ5EDa4PdLuqLZxVaX8Jh/2MUtou4tzQSAlZm\n",
       "132zWHNVYt4UZ+8peW5DxuEzShPQAVFpDFCgJq6l7tc3eo9J3pyj3O1Wqha10M42k60nwwfK29JK\n",
       "lqFJsMVQGelKr3RvCBApZOg7LuO1Yj+56M35Di+v+4nu8pwDCl3RcbI1Ymzcj7ttjcdFQpdjzNmY\n",
       "/JZsSaBRXt+dulPe/KXet8zZOdA1Wf+1NrJhMYn52VzzaFc0WQOOa4IanTeRm2Bo/VyUb/0tlT8X\n",
       "611nEm9hUboHqnbjk000EmU30hiZJUnC6VR5vloK2sipcgWvxTlFxs1J7a9H8vzcpisuJyvAeNLd\n",
       "qCe72Rf414ZUsJja7UmMVVg4bc27S1BcbmP61VNCG90c+OskosUH2+RuPtfvZcVaXY0hEJ6RWvmD\n",
       "e3sTAo4OLSAzNDjlyrRfwVCuaGhDDjg329mcNbAkGWPraGSFnrtXRBT05BAIiD3JQQiJI8KBD+oJ\n",
       "TZRReyYzCvygTTau20LXV9ngEqDL8JXYtzGdKAtlkDsWyL1at9iq2osEawE3zEwG3ScIEKg0t00Y\n",
       "+kTvf0jin1GofpNJ/GdswRMqsqeSAzRNqPj16jxFhp/WCoxPO3NfCMjk/TSvK2YqTJi10QGWXbs5\n",
       "N/JYW/Q3bPQ3sNyoZGdxCgA8P6sjpvHlifDjRdTyRp5K0y2wZ9XBKG8IhzAlZ0kqpRYb2Sd1fluG\n",
       "KNcQ28zC8mMuoVKk7bJuD9K5iScUsMGjO8ipt5WcE3t3xfnMWplTfm7ckHuKbrqh8ZkaQzSW3xgN\n",
       "cjqD/tLjVjVJAupmL+OKGY0aARLTmdGj9pGPOV3xRU7O5yx+VjAzEPIwxK3zbI0TxfAur+vdg0Xs\n",
       "sIc3LEkKcp+7hVK4ePZiH56r3ymOFm7pzdf/23CsSvmrYt+JuAFbSpvOfk0bB9LCDr7WO+tT/Cc3\n",
       "z/lPnS8wc69AwSj7w0yKoNHDNksmczioXwY2u7UKZRn4Og0w02iXnyV0aRWx1EC3QrjjMj7GSS18\n",
       "+swFenJAKCZfVKEB+NfewdB/kVzpRz7oBflPKgeuZY/55uDEUa8CUtbKsI8uuW0ETijvrNUeJ683\n",
       "4L9IfLuXj4fwV2CZJnAR7jdDx4QrAhgpbKKM4loyqS/sFaoCh3UylWSH9lni60cnShyL3BQrNlY5\n",
       "isr4tmiDyVXaq72CS8iS9eKMcq5L4UecSzMwJapWlsbl5BzgFIwtlpq4CTa+42v4b2/DMf325kl+\n",
       "Hk4Zu8gZIcw0Lqa8zihz1qpULBHqeeGd8Tft/EIBA0kfLdEOqVR6IKDnqHBPatABZk/zcedn30Ss\n",
       "cmQHi2EtWac/JLHbWUGwTTv+gk3rRfyc3u2sudk6RbxBxFq0QV0te50pF8ImR6RfydfeKhmCKv+f\n",
       "BLmVFWYjaukziBFJc1PTtLcVd0WZP89t7XhN+PWU0M7QvzIuDja99MEeUxYZVo0MbST24pcAAAZn\n",
       "QZsLSeEOiZTAgp/+1oywNu6IgAMvUyJweRv+9OdfPB8ZvH/awgUu8sxSAOLlPc8UAvx/D0zbGkgJ\n",
       "Nrx7Ig/65GvICm0/YyJrTCswZnjJInt79za1Jq7y/ztx9yy7jkLtIwYb2Bk/tFO0J2LCJaNAS2S9\n",
       "ccb3f9oZ30BBuVRcsAUe22V8GPEwynPNHgCwXPkDgfEavbK6S3TViJaGzJWhdVp6NTH2Ep1VdZzA\n",
       "pA/LkwBtXHGAbqKaLqbege0LuZuyw5v48LFJBzI9eoB30nBvc/VQ96W3KRLr4w7980D5YzZ3Vk6Q\n",
       "7prMLgScCl3iNgk8S8WS6fhqxI8PSJdD2MAMJaJ0By7+TPYoTQsfySpjTSAYq22PY1Aau2FCtSpK\n",
       "TRV11HpITBlEmR8kTNtu96wIqffZ8sI5UA3vEoEln5CngSZS211JeOM2AElTRV4sSZDdFci1DOUA\n",
       "sshYqshTO7OFlTvaZODwQkeqotbWg4cFrKjd8IrOc6O3PsqFTf/oSye/657mL3fZ2SwouUgxRV/X\n",
       "itraZUUXc3nanEu2LkVYVbs47h/DmossupqWbJP3NNoDIIoWnZLBvhXRT1ROrh/Svxg0JWNFbBw/\n",
       "T2HxlUUiRtp5cDt0t2gRGquznb1uOgEnEAiU6jXeAf5lGwuC9ziKhCpToNdyQortY3oX+D9/D5gk\n",
       "SsNDUXrC/kV+h4Z1j2XyDnwmrkCtZ19pNNEemqYZToOzrUWDcy/IZ+MRz4D3pjiJnn9ssiglzQsj\n",
       "IJDtIPLgtfy47BVBlhU9u8QWpI5AyFg0k0PJFPhHdi8/7KTLQm1emCFS+RuZraRUgTjSs7gJi2pa\n",
       "XUlN+uw3MYRtMlUXA/s0lr1sOK9fNDC9LzYzRDXRKfkXC67d135GDuK9V55xUDfPJeC0aBRbI2WQ\n",
       "LctrwCjas0bBEIugM/oUjt937omgnsbu8AMXMjqxj9XIRlCktj6sm05Qwk5iQXb/sPIrVu3L0bJP\n",
       "XJwq7+Dt7YG2D1BrPhafJgZxKAYeoMg1jM25nad4DH33DjMLITmHcMZY1TsQ01wagfvHIldXniKG\n",
       "V8h/ny5xIVrpMlw9TRAwDIDnrKngiOIVgWTyP0uJSgW/5Cz51XKmyQR+C2sS807mvjCfTNJizPcu\n",
       "37NY4x0/hxXVnUdRSr9R2tYN8UlIlyhh7pN0pbvKS1Ey5adP2IG3//vjvpLQuhGCvOQHbwf7BEcY\n",
       "hLE5Yx5eBYNNog2G40UGiw1mhHJ+DfIWLsZ8Cf7STM1K8DSI7Xir7aue8aQaU5uhUDdTFlaKXUEb\n",
       "0NDhymr5xQhFDgksaar7ZKNh+XeGjlVT9e7OPNgIdhNqlz/XxbOTVGioCnMkK3JlUI2U3T0fCWzm\n",
       "gYgleIrYEAEdSr5rEabzVB1qRy7Q3BkLAqOj8T8YU96sqyxEqTXHQ67S7f5QzLOjCI95Nd06qzRE\n",
       "u4EwAO5SaWIXuCY7bAFOWA1IvH8hXFthXDxDGOTAxj6XhFJqvFwcoT71AKyeOwFhVHixctqtqHRg\n",
       "SNYCtywVm2+0k95EBwJQAl6cuFv7O95BHGqBAHh9avZk+YWyhZZjq9cUTAD/GW493uyfvBu+s8Sh\n",
       "vP9SB6e/9O0+WxdK1bmuoZw/IBneuukw4RoPfWqJb9cSfHolTWFtepckI9Hi9b4YoxUP6uMjmVxT\n",
       "1cWp4AEFK3zvG4zRPlu2iqSnsuigzvmuGeOeZ6HjuTYfsrpeNNsy6TE1Gz5/2mUvHmf9YWuipJf1\n",
       "EHcCKBk5lI+vc17YfqldFmQbQaIboXa8oPuPMRBbzQa8Bl5KKuQuxMYJeltuvFGbZ4h1GvLyNUEK\n",
       "VfZiLdWFAkpWKD/pWizF3UGTBzUeho12+xK9d0SEU8G6JMAZ6jDuotia4s/PTZBv/zLtcAauiRlX\n",
       "JlaU1ADsjON1s3fhT0eAapwCscB2Fzr62qgRzZrjEHRHigWTQ5jfsMcPPiH/LpOiqHxeYp2cA4Ou\n",
       "MOBZLGivMqTC3x6Rz+/lG6PsWBvN+1KeMlyE/0Rr1MwpWKRWSJbV34mbw6YsjsqdJVu8vyeaHQOt\n",
       "v7RTrWmQhQosljpStSy7OusM3EE4X3Hs0TxeajUzTEyS2G4AUgk5lwqPyYC/vy5DFGw1VhcdkwIO\n",
       "Ul0EzshCsolB203J0B2smMKJx8Svym2eBqMyWZN8c6DWhEYX+HGiUXuIvAAACI5BmyxJ4Q8mUwIK\n",
       "f/7WjLA3nukoAL4+/JmC4s1shHq7oamFb3JpavFjZ9dZWgcmR4TERjsZrGYznJ9LsKX4GefgG9bg\n",
       "ajHxVmvIrkkRQnvpWwrTsn6W81Lh/xncMdzWsIciAkqlgi10sKvG7MmdIvldgaNbn5x9bVby/jYL\n",
       "zgWWjc1Gw2RAhfKZrkOppRhfdrGBdTE+EHU0jwBpg/DSFwyWrKKpvT9qsOU7CqtlKJRUwKUDwq2c\n",
       "0ocp8v8HL88zGZ+LtYGv35G41daNrDHNhgKhP7WIwNgIDa3YjFliLGSMUYKGqEF6G8SnFXxaglCN\n",
       "mYAuA51044p815ZC6x6NXMn63CNXim37XUtplRfzlqYrVFPVPvUIGP7h63gIshgxQrPDOW+WDzT7\n",
       "94hgxViFucIvPLPyyuSTwM7RsGw1ejVGeSCnxzou43xhWvzJ1/fiuC9u+UVXQrdqLXrv36B5jXBj\n",
       "lu+X72F3Mcf7FY4uFAIA1ddWOaWxkcUp9WHuVotbZDUZLlLR6oGANyH8Vx8pbKxl6XGd9wF350RJ\n",
       "lI0JDBLsQW6mTKAm2DtLJRnlYJuYLf7KHJGFtuXYBSlCUsFUVMORqZKUuroMKlM0jnnt9SP8saAf\n",
       "moy0HU64OVLICOrtxu6CIV5p58W063OTI4I7B11x9mJ45DtVVBJJcs516xeWTJo/g05DTL5ZqYNh\n",
       "Bp7GEA9xTUaSX5yQVrEIAsxmn6ayyVLip2okh3kAyN2L5VHkbTspBS5ehlUZAk0nBWEDaUBM0m51\n",
       "6DdvU9pZoEZ6OvYVuFNzg3bcGbw/YvQ3F4nD/9CssR0n0llFe7zqVEA0eJkKutxcsVwo/IHalL4G\n",
       "Wvca+A/QxnY8Nbe5z+SFU7KNnm5YjnGQCJpv3OauLgUVjA3WGjeJy20peBl0CLg4kR3h4mM9VK7b\n",
       "4+pLtDDkld2pHSxAj9z5VaSwHYvW27o1p1FdAG49uW98SkVhEzDEYqlpGzhB12TjTnYEbM3iOlvE\n",
       "1t077YNlyXwG9Xy5FUfctVwbUZ2D5K5T5km8t4gn1mlhozetEDfw4yKiv+0RLjnAiEpd4Zil+sQb\n",
       "/0v4clWhTDcT6Y9RkNRAW0Vb8pM6MeU6n/vOnqXnvHjVt4Yl4awrHPh8ynAuCNwYmx6ZU77jh2E2\n",
       "LMXvDLfDkfktPrsfBvSQYEioFP12vNBsfWcrcYjaNrZXWlHZfMeES6S2feq0/sWEm8FDHpDRUAPz\n",
       "WdRrHY+A/LFGZNXn7W2Wzu8u0gtAdwoCcfI/BrsxC3ruEuXNNcmvruVrkMP4k8FGzXeTqWdluaTh\n",
       "8+41tRLDzEF79bMfqAT2VNRPhmcvUf3DSg8EwQHpBP9XsbiBxtkarqcVGN2imaiJY5v11PVDqRiy\n",
       "HorrV5KdegH3td0A/77o29q1rRu3ZsOPc58W9gfS+9kf1C6n+KO2PVwriW7QCqd6j0Ey5usQPeJv\n",
       "88+z0XzcSDsvx9E6PRHetX0jgzSI3LKXUlNoFFzkZ8hoB8SQvCaCaUs1OlUqHTekoDK3riV6CrNe\n",
       "YQFuc8ECKvkwamX2LVP1bKwgqloepac20IgY14ST4w88ySyd0VRRDeBNOUl09LoaGX++ZA+PKhZ9\n",
       "kPeZlCXk+ss31Ahgn/oBdvoHvt7ZWUR9RYrncUQogtdq5IswlDTKFpL8ZvVuxPNLo7BC72CNfzhz\n",
       "Qm6x7uWWhoEQC2HKryBwcJV8V2rSIfiaHToJYoArijgUSGhxHOb0vXkTXehsrBu4g4/cxvuDz7qM\n",
       "CWbFnDRhuwgMX5HceLVjRQfiAL8JXMlB8DMgwOMW115g/L+/Ami9HCGXVexAyHdprKpY0RMV2iFD\n",
       "t/JhWP0f0XZDO5qa6UdhsrUUl1DcY8mH/8yoXtM6mrIzLlRzHiZyXWaPjjGTt7dSFHH8RqaoElJA\n",
       "hzi6+pMgFmILkB/Ilpmg8uV/N/0ZPM0F3sMh3jRWAhXl+lvLJDqBHyIcxRGP8NXFwDv05DXGYaYb\n",
       "Cbq4/JNsOgl5kPTT+ORTOy3HBk8JSytYqlEMNZEEM14XXaiDL2BvatLsxys4BetXGPGIND+MJxhn\n",
       "j5jciI/7VLRhCV31/W35AOavkJvHPZTCJlCXfTf9hL2Kg6HoATDzjNMHMz0qibj5RqgEWBrNuG5T\n",
       "qWkDU3MV1GUq63GmLCq9raAReTFl7ulO4QSeXGrdc4o3ckcprJnJ3092+HB/iauDLSbmAr89+P14\n",
       "ZWstbR3WSpFi0QhFEsz6YWxwtjUE0F9q4+jBhFL9LwXkHviiHWBwdHb3SeKeMRcwwRaipJL/9xJi\n",
       "ubn24bwsPM7ahE7cI4TYqJg+g3FSRiyC0gS9wdbyYufhuua619I1sBUtiZ2gZhta3vjxLqtpc/pa\n",
       "ez1Gj57pFYoeinvMZc1EY06oGKLwJMhZjPzFvznpijghp1wfEpteCE/ninysuQBbHwY/7UK9dsqn\n",
       "vlfY7C9/ftHwr2ygf55YL99LYz+7gkf/+ucEq4JNQ8FAmgWkPqoiDyXJ4Rsg3koGYvUp1JZ0FHRj\n",
       "5v2UG4G/EyZ5CC/QCtjXYfPjOGszq2sAtZ3OVCEWMDFP5dv8FEkBt1p1UlCM2J8hy95JqmkMY1oW\n",
       "IbjZ4xlyv8ndVD5A/YQGUSfD7nQlHZ1j3/zWUjqGd09uQ2pdtD3H33sbGBPaIMlnow8KORHiDc3D\n",
       "GtYWOXddp8lVoUn41b95Kh8ZGdyhp1rl5PGcvc3J/WELNGxdwvSJ3CKnPy4jUij14eo1sVZP/4OI\n",
       "H8s+nhiai6Srd2F0LPGm/r0kdLTsE8nv1awwlAwsX0WmlvfmQ24djN06Nx9zsUvr1qCxBmvdj6c7\n",
       "JpYhf7j3uyUYR36/x/H32JMkzFm2wzBfKW+fSLqHflswNamOATzY82ZKLeRWdZeOtcSlFG4EM48g\n",
       "JZMjiYtS81yWIi9D8YcAAAdjQZtQSeEPJlMCCf/+tSqAvBh2eklxXABfalmc4qaSAzWlF0ZqRRUW\n",
       "pLdy5CABew4ADDlA4dErSxnkvY4GSEyBe/gFjV2yNmr/kmvvD/TSmM+uFAqhNPvJ6hvYKSnnoO4k\n",
       "g7Wkue9gEKdGcAOqST3pm1jJnSgYkUBOLpSmTeZZyvYlHMCyclFgDbNL58N0p/r8yGQOOZH+YoHs\n",
       "kY/+IOm2ZAFn9LROQ4FzBBgruY5XLUEiH2GqQV7pSMyTVIIHKDV6Mppp/f2Goid6p3A3bPAwrmO0\n",
       "rhJ3Ojp+5n+nekQ9ksXhG3tOENUKW1JM6tyhfnoaVnmItsrrTQc/jPlSxI2cU6a80P/6FFWck68Z\n",
       "4wUHmjU1VsXJYmdvEwl6WizA2qPL9lkIQ4tZGjs9wRJvDWZiPsZyLBi6L1ZcFoolDUIvFiRIqkpC\n",
       "EoT5YQMNHAjJiQre5SpRFszD2Oy7pmMb+BcgqkGjOf3absI1gZfM58OqI9i8yMfXnV5Pydeqrtc1\n",
       "M3s91knPlskA951WTWhmboPZ38t59QRZoC2dUzka7OgMFr3WvvAW+ZKqoeGYHmBh4OH2a6ow0OYo\n",
       "vUkQyQVprHPt3r1yPu2uR/aNzSPpLqmRBufWv91Yw42UIQZIl9aIiPOhs3iJESgMWMvnvTNzB1Mf\n",
       "P6VYgeV2YUs9oziTvQy4awk/VMpDbplc01KEtcFCWyqKT8uUhjuUHeMptflLF/qZcDC+rfDplDHH\n",
       "fy0ra8RuD1XgK0354k/l4OMmbG1/w1XlVfP/gwuWEpYS+XLaDw77WaZMIveJNOY8C0cVEwWEtzGS\n",
       "602zXGK/pU4Mmzl9B7KLh6PbgJnbsBrYMy1GdYjo/4vKkLlf3eU+eDlZ9g+mycBcLSyrZleTDpgf\n",
       "8KHCbZM/eSdrC2Ipbj0Mpes2x9YLUUzQtkiaMV7VaeH+5jfW2kFf8FO8ejUGz6ZyBKkpJvM7HcYR\n",
       "Z40WfT+MuvoR+FiabYvFLIvI1HBwquzEEHJ+nw5UCOPpEwOju6/fKRaP97pOgvKRfaizRW+Hwr6M\n",
       "soesfStLHcrEywbWHGIahOl741fC1yLGPw0GTC+EMEN2U1lfPyJ0EeSHs2LuciJmTl8+ajtXzFvu\n",
       "8D+wI1GFpbZDxhY8TrfFpurolntrqPyeuh/TeDj+hF/b3mqxt6MNg1C1VEFNs7u3MoNIfNHnu399\n",
       "OBEguAKtBeFm0Tg+VarS49pMQGuar2l+odNL9fda2ttPoyCXm/p6NrrXssX2c48RtblzjujoKdFk\n",
       "vnQLyvSLWifjoQbu3CWlVbF3CAIGyl2SpgOhgSG9hk53iw0hISfZVn5VHgPXoXMyEJQ143iZduTL\n",
       "ZQHpBD2KmSzHsYaeTmOHCflpwN9lYW4JHLmp079r6ceiUM23webGpbRnAEMTrE5y9cwUzxy6KQLh\n",
       "lTRa4rOUBXpFU+gR7ngG5EvaNbD92QjTB5NHQV2Ncq8eb3NaG/64lH69aKU4KwzjOnV+bum8re4H\n",
       "6AZOvMtMHvVcob6ZSBEUqMMD4+8Q0ZileMJc5OAfflak0iDLMOt+WkTyzuPSELZnvFoChZFs+0gU\n",
       "V2+b0++XR601icXRoETMRT9BxP4pb5+f7JPp0NjXVppoYyhc5H7H7V9YIltLjeYMvhVlGyBDN///\n",
       "vfnBvnUrxU6bT6IhgM3ZLsMHJnrcsJJFNLeklkV0eZpETDC+3NlBGC1WIcI4qzVNs/gBmX7DekGI\n",
       "rBWWxsvmYMW7gbRBa6FD/1P94m8tYBECM2FEb2TJeQSgKmF7aCXWC8Do50thHYC7GXQBsrn0bPaz\n",
       "mpWmHSB01mKmfXH1EgJVv8+Dx28ZeWvcz3Vl5w3+b7okJTXC+YuH8OvuOwG6dK/Wx6/KTA7AGw5p\n",
       "WKLgRBaxeCO4KPfquaCi2+1AU53YtDxppgc2cRVf60zTB+2nOpP2HeIFi3/Ktb9l1XW4TCHAYXrx\n",
       "mlC3UiqaPWBnRMzgHiZsa4Xg0ACQsoM8c4ZGsCeZJcHxL5aWbd185GlCjI67mY1ukASMf72ExqOf\n",
       "Bh6AUrfCHhfGBwyLbVMKyoRlopdLJDN+cZcg7VOUqYFPQMlkPrasoyqoXL04vkGJUOZU+w1YW3Cg\n",
       "2nchzitDDkFzUHd9QGTWzrBkO8JCFrUBlC5sbuorKtOmOMX58NRWGDr3G58BNdkQypCra9l+8mGj\n",
       "JK3KsaOlqgs8Aw59DmnznKIUXNFQoHcR6L9Oc/NQMKoFkOZJMwIMdnVEO5gtEgn/iPWpl41G12Fk\n",
       "DI/CDqTt/p3leyCX7WLTonBDpzmYUXevLf////q4mWDruQBDNAfs9LcqzylgYFdE+vrIETtAUIRY\n",
       "yDx3CAHBIQ8wrvDG7wUvG49vil5cmjK1FUhv4/3xqZCYmnu/wQs5tGcrgXR+5cMvUas07pgQPEwi\n",
       "XAvtJSIIFh99OM07898F5fcx0HHyqoIbvepYfI5gBG7EyqtjZ2EZJaZgLzfyv3JFwMenA76CjW+w\n",
       "A/oKXw4j8behKqz/2Rrq7yr5iBeqrOqbp4nIoQAABhhBn25FETwS/wAeanuQATupOSDzEZIvjUBQ\n",
       "p/uBwn7z8wiZOReiw0Assel0DSn8ic1ROCH/2xyEp/pF92aTxsarMfEtziEGiPzYZ6h00/kCo8qy\n",
       "TrJCCj0Z0qjECAOoJE/NaJ7U3dxoKWL1UqGPrDl3cwxDEr7oM/T9eNGCaOvb32RgXdicB+kWMikH\n",
       "3OlZq22AcdDFsUYQmlj2ODFUiwYq7vTuMNeLQzl9qPMFGIerW1Qmwa5x+9xhmNkLMo3Km0X0MxwI\n",
       "euknaQL4rS9VgZy+/F54Wc/5meFIC7/De7AbOGn02GRLWZ4lPWjWeK/bCLEA4Zj9Ji0Gvq4Ah9GB\n",
       "a/gRRidjIYUY5pMN0VNoxU3c7S8BlUe7t8mCuw0WQZI/9miIckZvBIN0CRGFmlwVJHwdHs6VTaE2\n",
       "rRyv1AiavqN36meqKuFDn0jp8MfpOS8438QD8zbkx4rScTa9WbUy+jbdpnB69udE2VT97G8qMux4\n",
       "3ShqAIzOWPRmzRL2X17tX7X+uq33FxXxSEM22qdjiYA79LNz/+QoQdxDeYI0KArNjHZ+gyJpWt9+\n",
       "iY5DewwccavR9FQHizD4uChfgYP38XdirKrgGzUC3iBflbsAnyQlEC3/NPixLNNNYwY93MA4FDwM\n",
       "GGRHEMe0fECzoZS+DeJlbToW21Oa67HI4vyFSVZLSktBJsn9o6chL262YeGVuVBi3xxVuVwgL0Is\n",
       "oE99ic8fge/nNgM1ULqIoqpjoNxgrEHYaa07zTizi1hDXRedNeTah0aBCetVzMFfbLXSX28zdzTP\n",
       "9tjC95b3XLuogPtRRAX9EJ6EOmvMJ2qAmhOPHbtlSMjpD28cXotREvk7uq8icJWlXKKcPEDxmpZp\n",
       "gBp9XVB3Y5KpWwRslQKsap/o66MkznOwQ8JgDq1rfQpgttChj0lua7JYUN11poXNqRtNJ/Qbz/z9\n",
       "4t1p7HQIkEi2dLjw/mmCSWfSNNR9/I/tcpn2GCwGF32NYAX/ZKDj+3/q0nwGgRmAXr2mROtZncta\n",
       "4FyVobbaL0qe5+XNaJ4P94JhDOdCI7R977IbdH0NfxI7rFNLOC9fRJkWzWLXfK1sG684pUEwdcar\n",
       "mOoUmr+30Nt+GWksuaka3O0kAuQVnYGe5DcdtecqzNhhLLCxK9aRE0DO0728jZNtLMdzzx9jrH8r\n",
       "eKRdLFhgAwZwM+WnVRJ5GRqvUuJDSa2c6prjULo1WvAszQid2J3faa4HwEOF1kd715xasQl//wq0\n",
       "Ckocypf4p30lcpSOpvR3VpZzLFrH3OHHdY+xqAqdonVCJHuTjnhHyjuNhNCJ9NOvI7cEqbHPr80P\n",
       "wzLO66+YyA5JdQrmVExoyHdXoe8PljzfHZSDe1RnTtzVZFizVbMhCethLYl/30b4hlCX5czEqii8\n",
       "w1A1MeaT4ekl1eI8B0aJUnLuFQbD/8pM7YcmBoSd5E5D9ZJM6ZE9YKmeZPg4PC6rPSgsx43DdUEx\n",
       "kbJQyZpHYA/y8Hj9iSzoBdm8XNgch+RyTkwql65r6bnVgRIcU6s3rgHgz2iyKWzT1rqLAUdUGCK2\n",
       "SpjmmHgxSB+MO+f6QiDGNr8zHi6G8tHIgNYZaNRaEXRgVw0LjZwd7w2bZoPx6DoCHjqBZyStMlBG\n",
       "8TFC7WKmgdsHll0bi4Yak+lvHbFiDxawr5Tfmrk7zoLpfB4P97+VsEfqzQDaM+l5a/CZMe0NwHn+\n",
       "Z6pYZMGAe606iAUJgNr225eGGsAopUBSd1zXKsg+4ethGZmMjYoKw4zzgekcGB9DY1edpfWpGyVX\n",
       "FAO9bqh4VGFfJYmOm0LDrn8bvvtUdpoXIbyA+/IBoUtoXYljkzL8bHHdesn+KfnUytJnZJ49G5b7\n",
       "a7VJr3q1g/SQBSS39vFH8e7KubZ/zjtfAR2Y0JJedZ0x5npihnkg5L7UD3dYKPkf2L/GQP4KR7x6\n",
       "NFDz8G2moKdcQdAIPJEZGpSvsITM44Pn1jF3TYohgP6oEBGpEKjfg3ImCYz+lU/9UZ445B6kWkbK\n",
       "mbH1wkA4XcNnJaIqO5sVabVbO8iQ9FZ/U1xzitwY2ej8aMt97sGgQSjDRjzvyZffM2xrmzEAAAT6\n",
       "AZ+NdEEfACejYjACIPpTrJ3t0hEa0+oC7ldEKIB/Nh9gR49YRjFCFGOa9tqaFD11VYZPaNuP5zOT\n",
       "8vkMluzIC/Jaut1f5ow3TCfGD16OP2C8bGryrWDbna7Sl9Lhf891OQf/JfBkCW4eXEURunu5K47u\n",
       "x88IFcRKcqPpyvVg/lQEdxLlXj7JwnPlO+XEq9uOWEumSLMH6p9H0Cv3UJR6z9vm4GENDKpvdwkP\n",
       "e/X0tPFNQQjSv+pGaF8VDJYK71dYmp2bOraUAsi5rCqvGCCGLtR5pgQTav7V01roYRO/gVoKMnw5\n",
       "xVyqIE8vpUsMNsD9U3Z0TmHaBPS4VZu1AfE02bclu7tbmRdF2jTyAFTi8GIjDKueC0abpwJ//yED\n",
       "p/3empm2aN29xOg0IQWUjBsYFH3nyi+Ien1gUwMlK9HENoplZFP/kNl2cfm+cco9NqXIPiNOwqLV\n",
       "0QigBppsTZMTunHg6Yh/2xevLR95X6ekfI8T+0G8XbwVNmkl3OGCZ6TKIs8cm3YxoA4FizfIArPn\n",
       "5c3XO2xMlGoTlQf1Bbk0x27iXiVJkN76jH/vFEg5EJ/ialIKwxAJMnP4OUHd25ErMtV/qBYieR+u\n",
       "C07wCGcXopfXC5Xx5ZmcBiGoWQtx0GmfSVDnnqraXE+9iddS+PdmD6zZ7I1fGITlMol9Yv4zrzgG\n",
       "93kdhdnRbY87cYgbz6ch7kx7jowFxsYybnjmrURxffWyuz1BBNFfNL1IfGEaxFFNZBH4s9j7+YY6\n",
       "v9AA4FK7xhuZ2RQgzqsgulD/3RK+62lQudvo9lDaFSYmKmRH/xJ9B7ktmtoT9avk4KK4M+PGXFer\n",
       "O4NJMWEXMhsw4mlEtOudaG6WjLpuSdjGlwFD8dVDnopcUAG9vF2tqrpJLyOmTymNLYVjqDdCO3gH\n",
       "j4YGRyeKxp6jA6hvT2/gkLvnB9/5ESlEnufs+DYfefZ22MY4fvAk4hlg0/4WvRKDH7vR8FQLd5fu\n",
       "v/YCaikk9IqdP1d1xic1vLhR+WZvU+dV0HIpnDCiw1b950HGfRG8+B6qMUigTXqsZc7HsNeteGVU\n",
       "8fMD0/ygqRzBn85ILLzf8O5VUr0cDE3k+vKYChnVjiyHDXrmkpOii7L12GDi0daxvicZMCZfrXSz\n",
       "vNAWyFoyfqdCJ8fP5SU+AAUS8MgnCmdsv5qdpXjjlH6uvzwCPnrDL1dMlGSFWkl7ZE55GA7WohDD\n",
       "PytvOfViY878d8cbaBOD5+g8a185X4JO0J2aM2UQ6p4/6J+vY9fvGuQY6H/XqBntEAT5P7qVMrQI\n",
       "/S9iFwOQGt0RcoBC3FFVvXJSNrtDSOrWo5CPsghztulp2DUt/mhuDWVcmOSTxMGBhrovISeNE6vE\n",
       "IRkR/kPAjyOvSds9NiWIS4SBKAaYEKyh0ycIZdcOE0CgpP6KIFeQ4A4nQ8Kp0eqq7l1HvhGfmdSU\n",
       "L79w4QOuhhlW5ZNgsvNCqZdfeaNZSXjL/MUymZAGRH7s0Qx2X9m5g/lpJs0AxDyBQa2Sx/YOg2y4\n",
       "fwWlVgsUVxk1IdlwyOygfyE8Iq7CrqUDBxly8lEwi7yQ/FFLfde3C7ih5yFMPX3vr8Zv5WRk5cNk\n",
       "7yv8+3KmyIK+oRVt8K3rS8+NaeZsEt62h4jv5YZAF21zb01oing/7JI4HHbFlWtHjn3YlcX35584\n",
       "nk340uphgOGaH7lpSb0j9H3pM6EAAAVqAZ+PakEfACeksRgBEH0p1k726QiNafUBdyuiFEA/mw+w\n",
       "I8esIxihCjHNe21NB6uSUFr0FKSoSRv9UXHBN+LZ1R2kbAWm7I4S7/l8IHyN5fggC2nghrPuoEwY\n",
       "XS5r9IxgKDaa3X/i5s8VmC9OpXYuZn4jqJCc+yRuh9zWVrQAkI+7LdwHsns8qcyiuwDvbFFl0B8O\n",
       "/x1n7NvWJsBPl41caqTK8YVfx3SIHn+evkg+4Re8hf6bd7oPBSMQ24jf8jVGlcex++i8oapnKTv9\n",
       "PFDDd8Q7RMvjacpA/Vma+uKXtB2eioJEDZllye9dTKrLK5ejC4+OBUPZd4vIXxZMm4oeOAExi43k\n",
       "/0YUKjfeKLd8NRzSXbScU2+crzNbPjXdY0Xjx2egJumwf5vdOLoFg7SYtKhdYOYp8yEEv4AQ+s3L\n",
       "6BEsOwka/f/s/x8UmQDKFZQTFlZDrHPTQt3gxGmqqQuGWCcEc+O7XKf+QkBoEJwVAtpmy3CjoZ8z\n",
       "6b25+muPzh8Sv/eepH8Q5fQA29dlE7pZPRUocmVSQ3uId54Z9H0ugzi4UXNezhOeT7gWjeiOguCb\n",
       "FlGr6VdBxJApr92UXgJYQC13yTty1O8rPKWRvBtm+IjOypIYfh5K+B2EPofasGrKxNS6qrUUsTrc\n",
       "7Ou2OD01JxIgIg35lMsGrLN1DbysfGMNBTd2CNda3fSCmv4U0grq58cIS2vZZ0QhZDO5HrqCOL+O\n",
       "LhWLJp2zYQziB68BsaNpetro3+mH+Zh1sA5RZGEZDnoLTHeowXO5e5Zqp9nrItjbLP1DUrlDxLOb\n",
       "+olJUaHKl+/gYfv9EVqM+g+uEQGBGrWP+APeFFZb+CqmhxvUNWZRWq2ftN54ZgesQVx5O31lt4nC\n",
       "5wAZA1SvOP9S2tOdz8I5GQgt0PQT+/wq7lKTfda6cwZYs9DHrjGRJRyCkPJkbnxbM3zzjQxRigr4\n",
       "A06+MnwPSfhmuJMmJR1NSET6cjwktdNlHKR80IJnDvNPbppECpislSriL2tSnhre4skP2FEG/6Bk\n",
       "nNU4tcZl6lSv6ymFnv4BO41PK59C0yy4QHcFc/vvNKO5kn0sfjLxArUFRhmoyQFB4QppFyVRZa6V\n",
       "eVfVD9UoQ0NopSVlgFtxT0Se8cViiDRSFtNXzf2EKJ7MvGWYBWbwkAGRSzqXk0EkabA5xlgGa0YV\n",
       "ON6kFuQBhygIAZRUJMWDukDcSEz4Oy1N/baoE2S9I7ukaDYBV56tj9b9eDOYwDwfUYkEUvCBFeoc\n",
       "Z/XLHV1ZJrLt9A40uIC8e6PZf3kVayjoq1uHbv81KxuimlEVnTDIdUT6mZI0PwuOYCTuBlmYzebB\n",
       "VDJDEKVfx2skhzXXu/3c15hhn7sIcBSxL+WXzfeRZoRXMPgaEHpzoBL1rafmeD9SDC0BrL8jfgr1\n",
       "DMmhTe0YeN65Xx+/ediejYXyLASImLs5IJKp6N/n48IEsDMZVHV2m9IEE+GJqX3qn+tfGjlUP+Lw\n",
       "KtnIN6iQdJGHIurwowuwMEHj0aujt/ReItb2MTvydka/R8MUsCxYLVukWjX64a5juNIQ3Kt3MM/o\n",
       "6NtgKWM8N/vpBns0j65T6JupRLL52SvhMpymLG7BTFwXE0i+ElN8iPaTocbXnFGxIt5Az1C8IUqV\n",
       "EeH1rHzoJud5B4onMBf6gRO41uP2nIR1It6/EuUlVwT7QZJOyX0CQgcnbMt0xENQUfY1gUY/4BO4\n",
       "uYZdWyIXZ74UXuHdIHsl2TWpsXDq0mAziEYA0WZkiVr+xxwtI8v1vS+01foa4YTZB3lUETDSYibf\n",
       "g7M/rJQFv1oqdw37VfLaU7qMpNRFYc+U64cId52Yt8I30LyN9MgTQB0QAAAG6UGbkUmoQWiZTAgl\n",
       "//61KoC81dsAG1btDBfFbzRqweUyYEw3bBRKGVl4AZgmVyCmuZN1/pmnd2CDLWSTu5ssV5+QwQa+\n",
       "RCoRoel8j/xM+vMk4vv74pPPAVzYR/0GcAmKGDx/0sosdGQRkc79gUXrbCEdg11+RUXfe8FpbfWk\n",
       "nqN7IAaypAPbVbBL2fR798Lclj4Fgs5+4xENLh0Q7NClYlI2dmYCFkECEv3usE4MQzK4obQtabP/\n",
       "6h+uUUU4Gy7kp3m4W1toaS2VsJoHzr/q/1kbW4yhmj+hApLqDNe5Ld1NY8XuEzOmK33aUT498n2k\n",
       "/mXS4aLEPi7bavNnb2hNscd4gnjRPfVZmVU8vHWthFBpLbyNdDkG6/Bm6ERhsDTNS1tf+kOy6DDK\n",
       "TgaTbSrgQpwIzjG6baXofAoKviuQSQH9ia2TZxXottFcOG5gBiTR/+Qty4+LpxOBZMuNoe6InSDT\n",
       "5J3N3BdZtTw07BEIQhiXvD6eP3gqpy4D2qppq4Ul+ovz7VNQ5yqyKhPYTq2F7BSgMfK3/aB+HPCO\n",
       "HMWrFlmroDrZmHGmyVdTn3sjyvJ4vDBS2HTP83Q37uAo8Kg2Pp6VqRth5lVzurQiBwVLIZ8gq8lC\n",
       "FRZukoTCLBZbo61UKpthn/rTxad1xLrKKGY3OqCAH4+IJMwyBUp3n80zGhjHZ8nxrHSb8BTwcHq7\n",
       "ejKymVOsu2f+eiOfkJNV3WU7UqcganKJo+pqtpNNJO6kZMkXt9i3z16dCT0r9Kdf9/zytC2B2v+M\n",
       "MCdghab05xM/TrA6X5/SvuzLUJoo6bwhUC8PpE2TKsdkM72VWn95S0loMVTejdijVg9k3/2gORpJ\n",
       "dqDznVdEdPFfKj8AVnZGB4S8FPA9pLS+ljfe8flyGgTaFJQpY2OQYPHbCvplVaddYh9oP9UjhqY0\n",
       "01nUsR42ENBefpIhW4d1EWFhpsMedNqjnaRaZvN7e2EwsWtTTdc8+caw6ll3sYKSqPuR4DQViUvu\n",
       "A5iVHinbbZEXeGIH3y9d/g6/q5YT//7cjLD//+xcHA8xpmxvBwam1UlPWfalRotMd2m64iYlBc9G\n",
       "h2J9WIyMesg+IEaQYptm4Arzj/8HeTRJNrmmx6yRO/CkI7T0bwwjYhBV0vRHctlk11ObkVTZb6UF\n",
       "F44kDMOo9GEaShLyDBlNtYBGMUGF/kEpwykd/+0ELpBHYYE2fuuYsqKsagykkvzzqLkXio5mVz8Y\n",
       "2jn8dY5D843JaZR0eIQBK7WsVCD46IYPEYFupXvkr/vSyMS45HywHaC/cXMySEE2v83E+lZiCkf4\n",
       "O4R0/FX5WU4OL4Qd9EORZp9/pPFMJjzuDz6rrTZDJXZ7pkStKJhzYcB7efigQVu9AYTgofbwu43U\n",
       "sTfeiHe9OxvcsPjGRVb//5ugEFVvdqG4PvYb8tt1p//MKPbHvYKT6HEgkiLwHRDF7btszWBDWcES\n",
       "+EgMsk9+9HDE5aqXmS/TiUrUC/vNqNetej4vj5td5V53Yv4cUa01C+H/a0/F9EKqUalzwqhJviTy\n",
       "esvgXJiRfZXF0vrsiwU2KEOhufiGR5/NbUeQUHeOdtGpU/OuODAojZPhiiNBtR6H6705lKGAXDjQ\n",
       "RNTuqEFSLH5AvIRQVFLTT7dFlRW3BNqEXXsPmuxJQFHpYb6TGaICkOMcA79a+wiDl8nC6YFKo4FE\n",
       "QKfrqCmHUo/ygbL4AenaUlF7j54dm4F2ts4Mm00/R9Gy4AkcGTa/wXq5RrwYsBwD3NEoULaM4ApE\n",
       "OQEeddqh8WD6jiqD/jLv7pDSuHK/oJUugBmNu+snejg4Xhq8oTsHvde0nB5wgYl41Jx45XX2wjRs\n",
       "yHa9H2gglv8f1Ym5kE1Xgyn86a6rDDmHxlVIiOarECdYOSPaW3YTlXOvZFqhiFrQjgAPWajrKOwp\n",
       "qFdtgyXTc3qMi0QNFws85kQxkTlZ6coLSCfwmEfMpBwHpbE/EUOFKKg7n3cp6kCgdzNcrPY51j1I\n",
       "fmIeFE4WyF9ywhldlodu+QuWNv4fyJUJCbpTbGFXrvrMhsQLVYfRwA0VtRqA4fvW+NelTy8s6PrW\n",
       "9kUP4kZ5ocNB1L626HsRJLgU3LvkhjT3uOPrWj8Yszrj9KOgCnQ6ymDCGCRLLC18WIdV6GEM8KD+\n",
       "yIsgtpAtnJ9ax9+lVSQuXyd4RaAfKzZsKjE11ZqJX0cCgiHuWKqjjvgTwi0GJIs7JuegvlJpZ2HX\n",
       "nmITn5vtNJSRIam2AHqsysPjaJwAj0La9SushRvJvzKGwBcSgfj39XnTUxvOKIbHGrOMk4VlUcjd\n",
       "94oHkLP0q8584AxTZUHhS7isCY2frdD5Cf+zMn2uD793jPSYqJtv4/dCgiuiSqeAAAAHGEGbsknh\n",
       "ClJlMCCX//61KoDA0niQARByfz5cDfGnFXpwFM9dqj0huPecW75u/Ydq0b0awVZmuooNQbx52HZ8\n",
       "bCnTThNFQBcPy1Vl595jYhJ8L4B+d7tBcUcF6Vgwt6SVByX6t0N9PxT5nA8vQEdd+9imohd2pvqw\n",
       "0VPr1Uwd2JyNrMVCd7p7c2V7K44W9IZfKqCNTmPEDQdujU7Ce7H91NS9BJSrX2TFqGQqK42gWwxr\n",
       "OTjhX7v4gCc/E0wtj8EXhFXDO1KFFiY0Q6l7xZkQKsPQP/NAUhFVIVceeS+riH6yCf9Lf3iSD7Lt\n",
       "E/atuEk/HQ/psRbTPcNcHoydR7Ie6wcLidjIAjjKcTxa1MXoyx5xJEvyzKKzUPpFRle1e2EJgRXY\n",
       "j33gsiIr//kvFsQLaJGnTSGTvEOtgkJuoCKG6rdr/vyjeRxhbB3faMhOk/XMojqtfJU9inakBEhV\n",
       "mrlm10PYmxkO1OXVZEAmLRA9c8Z8Dby1bpRy6yl3y3B5mjSQenARsgEddQHSUWBr54YtD2uS6oZz\n",
       "QlyyIUSz10sJhIJzQjj77gduCMIu0f7O1UuxB1sF6opdBPVRtG2ssjx+Ix8MzrWUd1rq1H0jAper\n",
       "0rJ8fUnXTvTI95FLkztMpvL7X8syWp+UFkgIv034UWwEZW9i65RTMYUXj7bxqvlo8/XOS4wGeHqT\n",
       "PVcnHcJSNATcfFe0do7+rTW8wZ4gH52mFW5qAJdqPK5ZafQmD2VsKXUfF04kZyihnKLecjmNW2ey\n",
       "S/j0c0a4PWq5iU+gyNK1JiHZ2h2K4aZbDzZpaS51/WUSzt79CjT67x5nqZNRQzv7MFff5Rq9IA95\n",
       "tJubL/Pm9GjHaI+wfcIubDVJX9rV7XHCbBVofaTDXKshzBRjUMZdNNyTpAH+lbmhPlHMC6kSzWIR\n",
       "uOeGkNQgYACxrsKg7TzgnOT23S+6Hnx4cHyGU/oePL5A/8GUIWOxYbNFFC+NK9L2kqnTHVC+tNB8\n",
       "28DpqvF6JtEBzTUMjlHoqtl3Kb0M3z8nPMbkAN2oyGupiAvsgGHuT+nZ+wTDX/9yiKxMIBrBrYqS\n",
       "CCfM/1Z7CpECRh055dBHOwHKe7YJUl45Hb+PsFN+yJII1PNk/0HSSt68Q62/mJAkQQm/6yefbPf/\n",
       "wT0+kexcJbK8sUz5MltC4lHlv6k8FvSWx7q6KQRfhLUz5AJ22+6PM9ZZknABAkEh5lm0x/hNDvQa\n",
       "PCk78se3Ewo45SrTI3G6QUO0qGs8k0O0u8GaXHVgMwf5U50MjrZnGLRDzQIRmuUrmjNQNr4ds9eQ\n",
       "Tg3JFKjHN483X0xt3vH5AEFvCQjV/8uFxvxDb+vomhTT/WoUyGyRFJ084aM1m0Zt2DyFWrkSDSCq\n",
       "sQvAbimmYA8bd5CBxP7m1QEPuaytd5RJ297pR4pEZ2anjalxiAWnKNBgEctPbgvOmdR7SM1D+U8x\n",
       "0GbZsIzFQYE2rA4JuMA6K9YyVVF4gSqw+bX08KEc6t4pTwJ9nU/ApSSP4eHXyDfTc6GGGyBnOTJ5\n",
       "TXwwlSZ/o6tOKvfFPpR17JbBkxJ1hDUXnnQvfU38e8rX5spylCET0/O79ssBH+pfRV2zp1hMIv6v\n",
       "9a60lYqZr+Ch8se72Jna0suPjWVRGaxY678E61dwLKLElczl08er9WcwV1qDqCF8xB25NaFSmhhB\n",
       "fO2pighxlsUbmcYwdtITiJNxgWsX1WD8FKhd8kHHctWgGCqmW3T6dLL0LOp2Rkl8ZUe+4ay9sWlb\n",
       "cf6FXtxZvzcjbnzYKCf17UovAmnNFtqAgzEbnMx/k+lvy/xQKsp/qzRZSAbRZYMzDfO3wlZeRe0Q\n",
       "UBoJvqv/x783T7NICPqj+PIC/qleUogmDrVgCNL5mPY9oMHNfTCeQcSVWFBSUbdWKrbsiB6U9et7\n",
       "SddR7tLN8gL27FN0GYA1tV+Jlgkz6TRag6SHUXFNcQ8Y3Y6mMOuAeaiQZGY8yDsKuvdG6mhDKtrC\n",
       "2rZ7h60CDjXWqPcNvkel5eRFwd44GJPO2kEfHkosUhqr4zzSqbyFmqKOAAAHgWthq+UnWrTfCFGp\n",
       "FIDbRsw4L9cj4nUDwzueTXfWJxsUOJcwEREKbKvKiZpBvGXJeAUzrg163erqPTB0QFvUGV+sLGsA\n",
       "m4fytGmUO24/bAgTgOTHTc9yb7Jgz+arWzxeQw7XoDUTN2YsqpZyUZvB/cJIWN+AG3g4UjF67yDN\n",
       "CrX6rfvgsiYdc/mMIXrun70TIs4JVDydG532X0EyNQsokdUWUbvv4uPl9mE15bkVLKohFueo+MTy\n",
       "13jXFrCGBvrx+REyA2kGN0QepAYNcC3r98yqOgKfeG7Yy0qoQP9mhSIB0qOCTO3hh3oZP87HrM3J\n",
       "gxxESaSsEC28RGZRTTqbD3NPEjGxMIO2xc7hx+UtPd+HSjRzxq5BsOqfiIEAAAZfQZvTSeEOiZTA\n",
       "gj/+tSqA44anABkY3wAIfuGLhZfwu6lKqolddleodLP4Z797C1f+SQToSAcwa1qVMakOrL4ZXvNE\n",
       "19cZtKwAdxn5E37fZQdGm0lcyoDHXQCEUmk7yHQoCnwQM7arPimQmlvgVDs2UAJO/RQ2/dEvf8Og\n",
       "YRQ5O44dqWPZWQPW9m754m7cjND1C5cfPDUxyb9wTMSfLvlzdKXomjEy/SElxOeVHfQk6Tw5sJSB\n",
       "m+Zp2MwVlUykBLSv7DLxLwIhxv9CZEkTm7XG4F35T86qLv1HB2zQHgngJXxezhWRNiUd7+EbKvvE\n",
       "K+OrgbnWfHLJQEA5J5XS8sn5mFSf3RmGEi+K3n9xikSMuArk3rh23LGK1rYjD4++Gil1wLtCBnRq\n",
       "1VSJ5JDFOlk5Gp/YMIZZSjf/aZ3Npr7NLf7z+yJ9Awos4oOxsGt7vAwQUt4cADCFaV3HGzJ4y+VQ\n",
       "sHdMw/IMtsrIb3XLQe0DuI7z6KPdleGf3P62t8dHpTp1ZaYc+zJntEV+k1UIKL4ga/UY9Re9lW3R\n",
       "11NwF3CiN1rqxuUs3+VaD3EgM7mtOY7zJP979ipNNpem9iDI5YeDsaKmNnlGBSqzkdhdDSTupUXi\n",
       "RSAYlUlgWjIIISBLDJw9eaDGoDbxzaF66a01N9RiYctG7nzkWgVt9ZEKUdcZPK0D5QiFU4G9h1Ce\n",
       "iMpEKDciCfTLdwMjXC4vE/kvz1FbqVtSEOFww3Bzc0dKSZ5O+R6/NGiyRZTufNFexO7kzD7yxQ0G\n",
       "YEmQc5OsTHl9IDcRhBPPB6D8S8XP/35IeyvUKFBwHhvcBOpxYfaYCBjsdRbETGQPWNzzsGQtZoSK\n",
       "bQDn5OJjWPP/5t33Hs9tVxvnSFjHlRplwAGmp1S9YpUtz6QisFNWpvnS0nHL2aAcLQZAuJMq3sxp\n",
       "d8G9hSVnPzsMa9af0mTOFIg61+XMeV/MKrQP8o6efPEhwQiOEK52OGWNvLyi4NYRQvE/qjfiLho3\n",
       "nmMlSoe2mNrI5VhWEqkIlfTRq7RSmanL64mjCemABNcrMdee3s2v/34f/HG0r4DuobNVdZSQlzit\n",
       "y8KILSmzeTuIvYAKcRB7kd5+tYL5MHz6nql6ke1VD344kDNcUN6siMSGAcYM75mZuPOxxPL6zGJ2\n",
       "eKp/1XX1GggdegoSnPxFlEQC8qR32sxMHWeKivqwiMXjVdqvVt5UwwKY6hspj4Og74nuYVDLH+aO\n",
       "8r6ocLI8/VgaYEfC/IoVtajPd5yBOU9nOmGhG39jsH/MdhY1VQ9oRn5BATavevKk5W+Ghtt+V+L6\n",
       "07JeNNzkajEiknQW1dRNdBwwLdB6tQr9QaiiV0B6i+5DVP2+6Of6mMARRkL1bUzXRnR/x3pGgwId\n",
       "YcXX13qrTO7OAsP2FUhUouD2WMSvrP71cPD4Ob0SxsBg8pQR8T7m/7deIv5KnuyTLBM3z36+DraX\n",
       "sQAxGegAPsuUw8KQv4CPDMf4tkOtsvBllyDCFWoilFjaamyydsH2q9MdlspczwLDobCnHMg9mzEx\n",
       "LbWjefAeuuWyC5Fhblq7LVYZuGPfDWlCqf4u1W+QgysiP94nyEjNvNGeFYXFMhTkkO/8uabbIaug\n",
       "2Ad2V7YIOjJgFotq0Pd5S7NdOBYVfvahVk17sgEI3pnBroraXc3Cp+M+tcRSaELmRUXCBn/nebdb\n",
       "HDpBLD7YG6CVLWVGM6W3bjOrqdDdXwpksv64a5WcpR6+RGN1ftazLs/xE1oCajVyGjLhG5sQ03g1\n",
       "SeA/7hba5gL/hmxxFmWeouOy+Ms0gvFmyQPcKxqPuHCG7IdUfP4fHPrMTuS7YB4xVtZ4tjR18m5n\n",
       "mEWRmrdiDUXD+UP10cuiphgTb0HLToUfJ+hMm2XPvEfXFXcNUgFv53UoVdddnMZxxCmJ8WYbOXhK\n",
       "xmXsCH+uqyqMPxNVnACVXnOdbnaa+1bHen1UX/OWfcYUB67TBgQnTnf0MdzTioINP8JZQiQpznUS\n",
       "fM0yaIsT9xsT7ZQDfHjszMpfZvshdx40iAWdyrhGKCqH6iGgel9Vo3C6QRjieTw/hyGrNoXKlHpU\n",
       "RZaGv1OIXtXvMxcV8r+CWDXVXAxUVwMMecq9tXDLegu1KKvFco2Bu95mil0y8Q6IOQTH/zs0lVOa\n",
       "qqfDxXKW3nt1H+hWuw5zrefDu7K5e7+zZIAAAAPqbW9vdgAAAGxtdmhkAAAAAAAAAAAAAAAAAAAD\n",
       "6AAAF3AAAQAAAQAAAAAAAAAAAAAAAAEAAAAAAAAAAAAAAAAAAAABAAAAAAAAAAAAAAAAAABAAAAA\n",
       "AAAAAAAAAAAAAAAAAAAAAAAAAAAAAAAAAAAAAgAAAxR0cmFrAAAAXHRraGQAAAADAAAAAAAAAAAA\n",
       "AAABAAAAAAAAF3AAAAAAAAAAAAAAAAAAAAAAAAEAAAAAAAAAAAAAAAAAAAABAAAAAAAAAAAAAAAA\n",
       "AABAAAAAAbAAAAEgAAAAAAAkZWR0cwAAABxlbHN0AAAAAAAAAAEAABdwAAAYAAABAAAAAAKMbWRp\n",
       "YQAAACBtZGhkAAAAAAAAAAAAAAAAAAAoAAAA8ABVxAAAAAAALWhkbHIAAAAAAAAAAHZpZGUAAAAA\n",
       "AAAAAAAAAABWaWRlb0hhbmRsZXIAAAACN21pbmYAAAAUdm1oZAAAAAEAAAAAAAAAAAAAACRkaW5m\n",
       "AAAAHGRyZWYAAAAAAAAAAQAAAAx1cmwgAAAAAQAAAfdzdGJsAAAAt3N0c2QAAAAAAAAAAQAAAKdh\n",
       "dmMxAAAAAAAAAAEAAAAAAAAAAAAAAAAAAAAAAbABIABIAAAASAAAAAAAAAABAAAAAAAAAAAAAAAA\n",
       "AAAAAAAAAAAAAAAAAAAAAAAAAAAAGP//AAAANWF2Y0MBZAAV/+EAGGdkABWs2UGwloQAAAMADAAA\n",
       "AwBQPFi2WAEABmjr48siwP34+AAAAAAcdXVpZGtoQPJfJE/FujmlG88DI/MAAAAAAAAAGHN0dHMA\n",
       "AAAAAAAAAQAAABQAAAwAAAAAFHN0c3MAAAAAAAAAAQAAAAEAAAB4Y3R0cwAAAAAAAAANAAAABAAA\n",
       "GAAAAAABAAA8AAAAAAEAABgAAAAAAQAAAAAAAAABAAAMAAAAAAEAACQAAAAAAQAADAAAAAADAAAY\n",
       "AAAAAAEAADwAAAAAAQAAGAAAAAABAAAAAAAAAAEAAAwAAAAAAwAAGAAAAAAcc3RzYwAAAAAAAAAB\n",
       "AAAAAQAAABQAAAABAAAAZHN0c3oAAAAAAAAAAAAAABQAACDPAAAKbgAAByoAAAiuAAAIWgAAB0MA\n",
       "AASkAAAFIgAACDMAAAVnAAAHRAAABmsAAAiSAAAHZwAABhwAAAT+AAAFbgAABu0AAAccAAAGYwAA\n",
       "ABRzdGNvAAAAAAAAAAEAAAAwAAAAYnVkdGEAAABabWV0YQAAAAAAAAAhaGRscgAAAAAAAAAAbWRp\n",
       "cmFwcGwAAAAAAAAAAAAAAAAtaWxzdAAAACWpdG9vAAAAHWRhdGEAAAABAAAAAExhdmY1OC4zOS4x\n",
       "MDE=\n",
       "\">\n",
       "  Your browser does not support the video tag.\n",
       "</video>"
      ],
      "text/plain": [
       "<matplotlib.animation.FuncAnimation at 0x20a3146cf08>"
      ]
     },
     "execution_count": 28,
     "metadata": {},
     "output_type": "execute_result"
    }
   ],
   "source": [
    "anim"
   ]
  }
 ],
 "metadata": {
  "kernelspec": {
   "display_name": "Python 3",
   "language": "python",
   "name": "python3"
  },
  "language_info": {
   "codemirror_mode": {
    "name": "ipython",
    "version": 3
   },
   "file_extension": ".py",
   "mimetype": "text/x-python",
   "name": "python",
   "nbconvert_exporter": "python",
   "pygments_lexer": "ipython3",
   "version": "3.7.6"
  },
  "toc": {
   "base_numbering": 1,
   "nav_menu": {},
   "number_sections": true,
   "sideBar": true,
   "skip_h1_title": false,
   "title_cell": "Table of Contents",
   "title_sidebar": "Contents",
   "toc_cell": false,
   "toc_position": {},
   "toc_section_display": true,
   "toc_window_display": false
  }
 },
 "nbformat": 4,
 "nbformat_minor": 4
}
